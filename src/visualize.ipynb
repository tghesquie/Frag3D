{
 "cells": [
  {
   "cell_type": "code",
   "execution_count": 1,
   "metadata": {},
   "outputs": [],
   "source": [
    "from helper_functions import *\n",
    "import plotly.graph_objects as go\n",
    "from plotly.colors import sample_colorscale, hex_to_rgb"
   ]
  },
  {
   "cell_type": "code",
   "execution_count": 2,
   "metadata": {},
   "outputs": [
    {
     "name": "stdout",
     "output_type": "stream",
     "text": [
      "dict_keys(['times', 'econ', 'edis', 'ekin', 'epot', 'erev', 'nb_fragments', 'time', 'total_energy', 'work', 'fragment_mass', 'fragment_velocity'])\n"
     ]
    }
   ],
   "source": [
    "file_path = '../output/jed/hollow-sphere_strain-rate_7.0e+03_safety-factor_2.0e-01_time3.0e-06_d025/data.h5'\n",
    "#file_path = '../output/local/clip/test_npz4/data.h5'\n",
    "data = readH5Data(file_path)\n",
    "print(data.keys())"
   ]
  },
  {
   "cell_type": "markdown",
   "metadata": {},
   "source": [
    "### Energies partitioning"
   ]
  },
  {
   "cell_type": "code",
   "execution_count": 3,
   "id": "98f9419b",
   "metadata": {},
   "outputs": [],
   "source": [
    "colorscale = 'Spectral_r'\n",
    "uniform_sampling = False\n",
    "if uniform_sampling:\n",
    "    n_colors = 5\n",
    "    samples = [i/(n_colors-1) for i in range(n_colors)]\n",
    "    colors = sample_colorscale(colorscale, samples)\n",
    "else:\n",
    "    samples = [0., 0.1, 0.25, 0.35, 0.6]\n",
    "    colors = sample_colorscale(colorscale, samples)\n",
    "\n",
    "fillcolors = [c.replace('rgb(', 'rgba(').replace(')', ',0.7)') for c in colors]"
   ]
  },
  {
   "cell_type": "code",
   "execution_count": 4,
   "metadata": {},
   "outputs": [
    {
     "name": "stderr",
     "output_type": "stream",
     "text": [
      "/home/ghesquie/projects/lsms_codes/Frag3D/.venv/lib/python3.11/site-packages/kaleido/__init__.py:14: UserWarning:\n",
      "\n",
      "\n",
      "\n",
      "Warning: You have Plotly version 5.15.0, which is not compatible with this version of Kaleido (1.0.0).\n",
      "\n",
      "This means that static image generation (e.g. `fig.write_image()`) will not work.\n",
      "\n",
      "Please upgrade Plotly to version 6.1.1 or greater, or downgrade Kaleido to version 0.2.1.\n",
      "\n",
      "\n"
     ]
    },
    {
     "data": {
      "application/vnd.plotly.v1+json": {
       "config": {
        "plotlyServerURL": "https://plot.ly"
       },
       "data": [
        {
         "line": {
          "color": "rgb(94, 79, 162)"
         },
         "mode": "lines",
         "name": "$\\mathcal{K}$",
         "type": "scatter",
         "x": [
          0,
          2.9537541117770825e-9,
          5.907508223554165e-9,
          8.861262335331248e-9,
          1.181501644710833e-8,
          1.4768770558885414e-8,
          1.7722524670662496e-8,
          2.067627878243958e-8,
          2.363003289421666e-8,
          2.6583787005993744e-8,
          2.9537541117770828e-8,
          3.249129522954791e-8,
          3.544504934132499e-8,
          3.8398803453102076e-8,
          4.135255756487916e-8,
          4.4306311676656243e-8,
          4.726006578843332e-8,
          5.0213819900210404e-8,
          5.316757401198749e-8,
          5.612132812376457e-8,
          5.9075082235541656e-8,
          6.202883634731873e-8,
          6.498259045909582e-8,
          6.79363445708729e-8,
          7.089009868264998e-8,
          7.384385279442707e-8,
          7.679760690620415e-8,
          7.975136101798124e-8,
          8.270511512975832e-8,
          8.56588692415354e-8,
          8.861262335331249e-8,
          9.156637746508956e-8
         ],
         "y": [
          0,
          -0.000003454882432644274,
          -0.000012150380279424972,
          -0.00002426694962873524,
          -0.00003797160539155062,
          -0.000052273109455307915,
          -0.00006758044081634634,
          -0.00008565988685366871,
          -0.00010858912045943678,
          -0.0001376106464552225,
          -0.00017247883010002366,
          -0.00021157339888483104,
          -0.00025281133046224993,
          -0.0002947500417626557,
          -0.0003372828565350802,
          -0.00038173507536249165,
          -0.00043017941919602093,
          -0.0004842668934934742,
          -0.0005443255028358546,
          -0.0006092099921127803,
          -0.0006768956533612057,
          -0.0007455396026486288,
          -0.0008144626764025956,
          -0.0008845013811930313,
          -0.000957544192552031,
          -0.0010355061019649142,
          -0.001119284071501532,
          -0.0012082627554901929,
          -0.0013006342900748445,
          -0.0013943482725633505,
          -0.0014881909979383191,
          -0.0015824213390817111
         ]
        },
        {
         "line": {
          "color": "rgb(50, 136, 189)"
         },
         "mode": "lines",
         "name": "$\\mathcal{U}$",
         "type": "scatter",
         "x": [
          0,
          2.9537541117770825e-9,
          5.907508223554165e-9,
          8.861262335331248e-9,
          1.181501644710833e-8,
          1.4768770558885414e-8,
          1.7722524670662496e-8,
          2.067627878243958e-8,
          2.363003289421666e-8,
          2.6583787005993744e-8,
          2.9537541117770828e-8,
          3.249129522954791e-8,
          3.544504934132499e-8,
          3.8398803453102076e-8,
          4.135255756487916e-8,
          4.4306311676656243e-8,
          4.726006578843332e-8,
          5.0213819900210404e-8,
          5.316757401198749e-8,
          5.612132812376457e-8,
          5.9075082235541656e-8,
          6.202883634731873e-8,
          6.498259045909582e-8,
          6.79363445708729e-8,
          7.089009868264998e-8,
          7.384385279442707e-8,
          7.679760690620415e-8,
          7.975136101798124e-8,
          8.270511512975832e-8,
          8.56588692415354e-8,
          8.861262335331249e-8,
          9.156637746508956e-8
         ],
         "y": [
          0,
          0.0000034549599036293716,
          0.000012150526314453864,
          0.000024267176640823703,
          0.000037971874966298734,
          0.000052273361982421304,
          0.00006758061689540372,
          0.00008565997324599069,
          0.00010858915356025407,
          0.00013761068985452843,
          0.00017247894361790546,
          0.00021157360210151183,
          0.0002528115952917584,
          0.0002947503115244606,
          0.00033728306932648484,
          0.00038173519855259577,
          0.0004301794712299233,
          0.0004842669315628372,
          0.0005443255901073181,
          0.0006092101619492276,
          0.0006768959030743123,
          0.0007455398744356738,
          0.0008144629104747198,
          0.000884501531228578,
          0.0009575441986755247,
          0.001035505913875957,
          0.0011192836903628188,
          0.0012082620032904561,
          0.001300633209909061,
          0.0013943466793430099,
          0.0014881885251433803,
          0.0015824172255028202
         ]
        },
        {
         "line": {
          "color": "rgb(136, 208, 164)"
         },
         "mode": "lines",
         "name": "$\\mathcal{R}$",
         "type": "scatter",
         "x": [
          0,
          2.9537541117770825e-9,
          5.907508223554165e-9,
          8.861262335331248e-9,
          1.181501644710833e-8,
          1.4768770558885414e-8,
          1.7722524670662496e-8,
          2.067627878243958e-8,
          2.363003289421666e-8,
          2.6583787005993744e-8,
          2.9537541117770828e-8,
          3.249129522954791e-8,
          3.544504934132499e-8,
          3.8398803453102076e-8,
          4.135255756487916e-8,
          4.4306311676656243e-8,
          4.726006578843332e-8,
          5.0213819900210404e-8,
          5.316757401198749e-8,
          5.612132812376457e-8,
          5.9075082235541656e-8,
          6.202883634731873e-8,
          6.498259045909582e-8,
          6.79363445708729e-8,
          7.089009868264998e-8,
          7.384385279442707e-8,
          7.679760690620415e-8,
          7.975136101798124e-8,
          8.270511512975832e-8,
          8.56588692415354e-8,
          8.861262335331249e-8,
          9.156637746508956e-8
         ],
         "y": [
          0,
          0,
          0,
          0,
          0,
          0,
          0,
          0,
          0,
          0,
          0,
          0,
          0,
          0,
          0,
          0,
          0,
          0,
          0,
          3.035408480243889e-12,
          2.3188672751322966e-12,
          7.987895371742135e-12,
          7.836497821535091e-12,
          1.1273657094982789e-11,
          4.269649600862984e-11,
          1.229449425531853e-10,
          2.330625873997183e-10,
          4.626279156296661e-10,
          6.781662021236551e-10,
          9.641097976422729e-10,
          1.421253595735558e-9,
          2.2476719148004252e-9
         ]
        },
        {
         "line": {
          "color": "rgb(200, 233, 158)"
         },
         "mode": "lines",
         "name": "$\\mathcal{C}$",
         "type": "scatter",
         "x": [
          0,
          2.9537541117770825e-9,
          5.907508223554165e-9,
          8.861262335331248e-9,
          1.181501644710833e-8,
          1.4768770558885414e-8,
          1.7722524670662496e-8,
          2.067627878243958e-8,
          2.363003289421666e-8,
          2.6583787005993744e-8,
          2.9537541117770828e-8,
          3.249129522954791e-8,
          3.544504934132499e-8,
          3.8398803453102076e-8,
          4.135255756487916e-8,
          4.4306311676656243e-8,
          4.726006578843332e-8,
          5.0213819900210404e-8,
          5.316757401198749e-8,
          5.612132812376457e-8,
          5.9075082235541656e-8,
          6.202883634731873e-8,
          6.498259045909582e-8,
          6.79363445708729e-8,
          7.089009868264998e-8,
          7.384385279442707e-8,
          7.679760690620415e-8,
          7.975136101798124e-8,
          8.270511512975832e-8,
          8.56588692415354e-8,
          8.861262335331249e-8,
          9.156637746508956e-8
         ],
         "y": [
          0,
          0,
          0,
          0,
          0,
          0,
          0,
          0,
          0,
          0,
          0,
          0,
          0,
          0,
          0,
          0,
          0,
          0,
          0,
          0,
          0,
          0,
          0,
          0,
          0,
          0,
          0,
          0,
          2.0623404030473788e-17,
          0,
          6.1057265002737994e-21,
          1.2344610624239451e-21
         ]
        },
        {
         "line": {
          "color": "grey"
         },
         "mode": "lines",
         "name": "$\\mathcal{G}$",
         "type": "scatter",
         "x": [
          0,
          2.9537541117770825e-9,
          5.907508223554165e-9,
          8.861262335331248e-9,
          1.181501644710833e-8,
          1.4768770558885414e-8,
          1.7722524670662496e-8,
          2.067627878243958e-8,
          2.363003289421666e-8,
          2.6583787005993744e-8,
          2.9537541117770828e-8,
          3.249129522954791e-8,
          3.544504934132499e-8,
          3.8398803453102076e-8,
          4.135255756487916e-8,
          4.4306311676656243e-8,
          4.726006578843332e-8,
          5.0213819900210404e-8,
          5.316757401198749e-8,
          5.612132812376457e-8,
          5.9075082235541656e-8,
          6.202883634731873e-8,
          6.498259045909582e-8,
          6.79363445708729e-8,
          7.089009868264998e-8,
          7.384385279442707e-8,
          7.679760690620415e-8,
          7.975136101798124e-8,
          8.270511512975832e-8,
          8.56588692415354e-8,
          8.861262335331249e-8,
          9.156637746508956e-8
         ],
         "y": [
          0,
          0,
          0,
          0,
          0,
          0,
          0,
          0,
          0,
          0,
          0,
          0,
          0,
          0,
          0,
          0,
          0,
          0,
          0,
          1.6128256409332574e-12,
          1.7836769977570398e-12,
          3.3104725025625344e-12,
          5.213536437900181e-12,
          5.112721442916771e-12,
          3.4575560090552135e-11,
          1.1008790505613945e-10,
          2.194021929528827e-10,
          4.3880126153180496e-10,
          6.419084417559886e-10,
          9.198699036967566e-10,
          1.3323661419368765e-9,
          2.0807312886886274e-9
         ]
        },
        {
         "line": {
          "color": "black",
          "dash": "dot",
          "width": 2
         },
         "mode": "lines",
         "name": "Total Energy",
         "type": "scatter",
         "x": [
          0,
          2.9537541117770825e-9,
          5.907508223554165e-9,
          8.861262335331248e-9,
          1.181501644710833e-8,
          1.4768770558885414e-8,
          1.7722524670662496e-8,
          2.067627878243958e-8,
          2.363003289421666e-8,
          2.6583787005993744e-8,
          2.9537541117770828e-8,
          3.249129522954791e-8,
          3.544504934132499e-8,
          3.8398803453102076e-8,
          4.135255756487916e-8,
          4.4306311676656243e-8,
          4.726006578843332e-8,
          5.0213819900210404e-8,
          5.316757401198749e-8,
          5.612132812376457e-8,
          5.9075082235541656e-8,
          6.202883634731873e-8,
          6.498259045909582e-8,
          6.79363445708729e-8,
          7.089009868264998e-8,
          7.384385279442707e-8,
          7.679760690620415e-8,
          7.975136101798124e-8,
          8.270511512975832e-8,
          8.56588692415354e-8,
          8.861262335331249e-8,
          9.156637746508956e-8
         ],
         "y": [
          0,
          7.747098448862566e-11,
          1.4603502782040145e-10,
          2.270120862124525e-10,
          2.6957474794087055e-10,
          2.525271138031915e-10,
          1.7607905758443287e-10,
          8.639232038087918e-11,
          3.310081722607272e-11,
          4.3399304983093856e-11,
          1.1351787912450284e-10,
          2.0321667959510847e-10,
          2.6482950901685065e-10,
          2.6976180317328513e-10,
          2.1279140255403561e-10,
          1.2319010395112073e-10,
          5.203390149310927e-11,
          3.8069363633708164e-11,
          8.727146089126947e-11,
          1.744846801765565e-10,
          2.538156490539123e-10,
          2.830854127500171e-10,
          2.471221595412576e-10,
          1.6642192485205598e-10,
          8.339555088165973e-11,
          4.49438888883158e-11,
          7.132606658077911e-11,
          1.4922944130413285e-10,
          2.399088844251551e-10,
          2.9075936103239997e-10,
          2.8082479744395705e-10,
          2.1482431111774503e-10
         ]
        }
       ],
       "layout": {
        "font": {
         "color": "Black",
         "family": "Latin-Modern",
         "size": 12
        },
        "height": 400,
        "legend": {
         "bgcolor": "rgba(255, 255, 255, 0.8)",
         "bordercolor": "black",
         "borderwidth": 1,
         "orientation": "h",
         "x": 0.97,
         "xanchor": "right",
         "y": 0.35,
         "yanchor": "top"
        },
        "showlegend": false,
        "template": {
         "data": {
          "bar": [
           {
            "error_x": {
             "color": "#2a3f5f"
            },
            "error_y": {
             "color": "#2a3f5f"
            },
            "marker": {
             "line": {
              "color": "white",
              "width": 0.5
             },
             "pattern": {
              "fillmode": "overlay",
              "size": 10,
              "solidity": 0.2
             }
            },
            "type": "bar"
           }
          ],
          "barpolar": [
           {
            "marker": {
             "line": {
              "color": "white",
              "width": 0.5
             },
             "pattern": {
              "fillmode": "overlay",
              "size": 10,
              "solidity": 0.2
             }
            },
            "type": "barpolar"
           }
          ],
          "carpet": [
           {
            "aaxis": {
             "endlinecolor": "#2a3f5f",
             "gridcolor": "#C8D4E3",
             "linecolor": "#C8D4E3",
             "minorgridcolor": "#C8D4E3",
             "startlinecolor": "#2a3f5f"
            },
            "baxis": {
             "endlinecolor": "#2a3f5f",
             "gridcolor": "#C8D4E3",
             "linecolor": "#C8D4E3",
             "minorgridcolor": "#C8D4E3",
             "startlinecolor": "#2a3f5f"
            },
            "type": "carpet"
           }
          ],
          "choropleth": [
           {
            "colorbar": {
             "outlinewidth": 0,
             "ticks": ""
            },
            "type": "choropleth"
           }
          ],
          "contour": [
           {
            "colorbar": {
             "outlinewidth": 0,
             "ticks": ""
            },
            "colorscale": [
             [
              0,
              "#0d0887"
             ],
             [
              0.1111111111111111,
              "#46039f"
             ],
             [
              0.2222222222222222,
              "#7201a8"
             ],
             [
              0.3333333333333333,
              "#9c179e"
             ],
             [
              0.4444444444444444,
              "#bd3786"
             ],
             [
              0.5555555555555556,
              "#d8576b"
             ],
             [
              0.6666666666666666,
              "#ed7953"
             ],
             [
              0.7777777777777778,
              "#fb9f3a"
             ],
             [
              0.8888888888888888,
              "#fdca26"
             ],
             [
              1,
              "#f0f921"
             ]
            ],
            "type": "contour"
           }
          ],
          "contourcarpet": [
           {
            "colorbar": {
             "outlinewidth": 0,
             "ticks": ""
            },
            "type": "contourcarpet"
           }
          ],
          "heatmap": [
           {
            "colorbar": {
             "outlinewidth": 0,
             "ticks": ""
            },
            "colorscale": [
             [
              0,
              "#0d0887"
             ],
             [
              0.1111111111111111,
              "#46039f"
             ],
             [
              0.2222222222222222,
              "#7201a8"
             ],
             [
              0.3333333333333333,
              "#9c179e"
             ],
             [
              0.4444444444444444,
              "#bd3786"
             ],
             [
              0.5555555555555556,
              "#d8576b"
             ],
             [
              0.6666666666666666,
              "#ed7953"
             ],
             [
              0.7777777777777778,
              "#fb9f3a"
             ],
             [
              0.8888888888888888,
              "#fdca26"
             ],
             [
              1,
              "#f0f921"
             ]
            ],
            "type": "heatmap"
           }
          ],
          "heatmapgl": [
           {
            "colorbar": {
             "outlinewidth": 0,
             "ticks": ""
            },
            "colorscale": [
             [
              0,
              "#0d0887"
             ],
             [
              0.1111111111111111,
              "#46039f"
             ],
             [
              0.2222222222222222,
              "#7201a8"
             ],
             [
              0.3333333333333333,
              "#9c179e"
             ],
             [
              0.4444444444444444,
              "#bd3786"
             ],
             [
              0.5555555555555556,
              "#d8576b"
             ],
             [
              0.6666666666666666,
              "#ed7953"
             ],
             [
              0.7777777777777778,
              "#fb9f3a"
             ],
             [
              0.8888888888888888,
              "#fdca26"
             ],
             [
              1,
              "#f0f921"
             ]
            ],
            "type": "heatmapgl"
           }
          ],
          "histogram": [
           {
            "marker": {
             "pattern": {
              "fillmode": "overlay",
              "size": 10,
              "solidity": 0.2
             }
            },
            "type": "histogram"
           }
          ],
          "histogram2d": [
           {
            "colorbar": {
             "outlinewidth": 0,
             "ticks": ""
            },
            "colorscale": [
             [
              0,
              "#0d0887"
             ],
             [
              0.1111111111111111,
              "#46039f"
             ],
             [
              0.2222222222222222,
              "#7201a8"
             ],
             [
              0.3333333333333333,
              "#9c179e"
             ],
             [
              0.4444444444444444,
              "#bd3786"
             ],
             [
              0.5555555555555556,
              "#d8576b"
             ],
             [
              0.6666666666666666,
              "#ed7953"
             ],
             [
              0.7777777777777778,
              "#fb9f3a"
             ],
             [
              0.8888888888888888,
              "#fdca26"
             ],
             [
              1,
              "#f0f921"
             ]
            ],
            "type": "histogram2d"
           }
          ],
          "histogram2dcontour": [
           {
            "colorbar": {
             "outlinewidth": 0,
             "ticks": ""
            },
            "colorscale": [
             [
              0,
              "#0d0887"
             ],
             [
              0.1111111111111111,
              "#46039f"
             ],
             [
              0.2222222222222222,
              "#7201a8"
             ],
             [
              0.3333333333333333,
              "#9c179e"
             ],
             [
              0.4444444444444444,
              "#bd3786"
             ],
             [
              0.5555555555555556,
              "#d8576b"
             ],
             [
              0.6666666666666666,
              "#ed7953"
             ],
             [
              0.7777777777777778,
              "#fb9f3a"
             ],
             [
              0.8888888888888888,
              "#fdca26"
             ],
             [
              1,
              "#f0f921"
             ]
            ],
            "type": "histogram2dcontour"
           }
          ],
          "mesh3d": [
           {
            "colorbar": {
             "outlinewidth": 0,
             "ticks": ""
            },
            "type": "mesh3d"
           }
          ],
          "parcoords": [
           {
            "line": {
             "colorbar": {
              "outlinewidth": 0,
              "ticks": ""
             }
            },
            "type": "parcoords"
           }
          ],
          "pie": [
           {
            "automargin": true,
            "type": "pie"
           }
          ],
          "scatter": [
           {
            "fillpattern": {
             "fillmode": "overlay",
             "size": 10,
             "solidity": 0.2
            },
            "type": "scatter"
           }
          ],
          "scatter3d": [
           {
            "line": {
             "colorbar": {
              "outlinewidth": 0,
              "ticks": ""
             }
            },
            "marker": {
             "colorbar": {
              "outlinewidth": 0,
              "ticks": ""
             }
            },
            "type": "scatter3d"
           }
          ],
          "scattercarpet": [
           {
            "marker": {
             "colorbar": {
              "outlinewidth": 0,
              "ticks": ""
             }
            },
            "type": "scattercarpet"
           }
          ],
          "scattergeo": [
           {
            "marker": {
             "colorbar": {
              "outlinewidth": 0,
              "ticks": ""
             }
            },
            "type": "scattergeo"
           }
          ],
          "scattergl": [
           {
            "marker": {
             "colorbar": {
              "outlinewidth": 0,
              "ticks": ""
             }
            },
            "type": "scattergl"
           }
          ],
          "scattermapbox": [
           {
            "marker": {
             "colorbar": {
              "outlinewidth": 0,
              "ticks": ""
             }
            },
            "type": "scattermapbox"
           }
          ],
          "scatterpolar": [
           {
            "marker": {
             "colorbar": {
              "outlinewidth": 0,
              "ticks": ""
             }
            },
            "type": "scatterpolar"
           }
          ],
          "scatterpolargl": [
           {
            "marker": {
             "colorbar": {
              "outlinewidth": 0,
              "ticks": ""
             }
            },
            "type": "scatterpolargl"
           }
          ],
          "scatterternary": [
           {
            "marker": {
             "colorbar": {
              "outlinewidth": 0,
              "ticks": ""
             }
            },
            "type": "scatterternary"
           }
          ],
          "surface": [
           {
            "colorbar": {
             "outlinewidth": 0,
             "ticks": ""
            },
            "colorscale": [
             [
              0,
              "#0d0887"
             ],
             [
              0.1111111111111111,
              "#46039f"
             ],
             [
              0.2222222222222222,
              "#7201a8"
             ],
             [
              0.3333333333333333,
              "#9c179e"
             ],
             [
              0.4444444444444444,
              "#bd3786"
             ],
             [
              0.5555555555555556,
              "#d8576b"
             ],
             [
              0.6666666666666666,
              "#ed7953"
             ],
             [
              0.7777777777777778,
              "#fb9f3a"
             ],
             [
              0.8888888888888888,
              "#fdca26"
             ],
             [
              1,
              "#f0f921"
             ]
            ],
            "type": "surface"
           }
          ],
          "table": [
           {
            "cells": {
             "fill": {
              "color": "#EBF0F8"
             },
             "line": {
              "color": "white"
             }
            },
            "header": {
             "fill": {
              "color": "#C8D4E3"
             },
             "line": {
              "color": "white"
             }
            },
            "type": "table"
           }
          ]
         },
         "layout": {
          "annotationdefaults": {
           "arrowcolor": "#2a3f5f",
           "arrowhead": 0,
           "arrowwidth": 1
          },
          "autotypenumbers": "strict",
          "coloraxis": {
           "colorbar": {
            "outlinewidth": 0,
            "ticks": ""
           }
          },
          "colorscale": {
           "diverging": [
            [
             0,
             "#8e0152"
            ],
            [
             0.1,
             "#c51b7d"
            ],
            [
             0.2,
             "#de77ae"
            ],
            [
             0.3,
             "#f1b6da"
            ],
            [
             0.4,
             "#fde0ef"
            ],
            [
             0.5,
             "#f7f7f7"
            ],
            [
             0.6,
             "#e6f5d0"
            ],
            [
             0.7,
             "#b8e186"
            ],
            [
             0.8,
             "#7fbc41"
            ],
            [
             0.9,
             "#4d9221"
            ],
            [
             1,
             "#276419"
            ]
           ],
           "sequential": [
            [
             0,
             "#0d0887"
            ],
            [
             0.1111111111111111,
             "#46039f"
            ],
            [
             0.2222222222222222,
             "#7201a8"
            ],
            [
             0.3333333333333333,
             "#9c179e"
            ],
            [
             0.4444444444444444,
             "#bd3786"
            ],
            [
             0.5555555555555556,
             "#d8576b"
            ],
            [
             0.6666666666666666,
             "#ed7953"
            ],
            [
             0.7777777777777778,
             "#fb9f3a"
            ],
            [
             0.8888888888888888,
             "#fdca26"
            ],
            [
             1,
             "#f0f921"
            ]
           ],
           "sequentialminus": [
            [
             0,
             "#0d0887"
            ],
            [
             0.1111111111111111,
             "#46039f"
            ],
            [
             0.2222222222222222,
             "#7201a8"
            ],
            [
             0.3333333333333333,
             "#9c179e"
            ],
            [
             0.4444444444444444,
             "#bd3786"
            ],
            [
             0.5555555555555556,
             "#d8576b"
            ],
            [
             0.6666666666666666,
             "#ed7953"
            ],
            [
             0.7777777777777778,
             "#fb9f3a"
            ],
            [
             0.8888888888888888,
             "#fdca26"
            ],
            [
             1,
             "#f0f921"
            ]
           ]
          },
          "colorway": [
           "#636efa",
           "#EF553B",
           "#00cc96",
           "#ab63fa",
           "#FFA15A",
           "#19d3f3",
           "#FF6692",
           "#B6E880",
           "#FF97FF",
           "#FECB52"
          ],
          "font": {
           "color": "#2a3f5f"
          },
          "geo": {
           "bgcolor": "white",
           "lakecolor": "white",
           "landcolor": "white",
           "showlakes": true,
           "showland": true,
           "subunitcolor": "#C8D4E3"
          },
          "hoverlabel": {
           "align": "left"
          },
          "hovermode": "closest",
          "mapbox": {
           "style": "light"
          },
          "paper_bgcolor": "white",
          "plot_bgcolor": "white",
          "polar": {
           "angularaxis": {
            "gridcolor": "#EBF0F8",
            "linecolor": "#EBF0F8",
            "ticks": ""
           },
           "bgcolor": "white",
           "radialaxis": {
            "gridcolor": "#EBF0F8",
            "linecolor": "#EBF0F8",
            "ticks": ""
           }
          },
          "scene": {
           "xaxis": {
            "backgroundcolor": "white",
            "gridcolor": "#DFE8F3",
            "gridwidth": 2,
            "linecolor": "#EBF0F8",
            "showbackground": true,
            "ticks": "",
            "zerolinecolor": "#EBF0F8"
           },
           "yaxis": {
            "backgroundcolor": "white",
            "gridcolor": "#DFE8F3",
            "gridwidth": 2,
            "linecolor": "#EBF0F8",
            "showbackground": true,
            "ticks": "",
            "zerolinecolor": "#EBF0F8"
           },
           "zaxis": {
            "backgroundcolor": "white",
            "gridcolor": "#DFE8F3",
            "gridwidth": 2,
            "linecolor": "#EBF0F8",
            "showbackground": true,
            "ticks": "",
            "zerolinecolor": "#EBF0F8"
           }
          },
          "shapedefaults": {
           "line": {
            "color": "#2a3f5f"
           }
          },
          "ternary": {
           "aaxis": {
            "gridcolor": "#DFE8F3",
            "linecolor": "#A2B1C6",
            "ticks": ""
           },
           "baxis": {
            "gridcolor": "#DFE8F3",
            "linecolor": "#A2B1C6",
            "ticks": ""
           },
           "bgcolor": "white",
           "caxis": {
            "gridcolor": "#DFE8F3",
            "linecolor": "#A2B1C6",
            "ticks": ""
           }
          },
          "title": {
           "x": 0.05
          },
          "xaxis": {
           "automargin": true,
           "gridcolor": "#EBF0F8",
           "linecolor": "#EBF0F8",
           "ticks": "",
           "title": {
            "standoff": 15
           },
           "zerolinecolor": "#EBF0F8",
           "zerolinewidth": 2
          },
          "yaxis": {
           "automargin": true,
           "gridcolor": "#EBF0F8",
           "linecolor": "#EBF0F8",
           "ticks": "",
           "title": {
            "standoff": 15
           },
           "zerolinecolor": "#EBF0F8",
           "zerolinewidth": 2
          }
         }
        },
        "title": {
         "text": "Energy vs Time"
        },
        "width": 400,
        "xaxis": {
         "exponentformat": "power",
         "linecolor": "black",
         "linewidth": 1,
         "mirror": true,
         "showgrid": false,
         "showline": true,
         "tickfont": {
          "size": 10
         },
         "ticks": "inside",
         "title": {
          "text": "Time (s)"
         },
         "zeroline": false
        },
        "yaxis": {
         "exponentformat": "power",
         "linecolor": "black",
         "linewidth": 1,
         "mirror": true,
         "showgrid": false,
         "showline": true,
         "tickfont": {
          "size": 10
         },
         "ticks": "inside",
         "title": {
          "text": "$\\Delta\\mathcal{E}$"
         },
         "zeroline": false
        }
       }
      }
     },
     "metadata": {},
     "output_type": "display_data"
    }
   ],
   "source": [
    "# Plot energy vs time\n",
    "fig = go.Figure()\n",
    "fig.add_trace(go.Scatter(x=data['time'], y=data['ekin']-data['ekin'][0], mode='lines', name=r\"$\\mathcal{K}$\", line=dict(color=colors[0])))\n",
    "fig.add_trace(go.Scatter(x=data['time'], y=data['epot']-data['epot'][0], mode='lines', name=r\"$\\mathcal{U}$\", line=dict(color=colors[1])))\n",
    "fig.add_trace(go.Scatter(x=data['time'], y=data['erev']-data['erev'][0], mode='lines', name=r\"$\\mathcal{R}$\", line=dict(color=colors[2])))\n",
    "fig.add_trace(go.Scatter(x=data['time'], y=data['econ']-data['econ'][0], mode='lines', name=r\"$\\mathcal{C}$\", line=dict(color=colors[3])))\n",
    "fig.add_trace(go.Scatter(x=data['time'], y=data['edis']-data['edis'][0], mode='lines', name=r\"$\\mathcal{G}$\", line=dict(color='grey')))\n",
    "\n",
    "#fig.add_trace(go.Scatter(x=data['time'], y=data['work']-data['work'][0], mode='lines', name=r\"\\mathcal{W}_\\text{ext}\"))\n",
    "fig.add_trace(go.Scatter(x=data['time'], y=data['total_energy']-data['total_energy'][0], mode='lines', name='Total Energy',line=dict(color='black', width=2, dash='dot')))\n",
    "\n",
    "fig.update_layout(\n",
    "    title='Energy vs Time',\n",
    "    xaxis_title='Time (s)',\n",
    "    yaxis_title=r\"$\\Delta\\mathcal{E}$\",\n",
    "    xaxis=dict(\n",
    "        showgrid=False,\n",
    "        showline=True,\n",
    "        linewidth=1,\n",
    "        linecolor='black',\n",
    "        mirror=True,\n",
    "        zeroline=False,\n",
    "        ticks='inside',\n",
    "        exponentformat='power',\n",
    "        tickfont=dict(size=10),\n",
    "    ),\n",
    "    yaxis=dict(\n",
    "        showgrid=False,\n",
    "        showline=True,\n",
    "        linewidth=1,\n",
    "        linecolor='black',\n",
    "        mirror=True,\n",
    "        zeroline=False,\n",
    "        ticks='inside',\n",
    "        exponentformat='power',\n",
    "        tickfont=dict(size=10),  \n",
    "    ),\n",
    "    font=dict(\n",
    "        family=\"Latin-Modern\",\n",
    "        size=12,\n",
    "        color=\"Black\"\n",
    "    ),\n",
    "    legend=dict(\n",
    "        x=0.97,              # position from the left (0 to 1)\n",
    "        y=0.35,              # position from the bottom (0 to 1)\n",
    "        bgcolor='rgba(255, 255, 255, 0.8)',  # white with 80% opacity\n",
    "        bordercolor='black',\n",
    "        borderwidth=1,\n",
    "        orientation='h',   \n",
    "        xanchor='right',\n",
    "        yanchor='top',\n",
    "    ),\n",
    "    width=400, \n",
    "    height=400,\n",
    "    showlegend=False,\n",
    "    template=\"plotly_white\")\n",
    "\n",
    "fig.show()"
   ]
  },
  {
   "cell_type": "code",
   "execution_count": 5,
   "id": "d2dee8f1",
   "metadata": {},
   "outputs": [
    {
     "data": {
      "application/vnd.plotly.v1+json": {
       "config": {
        "plotlyServerURL": "https://plot.ly"
       },
       "data": [
        {
         "fill": "tozeroy",
         "fillcolor": "rgba(94, 79, 162,0.7)",
         "line": {
          "color": "rgb(94, 79, 162)"
         },
         "mode": "lines",
         "name": "$\\mathcal{K}$",
         "type": "scatter",
         "x": [
          0,
          2.9537541117770825e-9,
          5.907508223554165e-9,
          8.861262335331248e-9,
          1.181501644710833e-8,
          1.4768770558885414e-8,
          1.7722524670662496e-8,
          2.067627878243958e-8,
          2.363003289421666e-8,
          2.6583787005993744e-8,
          2.9537541117770828e-8,
          3.249129522954791e-8,
          3.544504934132499e-8,
          3.8398803453102076e-8,
          4.135255756487916e-8,
          4.4306311676656243e-8,
          4.726006578843332e-8,
          5.0213819900210404e-8,
          5.316757401198749e-8,
          5.612132812376457e-8,
          5.9075082235541656e-8,
          6.202883634731873e-8,
          6.498259045909582e-8,
          6.79363445708729e-8,
          7.089009868264998e-8,
          7.384385279442707e-8,
          7.679760690620415e-8,
          7.975136101798124e-8,
          8.270511512975832e-8,
          8.56588692415354e-8,
          8.861262335331249e-8,
          9.156637746508956e-8
         ],
         "y": [
          0.9999998774679615,
          0.9998167259239866,
          0.9993557568787829,
          0.9987134286875149,
          0.9979869122541665,
          0.9972287554712642,
          0.996417277388416,
          0.9954588429060564,
          0.9942433096371454,
          0.9927048094426352,
          0.990856364005013,
          0.9887838678279184,
          0.9865977468857505,
          0.9843744759418811,
          0.9821197101583747,
          0.9797631921957316,
          0.9771950421810968,
          0.9743277363840385,
          0.9711438865007249,
          0.9677042052314581,
          0.9641160271662739,
          0.9604770479704182,
          0.956823271721984,
          0.9531103532159422,
          0.9492381798677968,
          0.9451052334192357,
          0.9406639637752318,
          0.9359469918750052,
          0.9310501568861653,
          0.9260821555375172,
          0.9211073292219154,
          0.9161119544715001
         ]
        },
        {
         "fill": "tonexty",
         "fillcolor": "rgba(50, 136, 189,0.7)",
         "line": {
          "color": "rgb(50, 136, 189)"
         },
         "mode": "lines",
         "name": "$\\mathcal{U}$",
         "type": "scatter",
         "x": [
          0,
          2.9537541117770825e-9,
          5.907508223554165e-9,
          8.861262335331248e-9,
          1.181501644710833e-8,
          1.4768770558885414e-8,
          1.7722524670662496e-8,
          2.067627878243958e-8,
          2.363003289421666e-8,
          2.6583787005993744e-8,
          2.9537541117770828e-8,
          3.249129522954791e-8,
          3.544504934132499e-8,
          3.8398803453102076e-8,
          4.135255756487916e-8,
          4.4306311676656243e-8,
          4.726006578843332e-8,
          5.0213819900210404e-8,
          5.316757401198749e-8,
          5.612132812376457e-8,
          5.9075082235541656e-8,
          6.202883634731873e-8,
          6.498259045909582e-8,
          6.79363445708729e-8,
          7.089009868264998e-8,
          7.384385279442707e-8,
          7.679760690620415e-8,
          7.975136101798124e-8,
          8.270511512975832e-8,
          8.56588692415354e-8,
          8.861262335331249e-8,
          9.156637746508956e-8
         ],
         "y": [
          1,
          1.0000000041069212,
          1.0000000077416646,
          1.0000000120344512,
          1.0000000142907992,
          1.0000000133870637,
          1.0000000093343702,
          1.0000000045798627,
          1.0000000017547532,
          1.0000000023007005,
          1.000000006017853,
          1.000000010773,
          1.0000000140392429,
          1.0000000143007155,
          1.000000011280579,
          1.0000000065306007,
          1.000000002758441,
          1.0000000020181476,
          1.0000000046264679,
          1.0000000090034344,
          1.0000000132378863,
          1.0000000144080783,
          1.0000000124087205,
          1.0000000079537417,
          1.000000000324621,
          0.9999999900289566,
          0.9999999797949293,
          0.999999960124101,
          0.9999999427378399,
          0.9999999155395962,
          0.9999998689112524,
          0.9999997819293884
         ]
        },
        {
         "fill": "tonexty",
         "fillcolor": "rgba(136, 208, 164,0.7)",
         "line": {
          "color": "rgb(136, 208, 164)"
         },
         "mode": "lines",
         "name": "$\\mathcal{R}$",
         "type": "scatter",
         "x": [
          0,
          2.9537541117770825e-9,
          5.907508223554165e-9,
          8.861262335331248e-9,
          1.181501644710833e-8,
          1.4768770558885414e-8,
          1.7722524670662496e-8,
          2.067627878243958e-8,
          2.363003289421666e-8,
          2.6583787005993744e-8,
          2.9537541117770828e-8,
          3.249129522954791e-8,
          3.544504934132499e-8,
          3.8398803453102076e-8,
          4.135255756487916e-8,
          4.4306311676656243e-8,
          4.726006578843332e-8,
          5.0213819900210404e-8,
          5.316757401198749e-8,
          5.612132812376457e-8,
          5.9075082235541656e-8,
          6.202883634731873e-8,
          6.498259045909582e-8,
          6.79363445708729e-8,
          7.089009868264998e-8,
          7.384385279442707e-8,
          7.679760690620415e-8,
          7.975136101798124e-8,
          8.270511512975832e-8,
          8.56588692415354e-8,
          8.861262335331249e-8,
          9.156637746508956e-8
         ],
         "y": [
          1,
          1.0000000041069212,
          1.0000000077416646,
          1.0000000120344512,
          1.0000000142907992,
          1.0000000133870637,
          1.0000000093343702,
          1.0000000045798627,
          1.0000000017547532,
          1.0000000023007005,
          1.000000006017853,
          1.000000010773,
          1.0000000140392429,
          1.0000000143007155,
          1.000000011280579,
          1.0000000065306007,
          1.000000002758441,
          1.0000000020181476,
          1.0000000046264679,
          1.0000000091643486,
          1.000000013360815,
          1.0000000148315358,
          1.000000012824152,
          1.000000008551385,
          1.000000002588064,
          0.9999999965465607,
          0.9999999921501319,
          0.9999999846491082,
          0.9999999786890449,
          0.9999999666493521,
          0.9999999442552896,
          0.9999999010838283
         ]
        },
        {
         "fill": "tonexty",
         "fillcolor": "rgba(200, 233, 158,0.7)",
         "line": {
          "color": "rgb(200, 233, 158)"
         },
         "mode": "lines",
         "name": "$\\mathcal{C}$",
         "type": "scatter",
         "x": [
          0,
          2.9537541117770825e-9,
          5.907508223554165e-9,
          8.861262335331248e-9,
          1.181501644710833e-8,
          1.4768770558885414e-8,
          1.7722524670662496e-8,
          2.067627878243958e-8,
          2.363003289421666e-8,
          2.6583787005993744e-8,
          2.9537541117770828e-8,
          3.249129522954791e-8,
          3.544504934132499e-8,
          3.8398803453102076e-8,
          4.135255756487916e-8,
          4.4306311676656243e-8,
          4.726006578843332e-8,
          5.0213819900210404e-8,
          5.316757401198749e-8,
          5.612132812376457e-8,
          5.9075082235541656e-8,
          6.202883634731873e-8,
          6.498259045909582e-8,
          6.79363445708729e-8,
          7.089009868264998e-8,
          7.384385279442707e-8,
          7.679760690620415e-8,
          7.975136101798124e-8,
          8.270511512975832e-8,
          8.56588692415354e-8,
          8.861262335331249e-8,
          9.156637746508956e-8
         ],
         "y": [
          1,
          1.0000000041069212,
          1.0000000077416646,
          1.0000000120344512,
          1.0000000142907992,
          1.0000000133870637,
          1.0000000093343702,
          1.0000000045798627,
          1.0000000017547532,
          1.0000000023007005,
          1.000000006017853,
          1.000000010773,
          1.0000000140392429,
          1.0000000143007155,
          1.000000011280579,
          1.0000000065306007,
          1.000000002758441,
          1.0000000020181476,
          1.0000000046264679,
          1.0000000091643486,
          1.000000013360815,
          1.0000000148315358,
          1.000000012824152,
          1.000000008551385,
          1.000000002588064,
          0.9999999965465607,
          0.9999999921501319,
          0.9999999846491082,
          0.999999978689046,
          0.9999999666493521,
          0.9999999442552896,
          0.9999999010838283
         ]
        },
        {
         "fill": "tonexty",
         "line": {
          "color": "lightgrey"
         },
         "mode": "lines",
         "name": "$\\mathcal{G}$",
         "type": "scatter",
         "x": [
          0,
          2.9537541117770825e-9,
          5.907508223554165e-9,
          8.861262335331248e-9,
          1.181501644710833e-8,
          1.4768770558885414e-8,
          1.7722524670662496e-8,
          2.067627878243958e-8,
          2.363003289421666e-8,
          2.6583787005993744e-8,
          2.9537541117770828e-8,
          3.249129522954791e-8,
          3.544504934132499e-8,
          3.8398803453102076e-8,
          4.135255756487916e-8,
          4.4306311676656243e-8,
          4.726006578843332e-8,
          5.0213819900210404e-8,
          5.316757401198749e-8,
          5.612132812376457e-8,
          5.9075082235541656e-8,
          6.202883634731873e-8,
          6.498259045909582e-8,
          6.79363445708729e-8,
          7.089009868264998e-8,
          7.384385279442707e-8,
          7.679760690620415e-8,
          7.975136101798124e-8,
          8.270511512975832e-8,
          8.56588692415354e-8,
          8.861262335331249e-8,
          9.156637746508956e-8
         ],
         "y": [
          1,
          1.0000000041069212,
          1.0000000077416646,
          1.0000000120344512,
          1.0000000142907992,
          1.0000000133870637,
          1.0000000093343702,
          1.0000000045798627,
          1.0000000017547532,
          1.0000000023007005,
          1.000000006017853,
          1.000000010773,
          1.0000000140392429,
          1.0000000143007155,
          1.000000011280579,
          1.0000000065306007,
          1.000000002758441,
          1.0000000020181476,
          1.0000000046264679,
          1.0000000092498484,
          1.000000013455372,
          1.0000000150070318,
          1.000000013100534,
          1.0000000088224226,
          1.0000000044209965,
          1.0000000023825826,
          1.0000000037811647,
          1.0000000079110078,
          1.000000012718141,
          1.000000015413846,
          1.0000000148871913,
          1.0000000113883483
         ]
        },
        {
         "line": {
          "color": "black",
          "dash": "dot",
          "width": 2
         },
         "mode": "lines",
         "name": "$\\mathcal{W}_\\text{ext} + \\mathcal{E}_0$",
         "type": "scatter",
         "x": [
          0,
          2.9537541117770825e-9,
          5.907508223554165e-9,
          8.861262335331248e-9,
          1.181501644710833e-8,
          1.4768770558885414e-8,
          1.7722524670662496e-8,
          2.067627878243958e-8,
          2.363003289421666e-8,
          2.6583787005993744e-8,
          2.9537541117770828e-8,
          3.249129522954791e-8,
          3.544504934132499e-8,
          3.8398803453102076e-8,
          4.135255756487916e-8,
          4.4306311676656243e-8,
          4.726006578843332e-8,
          5.0213819900210404e-8,
          5.316757401198749e-8,
          5.612132812376457e-8,
          5.9075082235541656e-8,
          6.202883634731873e-8,
          6.498259045909582e-8,
          6.79363445708729e-8,
          7.089009868264998e-8,
          7.384385279442707e-8,
          7.679760690620415e-8,
          7.975136101798124e-8,
          8.270511512975832e-8,
          8.56588692415354e-8,
          8.861262335331249e-8,
          9.156637746508956e-8
         ],
         "y": [
          1,
          1,
          1,
          1,
          1,
          1,
          1,
          1,
          1,
          1,
          1,
          1,
          1,
          1,
          1,
          1,
          1,
          1,
          1,
          1,
          1,
          1,
          1,
          1,
          1,
          1,
          1,
          1,
          1,
          1,
          1,
          1
         ]
        }
       ],
       "layout": {
        "font": {
         "color": "Black",
         "family": "Latin-Modern",
         "size": 12
        },
        "height": 400,
        "legend": {
         "bgcolor": "rgba(255, 255, 255, 0.8)",
         "bordercolor": "black",
         "borderwidth": 1,
         "orientation": "h",
         "x": 0.97,
         "xanchor": "right",
         "y": 0.35,
         "yanchor": "top"
        },
        "showlegend": false,
        "template": {
         "data": {
          "bar": [
           {
            "error_x": {
             "color": "#2a3f5f"
            },
            "error_y": {
             "color": "#2a3f5f"
            },
            "marker": {
             "line": {
              "color": "white",
              "width": 0.5
             },
             "pattern": {
              "fillmode": "overlay",
              "size": 10,
              "solidity": 0.2
             }
            },
            "type": "bar"
           }
          ],
          "barpolar": [
           {
            "marker": {
             "line": {
              "color": "white",
              "width": 0.5
             },
             "pattern": {
              "fillmode": "overlay",
              "size": 10,
              "solidity": 0.2
             }
            },
            "type": "barpolar"
           }
          ],
          "carpet": [
           {
            "aaxis": {
             "endlinecolor": "#2a3f5f",
             "gridcolor": "#C8D4E3",
             "linecolor": "#C8D4E3",
             "minorgridcolor": "#C8D4E3",
             "startlinecolor": "#2a3f5f"
            },
            "baxis": {
             "endlinecolor": "#2a3f5f",
             "gridcolor": "#C8D4E3",
             "linecolor": "#C8D4E3",
             "minorgridcolor": "#C8D4E3",
             "startlinecolor": "#2a3f5f"
            },
            "type": "carpet"
           }
          ],
          "choropleth": [
           {
            "colorbar": {
             "outlinewidth": 0,
             "ticks": ""
            },
            "type": "choropleth"
           }
          ],
          "contour": [
           {
            "colorbar": {
             "outlinewidth": 0,
             "ticks": ""
            },
            "colorscale": [
             [
              0,
              "#0d0887"
             ],
             [
              0.1111111111111111,
              "#46039f"
             ],
             [
              0.2222222222222222,
              "#7201a8"
             ],
             [
              0.3333333333333333,
              "#9c179e"
             ],
             [
              0.4444444444444444,
              "#bd3786"
             ],
             [
              0.5555555555555556,
              "#d8576b"
             ],
             [
              0.6666666666666666,
              "#ed7953"
             ],
             [
              0.7777777777777778,
              "#fb9f3a"
             ],
             [
              0.8888888888888888,
              "#fdca26"
             ],
             [
              1,
              "#f0f921"
             ]
            ],
            "type": "contour"
           }
          ],
          "contourcarpet": [
           {
            "colorbar": {
             "outlinewidth": 0,
             "ticks": ""
            },
            "type": "contourcarpet"
           }
          ],
          "heatmap": [
           {
            "colorbar": {
             "outlinewidth": 0,
             "ticks": ""
            },
            "colorscale": [
             [
              0,
              "#0d0887"
             ],
             [
              0.1111111111111111,
              "#46039f"
             ],
             [
              0.2222222222222222,
              "#7201a8"
             ],
             [
              0.3333333333333333,
              "#9c179e"
             ],
             [
              0.4444444444444444,
              "#bd3786"
             ],
             [
              0.5555555555555556,
              "#d8576b"
             ],
             [
              0.6666666666666666,
              "#ed7953"
             ],
             [
              0.7777777777777778,
              "#fb9f3a"
             ],
             [
              0.8888888888888888,
              "#fdca26"
             ],
             [
              1,
              "#f0f921"
             ]
            ],
            "type": "heatmap"
           }
          ],
          "heatmapgl": [
           {
            "colorbar": {
             "outlinewidth": 0,
             "ticks": ""
            },
            "colorscale": [
             [
              0,
              "#0d0887"
             ],
             [
              0.1111111111111111,
              "#46039f"
             ],
             [
              0.2222222222222222,
              "#7201a8"
             ],
             [
              0.3333333333333333,
              "#9c179e"
             ],
             [
              0.4444444444444444,
              "#bd3786"
             ],
             [
              0.5555555555555556,
              "#d8576b"
             ],
             [
              0.6666666666666666,
              "#ed7953"
             ],
             [
              0.7777777777777778,
              "#fb9f3a"
             ],
             [
              0.8888888888888888,
              "#fdca26"
             ],
             [
              1,
              "#f0f921"
             ]
            ],
            "type": "heatmapgl"
           }
          ],
          "histogram": [
           {
            "marker": {
             "pattern": {
              "fillmode": "overlay",
              "size": 10,
              "solidity": 0.2
             }
            },
            "type": "histogram"
           }
          ],
          "histogram2d": [
           {
            "colorbar": {
             "outlinewidth": 0,
             "ticks": ""
            },
            "colorscale": [
             [
              0,
              "#0d0887"
             ],
             [
              0.1111111111111111,
              "#46039f"
             ],
             [
              0.2222222222222222,
              "#7201a8"
             ],
             [
              0.3333333333333333,
              "#9c179e"
             ],
             [
              0.4444444444444444,
              "#bd3786"
             ],
             [
              0.5555555555555556,
              "#d8576b"
             ],
             [
              0.6666666666666666,
              "#ed7953"
             ],
             [
              0.7777777777777778,
              "#fb9f3a"
             ],
             [
              0.8888888888888888,
              "#fdca26"
             ],
             [
              1,
              "#f0f921"
             ]
            ],
            "type": "histogram2d"
           }
          ],
          "histogram2dcontour": [
           {
            "colorbar": {
             "outlinewidth": 0,
             "ticks": ""
            },
            "colorscale": [
             [
              0,
              "#0d0887"
             ],
             [
              0.1111111111111111,
              "#46039f"
             ],
             [
              0.2222222222222222,
              "#7201a8"
             ],
             [
              0.3333333333333333,
              "#9c179e"
             ],
             [
              0.4444444444444444,
              "#bd3786"
             ],
             [
              0.5555555555555556,
              "#d8576b"
             ],
             [
              0.6666666666666666,
              "#ed7953"
             ],
             [
              0.7777777777777778,
              "#fb9f3a"
             ],
             [
              0.8888888888888888,
              "#fdca26"
             ],
             [
              1,
              "#f0f921"
             ]
            ],
            "type": "histogram2dcontour"
           }
          ],
          "mesh3d": [
           {
            "colorbar": {
             "outlinewidth": 0,
             "ticks": ""
            },
            "type": "mesh3d"
           }
          ],
          "parcoords": [
           {
            "line": {
             "colorbar": {
              "outlinewidth": 0,
              "ticks": ""
             }
            },
            "type": "parcoords"
           }
          ],
          "pie": [
           {
            "automargin": true,
            "type": "pie"
           }
          ],
          "scatter": [
           {
            "fillpattern": {
             "fillmode": "overlay",
             "size": 10,
             "solidity": 0.2
            },
            "type": "scatter"
           }
          ],
          "scatter3d": [
           {
            "line": {
             "colorbar": {
              "outlinewidth": 0,
              "ticks": ""
             }
            },
            "marker": {
             "colorbar": {
              "outlinewidth": 0,
              "ticks": ""
             }
            },
            "type": "scatter3d"
           }
          ],
          "scattercarpet": [
           {
            "marker": {
             "colorbar": {
              "outlinewidth": 0,
              "ticks": ""
             }
            },
            "type": "scattercarpet"
           }
          ],
          "scattergeo": [
           {
            "marker": {
             "colorbar": {
              "outlinewidth": 0,
              "ticks": ""
             }
            },
            "type": "scattergeo"
           }
          ],
          "scattergl": [
           {
            "marker": {
             "colorbar": {
              "outlinewidth": 0,
              "ticks": ""
             }
            },
            "type": "scattergl"
           }
          ],
          "scattermapbox": [
           {
            "marker": {
             "colorbar": {
              "outlinewidth": 0,
              "ticks": ""
             }
            },
            "type": "scattermapbox"
           }
          ],
          "scatterpolar": [
           {
            "marker": {
             "colorbar": {
              "outlinewidth": 0,
              "ticks": ""
             }
            },
            "type": "scatterpolar"
           }
          ],
          "scatterpolargl": [
           {
            "marker": {
             "colorbar": {
              "outlinewidth": 0,
              "ticks": ""
             }
            },
            "type": "scatterpolargl"
           }
          ],
          "scatterternary": [
           {
            "marker": {
             "colorbar": {
              "outlinewidth": 0,
              "ticks": ""
             }
            },
            "type": "scatterternary"
           }
          ],
          "surface": [
           {
            "colorbar": {
             "outlinewidth": 0,
             "ticks": ""
            },
            "colorscale": [
             [
              0,
              "#0d0887"
             ],
             [
              0.1111111111111111,
              "#46039f"
             ],
             [
              0.2222222222222222,
              "#7201a8"
             ],
             [
              0.3333333333333333,
              "#9c179e"
             ],
             [
              0.4444444444444444,
              "#bd3786"
             ],
             [
              0.5555555555555556,
              "#d8576b"
             ],
             [
              0.6666666666666666,
              "#ed7953"
             ],
             [
              0.7777777777777778,
              "#fb9f3a"
             ],
             [
              0.8888888888888888,
              "#fdca26"
             ],
             [
              1,
              "#f0f921"
             ]
            ],
            "type": "surface"
           }
          ],
          "table": [
           {
            "cells": {
             "fill": {
              "color": "#EBF0F8"
             },
             "line": {
              "color": "white"
             }
            },
            "header": {
             "fill": {
              "color": "#C8D4E3"
             },
             "line": {
              "color": "white"
             }
            },
            "type": "table"
           }
          ]
         },
         "layout": {
          "annotationdefaults": {
           "arrowcolor": "#2a3f5f",
           "arrowhead": 0,
           "arrowwidth": 1
          },
          "autotypenumbers": "strict",
          "coloraxis": {
           "colorbar": {
            "outlinewidth": 0,
            "ticks": ""
           }
          },
          "colorscale": {
           "diverging": [
            [
             0,
             "#8e0152"
            ],
            [
             0.1,
             "#c51b7d"
            ],
            [
             0.2,
             "#de77ae"
            ],
            [
             0.3,
             "#f1b6da"
            ],
            [
             0.4,
             "#fde0ef"
            ],
            [
             0.5,
             "#f7f7f7"
            ],
            [
             0.6,
             "#e6f5d0"
            ],
            [
             0.7,
             "#b8e186"
            ],
            [
             0.8,
             "#7fbc41"
            ],
            [
             0.9,
             "#4d9221"
            ],
            [
             1,
             "#276419"
            ]
           ],
           "sequential": [
            [
             0,
             "#0d0887"
            ],
            [
             0.1111111111111111,
             "#46039f"
            ],
            [
             0.2222222222222222,
             "#7201a8"
            ],
            [
             0.3333333333333333,
             "#9c179e"
            ],
            [
             0.4444444444444444,
             "#bd3786"
            ],
            [
             0.5555555555555556,
             "#d8576b"
            ],
            [
             0.6666666666666666,
             "#ed7953"
            ],
            [
             0.7777777777777778,
             "#fb9f3a"
            ],
            [
             0.8888888888888888,
             "#fdca26"
            ],
            [
             1,
             "#f0f921"
            ]
           ],
           "sequentialminus": [
            [
             0,
             "#0d0887"
            ],
            [
             0.1111111111111111,
             "#46039f"
            ],
            [
             0.2222222222222222,
             "#7201a8"
            ],
            [
             0.3333333333333333,
             "#9c179e"
            ],
            [
             0.4444444444444444,
             "#bd3786"
            ],
            [
             0.5555555555555556,
             "#d8576b"
            ],
            [
             0.6666666666666666,
             "#ed7953"
            ],
            [
             0.7777777777777778,
             "#fb9f3a"
            ],
            [
             0.8888888888888888,
             "#fdca26"
            ],
            [
             1,
             "#f0f921"
            ]
           ]
          },
          "colorway": [
           "#636efa",
           "#EF553B",
           "#00cc96",
           "#ab63fa",
           "#FFA15A",
           "#19d3f3",
           "#FF6692",
           "#B6E880",
           "#FF97FF",
           "#FECB52"
          ],
          "font": {
           "color": "#2a3f5f"
          },
          "geo": {
           "bgcolor": "white",
           "lakecolor": "white",
           "landcolor": "white",
           "showlakes": true,
           "showland": true,
           "subunitcolor": "#C8D4E3"
          },
          "hoverlabel": {
           "align": "left"
          },
          "hovermode": "closest",
          "mapbox": {
           "style": "light"
          },
          "paper_bgcolor": "white",
          "plot_bgcolor": "white",
          "polar": {
           "angularaxis": {
            "gridcolor": "#EBF0F8",
            "linecolor": "#EBF0F8",
            "ticks": ""
           },
           "bgcolor": "white",
           "radialaxis": {
            "gridcolor": "#EBF0F8",
            "linecolor": "#EBF0F8",
            "ticks": ""
           }
          },
          "scene": {
           "xaxis": {
            "backgroundcolor": "white",
            "gridcolor": "#DFE8F3",
            "gridwidth": 2,
            "linecolor": "#EBF0F8",
            "showbackground": true,
            "ticks": "",
            "zerolinecolor": "#EBF0F8"
           },
           "yaxis": {
            "backgroundcolor": "white",
            "gridcolor": "#DFE8F3",
            "gridwidth": 2,
            "linecolor": "#EBF0F8",
            "showbackground": true,
            "ticks": "",
            "zerolinecolor": "#EBF0F8"
           },
           "zaxis": {
            "backgroundcolor": "white",
            "gridcolor": "#DFE8F3",
            "gridwidth": 2,
            "linecolor": "#EBF0F8",
            "showbackground": true,
            "ticks": "",
            "zerolinecolor": "#EBF0F8"
           }
          },
          "shapedefaults": {
           "line": {
            "color": "#2a3f5f"
           }
          },
          "ternary": {
           "aaxis": {
            "gridcolor": "#DFE8F3",
            "linecolor": "#A2B1C6",
            "ticks": ""
           },
           "baxis": {
            "gridcolor": "#DFE8F3",
            "linecolor": "#A2B1C6",
            "ticks": ""
           },
           "bgcolor": "white",
           "caxis": {
            "gridcolor": "#DFE8F3",
            "linecolor": "#A2B1C6",
            "ticks": ""
           }
          },
          "title": {
           "x": 0.05
          },
          "xaxis": {
           "automargin": true,
           "gridcolor": "#EBF0F8",
           "linecolor": "#EBF0F8",
           "ticks": "",
           "title": {
            "standoff": 15
           },
           "zerolinecolor": "#EBF0F8",
           "zerolinewidth": 2
          },
          "yaxis": {
           "automargin": true,
           "gridcolor": "#EBF0F8",
           "linecolor": "#EBF0F8",
           "ticks": "",
           "title": {
            "standoff": 15
           },
           "zerolinecolor": "#EBF0F8",
           "zerolinewidth": 2
          }
         }
        },
        "title": {
         "text": "Energy vs Time"
        },
        "width": 400,
        "xaxis": {
         "dtick": 0.00002,
         "exponentformat": "power",
         "linecolor": "black",
         "linewidth": 1,
         "mirror": true,
         "showexponent": "last",
         "showgrid": false,
         "showline": true,
         "tickfont": {
          "size": 12
         },
         "ticks": "inside",
         "title": {
          "text": "Time (s)"
         },
         "zeroline": false
        },
        "yaxis": {
         "exponentformat": "power",
         "linecolor": "black",
         "linewidth": 1,
         "mirror": true,
         "showgrid": false,
         "showline": true,
         "tickfont": {
          "size": 12
         },
         "ticks": "inside",
         "title": {
          "text": "$\\mathcal{E}/\\mathcal{E}_\\text{inj}$"
         },
         "zeroline": false
        }
       }
      }
     },
     "metadata": {},
     "output_type": "display_data"
    }
   ],
   "source": [
    "inj_energy_final = data['work'][-1]+data['ekin'][0]+data['epot'][0]\n",
    "ekin = (data['ekin']) / inj_energy_final\n",
    "epot = (data['epot']+data['ekin']) / inj_energy_final\n",
    "erev = (data['erev']+data['epot']+data['ekin']) / inj_energy_final\n",
    "econ = (data['econ']+data['erev']+data['epot']+data['ekin']) / inj_energy_final\n",
    "edis = (data['edis']+data['econ']+data['erev']+data['epot']+data['ekin']) / inj_energy_final\n",
    "\n",
    "einj = (data['work']+data['ekin'][0]+data['epot'][0]) / inj_energy_final\n",
    "\n",
    "\n",
    "fig = go.Figure()\n",
    "\n",
    "fig.add_trace(go.Scatter(x=data['time'], y=ekin, mode='lines', name=r\"$\\mathcal{K}$\", fill='tozeroy', line=dict(color=colors[0]), fillcolor=fillcolors[0]))\n",
    "fig.add_trace(go.Scatter(x=data['time'], y=epot, mode='lines', name=r\"$\\mathcal{U}$\", fill='tonexty', line=dict(color=colors[1]), fillcolor=fillcolors[1]))\n",
    "fig.add_trace(go.Scatter(x=data['time'], y=erev, mode='lines', name=r\"$\\mathcal{R}$\", fill='tonexty', line=dict(color=colors[2]), fillcolor=fillcolors[2]))\n",
    "fig.add_trace(go.Scatter(x=data['time'], y=econ, mode='lines', name=r\"$\\mathcal{C}$\", fill='tonexty', line=dict(color=colors[3]), fillcolor=fillcolors[3]))\n",
    "fig.add_trace(go.Scatter(x=data['time'], y=edis, mode='lines', name=r\"$\\mathcal{G}$\", fill='tonexty', line=dict(color='lightgrey')))#, fillpattern=dict(shape='x')))\n",
    "fig.add_trace(go.Scatter(x=data['time'], y=einj, mode='lines', name=r\"$\\mathcal{W}_\\text{ext} + \\mathcal{E}_0$\", line=dict(dash='dot', color='black', width=2)))\n",
    "\n",
    "\n",
    "fig.update_layout(\n",
    "    title='Energy vs Time',\n",
    "    xaxis_title='Time (s)',\n",
    "    yaxis_title=r\"$\\mathcal{E}/\\mathcal{E}_\\text{inj}$\",\n",
    "    xaxis=dict(\n",
    "        showgrid=False,\n",
    "        showline=True,\n",
    "        linewidth=1,\n",
    "        linecolor='black',\n",
    "        mirror=True,\n",
    "        zeroline=False,\n",
    "        ticks='inside',\n",
    "        exponentformat='power',\n",
    "        showexponent='last',\n",
    "        tickfont=dict(size=12),\n",
    "        #range=[0, 1e-4],\n",
    "        dtick=2e-5,\n",
    "    ),\n",
    "    yaxis=dict(\n",
    "        showgrid=False,\n",
    "        showline=True,\n",
    "        linewidth=1,\n",
    "        linecolor='black',\n",
    "        mirror=True,\n",
    "        zeroline=False,\n",
    "        ticks='inside',\n",
    "        exponentformat='power',\n",
    "        tickfont=dict(size=12),\n",
    "        #range=[0, 2],  \n",
    "    ),\n",
    "    font=dict(\n",
    "        family=\"Latin-Modern\",\n",
    "        size=12,\n",
    "        color=\"Black\"\n",
    "    ),\n",
    "    legend=dict(\n",
    "        x=0.97,              # position from the left (0 to 1)\n",
    "        y=0.35,              # position from the bottom (0 to 1)\n",
    "        bgcolor='rgba(255, 255, 255, 0.8)',  # white with 80% opacity\n",
    "        bordercolor='black',\n",
    "        borderwidth=1,\n",
    "        orientation='h',   \n",
    "        xanchor='right',\n",
    "        yanchor='top',\n",
    "    ),\n",
    "    width=400, \n",
    "    height=400,\n",
    "    showlegend=False,\n",
    "    template=\"plotly_white\")\n",
    "\n",
    "fig.show()\n",
    "#fig.write_image(\"../output/plots/paper/energy_vs_time_unstable_t04.pdf\", width=400, height=400)"
   ]
  },
  {
   "cell_type": "code",
   "execution_count": 6,
   "id": "d2c3d4d8",
   "metadata": {},
   "outputs": [
    {
     "data": {
      "application/vnd.plotly.v1+json": {
       "config": {
        "plotlyServerURL": "https://plot.ly"
       },
       "data": [
        {
         "fill": "tozeroy",
         "fillcolor": "rgba(94, 79, 162,0.7)",
         "line": {
          "color": "rgb(94, 79, 162)",
          "width": 0
         },
         "mode": "lines",
         "name": "$\\mathcal{K}$",
         "type": "scatter",
         "x": [
          0,
          2.9537541117770825e-9,
          5.907508223554165e-9,
          8.861262335331248e-9,
          1.181501644710833e-8,
          1.4768770558885414e-8,
          1.7722524670662496e-8,
          2.067627878243958e-8,
          2.363003289421666e-8,
          2.6583787005993744e-8,
          2.9537541117770828e-8,
          3.249129522954791e-8,
          3.544504934132499e-8,
          3.8398803453102076e-8,
          4.135255756487916e-8,
          4.4306311676656243e-8,
          4.726006578843332e-8,
          5.0213819900210404e-8,
          5.316757401198749e-8,
          5.612132812376457e-8,
          5.9075082235541656e-8,
          6.202883634731873e-8,
          6.498259045909582e-8,
          6.79363445708729e-8,
          7.089009868264998e-8,
          7.384385279442707e-8,
          7.679760690620415e-8,
          7.975136101798124e-8,
          8.270511512975832e-8,
          8.56588692415354e-8,
          8.861262335331249e-8,
          9.156637746508956e-8
         ],
         "y": [
          0.9999998774679615,
          0.9998167259239866,
          0.9993557568787829,
          0.9987134286875149,
          0.9979869122541665,
          0.9972287554712642,
          0.996417277388416,
          0.9954588429060564,
          0.9942433096371454,
          0.9927048094426352,
          0.990856364005013,
          0.9887838678279184,
          0.9865977468857505,
          0.9843744759418811,
          0.9821197101583747,
          0.9797631921957316,
          0.9771950421810968,
          0.9743277363840385,
          0.9711438865007249,
          0.9677042052314581,
          0.9641160271662739,
          0.9604770479704182,
          0.956823271721984,
          0.9531103532159422,
          0.9492381798677968,
          0.9451052334192357,
          0.9406639637752318,
          0.9359469918750052,
          0.9310501568861653,
          0.9260821555375172,
          0.9211073292219154,
          0.9161119544715001
         ]
        },
        {
         "fill": "tonexty",
         "fillcolor": "rgba(50, 136, 189,0.7)",
         "line": {
          "color": "rgb(50, 136, 189)",
          "width": 0
         },
         "mode": "lines",
         "name": "$\\mathcal{U}$",
         "type": "scatter",
         "x": [
          0,
          2.9537541117770825e-9,
          5.907508223554165e-9,
          8.861262335331248e-9,
          1.181501644710833e-8,
          1.4768770558885414e-8,
          1.7722524670662496e-8,
          2.067627878243958e-8,
          2.363003289421666e-8,
          2.6583787005993744e-8,
          2.9537541117770828e-8,
          3.249129522954791e-8,
          3.544504934132499e-8,
          3.8398803453102076e-8,
          4.135255756487916e-8,
          4.4306311676656243e-8,
          4.726006578843332e-8,
          5.0213819900210404e-8,
          5.316757401198749e-8,
          5.612132812376457e-8,
          5.9075082235541656e-8,
          6.202883634731873e-8,
          6.498259045909582e-8,
          6.79363445708729e-8,
          7.089009868264998e-8,
          7.384385279442707e-8,
          7.679760690620415e-8,
          7.975136101798124e-8,
          8.270511512975832e-8,
          8.56588692415354e-8,
          8.861262335331249e-8,
          9.156637746508956e-8
         ],
         "y": [
          1,
          1.0000000041069212,
          1.0000000077416646,
          1.0000000120344512,
          1.0000000142907992,
          1.0000000133870637,
          1.0000000093343702,
          1.0000000045798627,
          1.0000000017547532,
          1.0000000023007005,
          1.000000006017853,
          1.000000010773,
          1.0000000140392429,
          1.0000000143007155,
          1.000000011280579,
          1.0000000065306007,
          1.000000002758441,
          1.0000000020181476,
          1.0000000046264679,
          1.0000000090034344,
          1.0000000132378863,
          1.0000000144080783,
          1.0000000124087205,
          1.0000000079537417,
          1.000000000324621,
          0.9999999900289566,
          0.9999999797949293,
          0.999999960124101,
          0.9999999427378399,
          0.9999999155395962,
          0.9999998689112524,
          0.9999997819293884
         ]
        },
        {
         "fill": "tonexty",
         "fillcolor": "rgba(136, 208, 164,0.7)",
         "line": {
          "color": "rgb(136, 208, 164)",
          "width": 0
         },
         "mode": "lines",
         "name": "$\\mathcal{R}$",
         "type": "scatter",
         "x": [
          0,
          2.9537541117770825e-9,
          5.907508223554165e-9,
          8.861262335331248e-9,
          1.181501644710833e-8,
          1.4768770558885414e-8,
          1.7722524670662496e-8,
          2.067627878243958e-8,
          2.363003289421666e-8,
          2.6583787005993744e-8,
          2.9537541117770828e-8,
          3.249129522954791e-8,
          3.544504934132499e-8,
          3.8398803453102076e-8,
          4.135255756487916e-8,
          4.4306311676656243e-8,
          4.726006578843332e-8,
          5.0213819900210404e-8,
          5.316757401198749e-8,
          5.612132812376457e-8,
          5.9075082235541656e-8,
          6.202883634731873e-8,
          6.498259045909582e-8,
          6.79363445708729e-8,
          7.089009868264998e-8,
          7.384385279442707e-8,
          7.679760690620415e-8,
          7.975136101798124e-8,
          8.270511512975832e-8,
          8.56588692415354e-8,
          8.861262335331249e-8,
          9.156637746508956e-8
         ],
         "y": [
          1,
          1.0000000041069212,
          1.0000000077416646,
          1.0000000120344512,
          1.0000000142907992,
          1.0000000133870637,
          1.0000000093343702,
          1.0000000045798627,
          1.0000000017547532,
          1.0000000023007005,
          1.000000006017853,
          1.000000010773,
          1.0000000140392429,
          1.0000000143007155,
          1.000000011280579,
          1.0000000065306007,
          1.000000002758441,
          1.0000000020181476,
          1.0000000046264679,
          1.0000000091643486,
          1.000000013360815,
          1.0000000148315358,
          1.000000012824152,
          1.000000008551385,
          1.000000002588064,
          0.9999999965465607,
          0.9999999921501319,
          0.9999999846491082,
          0.9999999786890449,
          0.9999999666493521,
          0.9999999442552896,
          0.9999999010838283
         ]
        },
        {
         "fill": "tonexty",
         "fillcolor": "rgba(200, 233, 158,0.7)",
         "line": {
          "color": "rgb(200, 233, 158)",
          "width": 0
         },
         "mode": "lines",
         "name": "$\\mathcal{C}$",
         "type": "scatter",
         "x": [
          0,
          2.9537541117770825e-9,
          5.907508223554165e-9,
          8.861262335331248e-9,
          1.181501644710833e-8,
          1.4768770558885414e-8,
          1.7722524670662496e-8,
          2.067627878243958e-8,
          2.363003289421666e-8,
          2.6583787005993744e-8,
          2.9537541117770828e-8,
          3.249129522954791e-8,
          3.544504934132499e-8,
          3.8398803453102076e-8,
          4.135255756487916e-8,
          4.4306311676656243e-8,
          4.726006578843332e-8,
          5.0213819900210404e-8,
          5.316757401198749e-8,
          5.612132812376457e-8,
          5.9075082235541656e-8,
          6.202883634731873e-8,
          6.498259045909582e-8,
          6.79363445708729e-8,
          7.089009868264998e-8,
          7.384385279442707e-8,
          7.679760690620415e-8,
          7.975136101798124e-8,
          8.270511512975832e-8,
          8.56588692415354e-8,
          8.861262335331249e-8,
          9.156637746508956e-8
         ],
         "y": [
          1,
          1.0000000041069212,
          1.0000000077416646,
          1.0000000120344512,
          1.0000000142907992,
          1.0000000133870637,
          1.0000000093343702,
          1.0000000045798627,
          1.0000000017547532,
          1.0000000023007005,
          1.000000006017853,
          1.000000010773,
          1.0000000140392429,
          1.0000000143007155,
          1.000000011280579,
          1.0000000065306007,
          1.000000002758441,
          1.0000000020181476,
          1.0000000046264679,
          1.0000000091643486,
          1.000000013360815,
          1.0000000148315358,
          1.000000012824152,
          1.000000008551385,
          1.000000002588064,
          0.9999999965465607,
          0.9999999921501319,
          0.9999999846491082,
          0.999999978689046,
          0.9999999666493521,
          0.9999999442552896,
          0.9999999010838283
         ]
        },
        {
         "fill": "tonexty",
         "line": {
          "color": "lightgrey",
          "width": 0
         },
         "mode": "lines",
         "name": "$\\mathcal{G}$",
         "type": "scatter",
         "x": [
          0,
          2.9537541117770825e-9,
          5.907508223554165e-9,
          8.861262335331248e-9,
          1.181501644710833e-8,
          1.4768770558885414e-8,
          1.7722524670662496e-8,
          2.067627878243958e-8,
          2.363003289421666e-8,
          2.6583787005993744e-8,
          2.9537541117770828e-8,
          3.249129522954791e-8,
          3.544504934132499e-8,
          3.8398803453102076e-8,
          4.135255756487916e-8,
          4.4306311676656243e-8,
          4.726006578843332e-8,
          5.0213819900210404e-8,
          5.316757401198749e-8,
          5.612132812376457e-8,
          5.9075082235541656e-8,
          6.202883634731873e-8,
          6.498259045909582e-8,
          6.79363445708729e-8,
          7.089009868264998e-8,
          7.384385279442707e-8,
          7.679760690620415e-8,
          7.975136101798124e-8,
          8.270511512975832e-8,
          8.56588692415354e-8,
          8.861262335331249e-8,
          9.156637746508956e-8
         ],
         "y": [
          1,
          1.0000000041069212,
          1.0000000077416646,
          1.0000000120344512,
          1.0000000142907992,
          1.0000000133870637,
          1.0000000093343702,
          1.0000000045798627,
          1.0000000017547532,
          1.0000000023007005,
          1.000000006017853,
          1.000000010773,
          1.0000000140392429,
          1.0000000143007155,
          1.000000011280579,
          1.0000000065306007,
          1.000000002758441,
          1.0000000020181476,
          1.0000000046264679,
          1.0000000092498484,
          1.000000013455372,
          1.0000000150070318,
          1.000000013100534,
          1.0000000088224226,
          1.0000000044209965,
          1.0000000023825826,
          1.0000000037811647,
          1.0000000079110078,
          1.000000012718141,
          1.000000015413846,
          1.0000000148871913,
          1.0000000113883483
         ]
        },
        {
         "line": {
          "color": "red",
          "dash": "solid",
          "width": 2
         },
         "mode": "lines",
         "name": "$\\mathcal{E}_\\text{tot}$",
         "type": "scatter",
         "x": [
          0,
          2.9537541117770825e-9,
          5.907508223554165e-9,
          8.861262335331248e-9,
          1.181501644710833e-8,
          1.4768770558885414e-8,
          1.7722524670662496e-8,
          2.067627878243958e-8,
          2.363003289421666e-8,
          2.6583787005993744e-8,
          2.9537541117770828e-8,
          3.249129522954791e-8,
          3.544504934132499e-8,
          3.8398803453102076e-8,
          4.135255756487916e-8,
          4.4306311676656243e-8,
          4.726006578843332e-8,
          5.0213819900210404e-8,
          5.316757401198749e-8,
          5.612132812376457e-8,
          5.9075082235541656e-8,
          6.202883634731873e-8,
          6.498259045909582e-8,
          6.79363445708729e-8,
          7.089009868264998e-8,
          7.384385279442707e-8,
          7.679760690620415e-8,
          7.975136101798124e-8,
          8.270511512975832e-8,
          8.56588692415354e-8,
          8.861262335331249e-8,
          9.156637746508956e-8
         ],
         "y": [
          1,
          1.0000000041069212,
          1.0000000077416646,
          1.0000000120344512,
          1.0000000142907992,
          1.0000000133870637,
          1.0000000093343702,
          1.0000000045798627,
          1.0000000017547532,
          1.0000000023007005,
          1.000000006017853,
          1.000000010773,
          1.0000000140392429,
          1.0000000143007155,
          1.000000011280579,
          1.0000000065306007,
          1.000000002758441,
          1.0000000020181476,
          1.0000000046264679,
          1.0000000092498484,
          1.000000013455372,
          1.0000000150070318,
          1.000000013100534,
          1.0000000088224226,
          1.0000000044209965,
          1.0000000023825826,
          1.0000000037811647,
          1.0000000079110078,
          1.000000012718141,
          1.000000015413846,
          1.0000000148871913,
          1.0000000113883483
         ]
        },
        {
         "line": {
          "color": "black",
          "dash": "dot",
          "width": 2
         },
         "mode": "lines",
         "name": "$\\mathcal{W}_\\text{ext} + \\mathcal{E}_0$",
         "type": "scatter",
         "x": [
          0,
          2.9537541117770825e-9,
          5.907508223554165e-9,
          8.861262335331248e-9,
          1.181501644710833e-8,
          1.4768770558885414e-8,
          1.7722524670662496e-8,
          2.067627878243958e-8,
          2.363003289421666e-8,
          2.6583787005993744e-8,
          2.9537541117770828e-8,
          3.249129522954791e-8,
          3.544504934132499e-8,
          3.8398803453102076e-8,
          4.135255756487916e-8,
          4.4306311676656243e-8,
          4.726006578843332e-8,
          5.0213819900210404e-8,
          5.316757401198749e-8,
          5.612132812376457e-8,
          5.9075082235541656e-8,
          6.202883634731873e-8,
          6.498259045909582e-8,
          6.79363445708729e-8,
          7.089009868264998e-8,
          7.384385279442707e-8,
          7.679760690620415e-8,
          7.975136101798124e-8,
          8.270511512975832e-8,
          8.56588692415354e-8,
          8.861262335331249e-8,
          9.156637746508956e-8
         ],
         "y": [
          1,
          1,
          1,
          1,
          1,
          1,
          1,
          1,
          1,
          1,
          1,
          1,
          1,
          1,
          1,
          1,
          1,
          1,
          1,
          1,
          1,
          1,
          1,
          1,
          1,
          1,
          1,
          1,
          1,
          1,
          1,
          1
         ]
        }
       ],
       "layout": {
        "font": {
         "color": "Black",
         "family": "Latin-Modern",
         "size": 12
        },
        "height": 400,
        "legend": {
         "bgcolor": "rgba(255, 255, 255, 0.8)",
         "bordercolor": "black",
         "borderwidth": 1,
         "orientation": "h",
         "x": 0.97,
         "xanchor": "right",
         "y": 1.05,
         "yanchor": "top"
        },
        "showlegend": false,
        "template": {
         "data": {
          "bar": [
           {
            "error_x": {
             "color": "#2a3f5f"
            },
            "error_y": {
             "color": "#2a3f5f"
            },
            "marker": {
             "line": {
              "color": "white",
              "width": 0.5
             },
             "pattern": {
              "fillmode": "overlay",
              "size": 10,
              "solidity": 0.2
             }
            },
            "type": "bar"
           }
          ],
          "barpolar": [
           {
            "marker": {
             "line": {
              "color": "white",
              "width": 0.5
             },
             "pattern": {
              "fillmode": "overlay",
              "size": 10,
              "solidity": 0.2
             }
            },
            "type": "barpolar"
           }
          ],
          "carpet": [
           {
            "aaxis": {
             "endlinecolor": "#2a3f5f",
             "gridcolor": "#C8D4E3",
             "linecolor": "#C8D4E3",
             "minorgridcolor": "#C8D4E3",
             "startlinecolor": "#2a3f5f"
            },
            "baxis": {
             "endlinecolor": "#2a3f5f",
             "gridcolor": "#C8D4E3",
             "linecolor": "#C8D4E3",
             "minorgridcolor": "#C8D4E3",
             "startlinecolor": "#2a3f5f"
            },
            "type": "carpet"
           }
          ],
          "choropleth": [
           {
            "colorbar": {
             "outlinewidth": 0,
             "ticks": ""
            },
            "type": "choropleth"
           }
          ],
          "contour": [
           {
            "colorbar": {
             "outlinewidth": 0,
             "ticks": ""
            },
            "colorscale": [
             [
              0,
              "#0d0887"
             ],
             [
              0.1111111111111111,
              "#46039f"
             ],
             [
              0.2222222222222222,
              "#7201a8"
             ],
             [
              0.3333333333333333,
              "#9c179e"
             ],
             [
              0.4444444444444444,
              "#bd3786"
             ],
             [
              0.5555555555555556,
              "#d8576b"
             ],
             [
              0.6666666666666666,
              "#ed7953"
             ],
             [
              0.7777777777777778,
              "#fb9f3a"
             ],
             [
              0.8888888888888888,
              "#fdca26"
             ],
             [
              1,
              "#f0f921"
             ]
            ],
            "type": "contour"
           }
          ],
          "contourcarpet": [
           {
            "colorbar": {
             "outlinewidth": 0,
             "ticks": ""
            },
            "type": "contourcarpet"
           }
          ],
          "heatmap": [
           {
            "colorbar": {
             "outlinewidth": 0,
             "ticks": ""
            },
            "colorscale": [
             [
              0,
              "#0d0887"
             ],
             [
              0.1111111111111111,
              "#46039f"
             ],
             [
              0.2222222222222222,
              "#7201a8"
             ],
             [
              0.3333333333333333,
              "#9c179e"
             ],
             [
              0.4444444444444444,
              "#bd3786"
             ],
             [
              0.5555555555555556,
              "#d8576b"
             ],
             [
              0.6666666666666666,
              "#ed7953"
             ],
             [
              0.7777777777777778,
              "#fb9f3a"
             ],
             [
              0.8888888888888888,
              "#fdca26"
             ],
             [
              1,
              "#f0f921"
             ]
            ],
            "type": "heatmap"
           }
          ],
          "heatmapgl": [
           {
            "colorbar": {
             "outlinewidth": 0,
             "ticks": ""
            },
            "colorscale": [
             [
              0,
              "#0d0887"
             ],
             [
              0.1111111111111111,
              "#46039f"
             ],
             [
              0.2222222222222222,
              "#7201a8"
             ],
             [
              0.3333333333333333,
              "#9c179e"
             ],
             [
              0.4444444444444444,
              "#bd3786"
             ],
             [
              0.5555555555555556,
              "#d8576b"
             ],
             [
              0.6666666666666666,
              "#ed7953"
             ],
             [
              0.7777777777777778,
              "#fb9f3a"
             ],
             [
              0.8888888888888888,
              "#fdca26"
             ],
             [
              1,
              "#f0f921"
             ]
            ],
            "type": "heatmapgl"
           }
          ],
          "histogram": [
           {
            "marker": {
             "pattern": {
              "fillmode": "overlay",
              "size": 10,
              "solidity": 0.2
             }
            },
            "type": "histogram"
           }
          ],
          "histogram2d": [
           {
            "colorbar": {
             "outlinewidth": 0,
             "ticks": ""
            },
            "colorscale": [
             [
              0,
              "#0d0887"
             ],
             [
              0.1111111111111111,
              "#46039f"
             ],
             [
              0.2222222222222222,
              "#7201a8"
             ],
             [
              0.3333333333333333,
              "#9c179e"
             ],
             [
              0.4444444444444444,
              "#bd3786"
             ],
             [
              0.5555555555555556,
              "#d8576b"
             ],
             [
              0.6666666666666666,
              "#ed7953"
             ],
             [
              0.7777777777777778,
              "#fb9f3a"
             ],
             [
              0.8888888888888888,
              "#fdca26"
             ],
             [
              1,
              "#f0f921"
             ]
            ],
            "type": "histogram2d"
           }
          ],
          "histogram2dcontour": [
           {
            "colorbar": {
             "outlinewidth": 0,
             "ticks": ""
            },
            "colorscale": [
             [
              0,
              "#0d0887"
             ],
             [
              0.1111111111111111,
              "#46039f"
             ],
             [
              0.2222222222222222,
              "#7201a8"
             ],
             [
              0.3333333333333333,
              "#9c179e"
             ],
             [
              0.4444444444444444,
              "#bd3786"
             ],
             [
              0.5555555555555556,
              "#d8576b"
             ],
             [
              0.6666666666666666,
              "#ed7953"
             ],
             [
              0.7777777777777778,
              "#fb9f3a"
             ],
             [
              0.8888888888888888,
              "#fdca26"
             ],
             [
              1,
              "#f0f921"
             ]
            ],
            "type": "histogram2dcontour"
           }
          ],
          "mesh3d": [
           {
            "colorbar": {
             "outlinewidth": 0,
             "ticks": ""
            },
            "type": "mesh3d"
           }
          ],
          "parcoords": [
           {
            "line": {
             "colorbar": {
              "outlinewidth": 0,
              "ticks": ""
             }
            },
            "type": "parcoords"
           }
          ],
          "pie": [
           {
            "automargin": true,
            "type": "pie"
           }
          ],
          "scatter": [
           {
            "fillpattern": {
             "fillmode": "overlay",
             "size": 10,
             "solidity": 0.2
            },
            "type": "scatter"
           }
          ],
          "scatter3d": [
           {
            "line": {
             "colorbar": {
              "outlinewidth": 0,
              "ticks": ""
             }
            },
            "marker": {
             "colorbar": {
              "outlinewidth": 0,
              "ticks": ""
             }
            },
            "type": "scatter3d"
           }
          ],
          "scattercarpet": [
           {
            "marker": {
             "colorbar": {
              "outlinewidth": 0,
              "ticks": ""
             }
            },
            "type": "scattercarpet"
           }
          ],
          "scattergeo": [
           {
            "marker": {
             "colorbar": {
              "outlinewidth": 0,
              "ticks": ""
             }
            },
            "type": "scattergeo"
           }
          ],
          "scattergl": [
           {
            "marker": {
             "colorbar": {
              "outlinewidth": 0,
              "ticks": ""
             }
            },
            "type": "scattergl"
           }
          ],
          "scattermapbox": [
           {
            "marker": {
             "colorbar": {
              "outlinewidth": 0,
              "ticks": ""
             }
            },
            "type": "scattermapbox"
           }
          ],
          "scatterpolar": [
           {
            "marker": {
             "colorbar": {
              "outlinewidth": 0,
              "ticks": ""
             }
            },
            "type": "scatterpolar"
           }
          ],
          "scatterpolargl": [
           {
            "marker": {
             "colorbar": {
              "outlinewidth": 0,
              "ticks": ""
             }
            },
            "type": "scatterpolargl"
           }
          ],
          "scatterternary": [
           {
            "marker": {
             "colorbar": {
              "outlinewidth": 0,
              "ticks": ""
             }
            },
            "type": "scatterternary"
           }
          ],
          "surface": [
           {
            "colorbar": {
             "outlinewidth": 0,
             "ticks": ""
            },
            "colorscale": [
             [
              0,
              "#0d0887"
             ],
             [
              0.1111111111111111,
              "#46039f"
             ],
             [
              0.2222222222222222,
              "#7201a8"
             ],
             [
              0.3333333333333333,
              "#9c179e"
             ],
             [
              0.4444444444444444,
              "#bd3786"
             ],
             [
              0.5555555555555556,
              "#d8576b"
             ],
             [
              0.6666666666666666,
              "#ed7953"
             ],
             [
              0.7777777777777778,
              "#fb9f3a"
             ],
             [
              0.8888888888888888,
              "#fdca26"
             ],
             [
              1,
              "#f0f921"
             ]
            ],
            "type": "surface"
           }
          ],
          "table": [
           {
            "cells": {
             "fill": {
              "color": "#EBF0F8"
             },
             "line": {
              "color": "white"
             }
            },
            "header": {
             "fill": {
              "color": "#C8D4E3"
             },
             "line": {
              "color": "white"
             }
            },
            "type": "table"
           }
          ]
         },
         "layout": {
          "annotationdefaults": {
           "arrowcolor": "#2a3f5f",
           "arrowhead": 0,
           "arrowwidth": 1
          },
          "autotypenumbers": "strict",
          "coloraxis": {
           "colorbar": {
            "outlinewidth": 0,
            "ticks": ""
           }
          },
          "colorscale": {
           "diverging": [
            [
             0,
             "#8e0152"
            ],
            [
             0.1,
             "#c51b7d"
            ],
            [
             0.2,
             "#de77ae"
            ],
            [
             0.3,
             "#f1b6da"
            ],
            [
             0.4,
             "#fde0ef"
            ],
            [
             0.5,
             "#f7f7f7"
            ],
            [
             0.6,
             "#e6f5d0"
            ],
            [
             0.7,
             "#b8e186"
            ],
            [
             0.8,
             "#7fbc41"
            ],
            [
             0.9,
             "#4d9221"
            ],
            [
             1,
             "#276419"
            ]
           ],
           "sequential": [
            [
             0,
             "#0d0887"
            ],
            [
             0.1111111111111111,
             "#46039f"
            ],
            [
             0.2222222222222222,
             "#7201a8"
            ],
            [
             0.3333333333333333,
             "#9c179e"
            ],
            [
             0.4444444444444444,
             "#bd3786"
            ],
            [
             0.5555555555555556,
             "#d8576b"
            ],
            [
             0.6666666666666666,
             "#ed7953"
            ],
            [
             0.7777777777777778,
             "#fb9f3a"
            ],
            [
             0.8888888888888888,
             "#fdca26"
            ],
            [
             1,
             "#f0f921"
            ]
           ],
           "sequentialminus": [
            [
             0,
             "#0d0887"
            ],
            [
             0.1111111111111111,
             "#46039f"
            ],
            [
             0.2222222222222222,
             "#7201a8"
            ],
            [
             0.3333333333333333,
             "#9c179e"
            ],
            [
             0.4444444444444444,
             "#bd3786"
            ],
            [
             0.5555555555555556,
             "#d8576b"
            ],
            [
             0.6666666666666666,
             "#ed7953"
            ],
            [
             0.7777777777777778,
             "#fb9f3a"
            ],
            [
             0.8888888888888888,
             "#fdca26"
            ],
            [
             1,
             "#f0f921"
            ]
           ]
          },
          "colorway": [
           "#636efa",
           "#EF553B",
           "#00cc96",
           "#ab63fa",
           "#FFA15A",
           "#19d3f3",
           "#FF6692",
           "#B6E880",
           "#FF97FF",
           "#FECB52"
          ],
          "font": {
           "color": "#2a3f5f"
          },
          "geo": {
           "bgcolor": "white",
           "lakecolor": "white",
           "landcolor": "white",
           "showlakes": true,
           "showland": true,
           "subunitcolor": "#C8D4E3"
          },
          "hoverlabel": {
           "align": "left"
          },
          "hovermode": "closest",
          "mapbox": {
           "style": "light"
          },
          "paper_bgcolor": "white",
          "plot_bgcolor": "white",
          "polar": {
           "angularaxis": {
            "gridcolor": "#EBF0F8",
            "linecolor": "#EBF0F8",
            "ticks": ""
           },
           "bgcolor": "white",
           "radialaxis": {
            "gridcolor": "#EBF0F8",
            "linecolor": "#EBF0F8",
            "ticks": ""
           }
          },
          "scene": {
           "xaxis": {
            "backgroundcolor": "white",
            "gridcolor": "#DFE8F3",
            "gridwidth": 2,
            "linecolor": "#EBF0F8",
            "showbackground": true,
            "ticks": "",
            "zerolinecolor": "#EBF0F8"
           },
           "yaxis": {
            "backgroundcolor": "white",
            "gridcolor": "#DFE8F3",
            "gridwidth": 2,
            "linecolor": "#EBF0F8",
            "showbackground": true,
            "ticks": "",
            "zerolinecolor": "#EBF0F8"
           },
           "zaxis": {
            "backgroundcolor": "white",
            "gridcolor": "#DFE8F3",
            "gridwidth": 2,
            "linecolor": "#EBF0F8",
            "showbackground": true,
            "ticks": "",
            "zerolinecolor": "#EBF0F8"
           }
          },
          "shapedefaults": {
           "line": {
            "color": "#2a3f5f"
           }
          },
          "ternary": {
           "aaxis": {
            "gridcolor": "#DFE8F3",
            "linecolor": "#A2B1C6",
            "ticks": ""
           },
           "baxis": {
            "gridcolor": "#DFE8F3",
            "linecolor": "#A2B1C6",
            "ticks": ""
           },
           "bgcolor": "white",
           "caxis": {
            "gridcolor": "#DFE8F3",
            "linecolor": "#A2B1C6",
            "ticks": ""
           }
          },
          "title": {
           "x": 0.05
          },
          "xaxis": {
           "automargin": true,
           "gridcolor": "#EBF0F8",
           "linecolor": "#EBF0F8",
           "ticks": "",
           "title": {
            "standoff": 15
           },
           "zerolinecolor": "#EBF0F8",
           "zerolinewidth": 2
          },
          "yaxis": {
           "automargin": true,
           "gridcolor": "#EBF0F8",
           "linecolor": "#EBF0F8",
           "ticks": "",
           "title": {
            "standoff": 15
           },
           "zerolinecolor": "#EBF0F8",
           "zerolinewidth": 2
          }
         }
        },
        "title": {
         "text": "Energy vs Time"
        },
        "width": 400,
        "xaxis": {
         "dtick": 5e-7,
         "exponentformat": "power",
         "linecolor": "black",
         "linewidth": 1,
         "mirror": true,
         "showexponent": "last",
         "showgrid": false,
         "showline": true,
         "side": "top",
         "tickfont": {
          "size": 12
         },
         "ticks": "inside",
         "title": {
          "text": "Time (s)"
         },
         "zeroline": false
        },
        "yaxis": {
         "exponentformat": "power",
         "linecolor": "black",
         "linewidth": 1,
         "mirror": true,
         "showgrid": false,
         "showline": true,
         "tickfont": {
          "size": 12
         },
         "ticks": "inside",
         "title": {
          "text": "$\\mathcal{E}/\\mathcal{E}_\\text{inj}$"
         },
         "zeroline": false
        }
       }
      }
     },
     "metadata": {},
     "output_type": "display_data"
    }
   ],
   "source": [
    "inj_energy_final = data['work'][-1]+data['ekin'][0]+data['epot'][0]\n",
    "ekin = (data['ekin']) / inj_energy_final\n",
    "epot = (data['epot']+data['ekin']) / inj_energy_final\n",
    "erev = (data['erev']+data['epot']+data['ekin']) / inj_energy_final\n",
    "econ = (data['econ']+data['erev']+data['epot']+data['ekin']) / inj_energy_final\n",
    "edis = (data['edis']+data['econ']+data['erev']+data['epot']+data['ekin']) / inj_energy_final\n",
    "\n",
    "einj = (data['work']+data['ekin'][0]+data['epot'][0]) / inj_energy_final\n",
    "\n",
    "\n",
    "fig = go.Figure()\n",
    "\n",
    "fig.add_trace(go.Scatter(x=data['time'], y=ekin, mode='lines', name=r\"$\\mathcal{K}$\", fill='tozeroy', line=dict(color=colors[0], width=0), fillcolor=fillcolors[0]))\n",
    "fig.add_trace(go.Scatter(x=data['time'], y=epot, mode='lines', name=r\"$\\mathcal{U}$\", fill='tonexty', line=dict(color=colors[1], width=0), fillcolor=fillcolors[1]))\n",
    "fig.add_trace(go.Scatter(x=data['time'], y=erev, mode='lines', name=r\"$\\mathcal{R}$\", fill='tonexty', line=dict(color=colors[2], width=0), fillcolor=fillcolors[2]))\n",
    "fig.add_trace(go.Scatter(x=data['time'], y=econ, mode='lines', name=r\"$\\mathcal{C}$\", fill='tonexty', line=dict(color=colors[3], width=0), fillcolor=fillcolors[3]))\n",
    "fig.add_trace(go.Scatter(x=data['time'], y=edis, mode='lines', name=r\"$\\mathcal{G}$\", fill='tonexty', line=dict(color='lightgrey', width=0)))#, fillpattern=dict(shape='x')))\n",
    "fig.add_trace(go.Scatter(x=data['time'], y=edis, mode='lines', name=r\"$\\mathcal{E}_\\text{tot}$\", line=dict(dash='solid', color='red', width=2)))#, fillpattern=dict(shape='x')))\n",
    "fig.add_trace(go.Scatter(x=data['time'], y=einj, mode='lines', name=r\"$\\mathcal{W}_\\text{ext} + \\mathcal{E}_0$\", line=dict(dash='dot', color='black', width=2)))\n",
    "\n",
    "\n",
    "fig.update_layout(\n",
    "    title='Energy vs Time',\n",
    "    xaxis_title='Time (s)',\n",
    "    yaxis_title=r\"$\\mathcal{E}/\\mathcal{E}_\\text{inj}$\",\n",
    "    xaxis=dict(\n",
    "        showgrid=False,\n",
    "        showline=True,\n",
    "        linewidth=1,\n",
    "        linecolor='black',\n",
    "        mirror=True,\n",
    "        zeroline=False,\n",
    "        ticks='inside',\n",
    "        exponentformat='power',\n",
    "        showexponent='last',\n",
    "        tickfont=dict(size=12),\n",
    "        #range=[0, 1e-6],\n",
    "        dtick=5e-7,\n",
    "        side='top',\n",
    "    ),\n",
    "    yaxis=dict(\n",
    "        showgrid=False,\n",
    "        showline=True,\n",
    "        linewidth=1,\n",
    "        linecolor='black',\n",
    "        mirror=True,\n",
    "        zeroline=False,\n",
    "        ticks='inside',\n",
    "        exponentformat='power',\n",
    "        tickfont=dict(size=12),\n",
    "        #range=[0, 1.1],  \n",
    "    ),\n",
    "    font=dict(\n",
    "        family=\"Latin-Modern\",\n",
    "        size=12,\n",
    "        color=\"Black\"\n",
    "    ),\n",
    "    legend=dict(\n",
    "        x=0.97,              # position from the left (0 to 1)\n",
    "        y=1.05,              # position from the bottom (0 to 1)\n",
    "        bgcolor='rgba(255, 255, 255, 0.8)',  # white with 80% opacity\n",
    "        bordercolor='black',\n",
    "        borderwidth=1,\n",
    "        orientation='h',   \n",
    "        xanchor='right',\n",
    "        yanchor='top',\n",
    "    ),\n",
    "    width=400, \n",
    "    height=400,\n",
    "    showlegend=False,\n",
    "    template=\"plotly_white\")\n",
    "\n",
    "fig.show()\n",
    "#fig.write_image(\"../output/plots/paper/energy_vs_time_unstable_t04_zoom_v2.pdf\", width=250, height=260)"
   ]
  },
  {
   "cell_type": "markdown",
   "metadata": {},
   "source": [
    "### Number of fragments"
   ]
  },
  {
   "cell_type": "code",
   "execution_count": 7,
   "metadata": {},
   "outputs": [
    {
     "data": {
      "application/vnd.plotly.v1+json": {
       "config": {
        "plotlyServerURL": "https://plot.ly"
       },
       "data": [
        {
         "line": {
          "color": "black",
          "width": 2
         },
         "mode": "lines",
         "name": "Number of Fragments",
         "type": "scatter",
         "x": [
          0,
          2.9537541117770825e-9,
          5.907508223554165e-9,
          8.861262335331248e-9,
          1.181501644710833e-8,
          1.4768770558885414e-8,
          1.7722524670662496e-8,
          2.067627878243958e-8,
          2.363003289421666e-8,
          2.6583787005993744e-8,
          2.9537541117770828e-8,
          3.249129522954791e-8,
          3.544504934132499e-8,
          3.8398803453102076e-8,
          4.135255756487916e-8,
          4.4306311676656243e-8,
          4.726006578843332e-8,
          5.0213819900210404e-8,
          5.316757401198749e-8,
          5.612132812376457e-8,
          5.9075082235541656e-8,
          6.202883634731873e-8,
          6.498259045909582e-8,
          6.79363445708729e-8,
          7.089009868264998e-8,
          7.384385279442707e-8,
          7.679760690620415e-8,
          7.975136101798124e-8,
          8.270511512975832e-8,
          8.56588692415354e-8,
          8.861262335331249e-8,
          9.156637746508956e-8
         ],
         "y": [
          1,
          1,
          1,
          1,
          1,
          1,
          1,
          1,
          1,
          1,
          1,
          1,
          1,
          1,
          1,
          1,
          1,
          1,
          1,
          1,
          1,
          1,
          1,
          1,
          1,
          1,
          1,
          1,
          1,
          1,
          1,
          1
         ]
        }
       ],
       "layout": {
        "font": {
         "color": "Black",
         "family": "Latin-Modern",
         "size": 12
        },
        "height": 400,
        "showlegend": false,
        "template": {
         "data": {
          "bar": [
           {
            "error_x": {
             "color": "#2a3f5f"
            },
            "error_y": {
             "color": "#2a3f5f"
            },
            "marker": {
             "line": {
              "color": "white",
              "width": 0.5
             },
             "pattern": {
              "fillmode": "overlay",
              "size": 10,
              "solidity": 0.2
             }
            },
            "type": "bar"
           }
          ],
          "barpolar": [
           {
            "marker": {
             "line": {
              "color": "white",
              "width": 0.5
             },
             "pattern": {
              "fillmode": "overlay",
              "size": 10,
              "solidity": 0.2
             }
            },
            "type": "barpolar"
           }
          ],
          "carpet": [
           {
            "aaxis": {
             "endlinecolor": "#2a3f5f",
             "gridcolor": "#C8D4E3",
             "linecolor": "#C8D4E3",
             "minorgridcolor": "#C8D4E3",
             "startlinecolor": "#2a3f5f"
            },
            "baxis": {
             "endlinecolor": "#2a3f5f",
             "gridcolor": "#C8D4E3",
             "linecolor": "#C8D4E3",
             "minorgridcolor": "#C8D4E3",
             "startlinecolor": "#2a3f5f"
            },
            "type": "carpet"
           }
          ],
          "choropleth": [
           {
            "colorbar": {
             "outlinewidth": 0,
             "ticks": ""
            },
            "type": "choropleth"
           }
          ],
          "contour": [
           {
            "colorbar": {
             "outlinewidth": 0,
             "ticks": ""
            },
            "colorscale": [
             [
              0,
              "#0d0887"
             ],
             [
              0.1111111111111111,
              "#46039f"
             ],
             [
              0.2222222222222222,
              "#7201a8"
             ],
             [
              0.3333333333333333,
              "#9c179e"
             ],
             [
              0.4444444444444444,
              "#bd3786"
             ],
             [
              0.5555555555555556,
              "#d8576b"
             ],
             [
              0.6666666666666666,
              "#ed7953"
             ],
             [
              0.7777777777777778,
              "#fb9f3a"
             ],
             [
              0.8888888888888888,
              "#fdca26"
             ],
             [
              1,
              "#f0f921"
             ]
            ],
            "type": "contour"
           }
          ],
          "contourcarpet": [
           {
            "colorbar": {
             "outlinewidth": 0,
             "ticks": ""
            },
            "type": "contourcarpet"
           }
          ],
          "heatmap": [
           {
            "colorbar": {
             "outlinewidth": 0,
             "ticks": ""
            },
            "colorscale": [
             [
              0,
              "#0d0887"
             ],
             [
              0.1111111111111111,
              "#46039f"
             ],
             [
              0.2222222222222222,
              "#7201a8"
             ],
             [
              0.3333333333333333,
              "#9c179e"
             ],
             [
              0.4444444444444444,
              "#bd3786"
             ],
             [
              0.5555555555555556,
              "#d8576b"
             ],
             [
              0.6666666666666666,
              "#ed7953"
             ],
             [
              0.7777777777777778,
              "#fb9f3a"
             ],
             [
              0.8888888888888888,
              "#fdca26"
             ],
             [
              1,
              "#f0f921"
             ]
            ],
            "type": "heatmap"
           }
          ],
          "heatmapgl": [
           {
            "colorbar": {
             "outlinewidth": 0,
             "ticks": ""
            },
            "colorscale": [
             [
              0,
              "#0d0887"
             ],
             [
              0.1111111111111111,
              "#46039f"
             ],
             [
              0.2222222222222222,
              "#7201a8"
             ],
             [
              0.3333333333333333,
              "#9c179e"
             ],
             [
              0.4444444444444444,
              "#bd3786"
             ],
             [
              0.5555555555555556,
              "#d8576b"
             ],
             [
              0.6666666666666666,
              "#ed7953"
             ],
             [
              0.7777777777777778,
              "#fb9f3a"
             ],
             [
              0.8888888888888888,
              "#fdca26"
             ],
             [
              1,
              "#f0f921"
             ]
            ],
            "type": "heatmapgl"
           }
          ],
          "histogram": [
           {
            "marker": {
             "pattern": {
              "fillmode": "overlay",
              "size": 10,
              "solidity": 0.2
             }
            },
            "type": "histogram"
           }
          ],
          "histogram2d": [
           {
            "colorbar": {
             "outlinewidth": 0,
             "ticks": ""
            },
            "colorscale": [
             [
              0,
              "#0d0887"
             ],
             [
              0.1111111111111111,
              "#46039f"
             ],
             [
              0.2222222222222222,
              "#7201a8"
             ],
             [
              0.3333333333333333,
              "#9c179e"
             ],
             [
              0.4444444444444444,
              "#bd3786"
             ],
             [
              0.5555555555555556,
              "#d8576b"
             ],
             [
              0.6666666666666666,
              "#ed7953"
             ],
             [
              0.7777777777777778,
              "#fb9f3a"
             ],
             [
              0.8888888888888888,
              "#fdca26"
             ],
             [
              1,
              "#f0f921"
             ]
            ],
            "type": "histogram2d"
           }
          ],
          "histogram2dcontour": [
           {
            "colorbar": {
             "outlinewidth": 0,
             "ticks": ""
            },
            "colorscale": [
             [
              0,
              "#0d0887"
             ],
             [
              0.1111111111111111,
              "#46039f"
             ],
             [
              0.2222222222222222,
              "#7201a8"
             ],
             [
              0.3333333333333333,
              "#9c179e"
             ],
             [
              0.4444444444444444,
              "#bd3786"
             ],
             [
              0.5555555555555556,
              "#d8576b"
             ],
             [
              0.6666666666666666,
              "#ed7953"
             ],
             [
              0.7777777777777778,
              "#fb9f3a"
             ],
             [
              0.8888888888888888,
              "#fdca26"
             ],
             [
              1,
              "#f0f921"
             ]
            ],
            "type": "histogram2dcontour"
           }
          ],
          "mesh3d": [
           {
            "colorbar": {
             "outlinewidth": 0,
             "ticks": ""
            },
            "type": "mesh3d"
           }
          ],
          "parcoords": [
           {
            "line": {
             "colorbar": {
              "outlinewidth": 0,
              "ticks": ""
             }
            },
            "type": "parcoords"
           }
          ],
          "pie": [
           {
            "automargin": true,
            "type": "pie"
           }
          ],
          "scatter": [
           {
            "fillpattern": {
             "fillmode": "overlay",
             "size": 10,
             "solidity": 0.2
            },
            "type": "scatter"
           }
          ],
          "scatter3d": [
           {
            "line": {
             "colorbar": {
              "outlinewidth": 0,
              "ticks": ""
             }
            },
            "marker": {
             "colorbar": {
              "outlinewidth": 0,
              "ticks": ""
             }
            },
            "type": "scatter3d"
           }
          ],
          "scattercarpet": [
           {
            "marker": {
             "colorbar": {
              "outlinewidth": 0,
              "ticks": ""
             }
            },
            "type": "scattercarpet"
           }
          ],
          "scattergeo": [
           {
            "marker": {
             "colorbar": {
              "outlinewidth": 0,
              "ticks": ""
             }
            },
            "type": "scattergeo"
           }
          ],
          "scattergl": [
           {
            "marker": {
             "colorbar": {
              "outlinewidth": 0,
              "ticks": ""
             }
            },
            "type": "scattergl"
           }
          ],
          "scattermapbox": [
           {
            "marker": {
             "colorbar": {
              "outlinewidth": 0,
              "ticks": ""
             }
            },
            "type": "scattermapbox"
           }
          ],
          "scatterpolar": [
           {
            "marker": {
             "colorbar": {
              "outlinewidth": 0,
              "ticks": ""
             }
            },
            "type": "scatterpolar"
           }
          ],
          "scatterpolargl": [
           {
            "marker": {
             "colorbar": {
              "outlinewidth": 0,
              "ticks": ""
             }
            },
            "type": "scatterpolargl"
           }
          ],
          "scatterternary": [
           {
            "marker": {
             "colorbar": {
              "outlinewidth": 0,
              "ticks": ""
             }
            },
            "type": "scatterternary"
           }
          ],
          "surface": [
           {
            "colorbar": {
             "outlinewidth": 0,
             "ticks": ""
            },
            "colorscale": [
             [
              0,
              "#0d0887"
             ],
             [
              0.1111111111111111,
              "#46039f"
             ],
             [
              0.2222222222222222,
              "#7201a8"
             ],
             [
              0.3333333333333333,
              "#9c179e"
             ],
             [
              0.4444444444444444,
              "#bd3786"
             ],
             [
              0.5555555555555556,
              "#d8576b"
             ],
             [
              0.6666666666666666,
              "#ed7953"
             ],
             [
              0.7777777777777778,
              "#fb9f3a"
             ],
             [
              0.8888888888888888,
              "#fdca26"
             ],
             [
              1,
              "#f0f921"
             ]
            ],
            "type": "surface"
           }
          ],
          "table": [
           {
            "cells": {
             "fill": {
              "color": "#EBF0F8"
             },
             "line": {
              "color": "white"
             }
            },
            "header": {
             "fill": {
              "color": "#C8D4E3"
             },
             "line": {
              "color": "white"
             }
            },
            "type": "table"
           }
          ]
         },
         "layout": {
          "annotationdefaults": {
           "arrowcolor": "#2a3f5f",
           "arrowhead": 0,
           "arrowwidth": 1
          },
          "autotypenumbers": "strict",
          "coloraxis": {
           "colorbar": {
            "outlinewidth": 0,
            "ticks": ""
           }
          },
          "colorscale": {
           "diverging": [
            [
             0,
             "#8e0152"
            ],
            [
             0.1,
             "#c51b7d"
            ],
            [
             0.2,
             "#de77ae"
            ],
            [
             0.3,
             "#f1b6da"
            ],
            [
             0.4,
             "#fde0ef"
            ],
            [
             0.5,
             "#f7f7f7"
            ],
            [
             0.6,
             "#e6f5d0"
            ],
            [
             0.7,
             "#b8e186"
            ],
            [
             0.8,
             "#7fbc41"
            ],
            [
             0.9,
             "#4d9221"
            ],
            [
             1,
             "#276419"
            ]
           ],
           "sequential": [
            [
             0,
             "#0d0887"
            ],
            [
             0.1111111111111111,
             "#46039f"
            ],
            [
             0.2222222222222222,
             "#7201a8"
            ],
            [
             0.3333333333333333,
             "#9c179e"
            ],
            [
             0.4444444444444444,
             "#bd3786"
            ],
            [
             0.5555555555555556,
             "#d8576b"
            ],
            [
             0.6666666666666666,
             "#ed7953"
            ],
            [
             0.7777777777777778,
             "#fb9f3a"
            ],
            [
             0.8888888888888888,
             "#fdca26"
            ],
            [
             1,
             "#f0f921"
            ]
           ],
           "sequentialminus": [
            [
             0,
             "#0d0887"
            ],
            [
             0.1111111111111111,
             "#46039f"
            ],
            [
             0.2222222222222222,
             "#7201a8"
            ],
            [
             0.3333333333333333,
             "#9c179e"
            ],
            [
             0.4444444444444444,
             "#bd3786"
            ],
            [
             0.5555555555555556,
             "#d8576b"
            ],
            [
             0.6666666666666666,
             "#ed7953"
            ],
            [
             0.7777777777777778,
             "#fb9f3a"
            ],
            [
             0.8888888888888888,
             "#fdca26"
            ],
            [
             1,
             "#f0f921"
            ]
           ]
          },
          "colorway": [
           "#636efa",
           "#EF553B",
           "#00cc96",
           "#ab63fa",
           "#FFA15A",
           "#19d3f3",
           "#FF6692",
           "#B6E880",
           "#FF97FF",
           "#FECB52"
          ],
          "font": {
           "color": "#2a3f5f"
          },
          "geo": {
           "bgcolor": "white",
           "lakecolor": "white",
           "landcolor": "white",
           "showlakes": true,
           "showland": true,
           "subunitcolor": "#C8D4E3"
          },
          "hoverlabel": {
           "align": "left"
          },
          "hovermode": "closest",
          "mapbox": {
           "style": "light"
          },
          "paper_bgcolor": "white",
          "plot_bgcolor": "white",
          "polar": {
           "angularaxis": {
            "gridcolor": "#EBF0F8",
            "linecolor": "#EBF0F8",
            "ticks": ""
           },
           "bgcolor": "white",
           "radialaxis": {
            "gridcolor": "#EBF0F8",
            "linecolor": "#EBF0F8",
            "ticks": ""
           }
          },
          "scene": {
           "xaxis": {
            "backgroundcolor": "white",
            "gridcolor": "#DFE8F3",
            "gridwidth": 2,
            "linecolor": "#EBF0F8",
            "showbackground": true,
            "ticks": "",
            "zerolinecolor": "#EBF0F8"
           },
           "yaxis": {
            "backgroundcolor": "white",
            "gridcolor": "#DFE8F3",
            "gridwidth": 2,
            "linecolor": "#EBF0F8",
            "showbackground": true,
            "ticks": "",
            "zerolinecolor": "#EBF0F8"
           },
           "zaxis": {
            "backgroundcolor": "white",
            "gridcolor": "#DFE8F3",
            "gridwidth": 2,
            "linecolor": "#EBF0F8",
            "showbackground": true,
            "ticks": "",
            "zerolinecolor": "#EBF0F8"
           }
          },
          "shapedefaults": {
           "line": {
            "color": "#2a3f5f"
           }
          },
          "ternary": {
           "aaxis": {
            "gridcolor": "#DFE8F3",
            "linecolor": "#A2B1C6",
            "ticks": ""
           },
           "baxis": {
            "gridcolor": "#DFE8F3",
            "linecolor": "#A2B1C6",
            "ticks": ""
           },
           "bgcolor": "white",
           "caxis": {
            "gridcolor": "#DFE8F3",
            "linecolor": "#A2B1C6",
            "ticks": ""
           }
          },
          "title": {
           "x": 0.05
          },
          "xaxis": {
           "automargin": true,
           "gridcolor": "#EBF0F8",
           "linecolor": "#EBF0F8",
           "ticks": "",
           "title": {
            "standoff": 15
           },
           "zerolinecolor": "#EBF0F8",
           "zerolinewidth": 2
          },
          "yaxis": {
           "automargin": true,
           "gridcolor": "#EBF0F8",
           "linecolor": "#EBF0F8",
           "ticks": "",
           "title": {
            "standoff": 15
           },
           "zerolinecolor": "#EBF0F8",
           "zerolinewidth": 2
          }
         }
        },
        "title": {
         "text": "Fragment count vs Time"
        },
        "width": 400,
        "xaxis": {
         "exponentformat": "power",
         "linecolor": "black",
         "linewidth": 1,
         "mirror": true,
         "showexponent": "last",
         "showgrid": false,
         "showline": true,
         "side": "bottom",
         "tickfont": {
          "size": 12
         },
         "ticks": "inside",
         "title": {
          "text": "Time (s)"
         },
         "zeroline": false
        },
        "yaxis": {
         "exponentformat": "power",
         "linecolor": "black",
         "linewidth": 1,
         "mirror": true,
         "showgrid": true,
         "showline": true,
         "tickfont": {
          "size": 12
         },
         "ticks": "inside",
         "title": {
          "text": "$N_\\text{frag}$"
         },
         "zeroline": false
        }
       }
      }
     },
     "metadata": {},
     "output_type": "display_data"
    }
   ],
   "source": [
    "fig = go.Figure()\n",
    "fig.add_trace(go.Scatter(x=data['time'], y=data['nb_fragments'], mode='lines', name='Number of Fragments', line=dict(color='black', width=2)))\n",
    "fig.update_layout(\n",
    "    title='Fragment count vs Time',\n",
    "    xaxis_title='Time (s)',\n",
    "    yaxis_title=r\"$N_\\text{frag}$\",\n",
    "    xaxis=dict(\n",
    "        showgrid=False,\n",
    "        showline=True,\n",
    "        linewidth=1,\n",
    "        linecolor='black',\n",
    "        mirror=True,\n",
    "        zeroline=False,\n",
    "        ticks='inside',\n",
    "        exponentformat='power',\n",
    "        showexponent='last',\n",
    "        tickfont=dict(size=12),\n",
    "        #range=[0, 2e-5],\n",
    "        #dtick=4e-4,\n",
    "        # Position on top\n",
    "        side='bottom',\n",
    "    ),\n",
    "    yaxis=dict(\n",
    "        showgrid=True,\n",
    "        showline=True,\n",
    "        linewidth=1,\n",
    "        linecolor='black',\n",
    "        mirror=True,\n",
    "        zeroline=False,\n",
    "        ticks='inside',\n",
    "        exponentformat='power',\n",
    "        tickfont=dict(size=12),  \n",
    "        #range=[0, 250],\n",
    "    ),\n",
    "    font=dict(\n",
    "        family=\"Latin-Modern\",\n",
    "        size=12,\n",
    "        color=\"Black\"\n",
    "    ),\n",
    "    width=400, \n",
    "    height=400,\n",
    "    showlegend=False,\n",
    "    template=\"plotly_white\")\n",
    "\n",
    "fig.show()\n",
    "#fig.write_image(\"../output/plots/paper/fragment_count_vs_time_unstable_t04_2_shorttime.pdf\", width=400, height=400)#"
   ]
  },
  {
   "cell_type": "code",
   "execution_count": 8,
   "id": "f11fd2b4",
   "metadata": {},
   "outputs": [],
   "source": [
    "file_paths = ['../output/jed/hollow-sphere_strain-rate_7.0e+03_safety-factor_2.0e-01_time3.0e-06_d025/data.h5',\n",
    "              '../output/jed/hollow-sphere_strain-rate_7.0e+03_safety-factor_2.0e-01_time3.0e-06_d050/data.h5',\n",
    "              '../output/jed/hollow-sphere_strain-rate_7.0e+03_safety-factor_2.0e-01_time3.0e-06_nocontact/data.h5']\n",
    "datasets = []\n",
    "for file_path in file_paths:\n",
    "    data = readH5Data(file_path)\n",
    "    datasets.append(data)"
   ]
  },
  {
   "cell_type": "code",
   "execution_count": 9,
   "id": "b1b26f1c",
   "metadata": {},
   "outputs": [
    {
     "data": {
      "application/vnd.plotly.v1+json": {
       "config": {
        "plotlyServerURL": "https://plot.ly"
       },
       "data": [
        {
         "mode": "lines",
         "name": "Dataset 0",
         "type": "scatter",
         "x": [
          0,
          2.9537541117770825e-9,
          5.907508223554165e-9,
          8.861262335331248e-9,
          1.181501644710833e-8,
          1.4768770558885414e-8,
          1.7722524670662496e-8,
          2.067627878243958e-8,
          2.363003289421666e-8,
          2.6583787005993744e-8,
          2.9537541117770828e-8,
          3.249129522954791e-8,
          3.544504934132499e-8,
          3.8398803453102076e-8,
          4.135255756487916e-8,
          4.4306311676656243e-8,
          4.726006578843332e-8,
          5.0213819900210404e-8,
          5.316757401198749e-8,
          5.612132812376457e-8,
          5.9075082235541656e-8,
          6.202883634731873e-8,
          6.498259045909582e-8,
          6.79363445708729e-8,
          7.089009868264998e-8,
          7.384385279442707e-8,
          7.679760690620415e-8,
          7.975136101798124e-8,
          8.270511512975832e-8,
          8.56588692415354e-8,
          8.861262335331249e-8,
          9.156637746508956e-8
         ],
         "y": [
          0,
          7.747098448862566e-11,
          1.4603502782040145e-10,
          2.270120862124525e-10,
          2.6957474794087055e-10,
          2.525271138031915e-10,
          1.7607905758443287e-10,
          8.639232038087918e-11,
          3.310081722607272e-11,
          4.3399304983093856e-11,
          1.1351787912450284e-10,
          2.0321667959510847e-10,
          2.6482950901685065e-10,
          2.6976180317328513e-10,
          2.1279140255403561e-10,
          1.2319010395112073e-10,
          5.203390149310927e-11,
          3.8069363633708164e-11,
          8.727146089126947e-11,
          1.744846801765565e-10,
          2.538156490539123e-10,
          2.830854127500171e-10,
          2.471221595412576e-10,
          1.6642192485205598e-10,
          8.339555088165973e-11,
          4.49438888883158e-11,
          7.132606658077911e-11,
          1.4922944130413285e-10,
          2.399088844251551e-10,
          2.9075936103239997e-10,
          2.8082479744395705e-10,
          2.1482431111774503e-10
         ]
        },
        {
         "mode": "lines",
         "name": "Dataset 1",
         "type": "scatter",
         "x": [
          0,
          2.9537541117770825e-9,
          5.907508223554165e-9,
          8.861262335331248e-9,
          1.181501644710833e-8,
          1.4768770558885414e-8,
          1.7722524670662496e-8,
          2.067627878243958e-8,
          2.363003289421666e-8,
          2.6583787005993744e-8,
          2.9537541117770828e-8,
          3.249129522954791e-8,
          3.544504934132499e-8,
          3.8398803453102076e-8,
          4.135255756487916e-8,
          4.4306311676656243e-8,
          4.726006578843332e-8,
          5.0213819900210404e-8,
          5.316757401198749e-8,
          5.612132812376457e-8,
          5.9075082235541656e-8,
          6.202883634731873e-8,
          6.498259045909582e-8,
          6.79363445708729e-8,
          7.089009868264998e-8,
          7.384385279442707e-8,
          7.679760690620415e-8,
          7.975136101798124e-8,
          8.270511512975832e-8
         ],
         "y": [
          0,
          7.747098448862566e-11,
          1.4603502782040145e-10,
          2.270120862124525e-10,
          2.6957474794087055e-10,
          2.525271138031915e-10,
          1.7607905758443287e-10,
          8.639232038087918e-11,
          3.310081722607272e-11,
          4.3399304983093856e-11,
          1.1351787912450284e-10,
          2.0321667959510847e-10,
          2.6482950901685065e-10,
          2.6976180317328513e-10,
          2.1279140255403561e-10,
          1.2319010395112073e-10,
          5.203390149310927e-11,
          3.8069363633708164e-11,
          8.727146089126947e-11,
          1.7438894078791733e-10,
          2.537483036191279e-10,
          2.8295860793337013e-10,
          2.4686146876673476e-10,
          1.654768926051542e-10,
          8.30801746842802e-11,
          4.447211002234219e-11,
          7.108296243285572e-11,
          1.4928498368038667e-10,
          2.3995357437134324e-10
         ]
        },
        {
         "mode": "lines",
         "name": "Dataset 2",
         "type": "scatter",
         "x": [
          0,
          2.9537541117770825e-9,
          5.907508223554165e-9,
          8.861262335331248e-9,
          1.181501644710833e-8,
          1.4768770558885414e-8,
          1.7722524670662496e-8,
          2.067627878243958e-8,
          2.363003289421666e-8,
          2.6583787005993744e-8,
          2.9537541117770828e-8,
          3.249129522954791e-8,
          3.544504934132499e-8,
          3.8398803453102076e-8,
          4.135255756487916e-8,
          4.4306311676656243e-8,
          4.726006578843332e-8,
          5.0213819900210404e-8,
          5.316757401198749e-8,
          5.612132812376457e-8,
          5.9075082235541656e-8,
          6.202883634731873e-8,
          6.498259045909582e-8,
          6.79363445708729e-8,
          7.089009868264998e-8,
          7.384385279442707e-8,
          7.679760690620415e-8,
          7.975136101798124e-8,
          8.270511512975832e-8
         ],
         "y": [
          0,
          7.747098448862566e-11,
          1.4603502782040145e-10,
          2.270120862124525e-10,
          2.6957474794087055e-10,
          2.525271138031915e-10,
          1.7607905758443287e-10,
          8.639232038087918e-11,
          3.310081722607272e-11,
          4.3399304983093856e-11,
          1.1351787912450284e-10,
          2.0321667959510847e-10,
          2.6482950901685065e-10,
          2.6976180317328513e-10,
          2.1279140255403561e-10,
          1.2319010395112073e-10,
          5.203390149310927e-11,
          3.859444014375768e-11,
          8.73022348857333e-11,
          1.7439980015687695e-10,
          2.537525953250075e-10,
          2.8298190180020555e-10,
          2.4686219041170077e-10,
          1.6560048471392363e-10,
          8.311299218299872e-11,
          4.445638301930899e-11,
          7.115791983425268e-11,
          1.4935936168414266e-10,
          2.3790366551756925e-10
         ]
        }
       ],
       "layout": {
        "legend": {
         "title": {
          "text": "Datasets"
         }
        },
        "template": {
         "data": {
          "bar": [
           {
            "error_x": {
             "color": "#2a3f5f"
            },
            "error_y": {
             "color": "#2a3f5f"
            },
            "marker": {
             "line": {
              "color": "#E5ECF6",
              "width": 0.5
             },
             "pattern": {
              "fillmode": "overlay",
              "size": 10,
              "solidity": 0.2
             }
            },
            "type": "bar"
           }
          ],
          "barpolar": [
           {
            "marker": {
             "line": {
              "color": "#E5ECF6",
              "width": 0.5
             },
             "pattern": {
              "fillmode": "overlay",
              "size": 10,
              "solidity": 0.2
             }
            },
            "type": "barpolar"
           }
          ],
          "carpet": [
           {
            "aaxis": {
             "endlinecolor": "#2a3f5f",
             "gridcolor": "white",
             "linecolor": "white",
             "minorgridcolor": "white",
             "startlinecolor": "#2a3f5f"
            },
            "baxis": {
             "endlinecolor": "#2a3f5f",
             "gridcolor": "white",
             "linecolor": "white",
             "minorgridcolor": "white",
             "startlinecolor": "#2a3f5f"
            },
            "type": "carpet"
           }
          ],
          "choropleth": [
           {
            "colorbar": {
             "outlinewidth": 0,
             "ticks": ""
            },
            "type": "choropleth"
           }
          ],
          "contour": [
           {
            "colorbar": {
             "outlinewidth": 0,
             "ticks": ""
            },
            "colorscale": [
             [
              0,
              "#0d0887"
             ],
             [
              0.1111111111111111,
              "#46039f"
             ],
             [
              0.2222222222222222,
              "#7201a8"
             ],
             [
              0.3333333333333333,
              "#9c179e"
             ],
             [
              0.4444444444444444,
              "#bd3786"
             ],
             [
              0.5555555555555556,
              "#d8576b"
             ],
             [
              0.6666666666666666,
              "#ed7953"
             ],
             [
              0.7777777777777778,
              "#fb9f3a"
             ],
             [
              0.8888888888888888,
              "#fdca26"
             ],
             [
              1,
              "#f0f921"
             ]
            ],
            "type": "contour"
           }
          ],
          "contourcarpet": [
           {
            "colorbar": {
             "outlinewidth": 0,
             "ticks": ""
            },
            "type": "contourcarpet"
           }
          ],
          "heatmap": [
           {
            "colorbar": {
             "outlinewidth": 0,
             "ticks": ""
            },
            "colorscale": [
             [
              0,
              "#0d0887"
             ],
             [
              0.1111111111111111,
              "#46039f"
             ],
             [
              0.2222222222222222,
              "#7201a8"
             ],
             [
              0.3333333333333333,
              "#9c179e"
             ],
             [
              0.4444444444444444,
              "#bd3786"
             ],
             [
              0.5555555555555556,
              "#d8576b"
             ],
             [
              0.6666666666666666,
              "#ed7953"
             ],
             [
              0.7777777777777778,
              "#fb9f3a"
             ],
             [
              0.8888888888888888,
              "#fdca26"
             ],
             [
              1,
              "#f0f921"
             ]
            ],
            "type": "heatmap"
           }
          ],
          "heatmapgl": [
           {
            "colorbar": {
             "outlinewidth": 0,
             "ticks": ""
            },
            "colorscale": [
             [
              0,
              "#0d0887"
             ],
             [
              0.1111111111111111,
              "#46039f"
             ],
             [
              0.2222222222222222,
              "#7201a8"
             ],
             [
              0.3333333333333333,
              "#9c179e"
             ],
             [
              0.4444444444444444,
              "#bd3786"
             ],
             [
              0.5555555555555556,
              "#d8576b"
             ],
             [
              0.6666666666666666,
              "#ed7953"
             ],
             [
              0.7777777777777778,
              "#fb9f3a"
             ],
             [
              0.8888888888888888,
              "#fdca26"
             ],
             [
              1,
              "#f0f921"
             ]
            ],
            "type": "heatmapgl"
           }
          ],
          "histogram": [
           {
            "marker": {
             "pattern": {
              "fillmode": "overlay",
              "size": 10,
              "solidity": 0.2
             }
            },
            "type": "histogram"
           }
          ],
          "histogram2d": [
           {
            "colorbar": {
             "outlinewidth": 0,
             "ticks": ""
            },
            "colorscale": [
             [
              0,
              "#0d0887"
             ],
             [
              0.1111111111111111,
              "#46039f"
             ],
             [
              0.2222222222222222,
              "#7201a8"
             ],
             [
              0.3333333333333333,
              "#9c179e"
             ],
             [
              0.4444444444444444,
              "#bd3786"
             ],
             [
              0.5555555555555556,
              "#d8576b"
             ],
             [
              0.6666666666666666,
              "#ed7953"
             ],
             [
              0.7777777777777778,
              "#fb9f3a"
             ],
             [
              0.8888888888888888,
              "#fdca26"
             ],
             [
              1,
              "#f0f921"
             ]
            ],
            "type": "histogram2d"
           }
          ],
          "histogram2dcontour": [
           {
            "colorbar": {
             "outlinewidth": 0,
             "ticks": ""
            },
            "colorscale": [
             [
              0,
              "#0d0887"
             ],
             [
              0.1111111111111111,
              "#46039f"
             ],
             [
              0.2222222222222222,
              "#7201a8"
             ],
             [
              0.3333333333333333,
              "#9c179e"
             ],
             [
              0.4444444444444444,
              "#bd3786"
             ],
             [
              0.5555555555555556,
              "#d8576b"
             ],
             [
              0.6666666666666666,
              "#ed7953"
             ],
             [
              0.7777777777777778,
              "#fb9f3a"
             ],
             [
              0.8888888888888888,
              "#fdca26"
             ],
             [
              1,
              "#f0f921"
             ]
            ],
            "type": "histogram2dcontour"
           }
          ],
          "mesh3d": [
           {
            "colorbar": {
             "outlinewidth": 0,
             "ticks": ""
            },
            "type": "mesh3d"
           }
          ],
          "parcoords": [
           {
            "line": {
             "colorbar": {
              "outlinewidth": 0,
              "ticks": ""
             }
            },
            "type": "parcoords"
           }
          ],
          "pie": [
           {
            "automargin": true,
            "type": "pie"
           }
          ],
          "scatter": [
           {
            "fillpattern": {
             "fillmode": "overlay",
             "size": 10,
             "solidity": 0.2
            },
            "type": "scatter"
           }
          ],
          "scatter3d": [
           {
            "line": {
             "colorbar": {
              "outlinewidth": 0,
              "ticks": ""
             }
            },
            "marker": {
             "colorbar": {
              "outlinewidth": 0,
              "ticks": ""
             }
            },
            "type": "scatter3d"
           }
          ],
          "scattercarpet": [
           {
            "marker": {
             "colorbar": {
              "outlinewidth": 0,
              "ticks": ""
             }
            },
            "type": "scattercarpet"
           }
          ],
          "scattergeo": [
           {
            "marker": {
             "colorbar": {
              "outlinewidth": 0,
              "ticks": ""
             }
            },
            "type": "scattergeo"
           }
          ],
          "scattergl": [
           {
            "marker": {
             "colorbar": {
              "outlinewidth": 0,
              "ticks": ""
             }
            },
            "type": "scattergl"
           }
          ],
          "scattermapbox": [
           {
            "marker": {
             "colorbar": {
              "outlinewidth": 0,
              "ticks": ""
             }
            },
            "type": "scattermapbox"
           }
          ],
          "scatterpolar": [
           {
            "marker": {
             "colorbar": {
              "outlinewidth": 0,
              "ticks": ""
             }
            },
            "type": "scatterpolar"
           }
          ],
          "scatterpolargl": [
           {
            "marker": {
             "colorbar": {
              "outlinewidth": 0,
              "ticks": ""
             }
            },
            "type": "scatterpolargl"
           }
          ],
          "scatterternary": [
           {
            "marker": {
             "colorbar": {
              "outlinewidth": 0,
              "ticks": ""
             }
            },
            "type": "scatterternary"
           }
          ],
          "surface": [
           {
            "colorbar": {
             "outlinewidth": 0,
             "ticks": ""
            },
            "colorscale": [
             [
              0,
              "#0d0887"
             ],
             [
              0.1111111111111111,
              "#46039f"
             ],
             [
              0.2222222222222222,
              "#7201a8"
             ],
             [
              0.3333333333333333,
              "#9c179e"
             ],
             [
              0.4444444444444444,
              "#bd3786"
             ],
             [
              0.5555555555555556,
              "#d8576b"
             ],
             [
              0.6666666666666666,
              "#ed7953"
             ],
             [
              0.7777777777777778,
              "#fb9f3a"
             ],
             [
              0.8888888888888888,
              "#fdca26"
             ],
             [
              1,
              "#f0f921"
             ]
            ],
            "type": "surface"
           }
          ],
          "table": [
           {
            "cells": {
             "fill": {
              "color": "#EBF0F8"
             },
             "line": {
              "color": "white"
             }
            },
            "header": {
             "fill": {
              "color": "#C8D4E3"
             },
             "line": {
              "color": "white"
             }
            },
            "type": "table"
           }
          ]
         },
         "layout": {
          "annotationdefaults": {
           "arrowcolor": "#2a3f5f",
           "arrowhead": 0,
           "arrowwidth": 1
          },
          "autotypenumbers": "strict",
          "coloraxis": {
           "colorbar": {
            "outlinewidth": 0,
            "ticks": ""
           }
          },
          "colorscale": {
           "diverging": [
            [
             0,
             "#8e0152"
            ],
            [
             0.1,
             "#c51b7d"
            ],
            [
             0.2,
             "#de77ae"
            ],
            [
             0.3,
             "#f1b6da"
            ],
            [
             0.4,
             "#fde0ef"
            ],
            [
             0.5,
             "#f7f7f7"
            ],
            [
             0.6,
             "#e6f5d0"
            ],
            [
             0.7,
             "#b8e186"
            ],
            [
             0.8,
             "#7fbc41"
            ],
            [
             0.9,
             "#4d9221"
            ],
            [
             1,
             "#276419"
            ]
           ],
           "sequential": [
            [
             0,
             "#0d0887"
            ],
            [
             0.1111111111111111,
             "#46039f"
            ],
            [
             0.2222222222222222,
             "#7201a8"
            ],
            [
             0.3333333333333333,
             "#9c179e"
            ],
            [
             0.4444444444444444,
             "#bd3786"
            ],
            [
             0.5555555555555556,
             "#d8576b"
            ],
            [
             0.6666666666666666,
             "#ed7953"
            ],
            [
             0.7777777777777778,
             "#fb9f3a"
            ],
            [
             0.8888888888888888,
             "#fdca26"
            ],
            [
             1,
             "#f0f921"
            ]
           ],
           "sequentialminus": [
            [
             0,
             "#0d0887"
            ],
            [
             0.1111111111111111,
             "#46039f"
            ],
            [
             0.2222222222222222,
             "#7201a8"
            ],
            [
             0.3333333333333333,
             "#9c179e"
            ],
            [
             0.4444444444444444,
             "#bd3786"
            ],
            [
             0.5555555555555556,
             "#d8576b"
            ],
            [
             0.6666666666666666,
             "#ed7953"
            ],
            [
             0.7777777777777778,
             "#fb9f3a"
            ],
            [
             0.8888888888888888,
             "#fdca26"
            ],
            [
             1,
             "#f0f921"
            ]
           ]
          },
          "colorway": [
           "#636efa",
           "#EF553B",
           "#00cc96",
           "#ab63fa",
           "#FFA15A",
           "#19d3f3",
           "#FF6692",
           "#B6E880",
           "#FF97FF",
           "#FECB52"
          ],
          "font": {
           "color": "#2a3f5f"
          },
          "geo": {
           "bgcolor": "white",
           "lakecolor": "white",
           "landcolor": "#E5ECF6",
           "showlakes": true,
           "showland": true,
           "subunitcolor": "white"
          },
          "hoverlabel": {
           "align": "left"
          },
          "hovermode": "closest",
          "mapbox": {
           "style": "light"
          },
          "paper_bgcolor": "white",
          "plot_bgcolor": "#E5ECF6",
          "polar": {
           "angularaxis": {
            "gridcolor": "white",
            "linecolor": "white",
            "ticks": ""
           },
           "bgcolor": "#E5ECF6",
           "radialaxis": {
            "gridcolor": "white",
            "linecolor": "white",
            "ticks": ""
           }
          },
          "scene": {
           "xaxis": {
            "backgroundcolor": "#E5ECF6",
            "gridcolor": "white",
            "gridwidth": 2,
            "linecolor": "white",
            "showbackground": true,
            "ticks": "",
            "zerolinecolor": "white"
           },
           "yaxis": {
            "backgroundcolor": "#E5ECF6",
            "gridcolor": "white",
            "gridwidth": 2,
            "linecolor": "white",
            "showbackground": true,
            "ticks": "",
            "zerolinecolor": "white"
           },
           "zaxis": {
            "backgroundcolor": "#E5ECF6",
            "gridcolor": "white",
            "gridwidth": 2,
            "linecolor": "white",
            "showbackground": true,
            "ticks": "",
            "zerolinecolor": "white"
           }
          },
          "shapedefaults": {
           "line": {
            "color": "#2a3f5f"
           }
          },
          "ternary": {
           "aaxis": {
            "gridcolor": "white",
            "linecolor": "white",
            "ticks": ""
           },
           "baxis": {
            "gridcolor": "white",
            "linecolor": "white",
            "ticks": ""
           },
           "bgcolor": "#E5ECF6",
           "caxis": {
            "gridcolor": "white",
            "linecolor": "white",
            "ticks": ""
           }
          },
          "title": {
           "x": 0.05
          },
          "xaxis": {
           "automargin": true,
           "gridcolor": "white",
           "linecolor": "white",
           "ticks": "",
           "title": {
            "standoff": 15
           },
           "zerolinecolor": "white",
           "zerolinewidth": 2
          },
          "yaxis": {
           "automargin": true,
           "gridcolor": "white",
           "linecolor": "white",
           "ticks": "",
           "title": {
            "standoff": 15
           },
           "zerolinecolor": "white",
           "zerolinewidth": 2
          }
         }
        },
        "title": {
         "text": "Energy Balance"
        },
        "xaxis": {
         "showgrid": true,
         "showline": true,
         "title": {
          "text": "Time"
         },
         "zeroline": true
        },
        "yaxis": {
         "showgrid": true,
         "showline": true,
         "title": {
          "text": "Energy"
         },
         "zeroline": true
        }
       }
      }
     },
     "metadata": {},
     "output_type": "display_data"
    },
    {
     "data": {
      "application/vnd.plotly.v1+json": {
       "config": {
        "plotlyServerURL": "https://plot.ly"
       },
       "data": [
        {
         "mode": "lines",
         "name": "Dataset 0",
         "type": "scatter",
         "x": [
          0,
          2.9537541117770825e-9,
          5.907508223554165e-9,
          8.861262335331248e-9,
          1.181501644710833e-8,
          1.4768770558885414e-8,
          1.7722524670662496e-8,
          2.067627878243958e-8,
          2.363003289421666e-8,
          2.6583787005993744e-8,
          2.9537541117770828e-8,
          3.249129522954791e-8,
          3.544504934132499e-8,
          3.8398803453102076e-8,
          4.135255756487916e-8,
          4.4306311676656243e-8,
          4.726006578843332e-8,
          5.0213819900210404e-8,
          5.316757401198749e-8,
          5.612132812376457e-8,
          5.9075082235541656e-8,
          6.202883634731873e-8,
          6.498259045909582e-8,
          6.79363445708729e-8,
          7.089009868264998e-8,
          7.384385279442707e-8,
          7.679760690620415e-8,
          7.975136101798124e-8,
          8.270511512975832e-8,
          8.56588692415354e-8,
          8.861262335331249e-8,
          9.156637746508956e-8
         ],
         "y": [
          0,
          0,
          0,
          0,
          0,
          0,
          0,
          0,
          0,
          0,
          0,
          0,
          0,
          0,
          0,
          0,
          0,
          0,
          0,
          3.035408480243889e-12,
          2.3188672751322966e-12,
          7.987895371742135e-12,
          7.836497821535091e-12,
          1.1273657094982789e-11,
          4.269649600862984e-11,
          1.229449425531853e-10,
          2.330625873997183e-10,
          4.626279156296661e-10,
          6.781662021236551e-10,
          9.641097976422729e-10,
          1.421253595735558e-9,
          2.2476719148004252e-9
         ]
        },
        {
         "mode": "lines",
         "name": "Dataset 1",
         "type": "scatter",
         "x": [
          0,
          2.9537541117770825e-9,
          5.907508223554165e-9,
          8.861262335331248e-9,
          1.181501644710833e-8,
          1.4768770558885414e-8,
          1.7722524670662496e-8,
          2.067627878243958e-8,
          2.363003289421666e-8,
          2.6583787005993744e-8,
          2.9537541117770828e-8,
          3.249129522954791e-8,
          3.544504934132499e-8,
          3.8398803453102076e-8,
          4.135255756487916e-8,
          4.4306311676656243e-8,
          4.726006578843332e-8,
          5.0213819900210404e-8,
          5.316757401198749e-8,
          5.612132812376457e-8,
          5.9075082235541656e-8,
          6.202883634731873e-8,
          6.498259045909582e-8,
          6.79363445708729e-8,
          7.089009868264998e-8,
          7.384385279442707e-8,
          7.679760690620415e-8,
          7.975136101798124e-8,
          8.270511512975832e-8
         ],
         "y": [
          0,
          0,
          0,
          0,
          0,
          0,
          0,
          0,
          0,
          0,
          0,
          0,
          0,
          0,
          0,
          0,
          0,
          0,
          0,
          0,
          0,
          0,
          0,
          0,
          1.1127171701689837e-11,
          1.6834393197977306e-10,
          2.6769018800532985e-10,
          5.394633704402441e-10,
          8.608553437952813e-10
         ]
        },
        {
         "mode": "lines",
         "name": "Dataset 2",
         "type": "scatter",
         "x": [
          0,
          2.9537541117770825e-9,
          5.907508223554165e-9,
          8.861262335331248e-9,
          1.181501644710833e-8,
          1.4768770558885414e-8,
          1.7722524670662496e-8,
          2.067627878243958e-8,
          2.363003289421666e-8,
          2.6583787005993744e-8,
          2.9537541117770828e-8,
          3.249129522954791e-8,
          3.544504934132499e-8,
          3.8398803453102076e-8,
          4.135255756487916e-8,
          4.4306311676656243e-8,
          4.726006578843332e-8,
          5.0213819900210404e-8,
          5.316757401198749e-8,
          5.612132812376457e-8,
          5.9075082235541656e-8,
          6.202883634731873e-8,
          6.498259045909582e-8,
          6.79363445708729e-8,
          7.089009868264998e-8,
          7.384385279442707e-8,
          7.679760690620415e-8,
          7.975136101798124e-8,
          8.270511512975832e-8
         ],
         "y": [
          0,
          0,
          0,
          0,
          0,
          0,
          0,
          0,
          0,
          0,
          0,
          0,
          0,
          0,
          0,
          0,
          0,
          3.477484756999969e-15,
          2.3354708029802433e-12,
          3.040788195774162e-12,
          4.317811737569716e-12,
          5.906388208477569e-12,
          5.885148530059912e-12,
          8.472685500610143e-12,
          3.41170367425389e-11,
          9.528447018244451e-11,
          1.8356222336456606e-10,
          2.90504618817637e-10,
          4.2928181592174546e-10
         ]
        }
       ],
       "layout": {
        "legend": {
         "title": {
          "text": "Datasets"
         }
        },
        "template": {
         "data": {
          "bar": [
           {
            "error_x": {
             "color": "#2a3f5f"
            },
            "error_y": {
             "color": "#2a3f5f"
            },
            "marker": {
             "line": {
              "color": "#E5ECF6",
              "width": 0.5
             },
             "pattern": {
              "fillmode": "overlay",
              "size": 10,
              "solidity": 0.2
             }
            },
            "type": "bar"
           }
          ],
          "barpolar": [
           {
            "marker": {
             "line": {
              "color": "#E5ECF6",
              "width": 0.5
             },
             "pattern": {
              "fillmode": "overlay",
              "size": 10,
              "solidity": 0.2
             }
            },
            "type": "barpolar"
           }
          ],
          "carpet": [
           {
            "aaxis": {
             "endlinecolor": "#2a3f5f",
             "gridcolor": "white",
             "linecolor": "white",
             "minorgridcolor": "white",
             "startlinecolor": "#2a3f5f"
            },
            "baxis": {
             "endlinecolor": "#2a3f5f",
             "gridcolor": "white",
             "linecolor": "white",
             "minorgridcolor": "white",
             "startlinecolor": "#2a3f5f"
            },
            "type": "carpet"
           }
          ],
          "choropleth": [
           {
            "colorbar": {
             "outlinewidth": 0,
             "ticks": ""
            },
            "type": "choropleth"
           }
          ],
          "contour": [
           {
            "colorbar": {
             "outlinewidth": 0,
             "ticks": ""
            },
            "colorscale": [
             [
              0,
              "#0d0887"
             ],
             [
              0.1111111111111111,
              "#46039f"
             ],
             [
              0.2222222222222222,
              "#7201a8"
             ],
             [
              0.3333333333333333,
              "#9c179e"
             ],
             [
              0.4444444444444444,
              "#bd3786"
             ],
             [
              0.5555555555555556,
              "#d8576b"
             ],
             [
              0.6666666666666666,
              "#ed7953"
             ],
             [
              0.7777777777777778,
              "#fb9f3a"
             ],
             [
              0.8888888888888888,
              "#fdca26"
             ],
             [
              1,
              "#f0f921"
             ]
            ],
            "type": "contour"
           }
          ],
          "contourcarpet": [
           {
            "colorbar": {
             "outlinewidth": 0,
             "ticks": ""
            },
            "type": "contourcarpet"
           }
          ],
          "heatmap": [
           {
            "colorbar": {
             "outlinewidth": 0,
             "ticks": ""
            },
            "colorscale": [
             [
              0,
              "#0d0887"
             ],
             [
              0.1111111111111111,
              "#46039f"
             ],
             [
              0.2222222222222222,
              "#7201a8"
             ],
             [
              0.3333333333333333,
              "#9c179e"
             ],
             [
              0.4444444444444444,
              "#bd3786"
             ],
             [
              0.5555555555555556,
              "#d8576b"
             ],
             [
              0.6666666666666666,
              "#ed7953"
             ],
             [
              0.7777777777777778,
              "#fb9f3a"
             ],
             [
              0.8888888888888888,
              "#fdca26"
             ],
             [
              1,
              "#f0f921"
             ]
            ],
            "type": "heatmap"
           }
          ],
          "heatmapgl": [
           {
            "colorbar": {
             "outlinewidth": 0,
             "ticks": ""
            },
            "colorscale": [
             [
              0,
              "#0d0887"
             ],
             [
              0.1111111111111111,
              "#46039f"
             ],
             [
              0.2222222222222222,
              "#7201a8"
             ],
             [
              0.3333333333333333,
              "#9c179e"
             ],
             [
              0.4444444444444444,
              "#bd3786"
             ],
             [
              0.5555555555555556,
              "#d8576b"
             ],
             [
              0.6666666666666666,
              "#ed7953"
             ],
             [
              0.7777777777777778,
              "#fb9f3a"
             ],
             [
              0.8888888888888888,
              "#fdca26"
             ],
             [
              1,
              "#f0f921"
             ]
            ],
            "type": "heatmapgl"
           }
          ],
          "histogram": [
           {
            "marker": {
             "pattern": {
              "fillmode": "overlay",
              "size": 10,
              "solidity": 0.2
             }
            },
            "type": "histogram"
           }
          ],
          "histogram2d": [
           {
            "colorbar": {
             "outlinewidth": 0,
             "ticks": ""
            },
            "colorscale": [
             [
              0,
              "#0d0887"
             ],
             [
              0.1111111111111111,
              "#46039f"
             ],
             [
              0.2222222222222222,
              "#7201a8"
             ],
             [
              0.3333333333333333,
              "#9c179e"
             ],
             [
              0.4444444444444444,
              "#bd3786"
             ],
             [
              0.5555555555555556,
              "#d8576b"
             ],
             [
              0.6666666666666666,
              "#ed7953"
             ],
             [
              0.7777777777777778,
              "#fb9f3a"
             ],
             [
              0.8888888888888888,
              "#fdca26"
             ],
             [
              1,
              "#f0f921"
             ]
            ],
            "type": "histogram2d"
           }
          ],
          "histogram2dcontour": [
           {
            "colorbar": {
             "outlinewidth": 0,
             "ticks": ""
            },
            "colorscale": [
             [
              0,
              "#0d0887"
             ],
             [
              0.1111111111111111,
              "#46039f"
             ],
             [
              0.2222222222222222,
              "#7201a8"
             ],
             [
              0.3333333333333333,
              "#9c179e"
             ],
             [
              0.4444444444444444,
              "#bd3786"
             ],
             [
              0.5555555555555556,
              "#d8576b"
             ],
             [
              0.6666666666666666,
              "#ed7953"
             ],
             [
              0.7777777777777778,
              "#fb9f3a"
             ],
             [
              0.8888888888888888,
              "#fdca26"
             ],
             [
              1,
              "#f0f921"
             ]
            ],
            "type": "histogram2dcontour"
           }
          ],
          "mesh3d": [
           {
            "colorbar": {
             "outlinewidth": 0,
             "ticks": ""
            },
            "type": "mesh3d"
           }
          ],
          "parcoords": [
           {
            "line": {
             "colorbar": {
              "outlinewidth": 0,
              "ticks": ""
             }
            },
            "type": "parcoords"
           }
          ],
          "pie": [
           {
            "automargin": true,
            "type": "pie"
           }
          ],
          "scatter": [
           {
            "fillpattern": {
             "fillmode": "overlay",
             "size": 10,
             "solidity": 0.2
            },
            "type": "scatter"
           }
          ],
          "scatter3d": [
           {
            "line": {
             "colorbar": {
              "outlinewidth": 0,
              "ticks": ""
             }
            },
            "marker": {
             "colorbar": {
              "outlinewidth": 0,
              "ticks": ""
             }
            },
            "type": "scatter3d"
           }
          ],
          "scattercarpet": [
           {
            "marker": {
             "colorbar": {
              "outlinewidth": 0,
              "ticks": ""
             }
            },
            "type": "scattercarpet"
           }
          ],
          "scattergeo": [
           {
            "marker": {
             "colorbar": {
              "outlinewidth": 0,
              "ticks": ""
             }
            },
            "type": "scattergeo"
           }
          ],
          "scattergl": [
           {
            "marker": {
             "colorbar": {
              "outlinewidth": 0,
              "ticks": ""
             }
            },
            "type": "scattergl"
           }
          ],
          "scattermapbox": [
           {
            "marker": {
             "colorbar": {
              "outlinewidth": 0,
              "ticks": ""
             }
            },
            "type": "scattermapbox"
           }
          ],
          "scatterpolar": [
           {
            "marker": {
             "colorbar": {
              "outlinewidth": 0,
              "ticks": ""
             }
            },
            "type": "scatterpolar"
           }
          ],
          "scatterpolargl": [
           {
            "marker": {
             "colorbar": {
              "outlinewidth": 0,
              "ticks": ""
             }
            },
            "type": "scatterpolargl"
           }
          ],
          "scatterternary": [
           {
            "marker": {
             "colorbar": {
              "outlinewidth": 0,
              "ticks": ""
             }
            },
            "type": "scatterternary"
           }
          ],
          "surface": [
           {
            "colorbar": {
             "outlinewidth": 0,
             "ticks": ""
            },
            "colorscale": [
             [
              0,
              "#0d0887"
             ],
             [
              0.1111111111111111,
              "#46039f"
             ],
             [
              0.2222222222222222,
              "#7201a8"
             ],
             [
              0.3333333333333333,
              "#9c179e"
             ],
             [
              0.4444444444444444,
              "#bd3786"
             ],
             [
              0.5555555555555556,
              "#d8576b"
             ],
             [
              0.6666666666666666,
              "#ed7953"
             ],
             [
              0.7777777777777778,
              "#fb9f3a"
             ],
             [
              0.8888888888888888,
              "#fdca26"
             ],
             [
              1,
              "#f0f921"
             ]
            ],
            "type": "surface"
           }
          ],
          "table": [
           {
            "cells": {
             "fill": {
              "color": "#EBF0F8"
             },
             "line": {
              "color": "white"
             }
            },
            "header": {
             "fill": {
              "color": "#C8D4E3"
             },
             "line": {
              "color": "white"
             }
            },
            "type": "table"
           }
          ]
         },
         "layout": {
          "annotationdefaults": {
           "arrowcolor": "#2a3f5f",
           "arrowhead": 0,
           "arrowwidth": 1
          },
          "autotypenumbers": "strict",
          "coloraxis": {
           "colorbar": {
            "outlinewidth": 0,
            "ticks": ""
           }
          },
          "colorscale": {
           "diverging": [
            [
             0,
             "#8e0152"
            ],
            [
             0.1,
             "#c51b7d"
            ],
            [
             0.2,
             "#de77ae"
            ],
            [
             0.3,
             "#f1b6da"
            ],
            [
             0.4,
             "#fde0ef"
            ],
            [
             0.5,
             "#f7f7f7"
            ],
            [
             0.6,
             "#e6f5d0"
            ],
            [
             0.7,
             "#b8e186"
            ],
            [
             0.8,
             "#7fbc41"
            ],
            [
             0.9,
             "#4d9221"
            ],
            [
             1,
             "#276419"
            ]
           ],
           "sequential": [
            [
             0,
             "#0d0887"
            ],
            [
             0.1111111111111111,
             "#46039f"
            ],
            [
             0.2222222222222222,
             "#7201a8"
            ],
            [
             0.3333333333333333,
             "#9c179e"
            ],
            [
             0.4444444444444444,
             "#bd3786"
            ],
            [
             0.5555555555555556,
             "#d8576b"
            ],
            [
             0.6666666666666666,
             "#ed7953"
            ],
            [
             0.7777777777777778,
             "#fb9f3a"
            ],
            [
             0.8888888888888888,
             "#fdca26"
            ],
            [
             1,
             "#f0f921"
            ]
           ],
           "sequentialminus": [
            [
             0,
             "#0d0887"
            ],
            [
             0.1111111111111111,
             "#46039f"
            ],
            [
             0.2222222222222222,
             "#7201a8"
            ],
            [
             0.3333333333333333,
             "#9c179e"
            ],
            [
             0.4444444444444444,
             "#bd3786"
            ],
            [
             0.5555555555555556,
             "#d8576b"
            ],
            [
             0.6666666666666666,
             "#ed7953"
            ],
            [
             0.7777777777777778,
             "#fb9f3a"
            ],
            [
             0.8888888888888888,
             "#fdca26"
            ],
            [
             1,
             "#f0f921"
            ]
           ]
          },
          "colorway": [
           "#636efa",
           "#EF553B",
           "#00cc96",
           "#ab63fa",
           "#FFA15A",
           "#19d3f3",
           "#FF6692",
           "#B6E880",
           "#FF97FF",
           "#FECB52"
          ],
          "font": {
           "color": "#2a3f5f"
          },
          "geo": {
           "bgcolor": "white",
           "lakecolor": "white",
           "landcolor": "#E5ECF6",
           "showlakes": true,
           "showland": true,
           "subunitcolor": "white"
          },
          "hoverlabel": {
           "align": "left"
          },
          "hovermode": "closest",
          "mapbox": {
           "style": "light"
          },
          "paper_bgcolor": "white",
          "plot_bgcolor": "#E5ECF6",
          "polar": {
           "angularaxis": {
            "gridcolor": "white",
            "linecolor": "white",
            "ticks": ""
           },
           "bgcolor": "#E5ECF6",
           "radialaxis": {
            "gridcolor": "white",
            "linecolor": "white",
            "ticks": ""
           }
          },
          "scene": {
           "xaxis": {
            "backgroundcolor": "#E5ECF6",
            "gridcolor": "white",
            "gridwidth": 2,
            "linecolor": "white",
            "showbackground": true,
            "ticks": "",
            "zerolinecolor": "white"
           },
           "yaxis": {
            "backgroundcolor": "#E5ECF6",
            "gridcolor": "white",
            "gridwidth": 2,
            "linecolor": "white",
            "showbackground": true,
            "ticks": "",
            "zerolinecolor": "white"
           },
           "zaxis": {
            "backgroundcolor": "#E5ECF6",
            "gridcolor": "white",
            "gridwidth": 2,
            "linecolor": "white",
            "showbackground": true,
            "ticks": "",
            "zerolinecolor": "white"
           }
          },
          "shapedefaults": {
           "line": {
            "color": "#2a3f5f"
           }
          },
          "ternary": {
           "aaxis": {
            "gridcolor": "white",
            "linecolor": "white",
            "ticks": ""
           },
           "baxis": {
            "gridcolor": "white",
            "linecolor": "white",
            "ticks": ""
           },
           "bgcolor": "#E5ECF6",
           "caxis": {
            "gridcolor": "white",
            "linecolor": "white",
            "ticks": ""
           }
          },
          "title": {
           "x": 0.05
          },
          "xaxis": {
           "automargin": true,
           "gridcolor": "white",
           "linecolor": "white",
           "ticks": "",
           "title": {
            "standoff": 15
           },
           "zerolinecolor": "white",
           "zerolinewidth": 2
          },
          "yaxis": {
           "automargin": true,
           "gridcolor": "white",
           "linecolor": "white",
           "ticks": "",
           "title": {
            "standoff": 15
           },
           "zerolinecolor": "white",
           "zerolinewidth": 2
          }
         }
        },
        "title": {
         "text": "Cohesive Energy"
        },
        "xaxis": {
         "showgrid": true,
         "showline": true,
         "title": {
          "text": "Time"
         },
         "zeroline": true
        },
        "yaxis": {
         "showgrid": true,
         "showline": true,
         "title": {
          "text": "Energy"
         },
         "zeroline": true
        }
       }
      }
     },
     "metadata": {},
     "output_type": "display_data"
    },
    {
     "data": {
      "application/vnd.plotly.v1+json": {
       "config": {
        "plotlyServerURL": "https://plot.ly"
       },
       "data": [
        {
         "mode": "lines",
         "name": "Dataset 0",
         "type": "scatter",
         "x": [
          0,
          2.9537541117770825e-9,
          5.907508223554165e-9,
          8.861262335331248e-9,
          1.181501644710833e-8,
          1.4768770558885414e-8,
          1.7722524670662496e-8,
          2.067627878243958e-8,
          2.363003289421666e-8,
          2.6583787005993744e-8,
          2.9537541117770828e-8,
          3.249129522954791e-8,
          3.544504934132499e-8,
          3.8398803453102076e-8,
          4.135255756487916e-8,
          4.4306311676656243e-8,
          4.726006578843332e-8,
          5.0213819900210404e-8,
          5.316757401198749e-8,
          5.612132812376457e-8,
          5.9075082235541656e-8,
          6.202883634731873e-8,
          6.498259045909582e-8,
          6.79363445708729e-8,
          7.089009868264998e-8,
          7.384385279442707e-8,
          7.679760690620415e-8,
          7.975136101798124e-8,
          8.270511512975832e-8,
          8.56588692415354e-8,
          8.861262335331249e-8,
          9.156637746508956e-8
         ],
         "y": [
          0,
          0,
          0,
          0,
          0,
          0,
          0,
          0,
          0,
          0,
          0,
          0,
          0,
          0,
          0,
          0,
          0,
          0,
          0,
          1.6128256409332574e-12,
          1.7836769977570398e-12,
          3.3104725025625344e-12,
          5.213536437900181e-12,
          5.112721442916771e-12,
          3.4575560090552135e-11,
          1.1008790505613945e-10,
          2.194021929528827e-10,
          4.3880126153180496e-10,
          6.419084417559886e-10,
          9.198699036967566e-10,
          1.3323661419368765e-9,
          2.0807312886886274e-9
         ]
        },
        {
         "mode": "lines",
         "name": "Dataset 1",
         "type": "scatter",
         "x": [
          0,
          2.9537541117770825e-9,
          5.907508223554165e-9,
          8.861262335331248e-9,
          1.181501644710833e-8,
          1.4768770558885414e-8,
          1.7722524670662496e-8,
          2.067627878243958e-8,
          2.363003289421666e-8,
          2.6583787005993744e-8,
          2.9537541117770828e-8,
          3.249129522954791e-8,
          3.544504934132499e-8,
          3.8398803453102076e-8,
          4.135255756487916e-8,
          4.4306311676656243e-8,
          4.726006578843332e-8,
          5.0213819900210404e-8,
          5.316757401198749e-8,
          5.612132812376457e-8,
          5.9075082235541656e-8,
          6.202883634731873e-8,
          6.498259045909582e-8,
          6.79363445708729e-8,
          7.089009868264998e-8,
          7.384385279442707e-8,
          7.679760690620415e-8,
          7.975136101798124e-8,
          8.270511512975832e-8
         ],
         "y": [
          0,
          0,
          0,
          0,
          0,
          0,
          0,
          0,
          0,
          0,
          0,
          0,
          0,
          0,
          0,
          0,
          0,
          0,
          0,
          0,
          0,
          0,
          0,
          0,
          5.301447014377459e-12,
          1.55712272420568e-10,
          2.5210273058752974e-10,
          4.854908982077542e-10,
          7.924778865792026e-10
         ]
        },
        {
         "mode": "lines",
         "name": "Dataset 2",
         "type": "scatter",
         "x": [
          0,
          2.9537541117770825e-9,
          5.907508223554165e-9,
          8.861262335331248e-9,
          1.181501644710833e-8,
          1.4768770558885414e-8,
          1.7722524670662496e-8,
          2.067627878243958e-8,
          2.363003289421666e-8,
          2.6583787005993744e-8,
          2.9537541117770828e-8,
          3.249129522954791e-8,
          3.544504934132499e-8,
          3.8398803453102076e-8,
          4.135255756487916e-8,
          4.4306311676656243e-8,
          4.726006578843332e-8,
          5.0213819900210404e-8,
          5.316757401198749e-8,
          5.612132812376457e-8,
          5.9075082235541656e-8,
          6.202883634731873e-8,
          6.498259045909582e-8,
          6.79363445708729e-8,
          7.089009868264998e-8,
          7.384385279442707e-8,
          7.679760690620415e-8,
          7.975136101798124e-8,
          8.270511512975832e-8
         ],
         "y": [
          0,
          0,
          0,
          0,
          0,
          0,
          0,
          0,
          0,
          0,
          0,
          0,
          0,
          0,
          0,
          0,
          0,
          -5.016136476927283e-16,
          2.1910576977038323e-12,
          2.497524600117726e-12,
          2.744772718106549e-12,
          2.9704596377233687e-12,
          3.1386205971887117e-12,
          5.525874753516361e-12,
          2.878098818745829e-11,
          8.648361072098822e-11,
          1.6465247924277142e-10,
          2.5094061761137405e-10,
          3.7194953872055447e-10
         ]
        }
       ],
       "layout": {
        "legend": {
         "title": {
          "text": "Datasets"
         }
        },
        "template": {
         "data": {
          "bar": [
           {
            "error_x": {
             "color": "#2a3f5f"
            },
            "error_y": {
             "color": "#2a3f5f"
            },
            "marker": {
             "line": {
              "color": "#E5ECF6",
              "width": 0.5
             },
             "pattern": {
              "fillmode": "overlay",
              "size": 10,
              "solidity": 0.2
             }
            },
            "type": "bar"
           }
          ],
          "barpolar": [
           {
            "marker": {
             "line": {
              "color": "#E5ECF6",
              "width": 0.5
             },
             "pattern": {
              "fillmode": "overlay",
              "size": 10,
              "solidity": 0.2
             }
            },
            "type": "barpolar"
           }
          ],
          "carpet": [
           {
            "aaxis": {
             "endlinecolor": "#2a3f5f",
             "gridcolor": "white",
             "linecolor": "white",
             "minorgridcolor": "white",
             "startlinecolor": "#2a3f5f"
            },
            "baxis": {
             "endlinecolor": "#2a3f5f",
             "gridcolor": "white",
             "linecolor": "white",
             "minorgridcolor": "white",
             "startlinecolor": "#2a3f5f"
            },
            "type": "carpet"
           }
          ],
          "choropleth": [
           {
            "colorbar": {
             "outlinewidth": 0,
             "ticks": ""
            },
            "type": "choropleth"
           }
          ],
          "contour": [
           {
            "colorbar": {
             "outlinewidth": 0,
             "ticks": ""
            },
            "colorscale": [
             [
              0,
              "#0d0887"
             ],
             [
              0.1111111111111111,
              "#46039f"
             ],
             [
              0.2222222222222222,
              "#7201a8"
             ],
             [
              0.3333333333333333,
              "#9c179e"
             ],
             [
              0.4444444444444444,
              "#bd3786"
             ],
             [
              0.5555555555555556,
              "#d8576b"
             ],
             [
              0.6666666666666666,
              "#ed7953"
             ],
             [
              0.7777777777777778,
              "#fb9f3a"
             ],
             [
              0.8888888888888888,
              "#fdca26"
             ],
             [
              1,
              "#f0f921"
             ]
            ],
            "type": "contour"
           }
          ],
          "contourcarpet": [
           {
            "colorbar": {
             "outlinewidth": 0,
             "ticks": ""
            },
            "type": "contourcarpet"
           }
          ],
          "heatmap": [
           {
            "colorbar": {
             "outlinewidth": 0,
             "ticks": ""
            },
            "colorscale": [
             [
              0,
              "#0d0887"
             ],
             [
              0.1111111111111111,
              "#46039f"
             ],
             [
              0.2222222222222222,
              "#7201a8"
             ],
             [
              0.3333333333333333,
              "#9c179e"
             ],
             [
              0.4444444444444444,
              "#bd3786"
             ],
             [
              0.5555555555555556,
              "#d8576b"
             ],
             [
              0.6666666666666666,
              "#ed7953"
             ],
             [
              0.7777777777777778,
              "#fb9f3a"
             ],
             [
              0.8888888888888888,
              "#fdca26"
             ],
             [
              1,
              "#f0f921"
             ]
            ],
            "type": "heatmap"
           }
          ],
          "heatmapgl": [
           {
            "colorbar": {
             "outlinewidth": 0,
             "ticks": ""
            },
            "colorscale": [
             [
              0,
              "#0d0887"
             ],
             [
              0.1111111111111111,
              "#46039f"
             ],
             [
              0.2222222222222222,
              "#7201a8"
             ],
             [
              0.3333333333333333,
              "#9c179e"
             ],
             [
              0.4444444444444444,
              "#bd3786"
             ],
             [
              0.5555555555555556,
              "#d8576b"
             ],
             [
              0.6666666666666666,
              "#ed7953"
             ],
             [
              0.7777777777777778,
              "#fb9f3a"
             ],
             [
              0.8888888888888888,
              "#fdca26"
             ],
             [
              1,
              "#f0f921"
             ]
            ],
            "type": "heatmapgl"
           }
          ],
          "histogram": [
           {
            "marker": {
             "pattern": {
              "fillmode": "overlay",
              "size": 10,
              "solidity": 0.2
             }
            },
            "type": "histogram"
           }
          ],
          "histogram2d": [
           {
            "colorbar": {
             "outlinewidth": 0,
             "ticks": ""
            },
            "colorscale": [
             [
              0,
              "#0d0887"
             ],
             [
              0.1111111111111111,
              "#46039f"
             ],
             [
              0.2222222222222222,
              "#7201a8"
             ],
             [
              0.3333333333333333,
              "#9c179e"
             ],
             [
              0.4444444444444444,
              "#bd3786"
             ],
             [
              0.5555555555555556,
              "#d8576b"
             ],
             [
              0.6666666666666666,
              "#ed7953"
             ],
             [
              0.7777777777777778,
              "#fb9f3a"
             ],
             [
              0.8888888888888888,
              "#fdca26"
             ],
             [
              1,
              "#f0f921"
             ]
            ],
            "type": "histogram2d"
           }
          ],
          "histogram2dcontour": [
           {
            "colorbar": {
             "outlinewidth": 0,
             "ticks": ""
            },
            "colorscale": [
             [
              0,
              "#0d0887"
             ],
             [
              0.1111111111111111,
              "#46039f"
             ],
             [
              0.2222222222222222,
              "#7201a8"
             ],
             [
              0.3333333333333333,
              "#9c179e"
             ],
             [
              0.4444444444444444,
              "#bd3786"
             ],
             [
              0.5555555555555556,
              "#d8576b"
             ],
             [
              0.6666666666666666,
              "#ed7953"
             ],
             [
              0.7777777777777778,
              "#fb9f3a"
             ],
             [
              0.8888888888888888,
              "#fdca26"
             ],
             [
              1,
              "#f0f921"
             ]
            ],
            "type": "histogram2dcontour"
           }
          ],
          "mesh3d": [
           {
            "colorbar": {
             "outlinewidth": 0,
             "ticks": ""
            },
            "type": "mesh3d"
           }
          ],
          "parcoords": [
           {
            "line": {
             "colorbar": {
              "outlinewidth": 0,
              "ticks": ""
             }
            },
            "type": "parcoords"
           }
          ],
          "pie": [
           {
            "automargin": true,
            "type": "pie"
           }
          ],
          "scatter": [
           {
            "fillpattern": {
             "fillmode": "overlay",
             "size": 10,
             "solidity": 0.2
            },
            "type": "scatter"
           }
          ],
          "scatter3d": [
           {
            "line": {
             "colorbar": {
              "outlinewidth": 0,
              "ticks": ""
             }
            },
            "marker": {
             "colorbar": {
              "outlinewidth": 0,
              "ticks": ""
             }
            },
            "type": "scatter3d"
           }
          ],
          "scattercarpet": [
           {
            "marker": {
             "colorbar": {
              "outlinewidth": 0,
              "ticks": ""
             }
            },
            "type": "scattercarpet"
           }
          ],
          "scattergeo": [
           {
            "marker": {
             "colorbar": {
              "outlinewidth": 0,
              "ticks": ""
             }
            },
            "type": "scattergeo"
           }
          ],
          "scattergl": [
           {
            "marker": {
             "colorbar": {
              "outlinewidth": 0,
              "ticks": ""
             }
            },
            "type": "scattergl"
           }
          ],
          "scattermapbox": [
           {
            "marker": {
             "colorbar": {
              "outlinewidth": 0,
              "ticks": ""
             }
            },
            "type": "scattermapbox"
           }
          ],
          "scatterpolar": [
           {
            "marker": {
             "colorbar": {
              "outlinewidth": 0,
              "ticks": ""
             }
            },
            "type": "scatterpolar"
           }
          ],
          "scatterpolargl": [
           {
            "marker": {
             "colorbar": {
              "outlinewidth": 0,
              "ticks": ""
             }
            },
            "type": "scatterpolargl"
           }
          ],
          "scatterternary": [
           {
            "marker": {
             "colorbar": {
              "outlinewidth": 0,
              "ticks": ""
             }
            },
            "type": "scatterternary"
           }
          ],
          "surface": [
           {
            "colorbar": {
             "outlinewidth": 0,
             "ticks": ""
            },
            "colorscale": [
             [
              0,
              "#0d0887"
             ],
             [
              0.1111111111111111,
              "#46039f"
             ],
             [
              0.2222222222222222,
              "#7201a8"
             ],
             [
              0.3333333333333333,
              "#9c179e"
             ],
             [
              0.4444444444444444,
              "#bd3786"
             ],
             [
              0.5555555555555556,
              "#d8576b"
             ],
             [
              0.6666666666666666,
              "#ed7953"
             ],
             [
              0.7777777777777778,
              "#fb9f3a"
             ],
             [
              0.8888888888888888,
              "#fdca26"
             ],
             [
              1,
              "#f0f921"
             ]
            ],
            "type": "surface"
           }
          ],
          "table": [
           {
            "cells": {
             "fill": {
              "color": "#EBF0F8"
             },
             "line": {
              "color": "white"
             }
            },
            "header": {
             "fill": {
              "color": "#C8D4E3"
             },
             "line": {
              "color": "white"
             }
            },
            "type": "table"
           }
          ]
         },
         "layout": {
          "annotationdefaults": {
           "arrowcolor": "#2a3f5f",
           "arrowhead": 0,
           "arrowwidth": 1
          },
          "autotypenumbers": "strict",
          "coloraxis": {
           "colorbar": {
            "outlinewidth": 0,
            "ticks": ""
           }
          },
          "colorscale": {
           "diverging": [
            [
             0,
             "#8e0152"
            ],
            [
             0.1,
             "#c51b7d"
            ],
            [
             0.2,
             "#de77ae"
            ],
            [
             0.3,
             "#f1b6da"
            ],
            [
             0.4,
             "#fde0ef"
            ],
            [
             0.5,
             "#f7f7f7"
            ],
            [
             0.6,
             "#e6f5d0"
            ],
            [
             0.7,
             "#b8e186"
            ],
            [
             0.8,
             "#7fbc41"
            ],
            [
             0.9,
             "#4d9221"
            ],
            [
             1,
             "#276419"
            ]
           ],
           "sequential": [
            [
             0,
             "#0d0887"
            ],
            [
             0.1111111111111111,
             "#46039f"
            ],
            [
             0.2222222222222222,
             "#7201a8"
            ],
            [
             0.3333333333333333,
             "#9c179e"
            ],
            [
             0.4444444444444444,
             "#bd3786"
            ],
            [
             0.5555555555555556,
             "#d8576b"
            ],
            [
             0.6666666666666666,
             "#ed7953"
            ],
            [
             0.7777777777777778,
             "#fb9f3a"
            ],
            [
             0.8888888888888888,
             "#fdca26"
            ],
            [
             1,
             "#f0f921"
            ]
           ],
           "sequentialminus": [
            [
             0,
             "#0d0887"
            ],
            [
             0.1111111111111111,
             "#46039f"
            ],
            [
             0.2222222222222222,
             "#7201a8"
            ],
            [
             0.3333333333333333,
             "#9c179e"
            ],
            [
             0.4444444444444444,
             "#bd3786"
            ],
            [
             0.5555555555555556,
             "#d8576b"
            ],
            [
             0.6666666666666666,
             "#ed7953"
            ],
            [
             0.7777777777777778,
             "#fb9f3a"
            ],
            [
             0.8888888888888888,
             "#fdca26"
            ],
            [
             1,
             "#f0f921"
            ]
           ]
          },
          "colorway": [
           "#636efa",
           "#EF553B",
           "#00cc96",
           "#ab63fa",
           "#FFA15A",
           "#19d3f3",
           "#FF6692",
           "#B6E880",
           "#FF97FF",
           "#FECB52"
          ],
          "font": {
           "color": "#2a3f5f"
          },
          "geo": {
           "bgcolor": "white",
           "lakecolor": "white",
           "landcolor": "#E5ECF6",
           "showlakes": true,
           "showland": true,
           "subunitcolor": "white"
          },
          "hoverlabel": {
           "align": "left"
          },
          "hovermode": "closest",
          "mapbox": {
           "style": "light"
          },
          "paper_bgcolor": "white",
          "plot_bgcolor": "#E5ECF6",
          "polar": {
           "angularaxis": {
            "gridcolor": "white",
            "linecolor": "white",
            "ticks": ""
           },
           "bgcolor": "#E5ECF6",
           "radialaxis": {
            "gridcolor": "white",
            "linecolor": "white",
            "ticks": ""
           }
          },
          "scene": {
           "xaxis": {
            "backgroundcolor": "#E5ECF6",
            "gridcolor": "white",
            "gridwidth": 2,
            "linecolor": "white",
            "showbackground": true,
            "ticks": "",
            "zerolinecolor": "white"
           },
           "yaxis": {
            "backgroundcolor": "#E5ECF6",
            "gridcolor": "white",
            "gridwidth": 2,
            "linecolor": "white",
            "showbackground": true,
            "ticks": "",
            "zerolinecolor": "white"
           },
           "zaxis": {
            "backgroundcolor": "#E5ECF6",
            "gridcolor": "white",
            "gridwidth": 2,
            "linecolor": "white",
            "showbackground": true,
            "ticks": "",
            "zerolinecolor": "white"
           }
          },
          "shapedefaults": {
           "line": {
            "color": "#2a3f5f"
           }
          },
          "ternary": {
           "aaxis": {
            "gridcolor": "white",
            "linecolor": "white",
            "ticks": ""
           },
           "baxis": {
            "gridcolor": "white",
            "linecolor": "white",
            "ticks": ""
           },
           "bgcolor": "#E5ECF6",
           "caxis": {
            "gridcolor": "white",
            "linecolor": "white",
            "ticks": ""
           }
          },
          "title": {
           "x": 0.05
          },
          "xaxis": {
           "automargin": true,
           "gridcolor": "white",
           "linecolor": "white",
           "ticks": "",
           "title": {
            "standoff": 15
           },
           "zerolinecolor": "white",
           "zerolinewidth": 2
          },
          "yaxis": {
           "automargin": true,
           "gridcolor": "white",
           "linecolor": "white",
           "ticks": "",
           "title": {
            "standoff": 15
           },
           "zerolinecolor": "white",
           "zerolinewidth": 2
          }
         }
        },
        "title": {
         "text": "Dissipated Energy"
        },
        "xaxis": {
         "showgrid": true,
         "showline": true,
         "title": {
          "text": "Time"
         },
         "zeroline": true
        },
        "yaxis": {
         "showgrid": true,
         "showline": true,
         "title": {
          "text": "Energy"
         },
         "zeroline": true
        }
       }
      }
     },
     "metadata": {},
     "output_type": "display_data"
    },
    {
     "data": {
      "application/vnd.plotly.v1+json": {
       "config": {
        "plotlyServerURL": "https://plot.ly"
       },
       "data": [
        {
         "mode": "lines",
         "name": "Dataset 0",
         "type": "scatter",
         "x": [
          0,
          2.9537541117770825e-9,
          5.907508223554165e-9,
          8.861262335331248e-9,
          1.181501644710833e-8,
          1.4768770558885414e-8,
          1.7722524670662496e-8,
          2.067627878243958e-8,
          2.363003289421666e-8,
          2.6583787005993744e-8,
          2.9537541117770828e-8,
          3.249129522954791e-8,
          3.544504934132499e-8,
          3.8398803453102076e-8,
          4.135255756487916e-8,
          4.4306311676656243e-8,
          4.726006578843332e-8,
          5.0213819900210404e-8,
          5.316757401198749e-8,
          5.612132812376457e-8,
          5.9075082235541656e-8,
          6.202883634731873e-8,
          6.498259045909582e-8,
          6.79363445708729e-8,
          7.089009868264998e-8,
          7.384385279442707e-8,
          7.679760690620415e-8,
          7.975136101798124e-8,
          8.270511512975832e-8,
          8.56588692415354e-8,
          8.861262335331249e-8,
          9.156637746508956e-8
         ],
         "y": [
          0,
          0,
          0,
          0,
          0,
          0,
          0,
          0,
          0,
          0,
          0,
          0,
          0,
          0,
          0,
          0,
          0,
          0,
          0,
          0,
          0,
          0,
          0,
          0,
          0,
          0,
          0,
          0,
          2.0623404030473788e-17,
          0,
          6.1057265002737994e-21,
          1.2344610624239451e-21
         ]
        },
        {
         "mode": "lines",
         "name": "Dataset 1",
         "type": "scatter",
         "x": [
          0,
          2.9537541117770825e-9,
          5.907508223554165e-9,
          8.861262335331248e-9,
          1.181501644710833e-8,
          1.4768770558885414e-8,
          1.7722524670662496e-8,
          2.067627878243958e-8,
          2.363003289421666e-8,
          2.6583787005993744e-8,
          2.9537541117770828e-8,
          3.249129522954791e-8,
          3.544504934132499e-8,
          3.8398803453102076e-8,
          4.135255756487916e-8,
          4.4306311676656243e-8,
          4.726006578843332e-8,
          5.0213819900210404e-8,
          5.316757401198749e-8,
          5.612132812376457e-8,
          5.9075082235541656e-8,
          6.202883634731873e-8,
          6.498259045909582e-8,
          6.79363445708729e-8,
          7.089009868264998e-8,
          7.384385279442707e-8,
          7.679760690620415e-8,
          7.975136101798124e-8,
          8.270511512975832e-8
         ],
         "y": [
          0,
          0,
          0,
          0,
          0,
          0,
          0,
          0,
          0,
          0,
          0,
          0,
          0,
          0,
          0,
          0,
          0,
          0,
          0,
          0,
          0,
          0,
          0,
          0,
          0,
          0,
          0,
          0,
          6.191778752817698e-22
         ]
        },
        {
         "mode": "lines",
         "name": "Dataset 2",
         "type": "scatter",
         "x": [
          0,
          2.9537541117770825e-9,
          5.907508223554165e-9,
          8.861262335331248e-9,
          1.181501644710833e-8,
          1.4768770558885414e-8,
          1.7722524670662496e-8,
          2.067627878243958e-8,
          2.363003289421666e-8,
          2.6583787005993744e-8,
          2.9537541117770828e-8,
          3.249129522954791e-8,
          3.544504934132499e-8,
          3.8398803453102076e-8,
          4.135255756487916e-8,
          4.4306311676656243e-8,
          4.726006578843332e-8,
          5.0213819900210404e-8,
          5.316757401198749e-8,
          5.612132812376457e-8,
          5.9075082235541656e-8,
          6.202883634731873e-8,
          6.498259045909582e-8,
          6.79363445708729e-8,
          7.089009868264998e-8,
          7.384385279442707e-8,
          7.679760690620415e-8,
          7.975136101798124e-8,
          8.270511512975832e-8
         ],
         "y": [
          0,
          0,
          0,
          0,
          0,
          0,
          0,
          0,
          0,
          0,
          0,
          0,
          0,
          0,
          0,
          0,
          0,
          0,
          0,
          0,
          0,
          0,
          0,
          0,
          0,
          0,
          0,
          0,
          0
         ]
        }
       ],
       "layout": {
        "legend": {
         "title": {
          "text": "Datasets"
         }
        },
        "template": {
         "data": {
          "bar": [
           {
            "error_x": {
             "color": "#2a3f5f"
            },
            "error_y": {
             "color": "#2a3f5f"
            },
            "marker": {
             "line": {
              "color": "#E5ECF6",
              "width": 0.5
             },
             "pattern": {
              "fillmode": "overlay",
              "size": 10,
              "solidity": 0.2
             }
            },
            "type": "bar"
           }
          ],
          "barpolar": [
           {
            "marker": {
             "line": {
              "color": "#E5ECF6",
              "width": 0.5
             },
             "pattern": {
              "fillmode": "overlay",
              "size": 10,
              "solidity": 0.2
             }
            },
            "type": "barpolar"
           }
          ],
          "carpet": [
           {
            "aaxis": {
             "endlinecolor": "#2a3f5f",
             "gridcolor": "white",
             "linecolor": "white",
             "minorgridcolor": "white",
             "startlinecolor": "#2a3f5f"
            },
            "baxis": {
             "endlinecolor": "#2a3f5f",
             "gridcolor": "white",
             "linecolor": "white",
             "minorgridcolor": "white",
             "startlinecolor": "#2a3f5f"
            },
            "type": "carpet"
           }
          ],
          "choropleth": [
           {
            "colorbar": {
             "outlinewidth": 0,
             "ticks": ""
            },
            "type": "choropleth"
           }
          ],
          "contour": [
           {
            "colorbar": {
             "outlinewidth": 0,
             "ticks": ""
            },
            "colorscale": [
             [
              0,
              "#0d0887"
             ],
             [
              0.1111111111111111,
              "#46039f"
             ],
             [
              0.2222222222222222,
              "#7201a8"
             ],
             [
              0.3333333333333333,
              "#9c179e"
             ],
             [
              0.4444444444444444,
              "#bd3786"
             ],
             [
              0.5555555555555556,
              "#d8576b"
             ],
             [
              0.6666666666666666,
              "#ed7953"
             ],
             [
              0.7777777777777778,
              "#fb9f3a"
             ],
             [
              0.8888888888888888,
              "#fdca26"
             ],
             [
              1,
              "#f0f921"
             ]
            ],
            "type": "contour"
           }
          ],
          "contourcarpet": [
           {
            "colorbar": {
             "outlinewidth": 0,
             "ticks": ""
            },
            "type": "contourcarpet"
           }
          ],
          "heatmap": [
           {
            "colorbar": {
             "outlinewidth": 0,
             "ticks": ""
            },
            "colorscale": [
             [
              0,
              "#0d0887"
             ],
             [
              0.1111111111111111,
              "#46039f"
             ],
             [
              0.2222222222222222,
              "#7201a8"
             ],
             [
              0.3333333333333333,
              "#9c179e"
             ],
             [
              0.4444444444444444,
              "#bd3786"
             ],
             [
              0.5555555555555556,
              "#d8576b"
             ],
             [
              0.6666666666666666,
              "#ed7953"
             ],
             [
              0.7777777777777778,
              "#fb9f3a"
             ],
             [
              0.8888888888888888,
              "#fdca26"
             ],
             [
              1,
              "#f0f921"
             ]
            ],
            "type": "heatmap"
           }
          ],
          "heatmapgl": [
           {
            "colorbar": {
             "outlinewidth": 0,
             "ticks": ""
            },
            "colorscale": [
             [
              0,
              "#0d0887"
             ],
             [
              0.1111111111111111,
              "#46039f"
             ],
             [
              0.2222222222222222,
              "#7201a8"
             ],
             [
              0.3333333333333333,
              "#9c179e"
             ],
             [
              0.4444444444444444,
              "#bd3786"
             ],
             [
              0.5555555555555556,
              "#d8576b"
             ],
             [
              0.6666666666666666,
              "#ed7953"
             ],
             [
              0.7777777777777778,
              "#fb9f3a"
             ],
             [
              0.8888888888888888,
              "#fdca26"
             ],
             [
              1,
              "#f0f921"
             ]
            ],
            "type": "heatmapgl"
           }
          ],
          "histogram": [
           {
            "marker": {
             "pattern": {
              "fillmode": "overlay",
              "size": 10,
              "solidity": 0.2
             }
            },
            "type": "histogram"
           }
          ],
          "histogram2d": [
           {
            "colorbar": {
             "outlinewidth": 0,
             "ticks": ""
            },
            "colorscale": [
             [
              0,
              "#0d0887"
             ],
             [
              0.1111111111111111,
              "#46039f"
             ],
             [
              0.2222222222222222,
              "#7201a8"
             ],
             [
              0.3333333333333333,
              "#9c179e"
             ],
             [
              0.4444444444444444,
              "#bd3786"
             ],
             [
              0.5555555555555556,
              "#d8576b"
             ],
             [
              0.6666666666666666,
              "#ed7953"
             ],
             [
              0.7777777777777778,
              "#fb9f3a"
             ],
             [
              0.8888888888888888,
              "#fdca26"
             ],
             [
              1,
              "#f0f921"
             ]
            ],
            "type": "histogram2d"
           }
          ],
          "histogram2dcontour": [
           {
            "colorbar": {
             "outlinewidth": 0,
             "ticks": ""
            },
            "colorscale": [
             [
              0,
              "#0d0887"
             ],
             [
              0.1111111111111111,
              "#46039f"
             ],
             [
              0.2222222222222222,
              "#7201a8"
             ],
             [
              0.3333333333333333,
              "#9c179e"
             ],
             [
              0.4444444444444444,
              "#bd3786"
             ],
             [
              0.5555555555555556,
              "#d8576b"
             ],
             [
              0.6666666666666666,
              "#ed7953"
             ],
             [
              0.7777777777777778,
              "#fb9f3a"
             ],
             [
              0.8888888888888888,
              "#fdca26"
             ],
             [
              1,
              "#f0f921"
             ]
            ],
            "type": "histogram2dcontour"
           }
          ],
          "mesh3d": [
           {
            "colorbar": {
             "outlinewidth": 0,
             "ticks": ""
            },
            "type": "mesh3d"
           }
          ],
          "parcoords": [
           {
            "line": {
             "colorbar": {
              "outlinewidth": 0,
              "ticks": ""
             }
            },
            "type": "parcoords"
           }
          ],
          "pie": [
           {
            "automargin": true,
            "type": "pie"
           }
          ],
          "scatter": [
           {
            "fillpattern": {
             "fillmode": "overlay",
             "size": 10,
             "solidity": 0.2
            },
            "type": "scatter"
           }
          ],
          "scatter3d": [
           {
            "line": {
             "colorbar": {
              "outlinewidth": 0,
              "ticks": ""
             }
            },
            "marker": {
             "colorbar": {
              "outlinewidth": 0,
              "ticks": ""
             }
            },
            "type": "scatter3d"
           }
          ],
          "scattercarpet": [
           {
            "marker": {
             "colorbar": {
              "outlinewidth": 0,
              "ticks": ""
             }
            },
            "type": "scattercarpet"
           }
          ],
          "scattergeo": [
           {
            "marker": {
             "colorbar": {
              "outlinewidth": 0,
              "ticks": ""
             }
            },
            "type": "scattergeo"
           }
          ],
          "scattergl": [
           {
            "marker": {
             "colorbar": {
              "outlinewidth": 0,
              "ticks": ""
             }
            },
            "type": "scattergl"
           }
          ],
          "scattermapbox": [
           {
            "marker": {
             "colorbar": {
              "outlinewidth": 0,
              "ticks": ""
             }
            },
            "type": "scattermapbox"
           }
          ],
          "scatterpolar": [
           {
            "marker": {
             "colorbar": {
              "outlinewidth": 0,
              "ticks": ""
             }
            },
            "type": "scatterpolar"
           }
          ],
          "scatterpolargl": [
           {
            "marker": {
             "colorbar": {
              "outlinewidth": 0,
              "ticks": ""
             }
            },
            "type": "scatterpolargl"
           }
          ],
          "scatterternary": [
           {
            "marker": {
             "colorbar": {
              "outlinewidth": 0,
              "ticks": ""
             }
            },
            "type": "scatterternary"
           }
          ],
          "surface": [
           {
            "colorbar": {
             "outlinewidth": 0,
             "ticks": ""
            },
            "colorscale": [
             [
              0,
              "#0d0887"
             ],
             [
              0.1111111111111111,
              "#46039f"
             ],
             [
              0.2222222222222222,
              "#7201a8"
             ],
             [
              0.3333333333333333,
              "#9c179e"
             ],
             [
              0.4444444444444444,
              "#bd3786"
             ],
             [
              0.5555555555555556,
              "#d8576b"
             ],
             [
              0.6666666666666666,
              "#ed7953"
             ],
             [
              0.7777777777777778,
              "#fb9f3a"
             ],
             [
              0.8888888888888888,
              "#fdca26"
             ],
             [
              1,
              "#f0f921"
             ]
            ],
            "type": "surface"
           }
          ],
          "table": [
           {
            "cells": {
             "fill": {
              "color": "#EBF0F8"
             },
             "line": {
              "color": "white"
             }
            },
            "header": {
             "fill": {
              "color": "#C8D4E3"
             },
             "line": {
              "color": "white"
             }
            },
            "type": "table"
           }
          ]
         },
         "layout": {
          "annotationdefaults": {
           "arrowcolor": "#2a3f5f",
           "arrowhead": 0,
           "arrowwidth": 1
          },
          "autotypenumbers": "strict",
          "coloraxis": {
           "colorbar": {
            "outlinewidth": 0,
            "ticks": ""
           }
          },
          "colorscale": {
           "diverging": [
            [
             0,
             "#8e0152"
            ],
            [
             0.1,
             "#c51b7d"
            ],
            [
             0.2,
             "#de77ae"
            ],
            [
             0.3,
             "#f1b6da"
            ],
            [
             0.4,
             "#fde0ef"
            ],
            [
             0.5,
             "#f7f7f7"
            ],
            [
             0.6,
             "#e6f5d0"
            ],
            [
             0.7,
             "#b8e186"
            ],
            [
             0.8,
             "#7fbc41"
            ],
            [
             0.9,
             "#4d9221"
            ],
            [
             1,
             "#276419"
            ]
           ],
           "sequential": [
            [
             0,
             "#0d0887"
            ],
            [
             0.1111111111111111,
             "#46039f"
            ],
            [
             0.2222222222222222,
             "#7201a8"
            ],
            [
             0.3333333333333333,
             "#9c179e"
            ],
            [
             0.4444444444444444,
             "#bd3786"
            ],
            [
             0.5555555555555556,
             "#d8576b"
            ],
            [
             0.6666666666666666,
             "#ed7953"
            ],
            [
             0.7777777777777778,
             "#fb9f3a"
            ],
            [
             0.8888888888888888,
             "#fdca26"
            ],
            [
             1,
             "#f0f921"
            ]
           ],
           "sequentialminus": [
            [
             0,
             "#0d0887"
            ],
            [
             0.1111111111111111,
             "#46039f"
            ],
            [
             0.2222222222222222,
             "#7201a8"
            ],
            [
             0.3333333333333333,
             "#9c179e"
            ],
            [
             0.4444444444444444,
             "#bd3786"
            ],
            [
             0.5555555555555556,
             "#d8576b"
            ],
            [
             0.6666666666666666,
             "#ed7953"
            ],
            [
             0.7777777777777778,
             "#fb9f3a"
            ],
            [
             0.8888888888888888,
             "#fdca26"
            ],
            [
             1,
             "#f0f921"
            ]
           ]
          },
          "colorway": [
           "#636efa",
           "#EF553B",
           "#00cc96",
           "#ab63fa",
           "#FFA15A",
           "#19d3f3",
           "#FF6692",
           "#B6E880",
           "#FF97FF",
           "#FECB52"
          ],
          "font": {
           "color": "#2a3f5f"
          },
          "geo": {
           "bgcolor": "white",
           "lakecolor": "white",
           "landcolor": "#E5ECF6",
           "showlakes": true,
           "showland": true,
           "subunitcolor": "white"
          },
          "hoverlabel": {
           "align": "left"
          },
          "hovermode": "closest",
          "mapbox": {
           "style": "light"
          },
          "paper_bgcolor": "white",
          "plot_bgcolor": "#E5ECF6",
          "polar": {
           "angularaxis": {
            "gridcolor": "white",
            "linecolor": "white",
            "ticks": ""
           },
           "bgcolor": "#E5ECF6",
           "radialaxis": {
            "gridcolor": "white",
            "linecolor": "white",
            "ticks": ""
           }
          },
          "scene": {
           "xaxis": {
            "backgroundcolor": "#E5ECF6",
            "gridcolor": "white",
            "gridwidth": 2,
            "linecolor": "white",
            "showbackground": true,
            "ticks": "",
            "zerolinecolor": "white"
           },
           "yaxis": {
            "backgroundcolor": "#E5ECF6",
            "gridcolor": "white",
            "gridwidth": 2,
            "linecolor": "white",
            "showbackground": true,
            "ticks": "",
            "zerolinecolor": "white"
           },
           "zaxis": {
            "backgroundcolor": "#E5ECF6",
            "gridcolor": "white",
            "gridwidth": 2,
            "linecolor": "white",
            "showbackground": true,
            "ticks": "",
            "zerolinecolor": "white"
           }
          },
          "shapedefaults": {
           "line": {
            "color": "#2a3f5f"
           }
          },
          "ternary": {
           "aaxis": {
            "gridcolor": "white",
            "linecolor": "white",
            "ticks": ""
           },
           "baxis": {
            "gridcolor": "white",
            "linecolor": "white",
            "ticks": ""
           },
           "bgcolor": "#E5ECF6",
           "caxis": {
            "gridcolor": "white",
            "linecolor": "white",
            "ticks": ""
           }
          },
          "title": {
           "x": 0.05
          },
          "xaxis": {
           "automargin": true,
           "gridcolor": "white",
           "linecolor": "white",
           "ticks": "",
           "title": {
            "standoff": 15
           },
           "zerolinecolor": "white",
           "zerolinewidth": 2
          },
          "yaxis": {
           "automargin": true,
           "gridcolor": "white",
           "linecolor": "white",
           "ticks": "",
           "title": {
            "standoff": 15
           },
           "zerolinecolor": "white",
           "zerolinewidth": 2
          }
         }
        },
        "title": {
         "text": "Contact Energy"
        },
        "xaxis": {
         "showgrid": true,
         "showline": true,
         "title": {
          "text": "Time"
         },
         "zeroline": true
        },
        "yaxis": {
         "showgrid": true,
         "showline": true,
         "title": {
          "text": "Energy"
         },
         "zeroline": true
        }
       }
      }
     },
     "metadata": {},
     "output_type": "display_data"
    }
   ],
   "source": [
    "# Plot energy balance for each data\n",
    "\n",
    "fig = go.Figure()\n",
    "for i, data in enumerate(datasets):\n",
    "    fig.add_trace(go.Scatter(x=data['time'], y=data['total_energy']-data['total_energy'][0], mode='lines', name=f'Dataset {i}'))\n",
    "\n",
    "fig.update_layout(\n",
    "    title='Energy Balance',\n",
    "    xaxis_title='Time',\n",
    "    yaxis_title='Energy',\n",
    "    legend_title='Datasets',\n",
    "    xaxis=dict(showgrid=True, zeroline=True, showline=True, title='Time'),\n",
    "    yaxis=dict(showgrid=True, zeroline=True, showline=True, title='Energy')\n",
    ")\n",
    "\n",
    "fig.show()\n",
    "\n",
    "# Plot erev\n",
    "\n",
    "fig = go.Figure()\n",
    "for i, data in enumerate(datasets):\n",
    "    fig.add_trace(go.Scatter(x=data['time'], y=data['erev']-data['erev'][0], mode='lines', name=f'Dataset {i}'))\n",
    "\n",
    "fig.update_layout(\n",
    "    title='Cohesive Energy',\n",
    "    xaxis_title='Time',\n",
    "    yaxis_title='Energy',\n",
    "    legend_title='Datasets',\n",
    "    xaxis=dict(showgrid=True, zeroline=True, showline=True, title='Time'),\n",
    "    yaxis=dict(showgrid=True, zeroline=True, showline=True, title='Energy')\n",
    ")\n",
    "\n",
    "fig.show()\n",
    "\n",
    "# Plot edis\n",
    "\n",
    "fig = go.Figure()\n",
    "for i, data in enumerate(datasets):\n",
    "    fig.add_trace(go.Scatter(x=data['time'], y=data['edis']-data['edis'][0], mode='lines', name=f'Dataset {i}'))\n",
    "\n",
    "fig.update_layout(\n",
    "    title='Dissipated Energy',\n",
    "    xaxis_title='Time',\n",
    "    yaxis_title='Energy',\n",
    "    legend_title='Datasets',\n",
    "    xaxis=dict(showgrid=True, zeroline=True, showline=True, title='Time'),\n",
    "    yaxis=dict(showgrid=True, zeroline=True, showline=True, title='Energy')\n",
    ")\n",
    "\n",
    "fig.show()\n",
    "\n",
    "\n",
    "\n",
    "# Plot econ\n",
    "\n",
    "fig = go.Figure()\n",
    "for i, data in enumerate(datasets):\n",
    "    fig.add_trace(go.Scatter(x=data['time'], y=data['econ']-data['econ'][0], mode='lines', name=f'Dataset {i}'))\n",
    "\n",
    "fig.update_layout(\n",
    "    title='Contact Energy',\n",
    "    xaxis_title='Time',\n",
    "    yaxis_title='Energy',\n",
    "    legend_title='Datasets',\n",
    "    xaxis=dict(showgrid=True, zeroline=True, showline=True, title='Time'),\n",
    "    yaxis=dict(showgrid=True, zeroline=True, showline=True, title='Energy')\n",
    ")\n",
    "\n",
    "fig.show()\n"
   ]
  },
  {
   "cell_type": "code",
   "execution_count": 10,
   "id": "3d96a01f",
   "metadata": {},
   "outputs": [],
   "source": [
    "# Plot cohesive energy"
   ]
  },
  {
   "cell_type": "code",
   "execution_count": 11,
   "id": "fc92a9d6",
   "metadata": {},
   "outputs": [
    {
     "ename": "IndexError",
     "evalue": "list index out of range",
     "output_type": "error",
     "traceback": [
      "\u001b[31m---------------------------------------------------------------------------\u001b[39m",
      "\u001b[31mIndexError\u001b[39m                                Traceback (most recent call last)",
      "\u001b[36mCell\u001b[39m\u001b[36m \u001b[39m\u001b[32mIn[11]\u001b[39m\u001b[32m, line 7\u001b[39m\n\u001b[32m      5\u001b[39m fig = go.Figure()\n\u001b[32m      6\u001b[39m \u001b[38;5;28;01mfor\u001b[39;00m i, data \u001b[38;5;129;01min\u001b[39;00m \u001b[38;5;28menumerate\u001b[39m(datasets):\n\u001b[32m----> \u001b[39m\u001b[32m7\u001b[39m     fig.add_trace(go.Scatter(x=data[\u001b[33m'\u001b[39m\u001b[33mtime\u001b[39m\u001b[33m'\u001b[39m], y=(data[\u001b[33m'\u001b[39m\u001b[33medis\u001b[39m\u001b[33m'\u001b[39m]-data[\u001b[33m'\u001b[39m\u001b[33medis\u001b[39m\u001b[33m'\u001b[39m][\u001b[32m0\u001b[39m])/inj_energy_final, mode=\u001b[33m'\u001b[39m\u001b[33mlines\u001b[39m\u001b[33m'\u001b[39m, name=\u001b[43mnames\u001b[49m\u001b[43m[\u001b[49m\u001b[43mi\u001b[49m\u001b[43m]\u001b[49m, line=\u001b[38;5;28mdict\u001b[39m(color=\u001b[33m'\u001b[39m\u001b[33mgrey\u001b[39m\u001b[33m'\u001b[39m, dash=dashes[i]), \n\u001b[32m      8\u001b[39m                              yaxis=\u001b[33m'\u001b[39m\u001b[33my1\u001b[39m\u001b[33m'\u001b[39m, fill=\u001b[33m'\u001b[39m\u001b[33mtozeroy\u001b[39m\u001b[33m'\u001b[39m, fillcolor=\u001b[33m'\u001b[39m\u001b[33mrgba(211, 211, 211, 0.6)\u001b[39m\u001b[33m'\u001b[39m, showlegend=\u001b[38;5;28;01mFalse\u001b[39;00m))\n\u001b[32m      9\u001b[39m     fig.add_trace(go.Scatter(x=data[\u001b[33m'\u001b[39m\u001b[33mtime\u001b[39m\u001b[33m'\u001b[39m], y=data[\u001b[33m'\u001b[39m\u001b[33mnb_fragments\u001b[39m\u001b[33m'\u001b[39m], mode=\u001b[33m'\u001b[39m\u001b[33mlines\u001b[39m\u001b[33m'\u001b[39m, name=names[i], line=\u001b[38;5;28mdict\u001b[39m(color=\u001b[33m'\u001b[39m\u001b[33mblack\u001b[39m\u001b[33m'\u001b[39m, dash=dashes[i]), yaxis=\u001b[33m'\u001b[39m\u001b[33my2\u001b[39m\u001b[33m'\u001b[39m, showlegend=\u001b[38;5;28;01mTrue\u001b[39;00m))\n\u001b[32m     10\u001b[39m fig.update_layout(\n\u001b[32m     11\u001b[39m     title=\u001b[33m'\u001b[39m\u001b[33mDissipated energy vs Time\u001b[39m\u001b[33m'\u001b[39m,\n\u001b[32m     12\u001b[39m     xaxis_title=\u001b[33m'\u001b[39m\u001b[33mTime (s)\u001b[39m\u001b[33m'\u001b[39m,\n\u001b[32m   (...)\u001b[39m\u001b[32m     74\u001b[39m     showlegend=\u001b[38;5;28;01mTrue\u001b[39;00m,\n\u001b[32m     75\u001b[39m     template=\u001b[33m\"\u001b[39m\u001b[33mplotly_white\u001b[39m\u001b[33m\"\u001b[39m)\n",
      "\u001b[31mIndexError\u001b[39m: list index out of range"
     ]
    }
   ],
   "source": [
    "# Plot dissipated energy vs time\n",
    "names = [r'$\\text{Fixed } k^-$',\n",
    "         r'$\\text{Adaptive } k^-$']\n",
    "dashes = ['solid', 'dot'] \n",
    "fig = go.Figure()\n",
    "for i, data in enumerate(datasets):\n",
    "    fig.add_trace(go.Scatter(x=data['time'], y=(data['edis']-data['edis'][0])/inj_energy_final, mode='lines', name=names[i], line=dict(color='grey', dash=dashes[i]), \n",
    "                             yaxis='y1', fill='tozeroy', fillcolor='rgba(211, 211, 211, 0.6)', showlegend=False))\n",
    "    fig.add_trace(go.Scatter(x=data['time'], y=data['nb_fragments'], mode='lines', name=names[i], line=dict(color='black', dash=dashes[i]), yaxis='y2', showlegend=True))\n",
    "fig.update_layout(\n",
    "    title='Dissipated energy vs Time',\n",
    "    xaxis_title='Time (s)',\n",
    "    yaxis_title=r\"$\\mathcal{G}/\\mathcal{E}_\\text{inj}$\",\n",
    "    xaxis=dict(\n",
    "        showgrid=False,\n",
    "        showline=True,\n",
    "        linewidth=1,\n",
    "        linecolor='black',\n",
    "        mirror=True,\n",
    "        zeroline=False,\n",
    "        ticks='inside',\n",
    "        exponentformat='power',\n",
    "        showexponent='last',\n",
    "        tickfont=dict(size=12),\n",
    "        range=[0, 1e-4],\n",
    "        dtick=2e-5,\n",
    "    ),\n",
    "    yaxis=dict(\n",
    "        showgrid=False,\n",
    "        showline=True,\n",
    "        linewidth=1,\n",
    "        linecolor='black',\n",
    "        mirror=True,\n",
    "        zeroline=False,\n",
    "        ticks='inside',\n",
    "        exponentformat='power',\n",
    "        tickfont=dict(size=12),  \n",
    "        range=[0, 0.6],\n",
    "    ),\n",
    "    yaxis2=dict(\n",
    "        title=r\"$N_\\text{frag}$\",\n",
    "        showgrid=False,\n",
    "        showline=True,\n",
    "        linewidth=1,\n",
    "        linecolor='black',\n",
    "        mirror=True,\n",
    "        zeroline=False,\n",
    "        ticks='inside',\n",
    "        exponentformat='power',\n",
    "        tickfont=dict(size=12),  \n",
    "        overlaying='y',\n",
    "        side='right',\n",
    "        position=1,\n",
    "        range=[0, 800],\n",
    "    ),\n",
    "\n",
    "    font=dict(\n",
    "        family=\"Latin-Modern\",\n",
    "        size=12,\n",
    "        color=\"Black\"\n",
    "    ),\n",
    "    legend=dict(\n",
    "        x=0.97,              # position from the left (0 to 1)\n",
    "        y=0.27,              # position from the bottom (0 to 1)\n",
    "        bgcolor='rgba(255, 255, 255, 0.8)',  # white with 80% opacity\n",
    "        bordercolor='black',\n",
    "        borderwidth=1,\n",
    "        orientation='v',\n",
    "        xanchor='right',\n",
    "        yanchor='top',\n",
    "    ),\n",
    "    width=400,\n",
    "    height=400,\n",
    "    showlegend=True,\n",
    "    template=\"plotly_white\")\n",
    "fig.show()\n",
    "#fig.write_image(\"../output/plots/paper/dissipated_energy_and_nfrag_vs_time_t04.pdf\", width=400, height=400)"
   ]
  },
  {
   "cell_type": "code",
   "execution_count": null,
   "id": "7577d021",
   "metadata": {},
   "outputs": [],
   "source": []
  },
  {
   "cell_type": "markdown",
   "id": "f173d318",
   "metadata": {},
   "source": [
    "### Instability types"
   ]
  },
  {
   "cell_type": "code",
   "execution_count": null,
   "id": "423e8ac3",
   "metadata": {},
   "outputs": [
    {
     "ename": "KeyError",
     "evalue": "'num_contact_overshoot'",
     "output_type": "error",
     "traceback": [
      "\u001b[31m---------------------------------------------------------------------------\u001b[39m",
      "\u001b[31mKeyError\u001b[39m                                  Traceback (most recent call last)",
      "\u001b[36mCell\u001b[39m\u001b[36m \u001b[39m\u001b[32mIn[24]\u001b[39m\u001b[32m, line 2\u001b[39m\n\u001b[32m      1\u001b[39m fig = go.Figure()\n\u001b[32m----> \u001b[39m\u001b[32m2\u001b[39m fig.add_trace(go.Scatter(x=data[\u001b[33m'\u001b[39m\u001b[33mtime\u001b[39m\u001b[33m'\u001b[39m], y=\u001b[43mdata\u001b[49m\u001b[43m[\u001b[49m\u001b[33;43m'\u001b[39;49m\u001b[33;43mnum_contact_overshoot\u001b[39;49m\u001b[33;43m'\u001b[39;49m\u001b[43m]\u001b[49m, mode=\u001b[33m'\u001b[39m\u001b[33mlines\u001b[39m\u001b[33m'\u001b[39m, name=\u001b[33m'\u001b[39m\u001b[33mContact\u001b[39m\u001b[33m'\u001b[39m, line=\u001b[38;5;28mdict\u001b[39m(color=\u001b[33m'\u001b[39m\u001b[33mred\u001b[39m\u001b[33m'\u001b[39m, width=\u001b[32m2\u001b[39m)))\n\u001b[32m      3\u001b[39m fig.add_trace(go.Scatter(x=data[\u001b[33m'\u001b[39m\u001b[33mtime\u001b[39m\u001b[33m'\u001b[39m], y=data[\u001b[33m'\u001b[39m\u001b[33mnum_softening_overshoot\u001b[39m\u001b[33m'\u001b[39m], mode=\u001b[33m'\u001b[39m\u001b[33mlines\u001b[39m\u001b[33m'\u001b[39m, name=\u001b[33m'\u001b[39m\u001b[33mSoftening\u001b[39m\u001b[33m'\u001b[39m, line=\u001b[38;5;28mdict\u001b[39m(color=\u001b[33m'\u001b[39m\u001b[33mblack\u001b[39m\u001b[33m'\u001b[39m, width=\u001b[32m2\u001b[39m)))\n\u001b[32m      4\u001b[39m \u001b[38;5;66;03m#fig.add_trace(go.Scatter(x=data['time'], y=data['num_initial_unstable_state'], mode='lines', name='Initial Unstable State', line=dict(color='blue', width=2)))\u001b[39;00m\n",
      "\u001b[31mKeyError\u001b[39m: 'num_contact_overshoot'"
     ]
    }
   ],
   "source": [
    "fig = go.Figure()\n",
    "fig.add_trace(go.Scatter(x=data['time'], y=data['num_contact_overshoot'], mode='lines', name='Contact', line=dict(color='red', width=2)))\n",
    "fig.add_trace(go.Scatter(x=data['time'], y=data['num_softening_overshoot'], mode='lines', name='Softening', line=dict(color='black', width=2)))\n",
    "#fig.add_trace(go.Scatter(x=data['time'], y=data['num_initial_unstable_state'], mode='lines', name='Initial Unstable State', line=dict(color='blue', width=2)))\n",
    "fig.update_layout(\n",
    "    title='Instability type vs Time',\n",
    "    xaxis_title='Time (s)',\n",
    "    yaxis_title=r\"$N_\\text{q}$\",\n",
    "    xaxis=dict(\n",
    "        showgrid=False,\n",
    "        showline=True,\n",
    "        linewidth=1,\n",
    "        linecolor='black',\n",
    "        mirror=True,\n",
    "        zeroline=False,\n",
    "        ticks='inside',\n",
    "        exponentformat='power',\n",
    "        showexponent='last',\n",
    "        dtick=2e-5,\n",
    "        tickfont=dict(size=12),\n",
    "        range=[0, 1e-4],\n",
    "    ),\n",
    "    yaxis=dict(\n",
    "        showgrid=False,\n",
    "        showline=True,\n",
    "        linewidth=1,\n",
    "        linecolor='black',\n",
    "        mirror=True,\n",
    "        zeroline=False,\n",
    "        ticks='inside',\n",
    "        exponentformat='power',\n",
    "        tickfont=dict(size=12),\n",
    "        #type='log',  \n",
    "        range=[0, 8e4],\n",
    "    ),\n",
    "    font=dict(\n",
    "        family=\"Latin-Modern\",\n",
    "        size=12,\n",
    "        color=\"Black\"\n",
    "    ),\n",
    "    legend=dict(\n",
    "        x=0.9,              # position from the left (0 to 1)\n",
    "        y=0.58,              # position from the bottom (0 to 1)\n",
    "        bgcolor='rgba(255, 255, 255, 0.5)',  # white with 80% opacity\n",
    "        bordercolor='black',\n",
    "        borderwidth=1,\n",
    "        orientation='v',   \n",
    "        xanchor='right',\n",
    "        yanchor='top',\n",
    "    ),\n",
    "    width=400, \n",
    "    height=400,\n",
    "    showlegend=True,\n",
    "    template=\"plotly_white\")\n",
    "fig.show()\n",
    "#fig.write_image(\"../output/plots/paper/overshoot_vs_time_unstable_t04.pdf\", width=400, height=280)"
   ]
  },
  {
   "cell_type": "code",
   "execution_count": null,
   "id": "462aaa9c",
   "metadata": {},
   "outputs": [],
   "source": [
    "# Smoothen ekin and plot its derivative\n",
    "import numpy as np\n",
    "def smooth(data, window_size=5):\n",
    "    return np.convolve(data, np.ones(window_size)/window_size, mode='valid')\n",
    "\n",
    "ekin_smooth = smooth(data['ekin'], window_size=100) \n",
    "ekin_derivative = np.gradient(ekin_smooth, data['time'][1] - data['time'][0])"
   ]
  },
  {
   "cell_type": "code",
   "execution_count": null,
   "id": "a2cc1c1c",
   "metadata": {},
   "outputs": [
    {
     "data": {
      "application/vnd.plotly.v1+json": {
       "config": {
        "plotlyServerURL": "https://plot.ly"
       },
       "data": [
        {
         "line": {
          "color": "red",
          "width": 2
         },
         "mode": "lines",
         "name": "Contact",
         "type": "scatter",
         "x": [
          0,
          4.995743849904886e-8,
          9.991487699809772e-8,
          1.4987231549714657e-7,
          1.9982975399619544e-7,
          2.497871924952443e-7,
          2.9974463099429314e-7,
          3.49702069493342e-7,
          3.9965950799239087e-7,
          4.4961694649143974e-7,
          4.995743849904886e-7,
          5.495318234895374e-7,
          5.994892619885863e-7,
          6.494467004876351e-7,
          6.99404138986684e-7,
          7.493615774857329e-7,
          7.993190159847817e-7,
          8.492764544838306e-7,
          8.992338929828795e-7,
          9.491913314819283e-7,
          9.99148769980977e-7,
          0.000001049106208480026,
          0.0000010990636469790748,
          0.0000011490210854781237,
          0.0000011989785239771726,
          0.0000012489359624762214,
          0.0000012988934009752703,
          0.0000013488508394743192,
          0.000001398808277973368,
          0.000001448765716472417,
          0.0000014987231549714658,
          0.0000015486805934705146,
          0.0000015986380319695635,
          0.0000016485954704686124,
          0.0000016985529089676612,
          0.00000174851034746671,
          0.000001798467785965759,
          0.0000018484252244648078,
          0.0000018983826629638567,
          0.0000019483401014629053,
          0.000001998297539961954,
          0.000002048254978461003,
          0.000002098212416960052,
          0.000002148169855459101,
          0.0000021981272939581497,
          0.0000022480847324571985,
          0.0000022980421709562474,
          0.0000023479996094552963,
          0.000002397957047954345,
          0.000002447914486453394,
          0.000002497871924952443,
          0.0000025478293634514917,
          0.0000025977868019505406,
          0.0000026477442404495895,
          0.0000026977016789486383,
          0.000002747659117447687,
          0.000002797616555946736,
          0.000002847573994445785,
          0.000002897531432944834,
          0.0000029474888714438827,
          0.0000029974463099429315,
          0.0000030474037484419804,
          0.0000030973611869410293,
          0.000003147318625440078,
          0.000003197276063939127,
          0.000003247233502438176,
          0.0000032971909409372247,
          0.0000033471483794362736,
          0.0000033971058179353225,
          0.0000034470632564343713,
          0.00000349702069493342,
          0.000003546978133432469,
          0.000003596935571931518,
          0.0000036468930104305668,
          0.0000036968504489296156,
          0.0000037468078874286645,
          0.0000037967653259277134,
          0.000003846722764426762,
          0.000003896680202925811,
          0.00000394663764142486,
          0.000003996595079923908,
          0.000004046552518422958,
          0.000004096509956922006,
          0.0000041464673954210554,
          0.000004196424833920104,
          0.000004246382272419153,
          0.000004296339710918202,
          0.000004346297149417251,
          0.000004396254587916299,
          0.000004446212026415349,
          0.000004496169464914397,
          0.000004546126903413446,
          0.000004596084341912495,
          0.000004646041780411544,
          0.0000046959992189105925,
          0.000004745956657409642,
          0.00000479591409590869,
          0.0000048458715344077396,
          0.000004895828972906788,
          0.000004945786411405837,
          0.000004995743849904886,
          0.000005045701288403935,
          0.0000050956587269029835,
          0.000005145616165402033,
          0.000005195573603901081,
          0.0000052455310424001305,
          0.000005295488480899179,
          0.000005345445919398228,
          0.000005395403357897277,
          0.000005445360796396326,
          0.000005495318234895374,
          0.000005545275673394424,
          0.000005595233111893472,
          0.000005645190550392521,
          0.00000569514798889157,
          0.000005745105427390619,
          0.000005795062865889668,
          0.000005845020304388717,
          0.000005894977742887765,
          0.000005944935181386815,
          0.000005994892619885863,
          0.000006044850058384912,
          0.000006094807496883961,
          0.00000614476493538301,
          0.0000061947223738820585,
          0.000006244679812381108,
          0.000006294637250880156,
          0.0000063445946893792055,
          0.000006394552127878254,
          0.000006444509566377303,
          0.000006494467004876352,
          0.000006544424443375401,
          0.0000065943818818744494,
          0.000006644339320373499,
          0.000006694296758872547,
          0.0000067442541973715965,
          0.000006794211635870645,
          0.000006844169074369694,
          0.000006894126512868743,
          0.000006944083951367792,
          0.00000699404138986684,
          0.00000704399882836589,
          0.000007093956266864938,
          0.000007143913705363987,
          0.000007193871143863036,
          0.000007243828582362085,
          0.0000072937860208611336,
          0.000007343743459360182,
          0.000007393700897859231,
          0.00000744365833635828,
          0.000007493615774857329,
          0.0000075435732133563775,
          0.000007593530651855427,
          0.000007643488090354476,
          0.000007693445528853524,
          0.000007743402967352573,
          0.000007793360405851621,
          0.000007843317844350672,
          0.00000789327528284972,
          0.000007943232721348768,
          0.000007993190159847817,
          0.000008043147598346867,
          0.000008093105036845915,
          0.000008143062475344964,
          0.000008193019913844012,
          0.000008242977352343062,
          0.000008292934790842111,
          0.00000834289222934116,
          0.000008392849667840208,
          0.000008442807106339258,
          0.000008492764544838306,
          0.000008542721983337355,
          0.000008592679421836403,
          0.000008642636860335453,
          0.000008692594298834502,
          0.00000874255173733355,
          0.000008792509175832599,
          0.000008842466614331649,
          0.000008892424052830697,
          0.000008942381491329746,
          0.000008992338929828794,
          0.000009042296368327844,
          0.000009092253806826893,
          0.000009142211245325941,
          0.00000919216868382499,
          0.00000924212612232404,
          0.000009292083560823088,
          0.000009342040999322137,
          0.000009391998437821185,
          0.000009441955876320235,
          0.000009491913314819284,
          0.000009541870753318332,
          0.00000959182819181738,
          0.00000964178563031643,
          0.000009691743068815479,
          0.000009741700507314528,
          0.000009791657945813576,
          0.000009841615384312626,
          0.000009891572822811675,
          0.000009941530261310723,
          0.000009991487699809771,
          0.000010041445138308822,
          0.00001009140257680787,
          0.000010141360015306918,
          0.000010191317453805967,
          0.000010241274892305017,
          0.000010291232330804066,
          0.000010341189769303114,
          0.000010391147207802162,
          0.000010441104646301213,
          0.000010491062084800261,
          0.00001054101952329931,
          0.000010590976961798358,
          0.000010640934400297408,
          0.000010690891838796456,
          0.000010740849277295505,
          0.000010790806715794553,
          0.000010840764154293603,
          0.000010890721592792652,
          0.0000109406790312917,
          0.000010990636469790749,
          0.000011040593908289797,
          0.000011090551346788847,
          0.000011140508785287896,
          0.000011190466223786944,
          0.000011240423662285993,
          0.000011290381100785043,
          0.000011340338539284091,
          0.00001139029597778314,
          0.000011440253416282188,
          0.000011490210854781238,
          0.000011540168293280287,
          0.000011590125731779335,
          0.000011640083170278384,
          0.000011690040608777434,
          0.000011739998047276482,
          0.00001178995548577553,
          0.000011839912924274579,
          0.00001188987036277363,
          0.000011939827801272678,
          0.000011989785239771726,
          0.000012039742678270775,
          0.000012089700116769825,
          0.000012139657555268873,
          0.000012189614993767922,
          0.00001223957243226697,
          0.00001228952987076602,
          0.000012339487309265069,
          0.000012389444747764117,
          0.000012439402186263165,
          0.000012489359624762216,
          0.000012539317063261264,
          0.000012589274501760312,
          0.000012639231940259361,
          0.000012689189378758411,
          0.00001273914681725746,
          0.000012789104255756508,
          0.000012839061694255556,
          0.000012889019132754607,
          0.000012938976571253655,
          0.000012988934009752703,
          0.000013038891448251752,
          0.000013088848886750802,
          0.00001313880632524985,
          0.000013188763763748899,
          0.000013238721202247947,
          0.000013288678640746997,
          0.000013338636079246046,
          0.000013388593517745094,
          0.000013438550956244143,
          0.000013488508394743193,
          0.000013538465833242241,
          0.00001358842327174129,
          0.000013638380710240338,
          0.000013688338148739388,
          0.000013738295587238437,
          0.000013788253025737485,
          0.000013838210464236534,
          0.000013888167902735584,
          0.000013938125341234632,
          0.00001398808277973368,
          0.00001403804021823273,
          0.00001408799765673178,
          0.000014137955095230828,
          0.000014187912533729876,
          0.000014237869972228925,
          0.000014287827410727975,
          0.000014337784849227023,
          0.000014387742287726072,
          0.00001443769972622512,
          0.00001448765716472417,
          0.000014537614603223219,
          0.000014587572041722267,
          0.000014637529480221316,
          0.000014687486918720364,
          0.000014737444357219414,
          0.000014787401795718463,
          0.000014837359234217511,
          0.00001488731667271656,
          0.00001493727411121561,
          0.000014987231549714658,
          0.000015037188988213706,
          0.000015087146426712755,
          0.000015137103865211805,
          0.000015187061303710854,
          0.000015237018742209902,
          0.000015286976180708952,
          0.000015336933619208,
          0.00001538689105770705,
          0.0000154368484962061,
          0.000015486805934705146,
          0.000015536763373204196,
          0.000015586720811703243,
          0.000015636678250202293,
          0.000015686635688701343,
          0.00001573659312720039,
          0.00001578655056569944,
          0.00001583650800419849,
          0.000015886465442697537,
          0.000015936422881196587,
          0.000015986380319695634,
          0.000016036337758194684,
          0.000016086295196693734,
          0.00001613625263519278,
          0.00001618621007369183,
          0.00001623616751219088,
          0.000016286124950689928,
          0.000016336082389188978,
          0.000016386039827688025,
          0.000016435997266187075,
          0.000016485954704686125,
          0.00001653591214318517,
          0.000016585869581684222,
          0.000016635827020183272,
          0.00001668578445868232,
          0.00001673574189718137,
          0.000016785699335680416,
          0.000016835656774179466,
          0.000016885614212678516,
          0.000016935571651177563,
          0.000016985529089676613,
          0.000017035486528175663,
          0.00001708544396667471,
          0.00001713540140517376,
          0.000017185358843672806,
          0.000017235316282171857,
          0.000017285273720670907,
          0.000017335231159169953,
          0.000017385188597669004,
          0.000017435146036168054,
          0.0000174851034746671,
          0.00001753506091316615,
          0.000017585018351665197,
          0.000017634975790164248,
          0.000017684933228663298,
          0.000017734890667162344,
          0.000017784848105661395,
          0.000017834805544160445,
          0.00001788476298265949,
          0.00001793472042115854,
          0.000017984677859657588,
          0.00001803463529815664,
          0.00001808459273665569,
          0.000018134550175154735,
          0.000018184507613653785,
          0.000018234465052152836,
          0.000018284422490651882,
          0.000018334379929150932,
          0.00001838433736764998,
          0.00001843429480614903,
          0.00001848425224464808,
          0.000018534209683147126,
          0.000018584167121646176,
          0.000018634124560145223,
          0.000018684081998644273,
          0.000018734039437143323,
          0.00001878399687564237,
          0.00001883395431414142,
          0.00001888391175264047,
          0.000018933869191139517,
          0.000018983826629638567,
          0.000019033784068137614,
          0.000019083741506636664,
          0.000019133698945135714,
          0.00001918365638363476,
          0.00001923361382213381,
          0.00001928357126063286,
          0.000019333528699131908,
          0.000019383486137630958,
          0.000019433443576130005,
          0.000019483401014629055,
          0.000019533358453128105,
          0.000019583315891627152,
          0.000019633273330126202,
          0.000019683230768625252,
          0.0000197331882071243,
          0.00001978314564562335,
          0.000019833103084122396,
          0.000019883060522621446,
          0.000019933017961120496,
          0.000019982975399619543,
          0.000020032932838118593,
          0.000020082890276617643,
          0.00002013284771511669,
          0.00002018280515361574,
          0.000020232762592114787,
          0.000020282720030613837,
          0.000020332677469112887,
          0.000020382634907611934,
          0.000020432592346110984,
          0.000020482549784610034,
          0.00002053250722310908,
          0.00002058246466160813,
          0.000020632422100107178,
          0.000020682379538606228,
          0.000020732336977105278,
          0.000020782294415604325,
          0.000020832251854103375,
          0.000020882209292602425,
          0.000020932166731101472,
          0.000020982124169600522,
          0.00002103208160809957,
          0.00002108203904659862,
          0.00002113199648509767,
          0.000021181953923596716,
          0.000021231911362095766,
          0.000021281868800594816,
          0.000021331826239093863,
          0.000021381783677592913,
          0.00002143174111609196,
          0.00002148169855459101,
          0.00002153165599309006,
          0.000021581613431589107,
          0.000021631570870088157,
          0.000021681528308587207,
          0.000021731485747086254,
          0.000021781443185585304,
          0.00002183140062408435,
          0.0000218813580625834,
          0.00002193131550108245,
          0.000021981272939581498,
          0.000022031230378080548,
          0.000022081187816579594,
          0.000022131145255078645,
          0.000022181102693577695,
          0.00002223106013207674,
          0.00002228101757057579,
          0.000022330975009074842,
          0.00002238093244757389,
          0.00002243088988607294,
          0.000022480847324571985,
          0.000022530804763071036,
          0.000022580762201570086,
          0.000022630719640069132,
          0.000022680677078568183,
          0.000022730634517067233,
          0.00002278059195556628,
          0.00002283054939406533,
          0.000022880506832564376,
          0.000022930464271063426,
          0.000022980421709562477,
          0.000023030379148061523,
          0.000023080336586560573,
          0.000023130294025059624,
          0.00002318025146355867,
          0.00002323020890205772,
          0.000023280166340556767,
          0.000023330123779055817,
          0.000023380081217554867,
          0.000023430038656053914,
          0.000023479996094552964,
          0.000023529953533052015,
          0.00002357991097155106,
          0.00002362986841005011,
          0.000023679825848549158,
          0.000023729783287048208,
          0.00002377974072554726,
          0.000023829698164046305,
          0.000023879655602545355,
          0.000023929613041044405,
          0.000023979570479543452,
          0.000024029527918042502,
          0.00002407948535654155,
          0.0000241294427950406,
          0.00002417940023353965,
          0.000024229357672038696,
          0.000024279315110537746,
          0.000024329272549036796,
          0.000024379229987535843,
          0.000024429187426034893,
          0.00002447914486453394,
          0.00002452910230303299,
          0.00002457905974153204,
          0.000024629017180031087,
          0.000024678974618530137,
          0.000024728932057029187,
          0.000024778889495528234,
          0.000024828846934027284,
          0.00002487880437252633,
          0.00002492876181102538,
          0.00002497871924952443,
          0.000025028676688023478,
          0.000025078634126522528,
          0.000025128591565021578,
          0.000025178549003520625,
          0.000025228506442019675,
          0.000025278463880518722,
          0.000025328421319017772,
          0.000025378378757516822,
          0.00002542833619601587,
          0.00002547829363451492,
          0.00002552825107301397,
          0.000025578208511513016,
          0.000025628165950012066,
          0.000025678123388511113,
          0.000025728080827010163,
          0.000025778038265509213,
          0.00002582799570400826,
          0.00002587795314250731,
          0.000025927910581006357,
          0.000025977868019505407,
          0.000026027825458004457,
          0.000026077782896503504,
          0.000026127740335002554,
          0.000026177697773501604,
          0.00002622765521200065,
          0.0000262776126504997,
          0.000026327570088998748,
          0.000026377527527497798,
          0.000026427484965996848,
          0.000026477442404495895,
          0.000026527399842994945,
          0.000026577357281493995,
          0.00002662731471999304,
          0.000026677272158492092,
          0.00002672722959699114,
          0.00002677718703549019,
          0.00002682714447398924,
          0.000026877101912488286,
          0.000026927059350987336,
          0.000026977016789486386,
          0.000027026974227985433,
          0.000027076931666484483,
          0.00002712688910498353,
          0.00002717684654348258,
          0.00002722680398198163,
          0.000027276761420480676,
          0.000027326718858979727,
          0.000027376676297478777,
          0.000027426633735977824,
          0.000027476591174476874,
          0.00002752654861297592,
          0.00002757650605147497,
          0.00002762646348997402,
          0.000027676420928473067,
          0.000027726378366972118,
          0.000027776335805471168,
          0.000027826293243970214,
          0.000027876250682469265,
          0.00002792620812096831,
          0.00002797616555946736,
          0.00002802612299796641,
          0.00002807608043646546,
          0.00002812603787496451,
          0.00002817599531346356,
          0.000028225952751962605,
          0.000028275910190461656,
          0.000028325867628960702,
          0.000028375825067459752,
          0.000028425782505958803,
          0.00002847573994445785,
          0.0000285256973829569,
          0.00002857565482145595,
          0.000028625612259954996,
          0.000028675569698454046,
          0.000028725527136953093,
          0.000028775484575452143,
          0.000028825442013951193,
          0.00002887539945245024,
          0.00002892535689094929,
          0.00002897531432944834,
          0.000029025271767947387,
          0.000029075229206446437,
          0.000029125186644945484,
          0.000029175144083444534,
          0.000029225101521943584,
          0.00002927505896044263,
          0.00002932501639894168,
          0.000029374973837440728,
          0.000029424931275939778,
          0.000029474888714438828,
          0.000029524846152937875,
          0.000029574803591436925,
          0.000029624761029935975,
          0.000029674718468435022,
          0.000029724675906934072,
          0.00002977463334543312,
          0.00002982459078393217,
          0.00002987454822243122,
          0.000029924505660930266,
          0.000029974463099429316,
          0.000030024420537928366,
          0.000030074377976427413,
          0.000030124335414926463,
          0.00003017429285342551,
          0.00003022425029192456,
          0.00003027420773042361,
          0.000030324165168922657,
          0.000030374122607421707,
          0.000030424080045920757,
          0.000030474037484419804,
          0.00003052399492291885,
          0.000030573952361417904,
          0.00003062390979991695,
          0.000030673867238416,
          0.00003072382467691505,
          0.0000307737821154141,
          0.000030823739553913145,
          0.0000308736969924122,
          0.000030923654430911245,
          0.00003097361186941029,
          0.000031023569307909345,
          0.00003107352674640839,
          0.00003112348418490744,
          0.000031173441623406485,
          0.00003122339906190554,
          0.000031273356500404586,
          0.00003132331393890363,
          0.000031373271377402686,
          0.00003142322881590173,
          0.00003147318625440078,
          0.00003152314369289983,
          0.00003157310113139888,
          0.000031623058569897927,
          0.00003167301600839698,
          0.00003172297344689603,
          0.000031772930885395074,
          0.00003182288832389413,
          0.000031872845762393174,
          0.00003192280320089222,
          0.00003197276063939127,
          0.00003202271807789032,
          0.00003207267551638937,
          0.000032122632954888414,
          0.00003217259039338747,
          0.000032222547831886515,
          0.00003227250527038556,
          0.000032322462708884615,
          0.00003237242014738366,
          0.00003242237758588271,
          0.00003247233502438176,
          0.00003252229246288081,
          0.000032572249901379855,
          0.00003262220733987891,
          0.000032672164778377956,
          0.000032722122216877,
          0.00003277207965537605,
          0.0000328220370938751,
          0.00003287199453237415,
          0.000032921951970873196,
          0.00003297190940937225,
          0.000033021866847871296,
          0.00003307182428637034,
          0.0000331217817248694,
          0.000033171739163368444,
          0.00003322169660186749,
          0.000033271654040366544,
          0.00003332161147886559,
          0.00003337156891736464,
          0.000033421526355863684,
          0.00003347148379436274,
          0.000033521441232861784,
          0.00003357139867136083,
          0.000033621356109859885,
          0.00003367131354835893,
          0.00003372127098685798,
          0.00003377122842535703,
          0.00003382118586385608,
          0.000033871143302355125,
          0.00003392110074085418,
          0.000033971058179353225,
          0.00003402101561785227,
          0.000034070973056351326,
          0.00003412093049485037,
          0.00003417088793334942,
          0.000034220845371848466,
          0.00003427080281034752,
          0.000034320760248846566,
          0.00003437071768734561,
          0.000034420675125844666,
          0.00003447063256434371,
          0.00003452059000284276,
          0.000034570547441341813,
          0.00003462050487984086,
          0.00003467046231833991,
          0.00003472041975683896,
          0.00003477037719533801,
          0.000034820334633837054,
          0.00003487029207233611,
          0.000034920249510835154,
          0.0000349702069493342,
          0.00003502016438783325,
          0.0000350701218263323,
          0.00003512007926483135,
          0.000035170036703330395,
          0.00003521999414182945,
          0.000035269951580328495,
          0.00003531990901882754,
          0.000035369866457326595,
          0.00003541982389582564,
          0.00003546978133432469,
          0.00003551973877282374,
          0.00003556969621132279,
          0.000035619653649821836,
          0.00003566961108832089,
          0.000035719568526819936,
          0.00003576952596531898,
          0.00003581948340381803,
          0.00003586944084231708,
          0.00003591939828081613,
          0.000035969355719315177,
          0.00003601931315781423,
          0.00003606927059631328,
          0.000036119228034812324,
          0.00003616918547331138,
          0.000036219142911810424,
          0.00003626910035030947,
          0.000036319057788808524,
          0.00003636901522730757,
          0.00003641897266580662,
          0.00003646893010430567,
          0.00003651888754280472,
          0.000036568844981303765,
          0.00003661880241980281,
          0.000036668759858301865,
          0.00003671871729680091,
          0.00003676867473529996,
          0.00003681863217379901,
          0.00003686858961229806,
          0.000036918547050797105,
          0.00003696850448929616,
          0.000037018461927795206,
          0.00003706841936629425,
          0.000037118376804793306,
          0.00003716833424329235,
          0.0000372182916817914,
          0.000037268249120290446,
          0.0000373182065587895,
          0.000037368163997288547,
          0.00003741812143578759,
          0.00003746807887428665,
          0.000037518036312785694,
          0.00003756799375128474,
          0.000037617951189783794,
          0.00003766790862828284,
          0.00003771786606678189,
          0.00003776782350528094,
          0.00003781778094377999,
          0.000037867738382279034,
          0.00003791769582077809,
          0.000037967653259277135,
          0.00003801761069777618,
          0.00003806756813627523,
          0.00003811752557477428,
          0.00003816748301327333,
          0.000038217440451772375,
          0.00003826739789027143,
          0.000038317355328770475,
          0.00003836731276726952,
          0.000038417270205768576,
          0.00003846722764426762,
          0.00003851718508276667,
          0.00003856714252126572,
          0.00003861709995976477,
          0.000038667057398263816,
          0.00003871701483676287,
          0.000038766972275261916,
          0.00003881692971376096,
          0.00003886688715226001,
          0.000038916844590759063,
          0.00003896680202925811,
          0.00003901675946775716,
          0.00003906671690625621,
          0.00003911667434475526,
          0.000039166631783254304,
          0.00003921658922175336,
          0.000039266546660252404,
          0.00003931650409875145,
          0.000039366461537250505,
          0.00003941641897574955,
          0.0000394663764142486,
          0.00003951633385274765,
          0.0000395662912912467,
          0.000039616248729745745,
          0.00003966620616824479,
          0.000039716163606743845,
          0.00003976612104524289,
          0.00003981607848374194,
          0.00003986603592224099,
          0.00003991599336074004,
          0.000039965950799239086,
          0.00004001590823773814,
          0.000040065865676237186,
          0.00004011582311473623,
          0.000040165780553235286,
          0.00004021573799173433,
          0.00004026569543023338,
          0.00004031565286873243,
          0.00004036561030723148,
          0.00004041556774573053,
          0.000040465525184229574,
          0.00004051548262272863,
          0.000040565440061227674,
          0.00004061539749972672,
          0.000040665354938225774,
          0.00004071531237672482,
          0.00004076526981522387,
          0.00004081522725372292,
          0.00004086518469222197,
          0.000040915142130721015,
          0.00004096509956922007,
          0.000041015057007719115,
          0.00004106501444621816,
          0.00004111497188471721,
          0.00004116492932321626,
          0.00004121488676171531,
          0.000041264844200214356,
          0.00004131480163871341,
          0.000041364759077212456,
          0.0000414147165157115,
          0.000041464673954210556,
          0.0000415146313927096,
          0.00004156458883120865,
          0.0000416145462697077,
          0.00004166450370820675,
          0.000041714461146705797,
          0.00004176441858520485,
          0.0000418143760237039,
          0.000041864333462202944,
          0.00004191429090070199,
          0.000041964248339201044,
          0.00004201420577770009,
          0.00004206416321619914,
          0.00004211412065469819,
          0.00004216407809319724,
          0.000042214035531696284,
          0.00004226399297019534,
          0.000042313950408694385,
          0.00004236390784719343,
          0.000042413865285692485,
          0.00004246382272419153,
          0.00004251378016269058,
          0.00004256373760118963,
          0.00004261369503968868,
          0.000042663652478187725,
          0.00004271360991668677,
          0.000042763567355185826,
          0.00004281352479368487,
          0.00004286348223218392,
          0.00004291343967068297,
          0.00004296339710918202,
          0.000043013354547681066,
          0.00004306331198618012,
          0.000043113269424679167,
          0.00004316322686317821,
          0.00004321318430167727,
          0.000043263141740176314,
          0.00004331309917867536,
          0.000043363056617174414,
          0.00004341301405567346,
          0.00004346297149417251,
          0.000043512928932671554,
          0.00004356288637117061,
          0.000043612843809669654,
          0.0000436628012481687,
          0.000043712758686667755,
          0.0000437627161251668,
          0.00004381267356366585,
          0.0000438626310021649,
          0.00004391258844066395,
          0.000043962545879162995,
          0.00004401250331766205,
          0.000044062460756161095,
          0.00004411241819466014,
          0.00004416237563315919,
          0.00004421233307165824,
          0.00004426229051015729,
          0.000044312247948656336,
          0.00004436220538715539,
          0.000044412162825654436,
          0.00004446212026415348,
          0.000044512077702652536,
          0.00004456203514115158,
          0.00004461199257965063,
          0.000044661950018149683,
          0.00004471190745664873,
          0.00004476186489514778,
          0.00004481182233364683,
          0.00004486177977214588,
          0.000044911737210644924,
          0.00004496169464914397,
          0.000045011652087643024,
          0.00004506160952614207,
          0.00004511156696464112,
          0.00004516152440314017,
          0.00004521148184163922,
          0.000045261439280138265,
          0.00004531139671863732,
          0.000045361354157136365,
          0.00004541131159563541,
          0.000045461269034134465,
          0.00004551122647263351,
          0.00004556118391113256,
          0.00004561114134963161,
          0.00004566109878813066,
          0.000045711056226629706,
          0.00004576101366512875,
          0.000045810971103627806,
          0.00004586092854212685,
          0.0000459108859806259,
          0.00004596084341912495,
          0.000046010800857624,
          0.00004606075829612305,
          0.0000461107157346221,
          0.00004616067317312115,
          0.000046210630611620194,
          0.00004626058805011925,
          0.000046310545488618294,
          0.00004636050292711734,
          0.000046410460365616394,
          0.00004646041780411544,
          0.00004651037524261449,
          0.000046560332681113534,
          0.00004661029011961259,
          0.000046660247558111635,
          0.00004671020499661068,
          0.000046760162435109735,
          0.00004681011987360878,
          0.00004686007731210783,
          0.00004691003475060688,
          0.00004695999218910593,
          0.000047009949627604976,
          0.00004705990706610403,
          0.000047109864504603076,
          0.00004715982194310212,
          0.000047209779381601176,
          0.00004725973682010022,
          0.00004730969425859927,
          0.000047359651697098316,
          0.00004740960913559737,
          0.000047459566574096417,
          0.00004750952401259546,
          0.00004755948145109452,
          0.000047609438889593564,
          0.00004765939632809261,
          0.000047709353766591664,
          0.00004775931120509071,
          0.00004780926864358976,
          0.00004785922608208881,
          0.00004790918352058786,
          0.000047959140959086904,
          0.00004800909839758595,
          0.000048059055836085005,
          0.00004810901327458405,
          0.0000481589707130831,
          0.00004820892815158215,
          0.0000482588855900812,
          0.000048308843028580245,
          0.0000483588004670793,
          0.000048408757905578345,
          0.00004845871534407739,
          0.000048508672782576446,
          0.00004855863022107549,
          0.00004860858765957454,
          0.00004865854509807359,
          0.00004870850253657264,
          0.000048758459975071686,
          0.00004880841741357073,
          0.000048858374852069787,
          0.00004890833229056883,
          0.00004895828972906788,
          0.000049008247167566934,
          0.00004905820460606598,
          0.00004910816204456503,
          0.00004915811948306408,
          0.00004920807692156313,
          0.000049258034360062174,
          0.00004930799179856123,
          0.000049357949237060274,
          0.00004940790667555932,
          0.000049457864114058375,
          0.00004950782155255742,
          0.00004955777899105647,
          0.000049607736429555515,
          0.00004965769386805457,
          0.000049707651306553615,
          0.00004975760874505266,
          0.000049807566183551715,
          0.00004985752362205076,
          0.00004990748106054981,
          0.00004995743849904886,
          0.00005000739593754791,
          0.000050057353376046956,
          0.00005010731081454601,
          0.000050157268253045056,
          0.0000502072256915441,
          0.000050257183130043156,
          0.0000503071405685422,
          0.00005035709800704125,
          0.0000504070554455403,
          0.00005045701288403935,
          0.0000505069703225384,
          0.000050556927761037444,
          0.0000506068851995365,
          0.000050656842638035544,
          0.00005070680007653459,
          0.000050756757515033644,
          0.00005080671495353269,
          0.00005085667239203174,
          0.00005090662983053079,
          0.00005095658726902984,
          0.000051006544707528885,
          0.00005105650214602794,
          0.000051106459584526985,
          0.00005115641702302603,
          0.00005120637446152508,
          0.00005125633190002413,
          0.00005130628933852318,
          0.000051356246777022226,
          0.00005140620421552128,
          0.000051456161654020326,
          0.00005150611909251937,
          0.000051556076531018426,
          0.00005160603396951747,
          0.00005165599140801652,
          0.00005170594884651557,
          0.00005175590628501462,
          0.00005180586372351367,
          0.00005185582116201271,
          0.00005190577860051177,
          0.000051955736039010814,
          0.00005200569347750986,
          0.000052055650916008914,
          0.00005210560835450796,
          0.00005215556579300701,
          0.00005220552323150606,
          0.00005225548067000511,
          0.000052305438108504154,
          0.00005235539554700321,
          0.000052405352985502255,
          0.0000524553104240013,
          0.000052505267862500355,
          0.0000525552253009994,
          0.00005260518273949845,
          0.000052655140177997495,
          0.00005270509761649655,
          0.000052755055054995596,
          0.00005280501249349464,
          0.000052854969931993696,
          0.00005290492737049274,
          0.00005295488480899179,
          0.00005300484224749084,
          0.00005305479968598989,
          0.000053104757124488936,
          0.00005315471456298799,
          0.000053204672001487037,
          0.00005325462943998608,
          0.00005330458687848514,
          0.000053354544316984184,
          0.00005340450175548323,
          0.00005345445919398228,
          0.00005350441663248133,
          0.00005355437407098038,
          0.000053604331509479424,
          0.00005365428894797848,
          0.000053704246386477524,
          0.00005375420382497657,
          0.000053804161263475625,
          0.00005385411870197467,
          0.00005390407614047372,
          0.00005395403357897277,
          0.00005400399101747182,
          0.000054053948455970865,
          0.00005410390589446992,
          0.000054153863332968965,
          0.00005420382077146801,
          0.00005425377820996706,
          0.00005430373564846611,
          0.00005435369308696516,
          0.000054403650525464206,
          0.00005445360796396326,
          0.000054503565402462306,
          0.00005455352284096135,
          0.000054603480279460407,
          0.00005465343771795945,
          0.0000547033951564585,
          0.000054753352594957554,
          0.0000548033100334566,
          0.00005485326747195565,
          0.000054903224910454694,
          0.00005495318234895375,
          0.000055003139787452794,
          0.00005505309722595184,
          0.000055103054664450894,
          0.00005515301210294994,
          0.00005520296954144899,
          0.00005525292697994804,
          0.00005530288441844709,
          0.000055352841856946135,
          0.00005540279929544519,
          0.000055452756733944235,
          0.00005550271417244328,
          0.000055552671610942335,
          0.00005560262904944138,
          0.00005565258648794043,
          0.000055702543926439476,
          0.00005575250136493853,
          0.000055802458803437576,
          0.00005585241624193662,
          0.000055902373680435676,
          0.00005595233111893472,
          0.00005600228855743377,
          0.00005605224599593282,
          0.00005610220343443187,
          0.00005615216087293092,
          0.00005620211831142997,
          0.00005625207574992902,
          0.000056302033188428064,
          0.00005635199062692712,
          0.000056401948065426164,
          0.00005645190550392521,
          0.00005650186294242426,
          0.00005655182038092331,
          0.00005660177781942236,
          0.000056651735257921404,
          0.00005670169269642046,
          0.000056751650134919505,
          0.00005680160757341855,
          0.000056851565011917605,
          0.00005690152245041665,
          0.0000569514798889157,
          0.00005700143732741475,
          0.0000570513947659138,
          0.000057101352204412846,
          0.0000571513096429119,
          0.000057201267081410946,
          0.00005725122451990999,
          0.00005730118195840904,
          0.00005735113939690809,
          0.00005740109683540714,
          0.000057451054273906186,
          0.00005750101171240524,
          0.00005755096915090429,
          0.00005760092658940333,
          0.00005765088402790239,
          0.000057700841466401434,
          0.00005775079890490048,
          0.000057800756343399534,
          0.00005785071378189858,
          0.00005790067122039763,
          0.00005795062865889668,
          0.00005800058609739573,
          0.000058050543535894774,
          0.00005810050097439382,
          0.000058150458412892875,
          0.00005820041585139192,
          0.00005825037328989097,
          0.00005830033072839002,
          0.00005835028816688907,
          0.000058400245605388115,
          0.00005845020304388717,
          0.000058500160482386215,
          0.00005855011792088526,
          0.000058600075359384316,
          0.00005865003279788336,
          0.00005869999023638241,
          0.000058749947674881456,
          0.00005879990511338051,
          0.000058849862551879556,
          0.0000588998199903786,
          0.000058949777428877657,
          0.0000589997348673767,
          0.00005904969230587575,
          0.000059099649744374804,
          0.00005914960718287385,
          0.0000591995646213729,
          0.00005924952205987195,
          0.000059299479498371,
          0.000059349436936870044,
          0.0000593993943753691,
          0.000059449351813868144,
          0.00005949930925236719,
          0.00005954926669086624,
          0.00005959922412936529,
          0.00005964918156786434,
          0.000059699139006363385,
          0.00005974909644486244,
          0.000059799053883361485,
          0.00005984901132186053,
          0.000059898968760359585,
          0.00005994892619885863,
          0.00005999888363735768,
          0.00006004884107585673,
          0.00006009879851435578,
          0.000060148755952854826,
          0.00006019871339135388,
          0.000060248670829852926,
          0.00006029862826835197,
          0.00006034858570685102,
          0.00006039854314535007,
          0.00006044850058384912,
          0.00006049845802234817,
          0.00006054841546084722,
          0.00006059837289934627,
          0.000060648330337845314,
          0.00006069828777634437,
          0.000060748245214843414,
          0.00006079820265334246,
          0.000060848160091841514,
          0.00006089811753034056,
          0.00006094807496883961,
          0.00006099803240733866,
          0.0000610479898458377,
          0.00006109794728433676,
          0.00006114790472283581,
          0.00006119786216133486,
          0.0000612478195998339,
          0.00006129777703833295,
          0.000061347734476832,
          0.00006139769191533106,
          0.0000614476493538301,
          0.00006149760679232915,
          0.0000615475642308282,
          0.00006159752166932724,
          0.00006164747910782629,
          0.00006169743654632534,
          0.0000617473939848244,
          0.00006179735142332344,
          0.00006184730886182249,
          0.00006189726630032154,
          0.00006194722373882058,
          0.00006199718117731963,
          0.00006204713861581869,
          0.00006209709605431774,
          0.00006214705349281678,
          0.00006219701093131583,
          0.00006224696836981488,
          0.00006229692580831392,
          0.00006234688324681297,
          0.00006239684068531203,
          0.00006244679812381108,
          0.00006249675556231012,
          0.00006254671300080917,
          0.00006259667043930822,
          0.00006264662787780727,
          0.00006269658531630633,
          0.00006274654275480537,
          0.00006279650019330442,
          0.00006284645763180347,
          0.00006289641507030251,
          0.00006294637250880156,
          0.0000629963299473006,
          0.00006304628738579967,
          0.00006309624482429871,
          0.00006314620226279776,
          0.0000631961597012968,
          0.00006324611713979585,
          0.0000632960745782949,
          0.00006334603201679396,
          0.00006339598945529301,
          0.00006344594689379205,
          0.0000634959043322911,
          0.00006354586177079015,
          0.0000635958192092892,
          0.00006364577664778825,
          0.0000636957340862873,
          0.00006374569152478635,
          0.0000637956489632854,
          0.00006384560640178444,
          0.00006389556384028349,
          0.00006394552127878253,
          0.0000639954787172816,
          0.00006404543615578064,
          0.00006409539359427969,
          0.00006414535103277874,
          0.00006419530847127778,
          0.00006424526590977683,
          0.00006429522334827589,
          0.00006434518078677494,
          0.00006439513822527398,
          0.00006444509566377303,
          0.00006449505310227208,
          0.00006454501054077112,
          0.00006459496797927017,
          0.00006464492541776923,
          0.00006469488285626828,
          0.00006474484029476732,
          0.00006479479773326637,
          0.00006484475517176542,
          0.00006489471261026446,
          0.00006494467004876352,
          0.00006499462748726257,
          0.00006504458492576162,
          0.00006509454236426066,
          0.00006514449980275971,
          0.00006519445724125876,
          0.00006524441467975782,
          0.00006529437211825686,
          0.00006534432955675591,
          0.00006539428699525496,
          0.000065444244433754,
          0.00006549420187225305,
          0.0000655441593107521,
          0.00006559411674925116,
          0.0000656440741877502,
          0.00006569403162624925,
          0.0000657439890647483,
          0.00006579394650324735,
          0.00006584390394174639,
          0.00006589386138024545,
          0.0000659438188187445,
          0.00006599377625724355,
          0.00006604373369574259,
          0.00006609369113424164,
          0.00006614364857274069,
          0.00006619360601123973,
          0.0000662435634497388,
          0.00006629352088823784,
          0.00006634347832673689,
          0.00006639343576523593,
          0.00006644339320373498,
          0.00006649335064223403,
          0.00006654330808073309,
          0.00006659326551923213,
          0.00006664322295773118,
          0.00006669318039623023,
          0.00006674313783472927,
          0.00006679309527322832,
          0.00006684305271172737,
          0.00006689301015022643,
          0.00006694296758872548,
          0.00006699292502722452,
          0.00006704288246572357,
          0.00006709283990422262,
          0.00006714279734272166,
          0.00006719275478122072,
          0.00006724271221971977,
          0.00006729266965821882,
          0.00006734262709671786,
          0.00006739258453521691,
          0.00006744254197371596,
          0.00006749249941221502,
          0.00006754245685071406,
          0.00006759241428921311,
          0.00006764237172771216,
          0.0000676923291662112,
          0.00006774228660471025,
          0.0000677922440432093,
          0.00006784220148170836,
          0.0000678921589202074,
          0.00006794211635870645,
          0.0000679920737972055,
          0.00006804203123570454,
          0.00006809198867420359,
          0.00006814194611270265,
          0.0000681919035512017,
          0.00006824186098970074,
          0.00006829181842819979,
          0.00006834177586669884,
          0.00006839173330519788,
          0.00006844169074369693,
          0.00006849164818219599,
          0.00006854160562069504,
          0.00006859156305919409,
          0.00006864152049769313,
          0.00006869147793619218,
          0.00006874143537469123,
          0.00006879139281319029,
          0.00006884135025168933,
          0.00006889130769018838,
          0.00006894126512868743,
          0.00006899122256718647,
          0.00006904118000568552,
          0.00006909113744418458,
          0.00006914109488268363,
          0.00006919105232118267,
          0.00006924100975968172,
          0.00006929096719818077,
          0.00006934092463667981,
          0.00006939088207517886,
          0.00006944083951367792,
          0.00006949079695217697,
          0.00006954075439067601,
          0.00006959071182917506,
          0.00006964066926767411,
          0.00006969062670617315,
          0.00006974058414467221,
          0.00006979054158317126,
          0.00006984049902167031,
          0.00006989045646016936,
          0.0000699404138986684,
          0.00006999037133716745,
          0.0000700403287756665,
          0.00007009028621416556,
          0.0000701402436526646,
          0.00007019020109116365,
          0.0000702401585296627,
          0.00007029011596816174,
          0.00007034007340666079,
          0.00007039003084515985,
          0.0000704399882836589,
          0.00007048994572215794,
          0.00007053990316065699,
          0.00007058986059915604,
          0.00007063981803765508,
          0.00007068977547615413,
          0.00007073973291465319,
          0.00007078969035315224,
          0.00007083964779165128,
          0.00007088960523015033,
          0.00007093956266864938,
          0.00007098952010714842,
          0.00007103947754564748,
          0.00007108943498414653,
          0.00007113939242264558,
          0.00007118934986114462,
          0.00007123930729964367,
          0.00007128926473814272,
          0.00007133922217664178,
          0.00007138917961514083,
          0.00007143913705363987,
          0.00007148909449213892,
          0.00007153905193063797,
          0.00007158900936913701,
          0.00007163896680763606,
          0.00007168892424613512,
          0.00007173888168463417,
          0.00007178883912313321,
          0.00007183879656163226,
          0.0000718887540001313,
          0.00007193871143863035,
          0.00007198866887712941,
          0.00007203862631562846,
          0.00007208858375412751,
          0.00007213854119262655,
          0.0000721884986311256,
          0.00007223845606962465,
          0.0000722884135081237,
          0.00007233837094662275,
          0.0000723883283851218,
          0.00007243828582362085,
          0.0000724882432621199,
          0.00007253820070061894,
          0.00007258815813911799,
          0.00007263811557761705,
          0.0000726880730161161,
          0.00007273803045461514,
          0.00007278798789311419,
          0.00007283794533161324,
          0.00007288790277011228,
          0.00007293786020861134,
          0.00007298781764711039,
          0.00007303777508560944,
          0.00007308773252410848,
          0.00007313768996260753,
          0.00007318764740110658,
          0.00007323760483960562,
          0.00007328756227810468,
          0.00007333751971660373,
          0.00007338747715510278,
          0.00007343743459360182,
          0.00007348739203210087,
          0.00007353734947059992,
          0.00007358730690909898,
          0.00007363726434759802,
          0.00007368722178609707,
          0.00007373717922459612,
          0.00007378713666309516,
          0.00007383709410159421,
          0.00007388705154009326,
          0.00007393700897859232,
          0.00007398696641709136,
          0.00007403692385559041,
          0.00007408688129408946,
          0.0000741368387325885,
          0.00007418679617108755,
          0.00007423675360958661,
          0.00007428671104808566,
          0.0000743366684865847,
          0.00007438662592508375,
          0.0000744365833635828,
          0.00007448654080208185,
          0.00007453649824058089,
          0.00007458645567907995,
          0.000074636413117579,
          0.00007468637055607805,
          0.00007473632799457709,
          0.00007478628543307614,
          0.00007483624287157519,
          0.00007488620031007425,
          0.0000749361577485733,
          0.00007498611518707234,
          0.00007503607262557139,
          0.00007508603006407043,
          0.00007513598750256948,
          0.00007518594494106854,
          0.00007523590237956759,
          0.00007528585981806663,
          0.00007533581725656568,
          0.00007538577469506473,
          0.00007543573213356377,
          0.00007548568957206282,
          0.00007553564701056188,
          0.00007558560444906093,
          0.00007563556188755998,
          0.00007568551932605902,
          0.00007573547676455807,
          0.00007578543420305712,
          0.00007583539164155618,
          0.00007588534908005522,
          0.00007593530651855427,
          0.00007598526395705332,
          0.00007603522139555236,
          0.00007608517883405141,
          0.00007613513627255046,
          0.00007618509371104952,
          0.00007623505114954856,
          0.00007628500858804761,
          0.00007633496602654666,
          0.0000763849234650457,
          0.00007643488090354475,
          0.00007648483834204381,
          0.00007653479578054286,
          0.0000765847532190419,
          0.00007663471065754095,
          0.00007668466809604,
          0.00007673462553453904,
          0.00007678458297303809,
          0.00007683454041153715,
          0.0000768844978500362,
          0.00007693445528853524,
          0.00007698441272703429,
          0.00007703437016553334,
          0.00007708432760403239,
          0.00007713428504253145,
          0.00007718424248103049,
          0.00007723419991952954,
          0.00007728415735802859,
          0.00007733411479652763,
          0.00007738407223502668,
          0.00007743402967352574,
          0.00007748398711202479,
          0.00007753394455052383,
          0.00007758390198902288,
          0.00007763385942752193,
          0.00007768381686602097,
          0.00007773377430452002,
          0.00007778373174301908,
          0.00007783368918151813,
          0.00007788364662001717,
          0.00007793360405851622,
          0.00007798356149701527,
          0.00007803351893551431,
          0.00007808347637401337,
          0.00007813343381251242,
          0.00007818339125101147,
          0.00007823334868951051,
          0.00007828330612800956,
          0.00007833326356650861,
          0.00007838322100500765,
          0.00007843317844350672,
          0.00007848313588200576,
          0.00007853309332050481,
          0.00007858305075900386,
          0.0000786330081975029,
          0.00007868296563600195,
          0.00007873292307450101,
          0.00007878288051300006,
          0.0000788328379514991,
          0.00007888279538999815,
          0.0000789327528284972,
          0.00007898271026699624,
          0.0000790326677054953,
          0.00007908262514399435,
          0.0000791325825824934,
          0.00007918254002099244,
          0.00007923249745949149,
          0.00007928245489799054,
          0.00007933241233648958,
          0.00007938236977498864,
          0.00007943232721348769,
          0.00007948228465198674,
          0.00007953224209048578,
          0.00007958219952898483,
          0.00007963215696748388,
          0.00007968211440598294,
          0.00007973207184448198,
          0.00007978202928298103,
          0.00007983198672148008,
          0.00007988194415997912,
          0.00007993190159847817,
          0.00007998185903697722,
          0.00008003181647547628,
          0.00008008177391397533,
          0.00008013173135247437,
          0.00008018168879097342,
          0.00008023164622947247,
          0.00008028160366797151,
          0.00008033156110647057,
          0.00008038151854496962,
          0.00008043147598346867,
          0.00008048143342196771,
          0.00008053139086046676,
          0.0000805813482989658,
          0.00008063130573746485,
          0.00008068126317596391,
          0.00008073122061446296,
          0.00008078117805296201,
          0.00008083113549146105,
          0.0000808810929299601,
          0.00008093105036845915,
          0.00008098100780695821,
          0.00008103096524545725,
          0.0000810809226839563,
          0.00008113088012245535,
          0.0000811808375609544,
          0.00008123079499945344,
          0.0000812807524379525,
          0.00008133070987645155,
          0.0000813806673149506,
          0.00008143062475344964,
          0.00008148058219194869,
          0.00008153053963044774,
          0.00008158049706894678,
          0.00008163045450744584,
          0.00008168041194594489,
          0.00008173036938444394,
          0.00008178032682294298,
          0.00008183028426144203,
          0.00008188024169994108,
          0.00008193019913844014,
          0.00008198015657693918,
          0.00008203011401543823,
          0.00008208007145393728,
          0.00008213002889243632,
          0.00008217998633093537,
          0.00008222994376943442,
          0.00008227990120793348,
          0.00008232985864643252,
          0.00008237981608493157,
          0.00008242977352343062,
          0.00008247973096192966,
          0.00008252968840042871,
          0.00008257964583892777,
          0.00008262960327742682,
          0.00008267956071592586,
          0.00008272951815442491,
          0.00008277947559292396,
          0.000082829433031423,
          0.00008287939046992207,
          0.00008292934790842111,
          0.00008297930534692016,
          0.0000830292627854192,
          0.00008307922022391825,
          0.0000831291776624173,
          0.00008317913510091635,
          0.0000832290925394154,
          0.00008327904997791445,
          0.0000833290074164135,
          0.00008337896485491255,
          0.00008342892229341159,
          0.00008347887973191064,
          0.0000835288371704097,
          0.00008357879460890875,
          0.0000836287520474078,
          0.00008367870948590684,
          0.00008372866692440589,
          0.00008377862436290493,
          0.00008382858180140398,
          0.00008387853923990304,
          0.00008392849667840209,
          0.00008397845411690113,
          0.00008402841155540018,
          0.00008407836899389923,
          0.00008412832643239827,
          0.00008417828387089734,
          0.00008422824130939638,
          0.00008427819874789543,
          0.00008432815618639448,
          0.00008437811362489352,
          0.00008442807106339257,
          0.00008447802850189162,
          0.00008452798594039068,
          0.00008457794337888972,
          0.00008462790081738877,
          0.00008467785825588782,
          0.00008472781569438686,
          0.00008477777313288591,
          0.00008482773057138497,
          0.00008487768800988402,
          0.00008492764544838306,
          0.00008497760288688211,
          0.00008502756032538116,
          0.0000850775177638802,
          0.00008512747520237926,
          0.00008517743264087831,
          0.00008522739007937736,
          0.0000852773475178764,
          0.00008532730495637545,
          0.0000853772623948745,
          0.00008542721983337354,
          0.0000854771772718726,
          0.00008552713471037165,
          0.0000855770921488707,
          0.00008562704958736974,
          0.00008567700702586879,
          0.00008572696446436784,
          0.0000857769219028669,
          0.00008582687934136595,
          0.00008587683677986499,
          0.00008592679421836404,
          0.00008597675165686309,
          0.00008602670909536213,
          0.00008607666653386118,
          0.00008612662397236024,
          0.00008617658141085929,
          0.00008622653884935833,
          0.00008627649628785738,
          0.00008632645372635643,
          0.00008637641116485547,
          0.00008642636860335453,
          0.00008647632604185358,
          0.00008652628348035263,
          0.00008657624091885167,
          0.00008662619835735072,
          0.00008667615579584977,
          0.00008672611323434883,
          0.00008677607067284787,
          0.00008682602811134692,
          0.00008687598554984597,
          0.00008692594298834501,
          0.00008697590042684406,
          0.00008702585786534311,
          0.00008707581530384217,
          0.00008712577274234122,
          0.00008717573018084026,
          0.00008722568761933931,
          0.00008727564505783836,
          0.0000873256024963374,
          0.00008737555993483646,
          0.00008742551737333551,
          0.00008747547481183456,
          0.0000875254322503336,
          0.00008757538968883265,
          0.0000876253471273317,
          0.00008767530456583074,
          0.0000877252620043298,
          0.00008777521944282885,
          0.0000878251768813279,
          0.00008787513431982694,
          0.00008792509175832599,
          0.00008797504919682504,
          0.0000880250066353241,
          0.00008807496407382314,
          0.00008812492151232219,
          0.00008817487895082124,
          0.00008822483638932028,
          0.00008827479382781933,
          0.00008832475126631838,
          0.00008837470870481744,
          0.00008842466614331648,
          0.00008847462358181553,
          0.00008852458102031458,
          0.00008857453845881363,
          0.00008862449589731267,
          0.00008867445333581173,
          0.00008872441077431078,
          0.00008877436821280983,
          0.00008882432565130887,
          0.00008887428308980792,
          0.00008892424052830697,
          0.00008897419796680603,
          0.00008902415540530507,
          0.00008907411284380412,
          0.00008912407028230317,
          0.00008917402772080221,
          0.00008922398515930126,
          0.0000892739425978003,
          0.00008932390003629937,
          0.00008937385747479841,
          0.00008942381491329746,
          0.00008947377235179651,
          0.00008952372979029555,
          0.0000895736872287946,
          0.00008962364466729366,
          0.00008967360210579271,
          0.00008972355954429175,
          0.0000897735169827908,
          0.00008982347442128985,
          0.0000898734318597889,
          0.00008992338929828794,
          0.000089973346736787,
          0.00009002330417528605,
          0.0000900732616137851,
          0.00009012321905228414,
          0.00009017317649078319,
          0.00009022313392928224,
          0.0000902730913677813,
          0.00009032304880628034,
          0.00009037300624477939,
          0.00009042296368327844,
          0.00009047292112177748,
          0.00009052287856027653,
          0.00009057283599877559,
          0.00009062279343727464,
          0.00009067275087577368,
          0.00009072270831427273,
          0.00009077266575277178,
          0.00009082262319127082,
          0.00009087258062976987,
          0.00009092253806826893,
          0.00009097249550676798,
          0.00009102245294526702,
          0.00009107241038376607,
          0.00009112236782226512,
          0.00009117232526076416,
          0.00009122228269926322,
          0.00009127224013776227,
          0.00009132219757626132,
          0.00009137215501476036,
          0.00009142211245325941,
          0.00009147206989175846,
          0.0000915220273302575,
          0.00009157198476875657,
          0.00009162194220725561,
          0.00009167189964575466,
          0.0000917218570842537,
          0.00009177181452275275,
          0.0000918217719612518,
          0.00009187172939975086,
          0.0000919216868382499,
          0.00009197164427674895,
          0.000092021601715248,
          0.00009207155915374705,
          0.0000921215165922461,
          0.00009217147403074514,
          0.0000922214314692442,
          0.00009227138890774325,
          0.0000923213463462423,
          0.00009237130378474134,
          0.00009242126122324039,
          0.00009247121866173943,
          0.0000925211761002385,
          0.00009257113353873754,
          0.00009262109097723659,
          0.00009267104841573563,
          0.00009272100585423468,
          0.00009277096329273373,
          0.00009282092073123279,
          0.00009287087816973184,
          0.00009292083560823088,
          0.00009297079304672993,
          0.00009302075048522898,
          0.00009307070792372802,
          0.00009312066536222707,
          0.00009317062280072613,
          0.00009322058023922518,
          0.00009327053767772422,
          0.00009332049511622327,
          0.00009337045255472232,
          0.00009342040999322136,
          0.00009347036743172042,
          0.00009352032487021947,
          0.00009357028230871852,
          0.00009362023974721756,
          0.00009367019718571661,
          0.00009372015462421566,
          0.0000937701120627147,
          0.00009382006950121376,
          0.00009387002693971281,
          0.00009391998437821186,
          0.0000939699418167109,
          0.00009401989925520995,
          0.000094069856693709,
          0.00009411981413220806,
          0.0000941697715707071,
          0.00009421972900920615,
          0.0000942696864477052,
          0.00009431964388620425,
          0.00009436960132470329,
          0.00009441955876320235,
          0.0000944695162017014,
          0.00009451947364020045,
          0.00009456943107869949,
          0.00009461938851719854,
          0.00009466934595569759,
          0.00009471930339419663,
          0.00009476926083269569,
          0.00009481921827119474,
          0.00009486917570969379,
          0.00009491913314819283,
          0.00009496909058669188,
          0.00009501904802519093,
          0.00009506900546368999,
          0.00009511896290218903,
          0.00009516892034068808,
          0.00009521887777918713,
          0.00009526883521768617,
          0.00009531879265618522,
          0.00009536875009468427,
          0.00009541870753318333,
          0.00009546866497168237,
          0.00009551862241018142,
          0.00009556857984868047,
          0.00009561853728717951,
          0.00009566849472567856,
          0.00009571845216417762,
          0.00009576840960267667,
          0.00009581836704117572,
          0.00009586832447967476,
          0.00009591828191817381,
          0.00009596823935667286,
          0.0000960181967951719,
          0.00009606815423367096,
          0.00009611811167217001,
          0.00009616806911066906,
          0.0000962180265491681,
          0.00009626798398766715,
          0.0000963179414261662,
          0.00009636789886466526,
          0.0000964178563031643,
          0.00009646781374166335,
          0.0000965177711801624,
          0.00009656772861866144,
          0.00009661768605716049,
          0.00009666764349565955,
          0.0000967176009341586,
          0.00009676755837265764,
          0.00009681751581115669,
          0.00009686747324965574,
          0.00009691743068815478,
          0.00009696738812665383,
          0.00009701734556515289,
          0.00009706730300365194,
          0.00009711726044215098,
          0.00009716721788065003,
          0.00009721717531914908,
          0.00009726713275764813,
          0.00009731709019614719,
          0.00009736704763464623,
          0.00009741700507314528,
          0.00009746696251164433,
          0.00009751691995014337,
          0.00009756687738864242,
          0.00009761683482714147,
          0.00009766679226564053,
          0.00009771674970413957,
          0.00009776670714263862,
          0.00009781666458113767,
          0.00009786662201963671,
          0.00009791657945813576,
          0.00009796653689663482,
          0.00009801649433513387,
          0.00009806645177363291,
          0.00009811640921213196,
          0.00009816636665063101,
          0.00009821632408913005,
          0.00009826628152762911,
          0.00009831623896612816,
          0.00009836619640462721,
          0.00009841615384312625,
          0.0000984661112816253,
          0.00009851606872012435,
          0.0000985660261586234,
          0.00009861598359712246,
          0.0000986659410356215,
          0.00009871589847412055,
          0.0000987658559126196,
          0.00009881581335111864,
          0.00009886577078961769,
          0.00009891572822811675,
          0.0000989656856666158,
          0.00009901564310511484,
          0.00009906560054361389,
          0.00009911555798211294,
          0.00009916551542061198,
          0.00009921547285911103,
          0.00009926543029761009,
          0.00009931538773610914,
          0.00009936534517460818,
          0.00009941530261310723,
          0.00009946526005160628,
          0.00009951521749010532,
          0.00009956517492860438,
          0.00009961513236710343,
          0.00009966508980560248,
          0.00009971504724410152,
          0.00009976500468260057,
          0.00009981496212109962,
          0.00009986491955959866,
          0.00009991487699809772,
          0.00009996483443659677
         ],
         "y": [
          0,
          3700,
          841,
          2476,
          27200,
          66307,
          66595,
          61877,
          62485,
          60532,
          60625,
          59648,
          59286,
          58152,
          60636,
          57677,
          56185,
          56578,
          57756,
          58190,
          59150,
          56834,
          57295,
          58656,
          56708,
          53831,
          56925,
          58036,
          55641,
          55844,
          55603,
          54778,
          54597,
          56331,
          54405,
          53763,
          54475,
          55165,
          53914,
          54105,
          53023,
          53147,
          52917,
          53231,
          53253,
          54637,
          55493,
          54983,
          53829,
          51621,
          51799,
          52100,
          52958,
          51865,
          52261,
          53284,
          52199,
          52420,
          52130,
          52107,
          52089,
          51370,
          51314,
          50860,
          51375,
          51915,
          52114,
          51063,
          51657,
          52405,
          50746,
          50328,
          49563,
          51188,
          51690,
          51420,
          51743,
          52109,
          51639,
          50439,
          49566,
          49817,
          50310,
          50451,
          51362,
          51806,
          51581,
          50891,
          50653,
          50899,
          49418,
          49694,
          50585,
          50934,
          50645,
          50208,
          49459,
          50349,
          50414,
          50267,
          50181,
          49908,
          50114,
          49901,
          49953,
          49651,
          49782,
          48784,
          48905,
          49270,
          49285,
          50028,
          49884,
          49677,
          48834,
          49287,
          49719,
          49899,
          49288,
          48926,
          48542,
          48555,
          49054,
          49622,
          49987,
          48977,
          48527,
          49079,
          48983,
          48776,
          49198,
          48970,
          48629,
          48876,
          49105,
          48639,
          48760,
          49331,
          48663,
          47555,
          48365,
          48543,
          48705,
          48346,
          48772,
          48760,
          47706,
          47791,
          48573,
          47972,
          47882,
          48673,
          49550,
          48863,
          48488,
          47604,
          47470,
          47302,
          48030,
          48420,
          47987,
          47771,
          47725,
          48039,
          48651,
          48667,
          48643,
          47100,
          46856,
          47483,
          48548,
          49081,
          48736,
          47646,
          47392,
          47179,
          47616,
          47810,
          48048,
          47731,
          47435,
          47452,
          47647,
          47624,
          48020,
          47612,
          47579,
          47056,
          47231,
          47446,
          48042,
          47885,
          47515,
          47462,
          46989,
          46796,
          47129,
          47576,
          47761,
          47615,
          46946,
          47003,
          47371,
          46580,
          47215,
          47548,
          47583,
          46957,
          46767,
          47120,
          47041,
          46916,
          46697,
          46755,
          46513,
          47119,
          47322,
          47418,
          47272,
          47103,
          46640,
          46845,
          46659,
          46277,
          46070,
          46227,
          46523,
          47270,
          47209,
          47379,
          46826,
          46597,
          46562,
          46201,
          45794,
          46642,
          46167,
          46397,
          46469,
          46585,
          47238,
          46625,
          45937,
          46113,
          45707,
          45884,
          46470,
          47089,
          46180,
          46400,
          46647,
          46337,
          46330,
          46287,
          46478,
          45761,
          46154,
          46105,
          46560,
          46474,
          46253,
          45933,
          45172,
          45787,
          46429,
          45789,
          45961,
          46516,
          46208,
          46560,
          45828,
          45814,
          45737,
          45442,
          45203,
          46127,
          45672,
          45503,
          45955,
          45412,
          45794,
          45607,
          45875,
          45722,
          45258,
          45687,
          45959,
          45696,
          45658,
          45232,
          45318,
          45160,
          44857,
          45216,
          45568,
          45744,
          46054,
          45612,
          45161,
          45421,
          45121,
          44879,
          45285,
          45029,
          45675,
          45464,
          46151,
          45705,
          45635,
          45391,
          45384,
          45664,
          45802,
          45400,
          44908,
          44763,
          44908,
          45588,
          45681,
          45045,
          45033,
          45113,
          44788,
          45147,
          45066,
          45014,
          45329,
          45159,
          45584,
          45438,
          44726,
          44158,
          44469,
          44614,
          45233,
          45146,
          45107,
          45213,
          45096,
          44598,
          44262,
          44673,
          44399,
          44176,
          44888,
          44653,
          45055,
          44629,
          44496,
          44787,
          44976,
          44812,
          44600,
          44971,
          44076,
          44305,
          44613,
          45054,
          44832,
          44991,
          44822,
          44702,
          44305,
          44863,
          44760,
          44484,
          44214,
          44216,
          44261,
          44282,
          44647,
          44350,
          44697,
          44713,
          44022,
          44246,
          44438,
          44865,
          44487,
          44104,
          44128,
          44509,
          44011,
          44338,
          44411,
          44273,
          44154,
          44183,
          43854,
          43990,
          44362,
          44242,
          44360,
          44115,
          44162,
          44158,
          43912,
          44362,
          43927,
          44283,
          44405,
          44321,
          43801,
          43966,
          44049,
          44156,
          44442,
          44533,
          44305,
          44130,
          43971,
          44377,
          44193,
          44134,
          43854,
          43782,
          43729,
          44214,
          43960,
          44175,
          44137,
          43527,
          44417,
          43937,
          43600,
          43980,
          43851,
          44000,
          44178,
          44165,
          43731,
          43693,
          43580,
          43718,
          43335,
          43842,
          43693,
          44322,
          44112,
          44060,
          43857,
          43874,
          43901,
          43478,
          43507,
          43837,
          43815,
          43742,
          44327,
          43808,
          44260,
          44294,
          44124,
          44058,
          43813,
          43481,
          43696,
          43490,
          43485,
          43687,
          43999,
          43388,
          43839,
          44080,
          43554,
          44091,
          43873,
          43903,
          43696,
          44045,
          43821,
          44042,
          43740,
          43925,
          43745,
          44025,
          43962,
          43799,
          43790,
          43894,
          43742,
          43625,
          43855,
          44338,
          43737,
          43290,
          43476,
          44184,
          43828,
          44123,
          44135,
          44142,
          43770,
          44063,
          44190,
          43553,
          43865,
          44211,
          44188,
          43902,
          44001,
          43331,
          43570,
          43910,
          43793,
          44216,
          44198,
          44200,
          43903,
          43727,
          43669,
          44089,
          44250,
          44074,
          43549,
          43889,
          43911,
          43983,
          44345,
          44470,
          43964,
          44061,
          44041,
          44231,
          44147,
          43728,
          44153,
          43872,
          43954,
          44234,
          43997,
          44021,
          44009,
          43974,
          44105,
          44209,
          44074,
          43813,
          44455,
          44763,
          44230,
          44287,
          44072,
          43867,
          44503,
          44055,
          44146,
          43820,
          44813,
          44221,
          44350,
          44826,
          44035,
          44527,
          44628,
          44169,
          44204,
          44289,
          44461,
          44682,
          44729,
          44330,
          44703,
          44272,
          44062,
          44562,
          44332,
          44722,
          44549,
          44747,
          44815,
          44792,
          44583,
          44806,
          44644,
          44883,
          45006,
          44426,
          44688,
          44695,
          45028,
          44953,
          45172,
          45480,
          44793,
          44962,
          44790,
          45370,
          45142,
          45175,
          44847,
          45104,
          44880,
          44886,
          45140,
          44657,
          45444,
          45535,
          45219,
          45215,
          45085,
          45078,
          45225,
          45047,
          45388,
          45548,
          45786,
          45117,
          45985,
          45539,
          45454,
          45889,
          45533,
          45549,
          45795,
          45863,
          45860,
          45441,
          45637,
          45918,
          45459,
          45507,
          45761,
          45713,
          45962,
          46155,
          46463,
          46209,
          46244,
          46057,
          45690,
          46318,
          46095,
          46144,
          46473,
          46654,
          46594,
          46430,
          46608,
          46070,
          46010,
          46687,
          46488,
          46617,
          46763,
          46291,
          46631,
          46627,
          46710,
          46742,
          46483,
          46513,
          46894,
          46701,
          46737,
          47339,
          47088,
          46765,
          46940,
          47264,
          46748,
          47482,
          47118,
          47030,
          47213,
          47406,
          47703,
          47262,
          47564,
          47009,
          47222,
          47482,
          47300,
          47514,
          47456,
          47053,
          47143,
          47528,
          47118,
          47739,
          47698,
          47709,
          48056,
          47946,
          48125,
          48254,
          47605,
          48055,
          47524,
          47740,
          47871,
          48144,
          48289,
          48074,
          48390,
          48159,
          48003,
          48379,
          47940,
          48311,
          48476,
          48585,
          48770,
          48990,
          48328,
          48837,
          48674,
          48460,
          48780,
          48685,
          48566,
          49210,
          48941,
          48930,
          49073,
          49385,
          49241,
          49072,
          49422,
          49106,
          49190,
          49478,
          49501,
          49392,
          49535,
          49446,
          49620,
          50171,
          49834,
          49584,
          50232,
          50001,
          49451,
          50051,
          49710,
          50057,
          50122,
          50439,
          50467,
          50062,
          50163,
          50455,
          49916,
          50460,
          50402,
          50821,
          50695,
          50908,
          50812,
          51146,
          50912,
          50751,
          50815,
          51030,
          50996,
          50870,
          51078,
          51272,
          51269,
          51497,
          51746,
          51632,
          51531,
          51482,
          51602,
          51772,
          51493,
          51586,
          51642,
          51845,
          51696,
          52483,
          51760,
          52254,
          51910,
          52398,
          52033,
          52428,
          52067,
          52550,
          52840,
          53016,
          52470,
          52810,
          52425,
          52804,
          52721,
          52803,
          52994,
          52931,
          53244,
          53398,
          53184,
          53090,
          53336,
          53369,
          53412,
          53646,
          52942,
          53414,
          53377,
          53405,
          53856,
          53549,
          53390,
          53545,
          53507,
          53840,
          53732,
          53922,
          54167,
          54534,
          54335,
          54507,
          54524,
          54511,
          54275,
          54325,
          55091,
          54645,
          55012,
          55175,
          54665,
          55036,
          54610,
          54887,
          55244,
          55320,
          55182,
          55744,
          55577,
          55450,
          55252,
          55565,
          55064,
          55632,
          55553,
          55745,
          55768,
          55765,
          55779,
          56223,
          56177,
          55892,
          56182,
          55820,
          56575,
          56148,
          56190,
          56087,
          56474,
          56817,
          56468,
          56851,
          56703,
          57165,
          57133,
          56507,
          56434,
          57216,
          56778,
          57294,
          56800,
          57013,
          57435,
          57365,
          57502,
          57404,
          57424,
          57412,
          58176,
          57763,
          57918,
          57985,
          57927,
          58304,
          58316,
          58187,
          58395,
          58781,
          58159,
          58664,
          59244,
          58569,
          58930,
          58972,
          59301,
          59115,
          59147,
          59294,
          59180,
          59400,
          59184,
          59338,
          59247,
          59166,
          59454,
          59700,
          59593,
          59507,
          59448,
          59813,
          60128,
          59786,
          59796,
          60079,
          59761,
          60216,
          60405,
          60163,
          60257,
          60469,
          60425,
          60271,
          60095,
          60380,
          60932,
          60482,
          60756,
          61268,
          60655,
          61306,
          61344,
          61770,
          61545,
          61217,
          61537,
          61690,
          61648,
          61993,
          61720,
          62035,
          61976,
          61880,
          61899,
          61857,
          62082,
          62113,
          62905,
          62450,
          62624,
          62405,
          62120,
          62767,
          62296,
          62811,
          62792,
          63207,
          63119,
          62999,
          62680,
          62855,
          62832,
          63218,
          63311,
          62889,
          63625,
          63471,
          63360,
          63776,
          63426,
          63849,
          63482,
          64055,
          63649,
          63764,
          64113,
          64404,
          64209,
          63874,
          64477,
          64100,
          64321,
          64293,
          63917,
          64718,
          64971,
          64951,
          64910,
          64683,
          64525,
          64670,
          64906,
          64925,
          65221,
          65131,
          64656,
          65401,
          65382,
          65034,
          65469,
          65397,
          65748,
          65690,
          65234,
          65957,
          65996,
          65844,
          66351,
          65952,
          66492,
          66379,
          65758,
          66366,
          66249,
          66218,
          66826,
          66656,
          66775,
          66685,
          66678,
          66841,
          66901,
          66936,
          66773,
          67082,
          67054,
          67119,
          66931,
          66842,
          67293,
          67607,
          67322,
          67597,
          67627,
          67505,
          67425,
          67517,
          67821,
          67580,
          67853,
          68221,
          68188,
          67781,
          67916,
          68099,
          68224,
          68871,
          68037,
          68332,
          68663,
          68636,
          68570,
          68646,
          68059,
          69202,
          68561,
          68254,
          68396,
          69056,
          68792,
          68949,
          69172,
          69051,
          68956,
          68815,
          69413,
          69387,
          69676,
          69342,
          69604,
          69839,
          69485,
          69418,
          69491,
          69572,
          70354,
          69833,
          70090,
          69659,
          69819,
          70218,
          70071,
          70056,
          70747,
          70331,
          69926,
          70199,
          70414,
          70302,
          70553,
          70357,
          70826,
          70725,
          70910,
          70672,
          70385,
          70705,
          70970,
          71012,
          70988,
          70905,
          71075,
          70444,
          70911,
          71098,
          71140,
          71069,
          71079,
          70744,
          70997,
          70908,
          71083,
          71581,
          71243,
          71014,
          71298,
          71255,
          71599,
          71777,
          71593,
          71921,
          71780,
          71564,
          71670,
          71824,
          71563,
          72078,
          71647,
          71541,
          72189,
          72115,
          71783,
          71695,
          71754,
          72518,
          72222,
          72263,
          72640,
          72600,
          72273,
          72234,
          72195,
          72277,
          72732,
          72498,
          72709,
          72339,
          72334,
          72187,
          72709,
          72636,
          72947,
          72619,
          72955,
          73045,
          72670,
          72715,
          72782,
          72353,
          72694,
          73208,
          73098,
          73215,
          73181,
          72697,
          72740,
          73113,
          72981,
          72783,
          73132,
          72983,
          72948,
          73248,
          73045,
          72848,
          73137,
          73402,
          73214,
          73288,
          73438,
          72940,
          72986,
          73259,
          72958,
          73505,
          73470,
          72917,
          73319,
          73415,
          74074,
          73133,
          73602,
          73131,
          73879,
          73593,
          73412,
          73484,
          73308,
          73640,
          73364,
          73639,
          73239,
          73725,
          73027,
          73967,
          73496,
          73504,
          73904,
          73395,
          73417,
          73696,
          73909,
          74089,
          73656,
          73119,
          73956,
          73738,
          73763,
          73811,
          73586,
          74224,
          73957,
          73731,
          73974,
          73388,
          73891,
          73350,
          73670,
          73537,
          73939,
          73533,
          73427,
          73686,
          73970,
          73771,
          73851,
          73799,
          73506,
          73659,
          73921,
          73653,
          74749,
          73855,
          73817,
          73728,
          73946,
          73525,
          73860,
          74068,
          73689,
          73788,
          73573,
          73705,
          73105,
          73953,
          73763,
          73678,
          73895,
          73795,
          73755,
          73821,
          73478,
          73315,
          73560,
          73237,
          73299,
          73537,
          73628,
          73611,
          73367,
          73950,
          73323,
          73438,
          73203,
          73034,
          73498,
          73546,
          73567,
          73457,
          73568,
          73840,
          73646,
          73402,
          72946,
          73317,
          73468,
          73249,
          73387,
          72696,
          72579,
          73115,
          73015,
          72764,
          73204,
          73168,
          73316,
          73010,
          73238,
          72829,
          72856,
          72893,
          73293,
          73190,
          72848,
          72968,
          72982,
          72664,
          72990,
          72263,
          72742,
          73083,
          73025,
          72517,
          72842,
          72657,
          72822,
          72701,
          72848,
          72663,
          72814,
          72282,
          72370,
          72497,
          72137,
          72464,
          72735,
          72298,
          72483,
          72225,
          72380,
          72054,
          72593,
          72646,
          72042,
          72155,
          72510,
          71655,
          71969,
          71567,
          72229,
          71794,
          71777,
          71752,
          71914,
          71475,
          71959,
          71572,
          71597,
          72181,
          71562,
          71276,
          71571,
          71741,
          71391,
          71692,
          71537,
          71142,
          71865,
          71215,
          71855,
          71088,
          71396,
          71460,
          71025,
          70876,
          71053,
          71535,
          70819,
          71178,
          71142,
          71111,
          70688,
          70795,
          70918,
          71146,
          70471,
          69926,
          70789,
          70622,
          70889,
          70724,
          70446,
          70328,
          70913,
          70636,
          70273,
          70503,
          70400,
          70188,
          70218,
          70336,
          70231,
          69770,
          70385,
          69777,
          70218,
          70369,
          69748,
          69923,
          69879,
          69836,
          69828,
          69935,
          70222,
          69557,
          69250,
          69676,
          69574,
          68722,
          69479,
          69870,
          69610,
          69541,
          69413,
          69044,
          69570,
          69267,
          69387,
          68813,
          68827,
          69522,
          68674,
          69243,
          68966,
          68950,
          68417,
          68269,
          68549,
          68903,
          68210,
          68606,
          68545,
          68670,
          67886,
          68835,
          67983,
          67793,
          68269,
          68430,
          67894,
          67765,
          68310,
          67953,
          68029,
          67996,
          68386,
          67801,
          67716,
          67244,
          67429,
          67487,
          67114,
          67646,
          67318,
          67401,
          67248,
          67328,
          67550,
          66601,
          67228,
          67019,
          67148,
          66953,
          66748,
          67534,
          66672,
          66522,
          66524,
          66734,
          66369,
          67062,
          66235,
          66653,
          66126,
          66408,
          66300,
          66366,
          65958,
          66344,
          66113,
          66082,
          66325,
          66151,
          65995,
          65733,
          65771,
          65709,
          65002,
          65217,
          65722,
          65936,
          65320,
          65656,
          65074,
          65043,
          65168,
          65005,
          65019,
          65038,
          65050,
          65016,
          64762,
          64869,
          65049,
          65311,
          65023,
          64450,
          64370,
          64491,
          64338,
          64439,
          64037,
          64513,
          64516,
          64084,
          64231,
          64358,
          64034,
          63497,
          63726,
          64409,
          63701,
          64119,
          63385,
          63746,
          63779,
          62612,
          63577,
          63376,
          63532,
          63489,
          63215,
          63063,
          62900,
          63155,
          63100,
          63036,
          62484,
          62791,
          63069,
          62870,
          62552,
          62723,
          63146,
          62634,
          62507,
          62676,
          62246,
          62600,
          62368,
          61836,
          62268,
          62056,
          61659,
          61926,
          61718,
          61929,
          61777,
          61559,
          61608,
          61641,
          61646,
          61026,
          61295,
          60978,
          62049,
          61519,
          61210,
          61162,
          60957,
          61150,
          60719,
          60974,
          61051,
          61188,
          60903,
          60960,
          60788,
          60324,
          60836,
          60677,
          60449,
          60566,
          60098,
          60565,
          60397,
          60411,
          60089,
          60485,
          60154,
          60190,
          59906,
          59998,
          60116,
          59905,
          59637,
          60479,
          59564,
          59645,
          59306,
          59805,
          59649,
          59549,
          58926,
          59422,
          59113,
          59072,
          59171,
          59085,
          58905,
          59100,
          58310,
          59193,
          58702,
          58865,
          58849,
          58956,
          58230,
          58253,
          58328,
          58142,
          58049,
          58203,
          58115,
          58435,
          57905,
          58227,
          57959,
          58132,
          58474,
          57697,
          57754,
          57730,
          57339,
          57658,
          58014,
          58024,
          57277,
          56972,
          57364,
          57547,
          57583,
          57036,
          57111,
          56615,
          57506,
          57476,
          57228,
          56829,
          57566,
          56655,
          57012,
          56999,
          56442,
          56675,
          56763,
          56416,
          56343,
          55984,
          56642,
          56691,
          56540,
          56488,
          56394,
          56295,
          55763,
          56112,
          55690,
          55757,
          55736,
          55467,
          55247,
          55544,
          55437,
          55412,
          55370,
          55397,
          55339,
          55348,
          55216,
          55517,
          55169,
          54971,
          55046,
          54901,
          54894,
          54743,
          54592,
          54926,
          54834,
          54587,
          54310,
          54647,
          54550,
          54747,
          54572,
          54146,
          53991,
          54261,
          54211,
          54566,
          54783,
          54055,
          53702,
          54289,
          53932,
          54197,
          53819,
          53581,
          54262,
          53488,
          53330,
          53885,
          54066,
          53559,
          53474,
          53654,
          53374,
          53581,
          53217,
          53120,
          52725,
          52949,
          53422,
          53139,
          53368,
          52985,
          52878,
          52889,
          52701,
          52587,
          52826,
          52790,
          52496,
          52433,
          52296,
          52572,
          53021,
          52490,
          52460,
          52457,
          52171,
          52018,
          51890,
          52168,
          52439,
          51776,
          51600,
          51810,
          51699,
          51539,
          52081,
          52193,
          51660,
          51941,
          51416,
          51288,
          51198,
          51229,
          51274,
          51249,
          51234,
          51259,
          51367,
          50911,
          51017,
          50991,
          50853,
          50867,
          51025,
          50922,
          51182,
          50851,
          50399,
          50918,
          50727,
          50935,
          50632,
          50479,
          50564,
          49875,
          50111,
          50342,
          50277,
          49779,
          50227,
          50087,
          49869,
          50223,
          49974,
          49795,
          49859,
          49692,
          49759,
          49861,
          49316,
          49682,
          49198,
          49638,
          49198,
          49474,
          49741,
          49131,
          48965,
          49236,
          48944,
          49172,
          48901,
          49384,
          49359,
          48761,
          48941,
          48662,
          49155,
          48825,
          48358,
          48489,
          48545,
          48348,
          48529,
          48335,
          48501,
          48558,
          48450,
          48550,
          48526,
          48150,
          48374,
          47615,
          47937,
          48163,
          48026,
          47639,
          48138,
          48115,
          47771,
          47448,
          47778,
          47973,
          47763,
          47535,
          47639,
          47428,
          47601,
          47294,
          47035,
          47334,
          47061,
          47344,
          47036,
          47208,
          46837,
          47223,
          47046,
          46932,
          46973,
          46507,
          46865,
          47117,
          46818,
          46641,
          46849,
          46842,
          46815,
          46658,
          46700,
          46548,
          46118,
          46219,
          46512,
          46166,
          46000,
          46055,
          45864,
          45988,
          46153,
          45665,
          46047,
          45404,
          46190,
          45577,
          46237,
          45759,
          45765,
          45391,
          45700,
          45849,
          45703,
          45494,
          45428,
          45033,
          45076,
          45184,
          44634,
          44934,
          44966,
          45063,
          45066,
          45055,
          45056,
          44797,
          45107,
          44967,
          44365,
          44845,
          44582,
          44492,
          44724,
          44322,
          44341,
          44568,
          44339,
          44419,
          44385,
          44085,
          44190,
          44109,
          44135,
          44212,
          44045,
          44336,
          43894,
          43940,
          43935,
          43950,
          43890,
          43878,
          43737,
          43727,
          43785,
          43229,
          43657,
          43484,
          43670,
          43096,
          43526,
          43413,
          43226,
          43553,
          43157,
          43297,
          43050,
          43154,
          43052,
          42793,
          42924,
          42731,
          42238,
          42768,
          43012,
          42603,
          42848,
          42424,
          42380,
          42143,
          42370,
          42777,
          42541,
          42284,
          42430,
          42039,
          42429,
          42215,
          42218,
          42220,
          41942,
          42049,
          42276,
          42046,
          42237,
          42036,
          42196,
          41681,
          41984,
          41863,
          41772,
          41671,
          41619,
          41084,
          41341,
          41358,
          41220,
          41443,
          41408,
          41319,
          41001,
          41008,
          40809,
          41188,
          40997,
          40768,
          41142,
          40760,
          40859,
          41128,
          40863,
          40532,
          41112,
          40942,
          40718,
          40484,
          40613,
          40762,
          40504,
          40195,
          40359,
          40362,
          39989,
          40226,
          40206,
          40277
         ],
         "yaxis": "y"
        },
        {
         "line": {
          "color": "black"
         },
         "mode": "lines",
         "name": "$\\frac{d\\mathcal{K}}{dt}$",
         "type": "scatter",
         "x": [
          0,
          4.995743849904886e-8,
          9.991487699809772e-8,
          1.4987231549714657e-7,
          1.9982975399619544e-7,
          2.497871924952443e-7,
          2.9974463099429314e-7,
          3.49702069493342e-7,
          3.9965950799239087e-7,
          4.4961694649143974e-7,
          4.995743849904886e-7,
          5.495318234895374e-7,
          5.994892619885863e-7,
          6.494467004876351e-7,
          6.99404138986684e-7,
          7.493615774857329e-7,
          7.993190159847817e-7,
          8.492764544838306e-7,
          8.992338929828795e-7,
          9.491913314819283e-7,
          9.99148769980977e-7,
          0.000001049106208480026,
          0.0000010990636469790748,
          0.0000011490210854781237,
          0.0000011989785239771726,
          0.0000012489359624762214,
          0.0000012988934009752703,
          0.0000013488508394743192,
          0.000001398808277973368,
          0.000001448765716472417,
          0.0000014987231549714658,
          0.0000015486805934705146,
          0.0000015986380319695635,
          0.0000016485954704686124,
          0.0000016985529089676612,
          0.00000174851034746671,
          0.000001798467785965759,
          0.0000018484252244648078,
          0.0000018983826629638567,
          0.0000019483401014629053,
          0.000001998297539961954,
          0.000002048254978461003,
          0.000002098212416960052,
          0.000002148169855459101,
          0.0000021981272939581497,
          0.0000022480847324571985,
          0.0000022980421709562474,
          0.0000023479996094552963,
          0.000002397957047954345,
          0.000002447914486453394,
          0.000002497871924952443,
          0.0000025478293634514917,
          0.0000025977868019505406,
          0.0000026477442404495895,
          0.0000026977016789486383,
          0.000002747659117447687,
          0.000002797616555946736,
          0.000002847573994445785,
          0.000002897531432944834,
          0.0000029474888714438827,
          0.0000029974463099429315,
          0.0000030474037484419804,
          0.0000030973611869410293,
          0.000003147318625440078,
          0.000003197276063939127,
          0.000003247233502438176,
          0.0000032971909409372247,
          0.0000033471483794362736,
          0.0000033971058179353225,
          0.0000034470632564343713,
          0.00000349702069493342,
          0.000003546978133432469,
          0.000003596935571931518,
          0.0000036468930104305668,
          0.0000036968504489296156,
          0.0000037468078874286645,
          0.0000037967653259277134,
          0.000003846722764426762,
          0.000003896680202925811,
          0.00000394663764142486,
          0.000003996595079923908,
          0.000004046552518422958,
          0.000004096509956922006,
          0.0000041464673954210554,
          0.000004196424833920104,
          0.000004246382272419153,
          0.000004296339710918202,
          0.000004346297149417251,
          0.000004396254587916299,
          0.000004446212026415349,
          0.000004496169464914397,
          0.000004546126903413446,
          0.000004596084341912495,
          0.000004646041780411544,
          0.0000046959992189105925,
          0.000004745956657409642,
          0.00000479591409590869,
          0.0000048458715344077396,
          0.000004895828972906788,
          0.000004945786411405837,
          0.000004995743849904886,
          0.000005045701288403935,
          0.0000050956587269029835,
          0.000005145616165402033,
          0.000005195573603901081,
          0.0000052455310424001305,
          0.000005295488480899179,
          0.000005345445919398228,
          0.000005395403357897277,
          0.000005445360796396326,
          0.000005495318234895374,
          0.000005545275673394424,
          0.000005595233111893472,
          0.000005645190550392521,
          0.00000569514798889157,
          0.000005745105427390619,
          0.000005795062865889668,
          0.000005845020304388717,
          0.000005894977742887765,
          0.000005944935181386815,
          0.000005994892619885863,
          0.000006044850058384912,
          0.000006094807496883961,
          0.00000614476493538301,
          0.0000061947223738820585,
          0.000006244679812381108,
          0.000006294637250880156,
          0.0000063445946893792055,
          0.000006394552127878254,
          0.000006444509566377303,
          0.000006494467004876352,
          0.000006544424443375401,
          0.0000065943818818744494,
          0.000006644339320373499,
          0.000006694296758872547,
          0.0000067442541973715965,
          0.000006794211635870645,
          0.000006844169074369694,
          0.000006894126512868743,
          0.000006944083951367792,
          0.00000699404138986684,
          0.00000704399882836589,
          0.000007093956266864938,
          0.000007143913705363987,
          0.000007193871143863036,
          0.000007243828582362085,
          0.0000072937860208611336,
          0.000007343743459360182,
          0.000007393700897859231,
          0.00000744365833635828,
          0.000007493615774857329,
          0.0000075435732133563775,
          0.000007593530651855427,
          0.000007643488090354476,
          0.000007693445528853524,
          0.000007743402967352573,
          0.000007793360405851621,
          0.000007843317844350672,
          0.00000789327528284972,
          0.000007943232721348768,
          0.000007993190159847817,
          0.000008043147598346867,
          0.000008093105036845915,
          0.000008143062475344964,
          0.000008193019913844012,
          0.000008242977352343062,
          0.000008292934790842111,
          0.00000834289222934116,
          0.000008392849667840208,
          0.000008442807106339258,
          0.000008492764544838306,
          0.000008542721983337355,
          0.000008592679421836403,
          0.000008642636860335453,
          0.000008692594298834502,
          0.00000874255173733355,
          0.000008792509175832599,
          0.000008842466614331649,
          0.000008892424052830697,
          0.000008942381491329746,
          0.000008992338929828794,
          0.000009042296368327844,
          0.000009092253806826893,
          0.000009142211245325941,
          0.00000919216868382499,
          0.00000924212612232404,
          0.000009292083560823088,
          0.000009342040999322137,
          0.000009391998437821185,
          0.000009441955876320235,
          0.000009491913314819284,
          0.000009541870753318332,
          0.00000959182819181738,
          0.00000964178563031643,
          0.000009691743068815479,
          0.000009741700507314528,
          0.000009791657945813576,
          0.000009841615384312626,
          0.000009891572822811675,
          0.000009941530261310723,
          0.000009991487699809771,
          0.000010041445138308822,
          0.00001009140257680787,
          0.000010141360015306918,
          0.000010191317453805967,
          0.000010241274892305017,
          0.000010291232330804066,
          0.000010341189769303114,
          0.000010391147207802162,
          0.000010441104646301213,
          0.000010491062084800261,
          0.00001054101952329931,
          0.000010590976961798358,
          0.000010640934400297408,
          0.000010690891838796456,
          0.000010740849277295505,
          0.000010790806715794553,
          0.000010840764154293603,
          0.000010890721592792652,
          0.0000109406790312917,
          0.000010990636469790749,
          0.000011040593908289797,
          0.000011090551346788847,
          0.000011140508785287896,
          0.000011190466223786944,
          0.000011240423662285993,
          0.000011290381100785043,
          0.000011340338539284091,
          0.00001139029597778314,
          0.000011440253416282188,
          0.000011490210854781238,
          0.000011540168293280287,
          0.000011590125731779335,
          0.000011640083170278384,
          0.000011690040608777434,
          0.000011739998047276482,
          0.00001178995548577553,
          0.000011839912924274579,
          0.00001188987036277363,
          0.000011939827801272678,
          0.000011989785239771726,
          0.000012039742678270775,
          0.000012089700116769825,
          0.000012139657555268873,
          0.000012189614993767922,
          0.00001223957243226697,
          0.00001228952987076602,
          0.000012339487309265069,
          0.000012389444747764117,
          0.000012439402186263165,
          0.000012489359624762216,
          0.000012539317063261264,
          0.000012589274501760312,
          0.000012639231940259361,
          0.000012689189378758411,
          0.00001273914681725746,
          0.000012789104255756508,
          0.000012839061694255556,
          0.000012889019132754607,
          0.000012938976571253655,
          0.000012988934009752703,
          0.000013038891448251752,
          0.000013088848886750802,
          0.00001313880632524985,
          0.000013188763763748899,
          0.000013238721202247947,
          0.000013288678640746997,
          0.000013338636079246046,
          0.000013388593517745094,
          0.000013438550956244143,
          0.000013488508394743193,
          0.000013538465833242241,
          0.00001358842327174129,
          0.000013638380710240338,
          0.000013688338148739388,
          0.000013738295587238437,
          0.000013788253025737485,
          0.000013838210464236534,
          0.000013888167902735584,
          0.000013938125341234632,
          0.00001398808277973368,
          0.00001403804021823273,
          0.00001408799765673178,
          0.000014137955095230828,
          0.000014187912533729876,
          0.000014237869972228925,
          0.000014287827410727975,
          0.000014337784849227023,
          0.000014387742287726072,
          0.00001443769972622512,
          0.00001448765716472417,
          0.000014537614603223219,
          0.000014587572041722267,
          0.000014637529480221316,
          0.000014687486918720364,
          0.000014737444357219414,
          0.000014787401795718463,
          0.000014837359234217511,
          0.00001488731667271656,
          0.00001493727411121561,
          0.000014987231549714658,
          0.000015037188988213706,
          0.000015087146426712755,
          0.000015137103865211805,
          0.000015187061303710854,
          0.000015237018742209902,
          0.000015286976180708952,
          0.000015336933619208,
          0.00001538689105770705,
          0.0000154368484962061,
          0.000015486805934705146,
          0.000015536763373204196,
          0.000015586720811703243,
          0.000015636678250202293,
          0.000015686635688701343,
          0.00001573659312720039,
          0.00001578655056569944,
          0.00001583650800419849,
          0.000015886465442697537,
          0.000015936422881196587,
          0.000015986380319695634,
          0.000016036337758194684,
          0.000016086295196693734,
          0.00001613625263519278,
          0.00001618621007369183,
          0.00001623616751219088,
          0.000016286124950689928,
          0.000016336082389188978,
          0.000016386039827688025,
          0.000016435997266187075,
          0.000016485954704686125,
          0.00001653591214318517,
          0.000016585869581684222,
          0.000016635827020183272,
          0.00001668578445868232,
          0.00001673574189718137,
          0.000016785699335680416,
          0.000016835656774179466,
          0.000016885614212678516,
          0.000016935571651177563,
          0.000016985529089676613,
          0.000017035486528175663,
          0.00001708544396667471,
          0.00001713540140517376,
          0.000017185358843672806,
          0.000017235316282171857,
          0.000017285273720670907,
          0.000017335231159169953,
          0.000017385188597669004,
          0.000017435146036168054,
          0.0000174851034746671,
          0.00001753506091316615,
          0.000017585018351665197,
          0.000017634975790164248,
          0.000017684933228663298,
          0.000017734890667162344,
          0.000017784848105661395,
          0.000017834805544160445,
          0.00001788476298265949,
          0.00001793472042115854,
          0.000017984677859657588,
          0.00001803463529815664,
          0.00001808459273665569,
          0.000018134550175154735,
          0.000018184507613653785,
          0.000018234465052152836,
          0.000018284422490651882,
          0.000018334379929150932,
          0.00001838433736764998,
          0.00001843429480614903,
          0.00001848425224464808,
          0.000018534209683147126,
          0.000018584167121646176,
          0.000018634124560145223,
          0.000018684081998644273,
          0.000018734039437143323,
          0.00001878399687564237,
          0.00001883395431414142,
          0.00001888391175264047,
          0.000018933869191139517,
          0.000018983826629638567,
          0.000019033784068137614,
          0.000019083741506636664,
          0.000019133698945135714,
          0.00001918365638363476,
          0.00001923361382213381,
          0.00001928357126063286,
          0.000019333528699131908,
          0.000019383486137630958,
          0.000019433443576130005,
          0.000019483401014629055,
          0.000019533358453128105,
          0.000019583315891627152,
          0.000019633273330126202,
          0.000019683230768625252,
          0.0000197331882071243,
          0.00001978314564562335,
          0.000019833103084122396,
          0.000019883060522621446,
          0.000019933017961120496,
          0.000019982975399619543,
          0.000020032932838118593,
          0.000020082890276617643,
          0.00002013284771511669,
          0.00002018280515361574,
          0.000020232762592114787,
          0.000020282720030613837,
          0.000020332677469112887,
          0.000020382634907611934,
          0.000020432592346110984,
          0.000020482549784610034,
          0.00002053250722310908,
          0.00002058246466160813,
          0.000020632422100107178,
          0.000020682379538606228,
          0.000020732336977105278,
          0.000020782294415604325,
          0.000020832251854103375,
          0.000020882209292602425,
          0.000020932166731101472,
          0.000020982124169600522,
          0.00002103208160809957,
          0.00002108203904659862,
          0.00002113199648509767,
          0.000021181953923596716,
          0.000021231911362095766,
          0.000021281868800594816,
          0.000021331826239093863,
          0.000021381783677592913,
          0.00002143174111609196,
          0.00002148169855459101,
          0.00002153165599309006,
          0.000021581613431589107,
          0.000021631570870088157,
          0.000021681528308587207,
          0.000021731485747086254,
          0.000021781443185585304,
          0.00002183140062408435,
          0.0000218813580625834,
          0.00002193131550108245,
          0.000021981272939581498,
          0.000022031230378080548,
          0.000022081187816579594,
          0.000022131145255078645,
          0.000022181102693577695,
          0.00002223106013207674,
          0.00002228101757057579,
          0.000022330975009074842,
          0.00002238093244757389,
          0.00002243088988607294,
          0.000022480847324571985,
          0.000022530804763071036,
          0.000022580762201570086,
          0.000022630719640069132,
          0.000022680677078568183,
          0.000022730634517067233,
          0.00002278059195556628,
          0.00002283054939406533,
          0.000022880506832564376,
          0.000022930464271063426,
          0.000022980421709562477,
          0.000023030379148061523,
          0.000023080336586560573,
          0.000023130294025059624,
          0.00002318025146355867,
          0.00002323020890205772,
          0.000023280166340556767,
          0.000023330123779055817,
          0.000023380081217554867,
          0.000023430038656053914,
          0.000023479996094552964,
          0.000023529953533052015,
          0.00002357991097155106,
          0.00002362986841005011,
          0.000023679825848549158,
          0.000023729783287048208,
          0.00002377974072554726,
          0.000023829698164046305,
          0.000023879655602545355,
          0.000023929613041044405,
          0.000023979570479543452,
          0.000024029527918042502,
          0.00002407948535654155,
          0.0000241294427950406,
          0.00002417940023353965,
          0.000024229357672038696,
          0.000024279315110537746,
          0.000024329272549036796,
          0.000024379229987535843,
          0.000024429187426034893,
          0.00002447914486453394,
          0.00002452910230303299,
          0.00002457905974153204,
          0.000024629017180031087,
          0.000024678974618530137,
          0.000024728932057029187,
          0.000024778889495528234,
          0.000024828846934027284,
          0.00002487880437252633,
          0.00002492876181102538,
          0.00002497871924952443,
          0.000025028676688023478,
          0.000025078634126522528,
          0.000025128591565021578,
          0.000025178549003520625,
          0.000025228506442019675,
          0.000025278463880518722,
          0.000025328421319017772,
          0.000025378378757516822,
          0.00002542833619601587,
          0.00002547829363451492,
          0.00002552825107301397,
          0.000025578208511513016,
          0.000025628165950012066,
          0.000025678123388511113,
          0.000025728080827010163,
          0.000025778038265509213,
          0.00002582799570400826,
          0.00002587795314250731,
          0.000025927910581006357,
          0.000025977868019505407,
          0.000026027825458004457,
          0.000026077782896503504,
          0.000026127740335002554,
          0.000026177697773501604,
          0.00002622765521200065,
          0.0000262776126504997,
          0.000026327570088998748,
          0.000026377527527497798,
          0.000026427484965996848,
          0.000026477442404495895,
          0.000026527399842994945,
          0.000026577357281493995,
          0.00002662731471999304,
          0.000026677272158492092,
          0.00002672722959699114,
          0.00002677718703549019,
          0.00002682714447398924,
          0.000026877101912488286,
          0.000026927059350987336,
          0.000026977016789486386,
          0.000027026974227985433,
          0.000027076931666484483,
          0.00002712688910498353,
          0.00002717684654348258,
          0.00002722680398198163,
          0.000027276761420480676,
          0.000027326718858979727,
          0.000027376676297478777,
          0.000027426633735977824,
          0.000027476591174476874,
          0.00002752654861297592,
          0.00002757650605147497,
          0.00002762646348997402,
          0.000027676420928473067,
          0.000027726378366972118,
          0.000027776335805471168,
          0.000027826293243970214,
          0.000027876250682469265,
          0.00002792620812096831,
          0.00002797616555946736,
          0.00002802612299796641,
          0.00002807608043646546,
          0.00002812603787496451,
          0.00002817599531346356,
          0.000028225952751962605,
          0.000028275910190461656,
          0.000028325867628960702,
          0.000028375825067459752,
          0.000028425782505958803,
          0.00002847573994445785,
          0.0000285256973829569,
          0.00002857565482145595,
          0.000028625612259954996,
          0.000028675569698454046,
          0.000028725527136953093,
          0.000028775484575452143,
          0.000028825442013951193,
          0.00002887539945245024,
          0.00002892535689094929,
          0.00002897531432944834,
          0.000029025271767947387,
          0.000029075229206446437,
          0.000029125186644945484,
          0.000029175144083444534,
          0.000029225101521943584,
          0.00002927505896044263,
          0.00002932501639894168,
          0.000029374973837440728,
          0.000029424931275939778,
          0.000029474888714438828,
          0.000029524846152937875,
          0.000029574803591436925,
          0.000029624761029935975,
          0.000029674718468435022,
          0.000029724675906934072,
          0.00002977463334543312,
          0.00002982459078393217,
          0.00002987454822243122,
          0.000029924505660930266,
          0.000029974463099429316,
          0.000030024420537928366,
          0.000030074377976427413,
          0.000030124335414926463,
          0.00003017429285342551,
          0.00003022425029192456,
          0.00003027420773042361,
          0.000030324165168922657,
          0.000030374122607421707,
          0.000030424080045920757,
          0.000030474037484419804,
          0.00003052399492291885,
          0.000030573952361417904,
          0.00003062390979991695,
          0.000030673867238416,
          0.00003072382467691505,
          0.0000307737821154141,
          0.000030823739553913145,
          0.0000308736969924122,
          0.000030923654430911245,
          0.00003097361186941029,
          0.000031023569307909345,
          0.00003107352674640839,
          0.00003112348418490744,
          0.000031173441623406485,
          0.00003122339906190554,
          0.000031273356500404586,
          0.00003132331393890363,
          0.000031373271377402686,
          0.00003142322881590173,
          0.00003147318625440078,
          0.00003152314369289983,
          0.00003157310113139888,
          0.000031623058569897927,
          0.00003167301600839698,
          0.00003172297344689603,
          0.000031772930885395074,
          0.00003182288832389413,
          0.000031872845762393174,
          0.00003192280320089222,
          0.00003197276063939127,
          0.00003202271807789032,
          0.00003207267551638937,
          0.000032122632954888414,
          0.00003217259039338747,
          0.000032222547831886515,
          0.00003227250527038556,
          0.000032322462708884615,
          0.00003237242014738366,
          0.00003242237758588271,
          0.00003247233502438176,
          0.00003252229246288081,
          0.000032572249901379855,
          0.00003262220733987891,
          0.000032672164778377956,
          0.000032722122216877,
          0.00003277207965537605,
          0.0000328220370938751,
          0.00003287199453237415,
          0.000032921951970873196,
          0.00003297190940937225,
          0.000033021866847871296,
          0.00003307182428637034,
          0.0000331217817248694,
          0.000033171739163368444,
          0.00003322169660186749,
          0.000033271654040366544,
          0.00003332161147886559,
          0.00003337156891736464,
          0.000033421526355863684,
          0.00003347148379436274,
          0.000033521441232861784,
          0.00003357139867136083,
          0.000033621356109859885,
          0.00003367131354835893,
          0.00003372127098685798,
          0.00003377122842535703,
          0.00003382118586385608,
          0.000033871143302355125,
          0.00003392110074085418,
          0.000033971058179353225,
          0.00003402101561785227,
          0.000034070973056351326,
          0.00003412093049485037,
          0.00003417088793334942,
          0.000034220845371848466,
          0.00003427080281034752,
          0.000034320760248846566,
          0.00003437071768734561,
          0.000034420675125844666,
          0.00003447063256434371,
          0.00003452059000284276,
          0.000034570547441341813,
          0.00003462050487984086,
          0.00003467046231833991,
          0.00003472041975683896,
          0.00003477037719533801,
          0.000034820334633837054,
          0.00003487029207233611,
          0.000034920249510835154,
          0.0000349702069493342,
          0.00003502016438783325,
          0.0000350701218263323,
          0.00003512007926483135,
          0.000035170036703330395,
          0.00003521999414182945,
          0.000035269951580328495,
          0.00003531990901882754,
          0.000035369866457326595,
          0.00003541982389582564,
          0.00003546978133432469,
          0.00003551973877282374,
          0.00003556969621132279,
          0.000035619653649821836,
          0.00003566961108832089,
          0.000035719568526819936,
          0.00003576952596531898,
          0.00003581948340381803,
          0.00003586944084231708,
          0.00003591939828081613,
          0.000035969355719315177,
          0.00003601931315781423,
          0.00003606927059631328,
          0.000036119228034812324,
          0.00003616918547331138,
          0.000036219142911810424,
          0.00003626910035030947,
          0.000036319057788808524,
          0.00003636901522730757,
          0.00003641897266580662,
          0.00003646893010430567,
          0.00003651888754280472,
          0.000036568844981303765,
          0.00003661880241980281,
          0.000036668759858301865,
          0.00003671871729680091,
          0.00003676867473529996,
          0.00003681863217379901,
          0.00003686858961229806,
          0.000036918547050797105,
          0.00003696850448929616,
          0.000037018461927795206,
          0.00003706841936629425,
          0.000037118376804793306,
          0.00003716833424329235,
          0.0000372182916817914,
          0.000037268249120290446,
          0.0000373182065587895,
          0.000037368163997288547,
          0.00003741812143578759,
          0.00003746807887428665,
          0.000037518036312785694,
          0.00003756799375128474,
          0.000037617951189783794,
          0.00003766790862828284,
          0.00003771786606678189,
          0.00003776782350528094,
          0.00003781778094377999,
          0.000037867738382279034,
          0.00003791769582077809,
          0.000037967653259277135,
          0.00003801761069777618,
          0.00003806756813627523,
          0.00003811752557477428,
          0.00003816748301327333,
          0.000038217440451772375,
          0.00003826739789027143,
          0.000038317355328770475,
          0.00003836731276726952,
          0.000038417270205768576,
          0.00003846722764426762,
          0.00003851718508276667,
          0.00003856714252126572,
          0.00003861709995976477,
          0.000038667057398263816,
          0.00003871701483676287,
          0.000038766972275261916,
          0.00003881692971376096,
          0.00003886688715226001,
          0.000038916844590759063,
          0.00003896680202925811,
          0.00003901675946775716,
          0.00003906671690625621,
          0.00003911667434475526,
          0.000039166631783254304,
          0.00003921658922175336,
          0.000039266546660252404,
          0.00003931650409875145,
          0.000039366461537250505,
          0.00003941641897574955,
          0.0000394663764142486,
          0.00003951633385274765,
          0.0000395662912912467,
          0.000039616248729745745,
          0.00003966620616824479,
          0.000039716163606743845,
          0.00003976612104524289,
          0.00003981607848374194,
          0.00003986603592224099,
          0.00003991599336074004,
          0.000039965950799239086,
          0.00004001590823773814,
          0.000040065865676237186,
          0.00004011582311473623,
          0.000040165780553235286,
          0.00004021573799173433,
          0.00004026569543023338,
          0.00004031565286873243,
          0.00004036561030723148,
          0.00004041556774573053,
          0.000040465525184229574,
          0.00004051548262272863,
          0.000040565440061227674,
          0.00004061539749972672,
          0.000040665354938225774,
          0.00004071531237672482,
          0.00004076526981522387,
          0.00004081522725372292,
          0.00004086518469222197,
          0.000040915142130721015,
          0.00004096509956922007,
          0.000041015057007719115,
          0.00004106501444621816,
          0.00004111497188471721,
          0.00004116492932321626,
          0.00004121488676171531,
          0.000041264844200214356,
          0.00004131480163871341,
          0.000041364759077212456,
          0.0000414147165157115,
          0.000041464673954210556,
          0.0000415146313927096,
          0.00004156458883120865,
          0.0000416145462697077,
          0.00004166450370820675,
          0.000041714461146705797,
          0.00004176441858520485,
          0.0000418143760237039,
          0.000041864333462202944,
          0.00004191429090070199,
          0.000041964248339201044,
          0.00004201420577770009,
          0.00004206416321619914,
          0.00004211412065469819,
          0.00004216407809319724,
          0.000042214035531696284,
          0.00004226399297019534,
          0.000042313950408694385,
          0.00004236390784719343,
          0.000042413865285692485,
          0.00004246382272419153,
          0.00004251378016269058,
          0.00004256373760118963,
          0.00004261369503968868,
          0.000042663652478187725,
          0.00004271360991668677,
          0.000042763567355185826,
          0.00004281352479368487,
          0.00004286348223218392,
          0.00004291343967068297,
          0.00004296339710918202,
          0.000043013354547681066,
          0.00004306331198618012,
          0.000043113269424679167,
          0.00004316322686317821,
          0.00004321318430167727,
          0.000043263141740176314,
          0.00004331309917867536,
          0.000043363056617174414,
          0.00004341301405567346,
          0.00004346297149417251,
          0.000043512928932671554,
          0.00004356288637117061,
          0.000043612843809669654,
          0.0000436628012481687,
          0.000043712758686667755,
          0.0000437627161251668,
          0.00004381267356366585,
          0.0000438626310021649,
          0.00004391258844066395,
          0.000043962545879162995,
          0.00004401250331766205,
          0.000044062460756161095,
          0.00004411241819466014,
          0.00004416237563315919,
          0.00004421233307165824,
          0.00004426229051015729,
          0.000044312247948656336,
          0.00004436220538715539,
          0.000044412162825654436,
          0.00004446212026415348,
          0.000044512077702652536,
          0.00004456203514115158,
          0.00004461199257965063,
          0.000044661950018149683,
          0.00004471190745664873,
          0.00004476186489514778,
          0.00004481182233364683,
          0.00004486177977214588,
          0.000044911737210644924,
          0.00004496169464914397,
          0.000045011652087643024,
          0.00004506160952614207,
          0.00004511156696464112,
          0.00004516152440314017,
          0.00004521148184163922,
          0.000045261439280138265,
          0.00004531139671863732,
          0.000045361354157136365,
          0.00004541131159563541,
          0.000045461269034134465,
          0.00004551122647263351,
          0.00004556118391113256,
          0.00004561114134963161,
          0.00004566109878813066,
          0.000045711056226629706,
          0.00004576101366512875,
          0.000045810971103627806,
          0.00004586092854212685,
          0.0000459108859806259,
          0.00004596084341912495,
          0.000046010800857624,
          0.00004606075829612305,
          0.0000461107157346221,
          0.00004616067317312115,
          0.000046210630611620194,
          0.00004626058805011925,
          0.000046310545488618294,
          0.00004636050292711734,
          0.000046410460365616394,
          0.00004646041780411544,
          0.00004651037524261449,
          0.000046560332681113534,
          0.00004661029011961259,
          0.000046660247558111635,
          0.00004671020499661068,
          0.000046760162435109735,
          0.00004681011987360878,
          0.00004686007731210783,
          0.00004691003475060688,
          0.00004695999218910593,
          0.000047009949627604976,
          0.00004705990706610403,
          0.000047109864504603076,
          0.00004715982194310212,
          0.000047209779381601176,
          0.00004725973682010022,
          0.00004730969425859927,
          0.000047359651697098316,
          0.00004740960913559737,
          0.000047459566574096417,
          0.00004750952401259546,
          0.00004755948145109452,
          0.000047609438889593564,
          0.00004765939632809261,
          0.000047709353766591664,
          0.00004775931120509071,
          0.00004780926864358976,
          0.00004785922608208881,
          0.00004790918352058786,
          0.000047959140959086904,
          0.00004800909839758595,
          0.000048059055836085005,
          0.00004810901327458405,
          0.0000481589707130831,
          0.00004820892815158215,
          0.0000482588855900812,
          0.000048308843028580245,
          0.0000483588004670793,
          0.000048408757905578345,
          0.00004845871534407739,
          0.000048508672782576446,
          0.00004855863022107549,
          0.00004860858765957454,
          0.00004865854509807359,
          0.00004870850253657264,
          0.000048758459975071686,
          0.00004880841741357073,
          0.000048858374852069787,
          0.00004890833229056883,
          0.00004895828972906788,
          0.000049008247167566934,
          0.00004905820460606598,
          0.00004910816204456503,
          0.00004915811948306408,
          0.00004920807692156313,
          0.000049258034360062174,
          0.00004930799179856123,
          0.000049357949237060274,
          0.00004940790667555932,
          0.000049457864114058375,
          0.00004950782155255742,
          0.00004955777899105647,
          0.000049607736429555515,
          0.00004965769386805457,
          0.000049707651306553615,
          0.00004975760874505266,
          0.000049807566183551715,
          0.00004985752362205076,
          0.00004990748106054981,
          0.00004995743849904886,
          0.00005000739593754791,
          0.000050057353376046956,
          0.00005010731081454601,
          0.000050157268253045056,
          0.0000502072256915441,
          0.000050257183130043156,
          0.0000503071405685422,
          0.00005035709800704125,
          0.0000504070554455403,
          0.00005045701288403935,
          0.0000505069703225384,
          0.000050556927761037444,
          0.0000506068851995365,
          0.000050656842638035544,
          0.00005070680007653459,
          0.000050756757515033644,
          0.00005080671495353269,
          0.00005085667239203174,
          0.00005090662983053079,
          0.00005095658726902984,
          0.000051006544707528885,
          0.00005105650214602794,
          0.000051106459584526985,
          0.00005115641702302603,
          0.00005120637446152508,
          0.00005125633190002413,
          0.00005130628933852318,
          0.000051356246777022226,
          0.00005140620421552128,
          0.000051456161654020326,
          0.00005150611909251937,
          0.000051556076531018426,
          0.00005160603396951747,
          0.00005165599140801652,
          0.00005170594884651557,
          0.00005175590628501462,
          0.00005180586372351367,
          0.00005185582116201271,
          0.00005190577860051177,
          0.000051955736039010814,
          0.00005200569347750986,
          0.000052055650916008914,
          0.00005210560835450796,
          0.00005215556579300701,
          0.00005220552323150606,
          0.00005225548067000511,
          0.000052305438108504154,
          0.00005235539554700321,
          0.000052405352985502255,
          0.0000524553104240013,
          0.000052505267862500355,
          0.0000525552253009994,
          0.00005260518273949845,
          0.000052655140177997495,
          0.00005270509761649655,
          0.000052755055054995596,
          0.00005280501249349464,
          0.000052854969931993696,
          0.00005290492737049274,
          0.00005295488480899179,
          0.00005300484224749084,
          0.00005305479968598989,
          0.000053104757124488936,
          0.00005315471456298799,
          0.000053204672001487037,
          0.00005325462943998608,
          0.00005330458687848514,
          0.000053354544316984184,
          0.00005340450175548323,
          0.00005345445919398228,
          0.00005350441663248133,
          0.00005355437407098038,
          0.000053604331509479424,
          0.00005365428894797848,
          0.000053704246386477524,
          0.00005375420382497657,
          0.000053804161263475625,
          0.00005385411870197467,
          0.00005390407614047372,
          0.00005395403357897277,
          0.00005400399101747182,
          0.000054053948455970865,
          0.00005410390589446992,
          0.000054153863332968965,
          0.00005420382077146801,
          0.00005425377820996706,
          0.00005430373564846611,
          0.00005435369308696516,
          0.000054403650525464206,
          0.00005445360796396326,
          0.000054503565402462306,
          0.00005455352284096135,
          0.000054603480279460407,
          0.00005465343771795945,
          0.0000547033951564585,
          0.000054753352594957554,
          0.0000548033100334566,
          0.00005485326747195565,
          0.000054903224910454694,
          0.00005495318234895375,
          0.000055003139787452794,
          0.00005505309722595184,
          0.000055103054664450894,
          0.00005515301210294994,
          0.00005520296954144899,
          0.00005525292697994804,
          0.00005530288441844709,
          0.000055352841856946135,
          0.00005540279929544519,
          0.000055452756733944235,
          0.00005550271417244328,
          0.000055552671610942335,
          0.00005560262904944138,
          0.00005565258648794043,
          0.000055702543926439476,
          0.00005575250136493853,
          0.000055802458803437576,
          0.00005585241624193662,
          0.000055902373680435676,
          0.00005595233111893472,
          0.00005600228855743377,
          0.00005605224599593282,
          0.00005610220343443187,
          0.00005615216087293092,
          0.00005620211831142997,
          0.00005625207574992902,
          0.000056302033188428064,
          0.00005635199062692712,
          0.000056401948065426164,
          0.00005645190550392521,
          0.00005650186294242426,
          0.00005655182038092331,
          0.00005660177781942236,
          0.000056651735257921404,
          0.00005670169269642046,
          0.000056751650134919505,
          0.00005680160757341855,
          0.000056851565011917605,
          0.00005690152245041665,
          0.0000569514798889157,
          0.00005700143732741475,
          0.0000570513947659138,
          0.000057101352204412846,
          0.0000571513096429119,
          0.000057201267081410946,
          0.00005725122451990999,
          0.00005730118195840904,
          0.00005735113939690809,
          0.00005740109683540714,
          0.000057451054273906186,
          0.00005750101171240524,
          0.00005755096915090429,
          0.00005760092658940333,
          0.00005765088402790239,
          0.000057700841466401434,
          0.00005775079890490048,
          0.000057800756343399534,
          0.00005785071378189858,
          0.00005790067122039763,
          0.00005795062865889668,
          0.00005800058609739573,
          0.000058050543535894774,
          0.00005810050097439382,
          0.000058150458412892875,
          0.00005820041585139192,
          0.00005825037328989097,
          0.00005830033072839002,
          0.00005835028816688907,
          0.000058400245605388115,
          0.00005845020304388717,
          0.000058500160482386215,
          0.00005855011792088526,
          0.000058600075359384316,
          0.00005865003279788336,
          0.00005869999023638241,
          0.000058749947674881456,
          0.00005879990511338051,
          0.000058849862551879556,
          0.0000588998199903786,
          0.000058949777428877657,
          0.0000589997348673767,
          0.00005904969230587575,
          0.000059099649744374804,
          0.00005914960718287385,
          0.0000591995646213729,
          0.00005924952205987195,
          0.000059299479498371,
          0.000059349436936870044,
          0.0000593993943753691,
          0.000059449351813868144,
          0.00005949930925236719,
          0.00005954926669086624,
          0.00005959922412936529,
          0.00005964918156786434,
          0.000059699139006363385,
          0.00005974909644486244,
          0.000059799053883361485,
          0.00005984901132186053,
          0.000059898968760359585,
          0.00005994892619885863,
          0.00005999888363735768,
          0.00006004884107585673,
          0.00006009879851435578,
          0.000060148755952854826,
          0.00006019871339135388,
          0.000060248670829852926,
          0.00006029862826835197,
          0.00006034858570685102,
          0.00006039854314535007,
          0.00006044850058384912,
          0.00006049845802234817,
          0.00006054841546084722,
          0.00006059837289934627,
          0.000060648330337845314,
          0.00006069828777634437,
          0.000060748245214843414,
          0.00006079820265334246,
          0.000060848160091841514,
          0.00006089811753034056,
          0.00006094807496883961,
          0.00006099803240733866,
          0.0000610479898458377,
          0.00006109794728433676,
          0.00006114790472283581,
          0.00006119786216133486,
          0.0000612478195998339,
          0.00006129777703833295,
          0.000061347734476832,
          0.00006139769191533106,
          0.0000614476493538301,
          0.00006149760679232915,
          0.0000615475642308282,
          0.00006159752166932724,
          0.00006164747910782629,
          0.00006169743654632534,
          0.0000617473939848244,
          0.00006179735142332344,
          0.00006184730886182249,
          0.00006189726630032154,
          0.00006194722373882058,
          0.00006199718117731963,
          0.00006204713861581869,
          0.00006209709605431774,
          0.00006214705349281678,
          0.00006219701093131583,
          0.00006224696836981488,
          0.00006229692580831392,
          0.00006234688324681297,
          0.00006239684068531203,
          0.00006244679812381108,
          0.00006249675556231012,
          0.00006254671300080917,
          0.00006259667043930822,
          0.00006264662787780727,
          0.00006269658531630633,
          0.00006274654275480537,
          0.00006279650019330442,
          0.00006284645763180347,
          0.00006289641507030251,
          0.00006294637250880156,
          0.0000629963299473006,
          0.00006304628738579967,
          0.00006309624482429871,
          0.00006314620226279776,
          0.0000631961597012968,
          0.00006324611713979585,
          0.0000632960745782949,
          0.00006334603201679396,
          0.00006339598945529301,
          0.00006344594689379205,
          0.0000634959043322911,
          0.00006354586177079015,
          0.0000635958192092892,
          0.00006364577664778825,
          0.0000636957340862873,
          0.00006374569152478635,
          0.0000637956489632854,
          0.00006384560640178444,
          0.00006389556384028349,
          0.00006394552127878253,
          0.0000639954787172816,
          0.00006404543615578064,
          0.00006409539359427969,
          0.00006414535103277874,
          0.00006419530847127778,
          0.00006424526590977683,
          0.00006429522334827589,
          0.00006434518078677494,
          0.00006439513822527398,
          0.00006444509566377303,
          0.00006449505310227208,
          0.00006454501054077112,
          0.00006459496797927017,
          0.00006464492541776923,
          0.00006469488285626828,
          0.00006474484029476732,
          0.00006479479773326637,
          0.00006484475517176542,
          0.00006489471261026446,
          0.00006494467004876352,
          0.00006499462748726257,
          0.00006504458492576162,
          0.00006509454236426066,
          0.00006514449980275971,
          0.00006519445724125876,
          0.00006524441467975782,
          0.00006529437211825686,
          0.00006534432955675591,
          0.00006539428699525496,
          0.000065444244433754,
          0.00006549420187225305,
          0.0000655441593107521,
          0.00006559411674925116,
          0.0000656440741877502,
          0.00006569403162624925,
          0.0000657439890647483,
          0.00006579394650324735,
          0.00006584390394174639,
          0.00006589386138024545,
          0.0000659438188187445,
          0.00006599377625724355,
          0.00006604373369574259,
          0.00006609369113424164,
          0.00006614364857274069,
          0.00006619360601123973,
          0.0000662435634497388,
          0.00006629352088823784,
          0.00006634347832673689,
          0.00006639343576523593,
          0.00006644339320373498,
          0.00006649335064223403,
          0.00006654330808073309,
          0.00006659326551923213,
          0.00006664322295773118,
          0.00006669318039623023,
          0.00006674313783472927,
          0.00006679309527322832,
          0.00006684305271172737,
          0.00006689301015022643,
          0.00006694296758872548,
          0.00006699292502722452,
          0.00006704288246572357,
          0.00006709283990422262,
          0.00006714279734272166,
          0.00006719275478122072,
          0.00006724271221971977,
          0.00006729266965821882,
          0.00006734262709671786,
          0.00006739258453521691,
          0.00006744254197371596,
          0.00006749249941221502,
          0.00006754245685071406,
          0.00006759241428921311,
          0.00006764237172771216,
          0.0000676923291662112,
          0.00006774228660471025,
          0.0000677922440432093,
          0.00006784220148170836,
          0.0000678921589202074,
          0.00006794211635870645,
          0.0000679920737972055,
          0.00006804203123570454,
          0.00006809198867420359,
          0.00006814194611270265,
          0.0000681919035512017,
          0.00006824186098970074,
          0.00006829181842819979,
          0.00006834177586669884,
          0.00006839173330519788,
          0.00006844169074369693,
          0.00006849164818219599,
          0.00006854160562069504,
          0.00006859156305919409,
          0.00006864152049769313,
          0.00006869147793619218,
          0.00006874143537469123,
          0.00006879139281319029,
          0.00006884135025168933,
          0.00006889130769018838,
          0.00006894126512868743,
          0.00006899122256718647,
          0.00006904118000568552,
          0.00006909113744418458,
          0.00006914109488268363,
          0.00006919105232118267,
          0.00006924100975968172,
          0.00006929096719818077,
          0.00006934092463667981,
          0.00006939088207517886,
          0.00006944083951367792,
          0.00006949079695217697,
          0.00006954075439067601,
          0.00006959071182917506,
          0.00006964066926767411,
          0.00006969062670617315,
          0.00006974058414467221,
          0.00006979054158317126,
          0.00006984049902167031,
          0.00006989045646016936,
          0.0000699404138986684,
          0.00006999037133716745,
          0.0000700403287756665,
          0.00007009028621416556,
          0.0000701402436526646,
          0.00007019020109116365,
          0.0000702401585296627,
          0.00007029011596816174,
          0.00007034007340666079,
          0.00007039003084515985,
          0.0000704399882836589,
          0.00007048994572215794,
          0.00007053990316065699,
          0.00007058986059915604,
          0.00007063981803765508,
          0.00007068977547615413,
          0.00007073973291465319,
          0.00007078969035315224,
          0.00007083964779165128,
          0.00007088960523015033,
          0.00007093956266864938,
          0.00007098952010714842,
          0.00007103947754564748,
          0.00007108943498414653,
          0.00007113939242264558,
          0.00007118934986114462,
          0.00007123930729964367,
          0.00007128926473814272,
          0.00007133922217664178,
          0.00007138917961514083,
          0.00007143913705363987,
          0.00007148909449213892,
          0.00007153905193063797,
          0.00007158900936913701,
          0.00007163896680763606,
          0.00007168892424613512,
          0.00007173888168463417,
          0.00007178883912313321,
          0.00007183879656163226,
          0.0000718887540001313,
          0.00007193871143863035,
          0.00007198866887712941,
          0.00007203862631562846,
          0.00007208858375412751,
          0.00007213854119262655,
          0.0000721884986311256,
          0.00007223845606962465,
          0.0000722884135081237,
          0.00007233837094662275,
          0.0000723883283851218,
          0.00007243828582362085,
          0.0000724882432621199,
          0.00007253820070061894,
          0.00007258815813911799,
          0.00007263811557761705,
          0.0000726880730161161,
          0.00007273803045461514,
          0.00007278798789311419,
          0.00007283794533161324,
          0.00007288790277011228,
          0.00007293786020861134,
          0.00007298781764711039,
          0.00007303777508560944,
          0.00007308773252410848,
          0.00007313768996260753,
          0.00007318764740110658,
          0.00007323760483960562,
          0.00007328756227810468,
          0.00007333751971660373,
          0.00007338747715510278,
          0.00007343743459360182,
          0.00007348739203210087,
          0.00007353734947059992,
          0.00007358730690909898,
          0.00007363726434759802,
          0.00007368722178609707,
          0.00007373717922459612,
          0.00007378713666309516,
          0.00007383709410159421,
          0.00007388705154009326,
          0.00007393700897859232,
          0.00007398696641709136,
          0.00007403692385559041,
          0.00007408688129408946,
          0.0000741368387325885,
          0.00007418679617108755,
          0.00007423675360958661,
          0.00007428671104808566,
          0.0000743366684865847,
          0.00007438662592508375,
          0.0000744365833635828,
          0.00007448654080208185,
          0.00007453649824058089,
          0.00007458645567907995,
          0.000074636413117579,
          0.00007468637055607805,
          0.00007473632799457709,
          0.00007478628543307614,
          0.00007483624287157519,
          0.00007488620031007425,
          0.0000749361577485733,
          0.00007498611518707234,
          0.00007503607262557139,
          0.00007508603006407043,
          0.00007513598750256948,
          0.00007518594494106854,
          0.00007523590237956759,
          0.00007528585981806663,
          0.00007533581725656568,
          0.00007538577469506473,
          0.00007543573213356377,
          0.00007548568957206282,
          0.00007553564701056188,
          0.00007558560444906093,
          0.00007563556188755998,
          0.00007568551932605902,
          0.00007573547676455807,
          0.00007578543420305712,
          0.00007583539164155618,
          0.00007588534908005522,
          0.00007593530651855427,
          0.00007598526395705332,
          0.00007603522139555236,
          0.00007608517883405141,
          0.00007613513627255046,
          0.00007618509371104952,
          0.00007623505114954856,
          0.00007628500858804761,
          0.00007633496602654666,
          0.0000763849234650457,
          0.00007643488090354475,
          0.00007648483834204381,
          0.00007653479578054286,
          0.0000765847532190419,
          0.00007663471065754095,
          0.00007668466809604,
          0.00007673462553453904,
          0.00007678458297303809,
          0.00007683454041153715,
          0.0000768844978500362,
          0.00007693445528853524,
          0.00007698441272703429,
          0.00007703437016553334,
          0.00007708432760403239,
          0.00007713428504253145,
          0.00007718424248103049,
          0.00007723419991952954,
          0.00007728415735802859,
          0.00007733411479652763,
          0.00007738407223502668,
          0.00007743402967352574,
          0.00007748398711202479,
          0.00007753394455052383,
          0.00007758390198902288,
          0.00007763385942752193,
          0.00007768381686602097,
          0.00007773377430452002,
          0.00007778373174301908,
          0.00007783368918151813,
          0.00007788364662001717,
          0.00007793360405851622,
          0.00007798356149701527,
          0.00007803351893551431,
          0.00007808347637401337,
          0.00007813343381251242,
          0.00007818339125101147,
          0.00007823334868951051,
          0.00007828330612800956,
          0.00007833326356650861,
          0.00007838322100500765,
          0.00007843317844350672,
          0.00007848313588200576,
          0.00007853309332050481,
          0.00007858305075900386,
          0.0000786330081975029,
          0.00007868296563600195,
          0.00007873292307450101,
          0.00007878288051300006,
          0.0000788328379514991,
          0.00007888279538999815,
          0.0000789327528284972,
          0.00007898271026699624,
          0.0000790326677054953,
          0.00007908262514399435,
          0.0000791325825824934,
          0.00007918254002099244,
          0.00007923249745949149,
          0.00007928245489799054,
          0.00007933241233648958,
          0.00007938236977498864,
          0.00007943232721348769,
          0.00007948228465198674,
          0.00007953224209048578,
          0.00007958219952898483,
          0.00007963215696748388,
          0.00007968211440598294,
          0.00007973207184448198,
          0.00007978202928298103,
          0.00007983198672148008,
          0.00007988194415997912,
          0.00007993190159847817,
          0.00007998185903697722,
          0.00008003181647547628,
          0.00008008177391397533,
          0.00008013173135247437,
          0.00008018168879097342,
          0.00008023164622947247,
          0.00008028160366797151,
          0.00008033156110647057,
          0.00008038151854496962,
          0.00008043147598346867,
          0.00008048143342196771,
          0.00008053139086046676,
          0.0000805813482989658,
          0.00008063130573746485,
          0.00008068126317596391,
          0.00008073122061446296,
          0.00008078117805296201,
          0.00008083113549146105,
          0.0000808810929299601,
          0.00008093105036845915,
          0.00008098100780695821,
          0.00008103096524545725,
          0.0000810809226839563,
          0.00008113088012245535,
          0.0000811808375609544,
          0.00008123079499945344,
          0.0000812807524379525,
          0.00008133070987645155,
          0.0000813806673149506,
          0.00008143062475344964,
          0.00008148058219194869,
          0.00008153053963044774,
          0.00008158049706894678,
          0.00008163045450744584,
          0.00008168041194594489,
          0.00008173036938444394,
          0.00008178032682294298,
          0.00008183028426144203,
          0.00008188024169994108,
          0.00008193019913844014,
          0.00008198015657693918,
          0.00008203011401543823,
          0.00008208007145393728,
          0.00008213002889243632,
          0.00008217998633093537,
          0.00008222994376943442,
          0.00008227990120793348,
          0.00008232985864643252,
          0.00008237981608493157,
          0.00008242977352343062,
          0.00008247973096192966,
          0.00008252968840042871,
          0.00008257964583892777,
          0.00008262960327742682,
          0.00008267956071592586,
          0.00008272951815442491,
          0.00008277947559292396,
          0.000082829433031423,
          0.00008287939046992207,
          0.00008292934790842111,
          0.00008297930534692016,
          0.0000830292627854192,
          0.00008307922022391825,
          0.0000831291776624173,
          0.00008317913510091635,
          0.0000832290925394154,
          0.00008327904997791445,
          0.0000833290074164135,
          0.00008337896485491255,
          0.00008342892229341159,
          0.00008347887973191064,
          0.0000835288371704097,
          0.00008357879460890875,
          0.0000836287520474078,
          0.00008367870948590684,
          0.00008372866692440589,
          0.00008377862436290493,
          0.00008382858180140398,
          0.00008387853923990304,
          0.00008392849667840209,
          0.00008397845411690113,
          0.00008402841155540018,
          0.00008407836899389923,
          0.00008412832643239827,
          0.00008417828387089734,
          0.00008422824130939638,
          0.00008427819874789543,
          0.00008432815618639448,
          0.00008437811362489352,
          0.00008442807106339257,
          0.00008447802850189162,
          0.00008452798594039068,
          0.00008457794337888972,
          0.00008462790081738877,
          0.00008467785825588782,
          0.00008472781569438686,
          0.00008477777313288591,
          0.00008482773057138497,
          0.00008487768800988402,
          0.00008492764544838306,
          0.00008497760288688211,
          0.00008502756032538116,
          0.0000850775177638802,
          0.00008512747520237926,
          0.00008517743264087831,
          0.00008522739007937736,
          0.0000852773475178764,
          0.00008532730495637545,
          0.0000853772623948745,
          0.00008542721983337354,
          0.0000854771772718726,
          0.00008552713471037165,
          0.0000855770921488707,
          0.00008562704958736974,
          0.00008567700702586879,
          0.00008572696446436784,
          0.0000857769219028669,
          0.00008582687934136595,
          0.00008587683677986499,
          0.00008592679421836404,
          0.00008597675165686309,
          0.00008602670909536213,
          0.00008607666653386118,
          0.00008612662397236024,
          0.00008617658141085929,
          0.00008622653884935833,
          0.00008627649628785738,
          0.00008632645372635643,
          0.00008637641116485547,
          0.00008642636860335453,
          0.00008647632604185358,
          0.00008652628348035263,
          0.00008657624091885167,
          0.00008662619835735072,
          0.00008667615579584977,
          0.00008672611323434883,
          0.00008677607067284787,
          0.00008682602811134692,
          0.00008687598554984597,
          0.00008692594298834501,
          0.00008697590042684406,
          0.00008702585786534311,
          0.00008707581530384217,
          0.00008712577274234122,
          0.00008717573018084026,
          0.00008722568761933931,
          0.00008727564505783836,
          0.0000873256024963374,
          0.00008737555993483646,
          0.00008742551737333551,
          0.00008747547481183456,
          0.0000875254322503336,
          0.00008757538968883265,
          0.0000876253471273317,
          0.00008767530456583074,
          0.0000877252620043298,
          0.00008777521944282885,
          0.0000878251768813279,
          0.00008787513431982694,
          0.00008792509175832599,
          0.00008797504919682504,
          0.0000880250066353241,
          0.00008807496407382314,
          0.00008812492151232219,
          0.00008817487895082124,
          0.00008822483638932028,
          0.00008827479382781933,
          0.00008832475126631838,
          0.00008837470870481744,
          0.00008842466614331648,
          0.00008847462358181553,
          0.00008852458102031458,
          0.00008857453845881363,
          0.00008862449589731267,
          0.00008867445333581173,
          0.00008872441077431078,
          0.00008877436821280983,
          0.00008882432565130887,
          0.00008887428308980792,
          0.00008892424052830697,
          0.00008897419796680603,
          0.00008902415540530507,
          0.00008907411284380412,
          0.00008912407028230317,
          0.00008917402772080221,
          0.00008922398515930126,
          0.0000892739425978003,
          0.00008932390003629937,
          0.00008937385747479841,
          0.00008942381491329746,
          0.00008947377235179651,
          0.00008952372979029555,
          0.0000895736872287946,
          0.00008962364466729366,
          0.00008967360210579271,
          0.00008972355954429175,
          0.0000897735169827908,
          0.00008982347442128985,
          0.0000898734318597889,
          0.00008992338929828794,
          0.000089973346736787,
          0.00009002330417528605,
          0.0000900732616137851,
          0.00009012321905228414,
          0.00009017317649078319,
          0.00009022313392928224,
          0.0000902730913677813,
          0.00009032304880628034,
          0.00009037300624477939,
          0.00009042296368327844,
          0.00009047292112177748,
          0.00009052287856027653,
          0.00009057283599877559,
          0.00009062279343727464,
          0.00009067275087577368,
          0.00009072270831427273,
          0.00009077266575277178,
          0.00009082262319127082,
          0.00009087258062976987,
          0.00009092253806826893,
          0.00009097249550676798,
          0.00009102245294526702,
          0.00009107241038376607,
          0.00009112236782226512,
          0.00009117232526076416,
          0.00009122228269926322,
          0.00009127224013776227,
          0.00009132219757626132,
          0.00009137215501476036,
          0.00009142211245325941,
          0.00009147206989175846,
          0.0000915220273302575,
          0.00009157198476875657,
          0.00009162194220725561,
          0.00009167189964575466,
          0.0000917218570842537,
          0.00009177181452275275,
          0.0000918217719612518,
          0.00009187172939975086,
          0.0000919216868382499,
          0.00009197164427674895,
          0.000092021601715248,
          0.00009207155915374705,
          0.0000921215165922461,
          0.00009217147403074514,
          0.0000922214314692442,
          0.00009227138890774325,
          0.0000923213463462423,
          0.00009237130378474134,
          0.00009242126122324039,
          0.00009247121866173943,
          0.0000925211761002385,
          0.00009257113353873754,
          0.00009262109097723659,
          0.00009267104841573563,
          0.00009272100585423468,
          0.00009277096329273373,
          0.00009282092073123279,
          0.00009287087816973184,
          0.00009292083560823088,
          0.00009297079304672993,
          0.00009302075048522898,
          0.00009307070792372802,
          0.00009312066536222707,
          0.00009317062280072613,
          0.00009322058023922518,
          0.00009327053767772422,
          0.00009332049511622327,
          0.00009337045255472232,
          0.00009342040999322136,
          0.00009347036743172042,
          0.00009352032487021947,
          0.00009357028230871852,
          0.00009362023974721756,
          0.00009367019718571661,
          0.00009372015462421566,
          0.0000937701120627147,
          0.00009382006950121376,
          0.00009387002693971281,
          0.00009391998437821186,
          0.0000939699418167109,
          0.00009401989925520995,
          0.000094069856693709,
          0.00009411981413220806,
          0.0000941697715707071,
          0.00009421972900920615,
          0.0000942696864477052,
          0.00009431964388620425,
          0.00009436960132470329,
          0.00009441955876320235,
          0.0000944695162017014,
          0.00009451947364020045,
          0.00009456943107869949,
          0.00009461938851719854,
          0.00009466934595569759,
          0.00009471930339419663,
          0.00009476926083269569,
          0.00009481921827119474,
          0.00009486917570969379,
          0.00009491913314819283,
          0.00009496909058669188,
          0.00009501904802519093
         ],
         "y": [
          -4963882.798924201,
          -4283056.349905371,
          -2794664.1803418314,
          -1384670.6643567383,
          -653627.3230524547,
          -477758.64480528526,
          -382784.93833097327,
          -300980.740815732,
          -239422.5671395233,
          -200695.204456625,
          -172031.15753498094,
          -146646.83758603653,
          -126905.23911138701,
          -120183.4232211075,
          -109722.59573509236,
          -95324.06859373975,
          -87609.55764163886,
          -74534.0230298369,
          -69456.23603985157,
          -68558.25695212561,
          -65824.71668470165,
          -58817.10464627846,
          -51773.062646169776,
          -49414.88753449492,
          -51460.12617959278,
          -52139.88994040352,
          -43804.03821299691,
          -34776.88850430785,
          -30840.62836474065,
          -33349.231891173484,
          -33562.256535050125,
          -26616.68742600859,
          -21728.89716600589,
          -17096.289877813382,
          -16687.51123536774,
          -14635.163669183827,
          -12054.579869667456,
          -7702.663580769537,
          -6746.828942552728,
          -11293.949631879537,
          -12008.951439888115,
          -11867.890501122467,
          -12445.845605107137,
          -11428.028207463794,
          -9846.785521206322,
          -7305.840365762379,
          -1947.9311357254917,
          -35.69403435519883,
          -1873.7731061766951,
          -1002.8677714319334,
          38.533446271285655,
          -2335.845417408338,
          -1931.8860082882106,
          1278.0581005838899,
          5075.230140600727,
          5828.223738913427,
          3551.6724627758676,
          4167.161233120639,
          7958.456983536096,
          8513.41511788455,
          6922.274314142494,
          11089.352846643218,
          15515.77625737388,
          12751.916078926612,
          12731.277281607257,
          15956.207021620576,
          16617.421862874748,
          15557.088923276075,
          13740.431058663238,
          15677.072454539608,
          18829.937357641487,
          18870.48344750875,
          16555.326806978388,
          16976.141355642467,
          21092.37214834352,
          23622.963996342518,
          21928.012094593316,
          21028.91251376428,
          22226.6983589868,
          23684.15337933622,
          25513.297011353014,
          24410.907431241234,
          21153.721348500047,
          21215.2767665964,
          23244.228274874004,
          26540.61997835534,
          26271.99603932567,
          22609.340680445166,
          25103.36769539066,
          28437.070453479904,
          27710.746243870664,
          26150.820143631096,
          25351.423171780163,
          26450.614188644457,
          28124.21645106608,
          29549.413546880944,
          29605.664278571257,
          29957.498679703986,
          32577.43879245335,
          34339.62676897304,
          33987.27355700762,
          31238.577183018795,
          30910.69899115674,
          32142.66742453983,
          31780.67924975,
          32021.00992286254,
          33625.65635588831,
          33896.412005753606,
          34932.854066056134,
          37313.64762649538,
          35385.204780981185,
          33296.28252274228,
          33391.18327707623,
          34087.731276037826,
          34948.94495423713,
          34496.51052630174,
          33891.82865761709,
          36755.08368632093,
          42084.6420460234,
          45566.05653760242,
          45463.904592385275,
          42555.53550169488,
          42859.655605449545,
          45070.2206832157,
          45068.29853563161,
          44274.87696729981,
          43546.159161878575,
          45292.84352178282,
          47896.23372607612,
          47481.39436367543,
          46138.7650708427,
          45896.9485348746,
          47519.501272925016,
          49209.810492537144,
          48902.873361319136,
          48533.095980970495,
          48590.86150253151,
          49460.94842231493,
          49937.21939569921,
          47856.44508359138,
          46792.80823951703,
          50984.73304726406,
          54674.279411277355,
          53470.304354725704,
          50546.06815829849,
          49040.75583672681,
          50537.30274191171,
          52973.23585655145,
          55285.247124155445,
          55346.35260070654,
          52817.588328334474,
          52237.13328003946,
          54855.26606774369,
          56568.633820299605,
          54613.69590988348,
          52939.37315282731,
          52286.44484453653,
          52158.0636883113,
          52917.27292819844,
          54100.83145178709,
          56634.28503307608,
          56756.97982018794,
          54412.37082478175,
          51857.39229748589,
          50788.21455120375,
          52897.117368093284,
          56758.74571026095,
          56568.25308448595,
          54266.99379152621,
          53960.69559920013,
          54523.63626499913,
          57132.31615360289,
          59340.23703586077,
          58499.03695134526,
          57061.860025898706,
          57290.891947351345,
          58310.03659288327,
          58425.86692267744,
          58412.06304400217,
          59352.04944935676,
          58951.41824037553,
          57600.236359146205,
          57982.87700080168,
          57817.148376626385,
          59089.37675230552,
          61166.440986499205,
          61630.29577184834,
          61058.784707588944,
          58259.631079312145,
          58134.7832662653,
          61789.426852423785,
          63980.79051078746,
          65476.12713110735,
          65650.07698010375,
          63519.677871852764,
          63781.82434655707,
          65105.493327705626,
          63976.39709081935,
          62210.591687389446,
          62520.57946547088,
          62664.434562741946,
          60381.55221012138,
          59201.65687276437,
          62539.47998225942,
          65434.397665365286,
          64702.8724465628,
          63159.99384630427,
          62771.52925618661,
          63957.36159620392,
          65723.2688452136,
          67622.12812511872,
          66579.66416686185,
          64925.578417061144,
          66422.0821026478,
          68039.83345662075,
          68686.69458837189,
          68551.52979524445,
          64846.11684548581,
          62538.33570224847,
          62481.15149489438,
          60034.58784908025,
          57347.42022221883,
          57123.27952731046,
          59410.621276378384,
          61236.6666421314,
          61168.902021053145,
          59880.49553367127,
          59110.556106797136,
          59302.34775307307,
          60488.379081143175,
          62008.38965016725,
          63103.723598861485,
          62224.19199651148,
          62106.03608809511,
          63366.26358792829,
          62968.573087436605,
          63401.418275627504,
          65089.41549079877,
          67660.83530188067,
          67949.96558860537,
          65690.19991630745,
          63713.494715835186,
          64683.666839778154,
          67446.51721318855,
          67850.25927490131,
          65975.24344540856,
          63114.89386085406,
          63169.334863960925,
          64713.84506990607,
          65195.30999924577,
          65862.6169504604,
          66471.95443094995,
          65584.74517273436,
          63654.97812553441,
          64281.59066941021,
          65371.764961816836,
          66080.656419201,
          68482.84191798489,
          69510.16649203966,
          67494.69706387469,
          65923.93698792733,
          69016.06022894975,
          72608.59578794189,
          72656.10153886795,
          70841.22725008322,
          68390.62877688333,
          66534.94299029846,
          66337.11345903252,
          68021.64123024109,
          69865.07910050878,
          68996.56075003225,
          67425.02608177539,
          67835.71898318162,
          68782.01310579579,
          69951.03703047629,
          71679.22430327893,
          73149.48618698062,
          72053.00146663125,
          68981.94286338033,
          68161.3786948966,
          70750.54936107183,
          74318.01257055654,
          75523.26277963037,
          73846.77475628724,
          70548.55269068743,
          68253.4078758556,
          69369.675162339,
          71931.8404685646,
          73588.98683239585,
          71750.29257189506,
          69638.02792090454,
          70292.19423269264,
          70886.75402394598,
          71566.89169746006,
          72323.1241607068,
          72400.4732889372,
          71961.30573113376,
          71276.53530488776,
          71062.64341968889,
          72255.12714767006,
          74619.20671425071,
          76487.6570579171,
          75412.7902657602,
          72469.26539597161,
          71900.66469857085,
          74007.11111069382,
          76983.53667386803,
          77740.57996633058,
          75720.95411000404,
          73916.15697947957,
          72872.16110747501,
          73966.46395630072,
          75635.54822324598,
          77759.9770057174,
          78462.84463182004,
          76298.50618418035,
          75958.31668354955,
          77008.05677997781,
          77793.43927809718,
          80226.54919250817,
          82197.64916230798,
          81612.65529633398,
          79903.03690138785,
          77849.0706724836,
          78660.61515912924,
          81187.76397684112,
          82357.67786160731,
          81278.33551379843,
          79161.55855409833,
          79220.34079668246,
          80800.02208769493,
          80831.49877985919,
          79739.43775582543,
          78764.9782246797,
          78335.90363061609,
          77843.47669544516,
          77961.69629755542,
          79825.9449614274,
          80166.19918087208,
          81179.25583818673,
          82214.63359440544,
          80637.22336782077,
          79043.45761380218,
          79571.09477684007,
          81909.06399640616,
          83173.00810021725,
          83129.94133934421,
          81957.62680844389,
          81265.2361838975,
          82132.31670786494,
          82198.55940412375,
          82118.61543420449,
          82771.7934534698,
          84315.85068695655,
          84679.57194627369,
          83658.26026682513,
          84503.36033516427,
          85900.63649297184,
          86157.62947540681,
          86087.66386095734,
          85180.50223037442,
          82826.65285450852,
          82652.34219898355,
          84375.37251501672,
          86429.97128923603,
          87931.80336187432,
          86254.54943630908,
          85435.90488990922,
          86461.39207328451,
          87060.17611034107,
          87400.15074639583,
          88049.32766674903,
          87984.5640982045,
          86404.73252929852,
          85618.18716673525,
          84809.94598136948,
          85357.5120990949,
          87036.07062810025,
          88796.19153878101,
          88910.86052691269,
          87941.40614361218,
          89010.9205738531,
          91683.5536921933,
          93858.1476088754,
          94084.67484678462,
          93484.05149112613,
          92508.62346183787,
          90750.88676500575,
          90495.56563248318,
          92496.78331882901,
          93169.91836165459,
          91838.22409838827,
          92178.87263067251,
          93257.30245658265,
          93622.15658084613,
          95234.15355676522,
          97723.9818032855,
          98764.4944289386,
          96728.21252757979,
          94437.32171888964,
          94223.54423572785,
          97131.5759891277,
          100113.28112060195,
          99506.3161473257,
          97983.31375881686,
          97779.83564685566,
          96786.20518543046,
          96288.2673047382,
          98061.1724498969,
          97539.74080829837,
          96190.68435932044,
          95545.88946342729,
          95016.94123375103,
          93985.24415046872,
          93994.8886038488,
          95421.29368076444,
          95441.29226253883,
          93939.68601028177,
          92283.24733537035,
          92343.51424337892,
          95379.43732152694,
          99954.40291496998,
          100833.1881450733,
          100484.16648232758,
          98662.50602843809,
          97472.69760698722,
          99973.88466581906,
          101392.0258364411,
          101093.53369513636,
          100289.15572354019,
          98819.83731929351,
          97659.49041543488,
          99479.4882538121,
          99973.25468938422,
          100454.46591643078,
          102707.96593865189,
          101015.2307230365,
          98515.42560364796,
          98709.81958064214,
          101170.65002925403,
          102430.46838112963,
          101925.52778647341,
          102901.47564702075,
          101931.07195100193,
          99488.03301950864,
          102569.44377700676,
          105621.73742685535,
          104865.02826191646,
          103924.47647633897,
          102625.30193404565,
          102180.03459064712,
          103443.51180298279,
          106591.79516419316,
          106207.40407397866,
          103118.04107353814,
          103308.93447321754,
          104183.77353199355,
          104615.38005659948,
          105082.49842738573,
          105884.75286812715,
          107378.02007418379,
          107790.43960239492,
          106194.80007628525,
          106805.06843760144,
          107449.26030665652,
          106743.41738807951,
          113711.87409979088,
          119266.6555614001,
          117225.24622928699,
          116788.27196105866,
          116720.0074273392,
          116537.41169065966,
          117086.34432807555,
          117528.4160395079,
          120247.76177349164,
          122408.58061719174,
          122429.28231463484,
          123523.75731690924,
          124522.58388089035,
          126160.29875732148,
          124940.27504838484,
          119746.22709437505,
          118315.77008582432,
          121453.22604119738,
          125372.87045875328,
          127030.58366443012,
          125518.23170651252,
          124756.39027159884,
          124372.43201853803,
          124369.61930098767,
          125966.92447359387,
          128088.5847882823,
          126841.07084675455,
          124827.20061548005,
          125251.10587972197,
          124614.34490810259,
          122798.77068063211,
          122170.29916699929,
          125702.37810934588,
          126426.58775297538,
          124163.78890245562,
          123097.08700970237,
          124055.31307344945,
          127703.28666573446,
          128891.29376494119,
          128772.02031852651,
          128394.78654245642,
          126903.58517877954,
          126996.74441109858,
          127891.25384101961,
          127161.83121452543,
          128946.8355482684,
          130442.48085877158,
          127644.4537900466,
          126760.29485085516,
          126955.34102126153,
          127848.24012148217,
          130088.76007077632,
          129814.86673428654,
          129031.71407761607,
          128433.98381076229,
          126994.23558753546,
          127111.72029931158,
          128672.06209099562,
          130175.16550404677,
          128147.23817061985,
          124884.44247859632,
          124721.1339350234,
          128416.54088051469,
          130482.74573181289,
          129665.29982672154,
          129946.57427345397,
          129302.22703233828,
          131181.66381709746,
          133189.43249244482,
          132283.8758548937,
          132026.1110497866,
          131193.38405221855,
          130443.78672513957,
          132705.40551003662,
          135518.08380033786,
          138303.642679035,
          139261.66448490863,
          140401.14032884725,
          141208.29836961185,
          136902.01297405246,
          135738.26148101653,
          137520.141521258,
          139037.64901642237,
          141138.37800459063,
          140994.92615381474,
          139193.03839951963,
          134190.79089679467,
          133630.75925015757,
          138928.8071906444,
          140519.38394756624,
          138920.70107644834,
          137153.81715585786,
          134538.4077849898,
          133533.43940734395,
          136353.4521070063,
          140101.43549622348,
          152701.32673221454,
          164110.86277073465,
          166922.32920247124,
          166281.45110663606,
          157794.17560982148,
          156642.3209009616,
          162475.7536170559,
          161734.816376585,
          157352.15703018277,
          153990.99292377758,
          156070.0324902584,
          160257.0692089043,
          154539.85140508894,
          149556.17086908114,
          153848.88660194745,
          158962.63175998573,
          157787.40724027308,
          151334.18152968577,
          154560.30701243912,
          163203.8642802251,
          163881.3486872526,
          156820.15853126274,
          153996.3036393682,
          157374.39875450652,
          160518.31718547898,
          159585.79753613562,
          159951.1729328709,
          164704.1573975407,
          162982.88103702222,
          158907.44985855234,
          158562.33470740076,
          159594.91515615032,
          165344.890074615,
          166212.94657053577,
          162807.41335522357,
          166674.49054972857,
          166467.85648395307,
          166414.48129114165,
          167335.64861313286,
          166997.19638298923,
          170594.35898277187,
          167800.2277405699,
          162952.8410417083,
          166139.30464312772,
          172034.8462736878,
          175810.01353716737,
          171347.36269225916,
          169529.37420415113,
          177209.5360343483,
          177146.3666889245,
          173108.8098830982,
          173910.56414003763,
          175379.8909314226,
          179085.28989901426,
          175036.76392730445,
          169919.63477507967,
          175333.93079764117,
          179179.21378172145,
          177927.8549449588,
          174454.02311372838,
          175554.19158500532,
          179928.50967673672,
          179699.2551475143,
          176769.76145433463,
          179693.80598995223,
          183563.4248644131,
          180592.38647342703,
          177289.41216486477,
          175805.75588048922,
          180307.34828213233,
          185701.4595584312,
          181317.95574586425,
          176142.3395923616,
          177056.0642755066,
          181356.8464080063,
          182083.53992947523,
          178456.86827163745,
          176170.11029713548,
          178695.99316664375,
          177345.6566398742,
          173501.86094933722,
          172096.85349625294,
          177868.99388355654,
          185090.63616260336,
          180054.61634442722,
          178828.86517190278,
          183418.5263403037,
          182276.7913306537,
          179996.1468894483,
          178853.81097225266,
          184511.4635032601,
          189087.84406513485,
          182464.25343292268,
          179715.49264250018,
          184084.40297956887,
          187030.49397766005,
          188933.45531610874,
          188228.19757704186,
          186738.06651719185,
          188551.5937790685,
          173266.0713500921,
          156568.7424236081,
          156807.6987551124,
          160327.9743631906,
          168320.3108174026,
          164595.3367897193,
          158607.30283483074,
          162140.04118888482,
          170494.39650719787,
          178340.6433725637,
          175614.441245966,
          172964.41903658485,
          177980.3181531438,
          177938.54119024772,
          170060.59740053807,
          167645.67088033195,
          172582.66007284223,
          184179.5114350131,
          185426.28738488987,
          179312.42239484642,
          184815.80385825312,
          189802.8875132818,
          186755.44035165134,
          181182.4950143632,
          182035.64923942363,
          190493.42237719803,
          188743.66688204065,
          178074.82478280796,
          183380.91327205522,
          190695.09439866716,
          186207.44531384698,
          184892.36088172568,
          181126.3282159969,
          182569.773129064,
          185198.8265531952,
          180367.49155171248,
          184806.20942582047,
          189515.1996027783,
          187007.29076249147,
          183854.48692660025,
          183025.02108554306,
          190680.9776157584,
          199313.8690636374,
          193047.22168300397,
          185270.35943882182,
          181756.25183641905,
          187532.33493673685,
          191350.3610583687,
          183524.83182962137,
          186655.68666446194,
          192757.49128329937,
          191671.8862292112,
          186673.91484279087,
          183709.0685319764,
          194288.50605362857,
          203361.3373089565,
          196802.76135786515,
          193622.14076595232,
          197681.80444528654,
          198563.47514538068,
          195376.8091790218,
          191563.84949610193,
          197424.46210310483,
          202350.0508716111,
          195985.3358528389,
          190753.46925878996,
          197558.55370194398,
          206209.07907730795,
          208393.46173064085,
          206363.814800819,
          204222.13840136616,
          207761.27729507044,
          207244.26834593093,
          207983.04539301863,
          210472.52571375115,
          215855.2182694147,
          223311.7067343884,
          216653.4503370357,
          207564.6879405704,
          209336.37062693332,
          216463.5132848937,
          224521.77185613642,
          221870.70671516046,
          212913.11023987073,
          216640.0754515454,
          218184.11624271944,
          211744.01170316865,
          218955.5487351703,
          223796.64169189893,
          222127.04841146595,
          217819.42450457014,
          212310.5746363784,
          218694.80217104816,
          222435.44942900134,
          218551.49706667548,
          220670.81618685424,
          226792.19290420716,
          226870.52991064548,
          221620.14458086708,
          217413.95061123077,
          227279.83168336618,
          233571.65770397568,
          228154.544311533,
          227638.96239438577,
          223197.55740726696,
          224653.19052624,
          227113.06837286035,
          226984.60787775443,
          228182.31340768994,
          222531.5294519032,
          219929.91816797818,
          219109.87421064882,
          218846.22829663195,
          226570.79768210842,
          233167.9040263701,
          228201.1925305839,
          226197.26211361084,
          221377.00031606096,
          214894.52641068838,
          218450.4487070868,
          222379.58925884444,
          228811.9806094466,
          232820.1749638804,
          228092.8073497753,
          222939.8727220233,
          225365.56126397385,
          234731.83759477735,
          240135.235034183,
          231062.28121148678,
          227274.60675726717,
          233318.98776024944,
          232680.1908225059,
          232809.74038301862,
          235502.0300912362,
          240238.3703056914,
          240851.3453112739,
          231890.22133581183,
          233361.33998818457,
          243775.91659470578,
          244375.71350220306,
          241507.30991823322,
          238620.03743739447,
          238860.59363611735,
          239919.00875596586,
          234407.40899567696,
          240449.0387942805,
          252348.62253905766,
          255655.50128109712,
          251718.78949991404,
          240904.90799948724,
          239925.51806045338,
          252540.10770212725,
          260358.36598315972,
          256781.19061928155,
          251315.32279161128,
          252568.9467790365,
          257304.51895462515,
          252214.62749947896,
          250908.64941773753,
          261686.19786939328,
          266414.4409585642,
          263546.5932108544,
          255739.6132312808,
          257065.50722560944,
          269406.1436607296,
          271865.74186557473,
          265098.15920260735,
          264257.06410986185,
          263485.1203968752,
          257582.29067459772,
          255197.83616455866,
          260423.0363129364,
          272127.17693233915,
          269123.53406489774,
          257448.60152946584,
          258080.27547925862,
          263190.9607627181,
          269644.7833091727,
          272172.7490463015,
          270059.9454926959,
          266471.69274255185,
          264470.0704896778,
          261905.31130131544,
          262936.1726265125,
          268187.54961887334,
          275172.780282334,
          278459.1363086096,
          265848.7381096112,
          265364.8274609316,
          273760.51282055693,
          279342.226153566,
          282010.12062609516,
          276718.32621068135,
          278758.99393360433,
          283723.12576175283,
          272459.2114184536,
          271433.0190306254,
          283732.14774991525,
          287836.69264442724,
          285019.11005973787,
          277373.94804440526,
          281498.5652698061,
          289907.8264321059,
          286629.5559101726,
          283815.34308412066,
          289829.34228009696,
          290888.94462384254,
          284401.4153681923,
          281564.13674026757,
          288165.7650551101,
          296044.3360424434,
          296522.56723892037,
          292320.0136686242,
          288683.72847016033,
          291127.09549729025,
          297410.8789121435,
          298828.78223672794,
          297699.4828867033,
          300947.758299781,
          300490.0122353182,
          291704.8682134097,
          285221.9962392689,
          287188.1788506058,
          300538.36292560695,
          304403.94681132253,
          293533.7962436032,
          287698.2203199689,
          289296.8653617065,
          297940.50554423913,
          301703.23115197715,
          301467.69510596857,
          308380.80380663206,
          307976.1652259859,
          298101.01464163617,
          300091.21969231835,
          310161.80748002796,
          315686.6380890204,
          310711.0745182617,
          303587.0725904263,
          311135.39514361985,
          315261.1664549815,
          317988.23770886613,
          321247.8340706689,
          328378.34166084696,
          345083.76542286057,
          347906.4238289365,
          339493.35370222986,
          336089.635059913,
          341066.65982500906,
          353172.8982583584,
          358242.376930781,
          343852.49022502365,
          341081.05736697774,
          349027.736946767,
          349832.05998658267,
          349088.9241909829,
          348606.09320953256,
          351608.77681863634,
          349783.36202867376,
          345455.7515544949,
          347429.2797687349,
          354057.5521934554,
          353373.72823668655,
          352166.0644892172,
          349340.55234038236,
          349318.6148265779,
          353129.2125627624,
          346847.9203343597,
          353874.23533313087,
          363666.9175760254,
          360509.8055228894,
          349161.0928713024,
          347372.1169837924,
          361593.0926670208,
          372269.64535752044,
          365968.53962107265,
          353444.13281134586,
          354715.07560409384,
          359793.3714703153,
          365890.4725110495,
          373084.1896593021,
          371157.67167433084,
          369412.2445687026,
          368884.2223999046,
          366444.3170512847,
          368080.5969045525,
          367882.64160944987,
          372905.4334257194,
          374487.1824900209,
          375267.7858280805,
          376125.4680718229,
          368770.87438619754,
          371110.2884875729,
          377156.6264280726,
          383997.5197904884,
          393686.47480490984,
          382831.662580715,
          371048.0975396152,
          379094.9199806063,
          389149.1476050499,
          388554.9260824066,
          381747.3676149388,
          384436.7455411131,
          390494.61432726006,
          388110.3667807996,
          383085.44194127066,
          389272.12943812634,
          396353.0016128002,
          397047.79532712774,
          393189.31630170037,
          387865.15193366946,
          392941.82054095477,
          394278.92107422,
          391887.34163415583,
          394531.294593574,
          395552.99053349945,
          392668.17822046735,
          392264.9079929226,
          392764.7114884818,
          398607.38462222886,
          406837.9293963599,
          404061.08448518784,
          400232.4859372338,
          399634.44448470697,
          404601.29817192175,
          409099.84585817426,
          406494.1171066912,
          406798.2880139406,
          413219.60835307953,
          413703.37771498197,
          409224.9983585652,
          404047.1986972582,
          411581.7943750335,
          423556.09842812334,
          415350.82235774444,
          409168.44566436583,
          414208.50439974037,
          420818.9341285746,
          422726.10739744845,
          417286.1544615103,
          421254.94803426566,
          420504.9256516287,
          410287.26794520405,
          407443.3488297222,
          408812.25518095744,
          406127.05086940277,
          401581.2407984066,
          397016.3304506889,
          401857.473367064,
          407370.890425681,
          405316.2208084539,
          407835.46974391915,
          410141.185582618,
          411157.22116480925,
          411407.9659290426,
          408760.8946091604,
          410935.8278135277,
          419923.07325196016,
          422967.6840737631,
          422479.5234708503,
          416217.17909837305,
          413616.7128593698,
          423441.0609964438,
          429046.25267935335,
          426362.3075716872,
          426769.90183283685,
          428788.58223392564,
          432350.60337670584,
          430057.5671432582,
          425655.5262287091,
          436803.4746654584,
          450042.8259816544,
          445537.8247464889,
          439114.40103697457,
          435078.11362778005,
          436717.07806557167,
          441876.43884127424,
          441509.7103654051,
          447393.0659923426,
          451858.2503799659,
          443832.9738242392,
          437387.6436638689,
          440259.3046819871,
          453720.0835724707,
          462550.91700901825,
          450067.35335939564,
          453199.0242973262,
          456404.7920378711,
          453020.8261163676,
          452377.5889535202,
          452750.0257493684,
          464263.5684447924,
          466986.60261688073,
          462985.9737769441,
          455097.420583843,
          454183.18753890635,
          464135.63140083157,
          471157.11231174483,
          466069.70946776867,
          463405.6664355258,
          469511.46793168696,
          473864.4667454916,
          469187.26847097144,
          462854.8266881788,
          472604.1074864167,
          479462.9175700432,
          475312.03469831764,
          476951.2840183347,
          478113.4118999841,
          474758.69116070034,
          475792.9366357542,
          478710.9884534591,
          492247.65589155647,
          498565.14057610475,
          486000.97406811814,
          477583.84757918166,
          486016.9896323472,
          497383.5998500867,
          497493.48975012684,
          492482.10012115305,
          488680.8840636548,
          495635.6152217589,
          497622.4877643093,
          492163.1013922119,
          495316.303566752,
          500117.36459581327,
          502718.597297281,
          503125.8097470056,
          500652.6755290747,
          502226.6753671405,
          504098.4802966021,
          509135.98279432167,
          509932.320955258,
          505512.4502068603,
          512957.8133846954,
          513345.2993428814,
          510522.4361013376,
          512224.6081714148,
          513021.1295973465,
          513441.2132040417,
          507381.72291392443,
          513091.87327159237,
          526866.4238085038,
          528607.2140176113,
          519246.14026820724,
          520251.20865019935,
          530236.2707452418,
          534204.6225805407,
          527727.2715231419,
          523909.51539897936,
          531322.4205721881,
          531841.938498712,
          527062.3455423717,
          525516.2213534162,
          527023.5118279017,
          535317.6808764256,
          539829.4211477032,
          536392.9661399048,
          535260.2615706967,
          530749.9159016362,
          532134.2171628927,
          538400.4363894247,
          544135.960806936,
          548260.7546895575,
          545523.3872676255,
          539243.6194396198,
          540770.0834225811,
          547767.682776923,
          549488.8990781409,
          548336.7405954777,
          543023.0672037031,
          547866.3144633042,
          550645.099795935,
          534412.396497439,
          535040.8150446202,
          551784.162828081,
          570348.8143435952,
          569263.5501641192,
          552151.9749232427,
          562212.426669346,
          592488.3201487062,
          607029.6101240324,
          602864.643372371,
          599196.5850771406,
          604289.5429016388,
          605943.6230865634,
          597343.5461586296,
          601268.7056410321,
          606761.1473830017,
          609931.6001648299,
          611099.7611620125,
          598867.7557247841,
          598608.5895065101,
          609760.4639014113,
          600330.8593534214,
          594965.2162915136,
          609620.1609821467,
          613120.8290025754,
          609814.1234589455,
          606255.2250366784,
          603004.8612098785,
          614871.8285306991,
          627685.2357131959,
          621283.3776945625,
          618208.1033898816,
          634187.1182018799,
          643532.4690351597,
          633585.2100742835,
          625178.440740672,
          628953.6386930362,
          643635.6217435214,
          643409.057639482,
          620130.6885275961,
          624363.058528231,
          645850.7318701883,
          640560.298223126,
          628127.8287998609,
          634043.3851716134,
          636210.5813022703,
          631862.5183505751,
          638518.6977915835,
          637333.0997545219,
          647445.0545091259,
          653137.323477838,
          637885.9560779004,
          640306.8336791521,
          658983.9322516626,
          660119.4671795871,
          646611.7761332007,
          648439.0598014176,
          654161.1956000313,
          650366.0483301076,
          644543.761003886,
          647880.2043957778,
          649948.6001285614,
          648564.8671936722,
          642795.9993591697,
          633729.0701505869,
          647729.4122399386,
          660271.4189851253,
          660618.2731953014,
          657614.6183100262,
          640209.4647889527,
          644140.5647146212,
          651063.3244057513,
          637762.3661082446,
          637286.0232215746,
          653739.7807054863,
          655565.4118507336,
          646049.4670732901,
          642589.171408469,
          648719.4440460608,
          655025.2733397484,
          653435.7762274413,
          656994.3435047399,
          660951.4396122692,
          657129.9172939237,
          640022.9604385964,
          643667.0602354417,
          672044.1799642504,
          677191.9640259652,
          670611.492662814,
          664695.4032968068,
          658719.1460572027,
          665027.3070669338,
          678024.3326885998,
          676109.5176335298,
          676498.5463060251,
          688583.6582637923,
          679021.3984705424,
          679910.3504386747,
          682253.6532064497,
          677433.6607792787,
          690869.5935245849,
          697526.3750052156,
          679373.421863546,
          665324.448315245,
          674116.6573818249,
          680571.9503997571,
          667653.5516800644,
          650830.9156128292,
          642892.4668745743,
          645399.4672307902,
          649996.4008988445,
          643787.2517492879,
          645572.0615968299,
          653848.8527198016,
          646052.0968515511,
          647915.4039075675,
          663226.7038188205,
          663127.3892118116,
          679243.1757213221,
          692218.222001871,
          673312.7778140272,
          682405.3344367817,
          701855.8925142284,
          690695.1205423977,
          693216.6534394592,
          702358.6613056533,
          694700.457103302,
          700165.8428101183,
          692401.0657121903,
          674335.6287385201,
          691823.6453687387,
          708984.256829734,
          690978.1103283793,
          672543.8372016095,
          677026.7349141259,
          684017.2586192271,
          690796.6144556059,
          689086.8674038014,
          687209.8388063329,
          694100.4733658951,
          687867.2726047743,
          672481.5124575397,
          687234.456815773,
          702063.5353626942,
          679935.6690291095,
          684688.2970970089,
          704776.425735404,
          696243.1457001526,
          690506.0082359285,
          690146.592479475,
          696574.4761893436,
          715652.245990125,
          709466.2189950957,
          682568.3976917968,
          687438.4950795964,
          701925.1170572578,
          693984.7636138191,
          695565.5992204932,
          706505.1213906928,
          702869.0727476749,
          693745.9232567715,
          692280.3216557665,
          692282.0549116804,
          706210.9524398557,
          724228.2463240045,
          706817.8444876692,
          693924.5351737307,
          702899.8884677305,
          701230.4096999892,
          708909.8219736319,
          708281.8532771113,
          711967.6708169202,
          727935.6238161558,
          725938.7790994348,
          704130.3523191336,
          711283.626624985,
          735577.1457461201,
          717112.7132256862,
          706420.7423871928,
          729698.7848994844,
          747320.1397177784,
          748905.4103585309,
          730354.1462566607,
          714660.9924947404,
          742317.2853997872,
          751358.5736114122,
          715166.3753743661,
          710577.1763143296,
          730886.4691730884,
          722291.536826525,
          717215.1922015959,
          731862.3977914619,
          726952.931509864,
          737846.6649479761,
          749957.6583777111,
          725771.7856454074,
          743809.3759825336,
          760704.1199984684,
          738122.6357765892,
          737574.2724407378,
          748508.2546076206,
          747985.0065823727,
          747132.4591512439,
          741847.7772920919,
          733778.2157242041,
          742479.5729363187,
          748353.0929384787,
          733227.5257555958,
          731820.9408492582,
          753240.9427774013,
          753133.2262845869,
          739216.9097868665,
          739051.4792714888,
          739983.4896654119,
          762129.5432086531,
          766763.154752154,
          739852.0752247904,
          738702.405236029,
          730906.1768335678,
          714172.8890054105,
          720757.8464219684,
          731765.1116139009,
          726385.2339645593,
          718966.7272348958,
          706683.0747078622,
          703710.285708451,
          720068.2117218329,
          715424.8366578546,
          709939.0551738567,
          722309.1463538079,
          720591.2517479284,
          704962.3423830257,
          704651.3993868523,
          717207.9712279638,
          724285.8498152386,
          730464.5968988158,
          730571.7482192048,
          721631.9804294017,
          723209.1348617801,
          735291.8761874891,
          730880.1582282122,
          735053.4031082754,
          740369.491409468,
          734583.9040975863,
          740236.3036192568,
          739827.2711325018,
          728420.337818107,
          725078.0386771308,
          726508.5549491362,
          724793.9920125892,
          723920.2640099813,
          717043.6667569822,
          714641.9473069633,
          727236.6190228608,
          730039.4856441189,
          727338.4436899059,
          730348.7090277544,
          727608.192940636,
          727793.1626046915,
          735990.1024303667,
          743961.1115525443,
          728654.4207321352,
          729097.8983665511,
          733369.3895964095,
          719676.0066485225,
          722330.7791941358,
          735085.898362554,
          730382.5850165781,
          729919.5318157331,
          740353.6064178591,
          732177.7445388784,
          732411.3773402591,
          735517.3114157674,
          722867.9107326351,
          734225.2103621045,
          745107.2670601214,
          720867.173044935,
          724246.1172643459,
          738309.4635698958,
          721612.1252587461,
          707941.7764603838,
          705201.9982352029,
          709504.8376012081,
          726484.6538338589,
          728661.8761564995,
          716850.9961195108,
          715941.6729591553,
          724481.0089554299,
          710059.355216439,
          707070.3691238582,
          715382.6170268225,
          707420.8041350403,
          710164.1215216576,
          698041.5028116409,
          684609.7367714394,
          692118.0095004261,
          690063.4484591554,
          681723.5453191807,
          695832.0884163519,
          703334.61077944,
          692942.9432267307,
          694898.3384277675,
          701892.091979165,
          701064.5522006332,
          702317.3928879539,
          695477.7785312028,
          688431.637424976,
          704906.6190199819,
          721774.5321620527,
          694401.0257022816,
          674068.403220644,
          693734.4985886625,
          699825.0371249164,
          697374.0756432601,
          692947.6417932311,
          681609.0322881,
          679072.2090584727,
          680323.9258310013,
          678794.2860305086,
          697890.5527634324,
          701902.0917488682,
          672935.9363923658,
          668271.0830969162,
          680288.6685880676,
          684507.8437943537,
          676196.9071609892,
          675965.7088873265,
          691026.5756159152,
          695929.3880434299,
          695767.8345870929,
          693471.6334392938,
          700753.4425188865,
          711496.3043289385,
          704735.1145889409,
          694824.647292752,
          689789.5100539401,
          686858.7408693051,
          683747.6594085117,
          683080.4707550744,
          676357.5013122663,
          678649.5806360851,
          684456.4070590233,
          671946.4149164933,
          671875.736603299,
          683596.2482649691,
          673725.2567636389,
          671346.065822348,
          679259.6254893892,
          680430.2034101033,
          684926.0364213076,
          678766.8737750207,
          673074.0778492745,
          679552.5437577408,
          697296.2285151635,
          687040.6337508805,
          667426.505761107,
          677970.3307887858,
          697300.2523880241,
          696606.5541375161,
          685630.4147801099,
          683678.937486602,
          700091.0745201465,
          706222.2084408484,
          690172.0015690508,
          691212.567946192,
          700874.2673641508,
          682453.0112634826,
          679662.6272281654,
          689627.192680053,
          689473.7258648282,
          696219.3571883478,
          680801.7584282646,
          677449.7664308939,
          692289.5886584815,
          686708.7427521199,
          666312.8248068567,
          678964.2628077923,
          705514.7847701444,
          698051.8406173376,
          687216.7482736353,
          685056.8216967008,
          673815.466801836,
          682639.1027647823,
          696926.7740927623,
          681379.7653154217,
          672856.4711893129,
          685768.2963297451,
          666308.4593761128,
          661852.9566145757,
          695135.1417541734,
          691521.2186880715,
          679311.8965782163,
          678928.5075144299,
          665045.0355300362,
          664479.807061588,
          679239.4161405318,
          669464.7628768446,
          667100.4234446636,
          674298.8465202972,
          669242.2609985933,
          672147.9814269833,
          680616.9894184818,
          685641.7078309223,
          686976.1547887782,
          692088.9512520147,
          691835.3937944099,
          685140.9264008544,
          673794.4752964715,
          652505.6332478032,
          662668.1310247101,
          680035.5944494591,
          671524.2261185991,
          676340.6107266839,
          683583.9009108061,
          683590.0185053273,
          701852.6960096834,
          716102.5257507245,
          716593.0112376811,
          718536.6395955913,
          700247.4535634465,
          694535.1249224948,
          711934.2319789323,
          706204.1446810949,
          687598.5032668959,
          692461.880288923,
          706366.3568750422,
          690393.9700988957,
          679219.818174787,
          670864.105703386,
          651547.4879096756,
          656959.2157364136,
          660815.3706822478,
          642389.8715355812,
          651118.3382719946,
          664401.9270282428,
          649924.631844494,
          655856.0362812066,
          669470.3383048653,
          659877.6301922802,
          667330.4624618923,
          686619.1726504843,
          680923.4339528524,
          682049.9991671192,
          676221.4880301517,
          666944.4845587913,
          684525.4169277799,
          694588.4345232025,
          686337.0038336235,
          678498.8330139037,
          678547.2816531785,
          676580.0575848124,
          671043.58972016,
          680342.2260948559,
          652967.5000361712,
          658582.2437347302,
          694475.1734919379,
          681474.6271110723,
          648621.1464045678,
          639266.2213358165,
          649743.754443415,
          655396.9516992916,
          675393.5634826721,
          669589.5083147908,
          656592.4358180831,
          647664.9582796695,
          639896.052803394,
          667510.3671349912,
          672192.0152706007,
          646348.4177972295,
          635620.6748164264,
          640866.746605661,
          650455.1193686395,
          632922.3835392047,
          626864.6904150266,
          634320.6612930535,
          654897.0854286284,
          661694.4253962293,
          624733.0667532221,
          610492.6703136049,
          628879.3647535319,
          643153.4368033411,
          645212.1635424466,
          648908.7502851733,
          628459.8131323989,
          622899.0417625519,
          634365.9824080099,
          631715.4775566455,
          654845.6860275769,
          656951.63740461,
          626021.568648729,
          618862.8456179781,
          619572.2230653596,
          619195.5656462965,
          631739.4019874817,
          621794.7732550232,
          607175.3032020224,
          627497.3998176964,
          620429.70080382,
          584990.9043578301,
          588449.1321884879,
          610285.9366729454,
          599908.5774609802,
          582635.1609117866,
          584343.9078700634,
          575663.5832945544,
          583878.348156531,
          599418.0327964044,
          587068.0315790498,
          580957.5445962504,
          595349.5106069898,
          581915.1261624877,
          571332.5887467538,
          585994.8141457514,
          567981.8325006033,
          542983.700839032,
          535681.7853263684,
          540586.9572371304,
          544012.837357252,
          555189.3179613709,
          560220.4038368973,
          555069.4346369174,
          571260.0348730732,
          572917.6526240448,
          561748.2844157526,
          552905.0959516121,
          565644.704327433,
          582830.6529285919,
          562726.8667645657,
          548864.9278390275,
          555085.9058267563,
          562747.4512677911,
          565524.5029557942,
          569412.7227582758,
          558914.3547441037,
          547083.5238967135,
          553922.5465333122,
          552201.6044953142,
          550921.024027423,
          553353.4443691272,
          535862.143742099,
          507348.1492089775,
          508141.10839230823,
          516432.1919890301,
          511183.8520244068,
          509516.25416669215,
          506452.5074272746,
          497625.5468000889,
          501108.757001318,
          512616.1838635925,
          509956.45648499887,
          506898.85572643165,
          509836.75991187315,
          505335.85396490805,
          521927.45298826793,
          515993.6214795139,
          486201.87731169566,
          489781.4091343082,
          506380.93208781397,
          493420.35622221377,
          495787.64736697637,
          497235.421716027,
          469066.0074606648,
          484428.14461780293,
          505209.65656780684,
          499419.99762548803,
          496412.7567070061,
          499979.4866637885,
          495101.1551123261,
          491321.4505018929,
          488941.29505249806,
          465243.99564529513,
          464204.5171931637,
          487758.832253578,
          481782.9008802324,
          483386.3104654476,
          472940.01613264764,
          462031.5975101624,
          481828.8387761998,
          511953.48117708636,
          506922.37228013185,
          464465.6532154019,
          478542.8591797362,
          486530.80188052275,
          475673.115216315,
          484255.45653979736,
          470163.5785634015,
          465910.402744852,
          464427.3356015792,
          459981.416204806,
          461776.64024871885,
          462985.9473606373,
          463810.1955936649,
          470088.1893617861,
          481453.5331933259,
          482836.68722778704,
          483692.73920009885,
          482847.0620612579,
          479019.82555866387,
          492996.9443346643,
          508387.9231513882,
          483704.05502101954,
          473956.8957837563,
          490691.8121313597,
          481575.7177965425,
          483009.592367674,
          482866.9253293301,
          469439.02591960924,
          478968.16523083695,
          489293.6551395587,
          474079.35799927363,
          483958.54307620064,
          497453.296725159,
          480044.3424159616,
          476880.10525088885,
          472019.42620565515,
          447961.59780651744,
          447750.07522040064,
          467626.56729953527,
          447280.82398053183,
          445450.6252456208,
          451528.33001934603,
          420687.6615073802,
          419187.99332957977,
          479684.76679142704,
          502426.99230624276,
          467780.3780566961,
          467891.1615190003,
          474775.19288581563,
          493142.53397801425,
          514811.69419074815,
          481333.4267077584,
          455858.89934340207,
          483892.1719126046,
          474353.65770170966,
          458678.5261642278,
          485939.4374906103,
          486021.70789124933,
          466627.121686123,
          470066.1058552531,
          489827.4046608632,
          500300.6876495265,
          487136.0810104835,
          464602.84498609725,
          471492.92618753726,
          488467.4650724479,
          468229.096592655,
          444652.78843197273,
          462002.5009320069,
          462869.5603419877,
          440200.0026576398,
          437954.51711569476,
          441280.8541483057,
          440365.26359904517,
          439177.63798136194,
          436827.02194175153,
          439823.4487552833,
          440902.9783156705,
          439942.0186001729,
          443679.1324254141,
          446262.4200896034,
          456164.0807328436,
          451223.3261866563,
          434547.55623233947,
          435971.60225490126,
          450778.9129680936,
          455445.5422357049,
          438913.85807524057,
          430931.1291932022,
          443477.9399223525,
          454487.02069227473,
          452712.61870406294,
          431306.8100234621,
          424173.8010470499,
          428603.1142927272,
          421755.57501833,
          401475.16714073386,
          395174.47664393816,
          417961.0304501075,
          382188.8442776901,
          373252.99509646575,
          424449.22735455126,
          405342.88657577796,
          396821.53997677716,
          415911.05544838426,
          404692.2877282668,
          412682.07665268984,
          410321.10822031315,
          404525.5104193087,
          422851.6571203413,
          441463.70741773536,
          450157.0775864492,
          439131.1340008506,
          447183.69777701295,
          455056.2155752361,
          450285.9326190464,
          443858.39535563526,
          417372.97937735566,
          422065.30812873476,
          444397.9803426585,
          429226.3118726996,
          426717.11799215875,
          445210.7369209831,
          446264.1562108753,
          454662.96277271246,
          473649.6914461118,
          471604.5408489697,
          460546.8183317767,
          480008.26647630974,
          489164.61998353404,
          484860.36915427493,
          501494.27119334013,
          494010.29560292355,
          475841.06357083574,
          499553.4876685701,
          536358.6538351331,
          554039.1270570628,
          519036.6983524767,
          479952.5692236369,
          505624.02176973195,
          534368.3026175622,
          531047.3933797671,
          533758.0445129927,
          545806.9555849492,
          513664.63176568813,
          472577.01859081705,
          479639.4519500768,
          496270.4654935005,
          521510.67776592576,
          541139.8082368544,
          523481.8834330967,
          528896.6534883406,
          541076.798702122,
          512671.1644948989,
          533330.8973922301,
          565127.7838124026,
          543443.8459129926,
          554745.9941753097,
          582631.9274902645,
          587406.0349913333,
          581929.7817759012,
          581294.5653906172,
          575767.5962707913,
          583641.8417192325,
          602630.4183871694,
          590557.7366795375,
          595217.2824053023,
          622059.703844973,
          605527.1750242005,
          607470.8503767675,
          636019.3434586553,
          650587.7661427035,
          643553.7950805139,
          648956.5910403264,
          654110.1466300001,
          660494.1187376291,
          669521.2600364232,
          650182.094919282,
          653308.6790911859,
          673265.3302404193,
          642148.027636057,
          624937.815776276,
          645836.1582319526,
          635247.4332679093,
          629282.9804820628,
          649465.7239477477,
          637321.312771397,
          617361.4328935078,
          632077.2802765307
         ],
         "yaxis": "y2"
        }
       ],
       "layout": {
        "font": {
         "color": "Black",
         "family": "Latin-Modern",
         "size": 12
        },
        "height": 400,
        "legend": {
         "bgcolor": "rgba(255, 255, 255, 0.5)",
         "bordercolor": "black",
         "borderwidth": 1,
         "orientation": "v",
         "x": 0.9,
         "xanchor": "right",
         "y": 0.58,
         "yanchor": "top"
        },
        "showlegend": false,
        "template": {
         "data": {
          "bar": [
           {
            "error_x": {
             "color": "#2a3f5f"
            },
            "error_y": {
             "color": "#2a3f5f"
            },
            "marker": {
             "line": {
              "color": "white",
              "width": 0.5
             },
             "pattern": {
              "fillmode": "overlay",
              "size": 10,
              "solidity": 0.2
             }
            },
            "type": "bar"
           }
          ],
          "barpolar": [
           {
            "marker": {
             "line": {
              "color": "white",
              "width": 0.5
             },
             "pattern": {
              "fillmode": "overlay",
              "size": 10,
              "solidity": 0.2
             }
            },
            "type": "barpolar"
           }
          ],
          "carpet": [
           {
            "aaxis": {
             "endlinecolor": "#2a3f5f",
             "gridcolor": "#C8D4E3",
             "linecolor": "#C8D4E3",
             "minorgridcolor": "#C8D4E3",
             "startlinecolor": "#2a3f5f"
            },
            "baxis": {
             "endlinecolor": "#2a3f5f",
             "gridcolor": "#C8D4E3",
             "linecolor": "#C8D4E3",
             "minorgridcolor": "#C8D4E3",
             "startlinecolor": "#2a3f5f"
            },
            "type": "carpet"
           }
          ],
          "choropleth": [
           {
            "colorbar": {
             "outlinewidth": 0,
             "ticks": ""
            },
            "type": "choropleth"
           }
          ],
          "contour": [
           {
            "colorbar": {
             "outlinewidth": 0,
             "ticks": ""
            },
            "colorscale": [
             [
              0,
              "#0d0887"
             ],
             [
              0.1111111111111111,
              "#46039f"
             ],
             [
              0.2222222222222222,
              "#7201a8"
             ],
             [
              0.3333333333333333,
              "#9c179e"
             ],
             [
              0.4444444444444444,
              "#bd3786"
             ],
             [
              0.5555555555555556,
              "#d8576b"
             ],
             [
              0.6666666666666666,
              "#ed7953"
             ],
             [
              0.7777777777777778,
              "#fb9f3a"
             ],
             [
              0.8888888888888888,
              "#fdca26"
             ],
             [
              1,
              "#f0f921"
             ]
            ],
            "type": "contour"
           }
          ],
          "contourcarpet": [
           {
            "colorbar": {
             "outlinewidth": 0,
             "ticks": ""
            },
            "type": "contourcarpet"
           }
          ],
          "heatmap": [
           {
            "colorbar": {
             "outlinewidth": 0,
             "ticks": ""
            },
            "colorscale": [
             [
              0,
              "#0d0887"
             ],
             [
              0.1111111111111111,
              "#46039f"
             ],
             [
              0.2222222222222222,
              "#7201a8"
             ],
             [
              0.3333333333333333,
              "#9c179e"
             ],
             [
              0.4444444444444444,
              "#bd3786"
             ],
             [
              0.5555555555555556,
              "#d8576b"
             ],
             [
              0.6666666666666666,
              "#ed7953"
             ],
             [
              0.7777777777777778,
              "#fb9f3a"
             ],
             [
              0.8888888888888888,
              "#fdca26"
             ],
             [
              1,
              "#f0f921"
             ]
            ],
            "type": "heatmap"
           }
          ],
          "heatmapgl": [
           {
            "colorbar": {
             "outlinewidth": 0,
             "ticks": ""
            },
            "colorscale": [
             [
              0,
              "#0d0887"
             ],
             [
              0.1111111111111111,
              "#46039f"
             ],
             [
              0.2222222222222222,
              "#7201a8"
             ],
             [
              0.3333333333333333,
              "#9c179e"
             ],
             [
              0.4444444444444444,
              "#bd3786"
             ],
             [
              0.5555555555555556,
              "#d8576b"
             ],
             [
              0.6666666666666666,
              "#ed7953"
             ],
             [
              0.7777777777777778,
              "#fb9f3a"
             ],
             [
              0.8888888888888888,
              "#fdca26"
             ],
             [
              1,
              "#f0f921"
             ]
            ],
            "type": "heatmapgl"
           }
          ],
          "histogram": [
           {
            "marker": {
             "pattern": {
              "fillmode": "overlay",
              "size": 10,
              "solidity": 0.2
             }
            },
            "type": "histogram"
           }
          ],
          "histogram2d": [
           {
            "colorbar": {
             "outlinewidth": 0,
             "ticks": ""
            },
            "colorscale": [
             [
              0,
              "#0d0887"
             ],
             [
              0.1111111111111111,
              "#46039f"
             ],
             [
              0.2222222222222222,
              "#7201a8"
             ],
             [
              0.3333333333333333,
              "#9c179e"
             ],
             [
              0.4444444444444444,
              "#bd3786"
             ],
             [
              0.5555555555555556,
              "#d8576b"
             ],
             [
              0.6666666666666666,
              "#ed7953"
             ],
             [
              0.7777777777777778,
              "#fb9f3a"
             ],
             [
              0.8888888888888888,
              "#fdca26"
             ],
             [
              1,
              "#f0f921"
             ]
            ],
            "type": "histogram2d"
           }
          ],
          "histogram2dcontour": [
           {
            "colorbar": {
             "outlinewidth": 0,
             "ticks": ""
            },
            "colorscale": [
             [
              0,
              "#0d0887"
             ],
             [
              0.1111111111111111,
              "#46039f"
             ],
             [
              0.2222222222222222,
              "#7201a8"
             ],
             [
              0.3333333333333333,
              "#9c179e"
             ],
             [
              0.4444444444444444,
              "#bd3786"
             ],
             [
              0.5555555555555556,
              "#d8576b"
             ],
             [
              0.6666666666666666,
              "#ed7953"
             ],
             [
              0.7777777777777778,
              "#fb9f3a"
             ],
             [
              0.8888888888888888,
              "#fdca26"
             ],
             [
              1,
              "#f0f921"
             ]
            ],
            "type": "histogram2dcontour"
           }
          ],
          "mesh3d": [
           {
            "colorbar": {
             "outlinewidth": 0,
             "ticks": ""
            },
            "type": "mesh3d"
           }
          ],
          "parcoords": [
           {
            "line": {
             "colorbar": {
              "outlinewidth": 0,
              "ticks": ""
             }
            },
            "type": "parcoords"
           }
          ],
          "pie": [
           {
            "automargin": true,
            "type": "pie"
           }
          ],
          "scatter": [
           {
            "fillpattern": {
             "fillmode": "overlay",
             "size": 10,
             "solidity": 0.2
            },
            "type": "scatter"
           }
          ],
          "scatter3d": [
           {
            "line": {
             "colorbar": {
              "outlinewidth": 0,
              "ticks": ""
             }
            },
            "marker": {
             "colorbar": {
              "outlinewidth": 0,
              "ticks": ""
             }
            },
            "type": "scatter3d"
           }
          ],
          "scattercarpet": [
           {
            "marker": {
             "colorbar": {
              "outlinewidth": 0,
              "ticks": ""
             }
            },
            "type": "scattercarpet"
           }
          ],
          "scattergeo": [
           {
            "marker": {
             "colorbar": {
              "outlinewidth": 0,
              "ticks": ""
             }
            },
            "type": "scattergeo"
           }
          ],
          "scattergl": [
           {
            "marker": {
             "colorbar": {
              "outlinewidth": 0,
              "ticks": ""
             }
            },
            "type": "scattergl"
           }
          ],
          "scattermapbox": [
           {
            "marker": {
             "colorbar": {
              "outlinewidth": 0,
              "ticks": ""
             }
            },
            "type": "scattermapbox"
           }
          ],
          "scatterpolar": [
           {
            "marker": {
             "colorbar": {
              "outlinewidth": 0,
              "ticks": ""
             }
            },
            "type": "scatterpolar"
           }
          ],
          "scatterpolargl": [
           {
            "marker": {
             "colorbar": {
              "outlinewidth": 0,
              "ticks": ""
             }
            },
            "type": "scatterpolargl"
           }
          ],
          "scatterternary": [
           {
            "marker": {
             "colorbar": {
              "outlinewidth": 0,
              "ticks": ""
             }
            },
            "type": "scatterternary"
           }
          ],
          "surface": [
           {
            "colorbar": {
             "outlinewidth": 0,
             "ticks": ""
            },
            "colorscale": [
             [
              0,
              "#0d0887"
             ],
             [
              0.1111111111111111,
              "#46039f"
             ],
             [
              0.2222222222222222,
              "#7201a8"
             ],
             [
              0.3333333333333333,
              "#9c179e"
             ],
             [
              0.4444444444444444,
              "#bd3786"
             ],
             [
              0.5555555555555556,
              "#d8576b"
             ],
             [
              0.6666666666666666,
              "#ed7953"
             ],
             [
              0.7777777777777778,
              "#fb9f3a"
             ],
             [
              0.8888888888888888,
              "#fdca26"
             ],
             [
              1,
              "#f0f921"
             ]
            ],
            "type": "surface"
           }
          ],
          "table": [
           {
            "cells": {
             "fill": {
              "color": "#EBF0F8"
             },
             "line": {
              "color": "white"
             }
            },
            "header": {
             "fill": {
              "color": "#C8D4E3"
             },
             "line": {
              "color": "white"
             }
            },
            "type": "table"
           }
          ]
         },
         "layout": {
          "annotationdefaults": {
           "arrowcolor": "#2a3f5f",
           "arrowhead": 0,
           "arrowwidth": 1
          },
          "autotypenumbers": "strict",
          "coloraxis": {
           "colorbar": {
            "outlinewidth": 0,
            "ticks": ""
           }
          },
          "colorscale": {
           "diverging": [
            [
             0,
             "#8e0152"
            ],
            [
             0.1,
             "#c51b7d"
            ],
            [
             0.2,
             "#de77ae"
            ],
            [
             0.3,
             "#f1b6da"
            ],
            [
             0.4,
             "#fde0ef"
            ],
            [
             0.5,
             "#f7f7f7"
            ],
            [
             0.6,
             "#e6f5d0"
            ],
            [
             0.7,
             "#b8e186"
            ],
            [
             0.8,
             "#7fbc41"
            ],
            [
             0.9,
             "#4d9221"
            ],
            [
             1,
             "#276419"
            ]
           ],
           "sequential": [
            [
             0,
             "#0d0887"
            ],
            [
             0.1111111111111111,
             "#46039f"
            ],
            [
             0.2222222222222222,
             "#7201a8"
            ],
            [
             0.3333333333333333,
             "#9c179e"
            ],
            [
             0.4444444444444444,
             "#bd3786"
            ],
            [
             0.5555555555555556,
             "#d8576b"
            ],
            [
             0.6666666666666666,
             "#ed7953"
            ],
            [
             0.7777777777777778,
             "#fb9f3a"
            ],
            [
             0.8888888888888888,
             "#fdca26"
            ],
            [
             1,
             "#f0f921"
            ]
           ],
           "sequentialminus": [
            [
             0,
             "#0d0887"
            ],
            [
             0.1111111111111111,
             "#46039f"
            ],
            [
             0.2222222222222222,
             "#7201a8"
            ],
            [
             0.3333333333333333,
             "#9c179e"
            ],
            [
             0.4444444444444444,
             "#bd3786"
            ],
            [
             0.5555555555555556,
             "#d8576b"
            ],
            [
             0.6666666666666666,
             "#ed7953"
            ],
            [
             0.7777777777777778,
             "#fb9f3a"
            ],
            [
             0.8888888888888888,
             "#fdca26"
            ],
            [
             1,
             "#f0f921"
            ]
           ]
          },
          "colorway": [
           "#636efa",
           "#EF553B",
           "#00cc96",
           "#ab63fa",
           "#FFA15A",
           "#19d3f3",
           "#FF6692",
           "#B6E880",
           "#FF97FF",
           "#FECB52"
          ],
          "font": {
           "color": "#2a3f5f"
          },
          "geo": {
           "bgcolor": "white",
           "lakecolor": "white",
           "landcolor": "white",
           "showlakes": true,
           "showland": true,
           "subunitcolor": "#C8D4E3"
          },
          "hoverlabel": {
           "align": "left"
          },
          "hovermode": "closest",
          "mapbox": {
           "style": "light"
          },
          "paper_bgcolor": "white",
          "plot_bgcolor": "white",
          "polar": {
           "angularaxis": {
            "gridcolor": "#EBF0F8",
            "linecolor": "#EBF0F8",
            "ticks": ""
           },
           "bgcolor": "white",
           "radialaxis": {
            "gridcolor": "#EBF0F8",
            "linecolor": "#EBF0F8",
            "ticks": ""
           }
          },
          "scene": {
           "xaxis": {
            "backgroundcolor": "white",
            "gridcolor": "#DFE8F3",
            "gridwidth": 2,
            "linecolor": "#EBF0F8",
            "showbackground": true,
            "ticks": "",
            "zerolinecolor": "#EBF0F8"
           },
           "yaxis": {
            "backgroundcolor": "white",
            "gridcolor": "#DFE8F3",
            "gridwidth": 2,
            "linecolor": "#EBF0F8",
            "showbackground": true,
            "ticks": "",
            "zerolinecolor": "#EBF0F8"
           },
           "zaxis": {
            "backgroundcolor": "white",
            "gridcolor": "#DFE8F3",
            "gridwidth": 2,
            "linecolor": "#EBF0F8",
            "showbackground": true,
            "ticks": "",
            "zerolinecolor": "#EBF0F8"
           }
          },
          "shapedefaults": {
           "line": {
            "color": "#2a3f5f"
           }
          },
          "ternary": {
           "aaxis": {
            "gridcolor": "#DFE8F3",
            "linecolor": "#A2B1C6",
            "ticks": ""
           },
           "baxis": {
            "gridcolor": "#DFE8F3",
            "linecolor": "#A2B1C6",
            "ticks": ""
           },
           "bgcolor": "white",
           "caxis": {
            "gridcolor": "#DFE8F3",
            "linecolor": "#A2B1C6",
            "ticks": ""
           }
          },
          "title": {
           "x": 0.05
          },
          "xaxis": {
           "automargin": true,
           "gridcolor": "#EBF0F8",
           "linecolor": "#EBF0F8",
           "ticks": "",
           "title": {
            "standoff": 15
           },
           "zerolinecolor": "#EBF0F8",
           "zerolinewidth": 2
          },
          "yaxis": {
           "automargin": true,
           "gridcolor": "#EBF0F8",
           "linecolor": "#EBF0F8",
           "ticks": "",
           "title": {
            "standoff": 15
           },
           "zerolinecolor": "#EBF0F8",
           "zerolinewidth": 2
          }
         }
        },
        "title": {
         "text": "Instability type vs Time"
        },
        "width": 400,
        "xaxis": {
         "dtick": 0.00002,
         "exponentformat": "power",
         "linecolor": "black",
         "linewidth": 1,
         "mirror": true,
         "range": [
          0,
          0.00008
         ],
         "showexponent": "last",
         "showgrid": false,
         "showline": true,
         "tickfont": {
          "size": 12
         },
         "ticks": "inside",
         "title": {
          "text": "Time (s)"
         },
         "zeroline": false
        },
        "yaxis": {
         "exponentformat": "power",
         "linecolor": "black",
         "linewidth": 1,
         "mirror": true,
         "range": [
          0,
          80000
         ],
         "showexponent": "last",
         "showgrid": false,
         "showline": true,
         "tickfont": {
          "size": 12
         },
         "ticks": "inside",
         "title": {
          "text": "$N_\\text{q}$"
         },
         "zeroline": false
        },
        "yaxis2": {
         "exponentformat": "power",
         "linecolor": "black",
         "linewidth": 1,
         "mirror": true,
         "overlaying": "y",
         "position": 1,
         "range": [
          0,
          1000000
         ],
         "showexponent": "last",
         "showgrid": false,
         "showline": true,
         "side": "right",
         "tickfont": {
          "size": 12
         },
         "ticks": "inside",
         "title": {
          "text": "$\\mathcal{\\dot K}$"
         },
         "zeroline": false
        }
       }
      }
     },
     "metadata": {},
     "output_type": "display_data"
    }
   ],
   "source": [
    "fig = go.Figure()\n",
    "fig.add_trace(go.Scatter(x=data['time'], y=data['num_contact_overshoot'], mode='lines', name='Contact', line=dict(color='red', width=2), yaxis='y1'))\n",
    "fig.add_trace(go.Scatter(x=data['time'][:len(ekin_smooth)], y=ekin_derivative, mode='lines', name=r\"$\\frac{d\\mathcal{K}}{dt}$\", line=dict(color=\"black\"), yaxis='y2'))\n",
    "#fig.add_trace(go.Scatter(x=data['time'], y=data['ekin'], mode='lines', name=r\"$\\mathcal{K}$\", line=dict(color=colors[0]), yaxis='y2'))\n",
    "#fig.add_trace(go.Scatter(x=data['time'], y=data['num_softening_overshoot'], mode='lines', name='Softening', line=dict(color='black', width=2)))\n",
    "#fig.add_trace(go.Scatter(x=data['time'], y=data['num_initial_unstable_state'], mode='lines', name='Initial Unstable State', line=dict(color='blue', width=2)))\n",
    "fig.update_layout(\n",
    "    title='Instability type vs Time',\n",
    "    xaxis_title='Time (s)',\n",
    "    yaxis_title=r\"$N_\\text{q}$\",\n",
    "    xaxis=dict(\n",
    "        showgrid=False,\n",
    "        showline=True,\n",
    "        linewidth=1,\n",
    "        linecolor='black',\n",
    "        mirror=True,\n",
    "        zeroline=False,\n",
    "        ticks='inside',\n",
    "        exponentformat='power',\n",
    "        showexponent='last',\n",
    "        dtick=2e-5,\n",
    "        tickfont=dict(size=12),\n",
    "        range=[0, 0.8e-4],\n",
    "    ),\n",
    "    yaxis=dict(\n",
    "        showgrid=False,\n",
    "        showline=True,\n",
    "        linewidth=1,\n",
    "        linecolor='black',\n",
    "        mirror=True,\n",
    "        zeroline=False,\n",
    "        ticks='inside',\n",
    "        exponentformat='power',\n",
    "        showexponent='last',\n",
    "        tickfont=dict(size=12),  \n",
    "        range=[0, 8e4],\n",
    "    ),\n",
    "    yaxis2=dict(\n",
    "        title=r\"$\\mathcal{\\dot K}$\",\n",
    "        showgrid=False,\n",
    "        showline=True,\n",
    "        linewidth=1,\n",
    "        linecolor='black',\n",
    "        mirror=True,\n",
    "        zeroline=False,\n",
    "        ticks='inside',\n",
    "        exponentformat='power',\n",
    "        showexponent='last',\n",
    "        tickfont=dict(size=12),  \n",
    "        overlaying='y',\n",
    "        side='right',\n",
    "        position=1,\n",
    "        range=[0, 1.0e6],\n",
    "    ),\n",
    "    \n",
    "    font=dict(\n",
    "        family=\"Latin-Modern\",\n",
    "        size=12,\n",
    "        color=\"Black\"\n",
    "    ),\n",
    "    legend=dict(\n",
    "        x=0.9,              # position from the left (0 to 1)\n",
    "        y=0.58,              # position from the bottom (0 to 1)\n",
    "        bgcolor='rgba(255, 255, 255, 0.5)',  # white with 80% opacity\n",
    "        bordercolor='black',\n",
    "        borderwidth=1,\n",
    "        orientation='v',   \n",
    "        xanchor='right',\n",
    "        yanchor='top',\n",
    "    ),\n",
    "    width=400, \n",
    "    height=400,\n",
    "    showlegend=False,\n",
    "    template=\"plotly_white\")\n",
    "fig.show()\n",
    "#fig.write_image(\"../output/plots/paper/overshoot_vs_time_unstable_t04_v2.pdf\", width=400, height=280)"
   ]
  },
  {
   "cell_type": "code",
   "execution_count": null,
   "id": "c908c265",
   "metadata": {},
   "outputs": [
    {
     "ename": "NameError",
     "evalue": "name 'bbb' is not defined",
     "output_type": "error",
     "traceback": [
      "\u001b[0;31m---------------------------------------------------------------------------\u001b[0m",
      "\u001b[0;31mNameError\u001b[0m                                 Traceback (most recent call last)",
      "Cell \u001b[0;32mIn[11], line 1\u001b[0m\n\u001b[0;32m----> 1\u001b[0m \u001b[43mbbb\u001b[49m\n",
      "\u001b[0;31mNameError\u001b[0m: name 'bbb' is not defined"
     ]
    }
   ],
   "source": [
    "bbb"
   ]
  }
 ],
 "metadata": {
  "kernelspec": {
   "display_name": ".venv (3.11.2)",
   "language": "python",
   "name": "python3"
  },
  "language_info": {
   "codemirror_mode": {
    "name": "ipython",
    "version": 3
   },
   "file_extension": ".py",
   "mimetype": "text/x-python",
   "name": "python",
   "nbconvert_exporter": "python",
   "pygments_lexer": "ipython3",
   "version": "3.11.2"
  }
 },
 "nbformat": 4,
 "nbformat_minor": 5
}
